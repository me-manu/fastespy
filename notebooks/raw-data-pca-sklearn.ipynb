{
 "cells": [
  {
   "cell_type": "markdown",
   "id": "20a0f571",
   "metadata": {},
   "source": [
    "# Test raw data classification with PCA\n",
    "\n",
    "We use PCA to transform the raw data and use a classifier for classification. \n",
    "We run hyperparameter tuning on the number of PCA features. "
   ]
  },
  {
   "cell_type": "code",
   "execution_count": 1,
   "id": "859236a6",
   "metadata": {},
   "outputs": [],
   "source": [
    "from sklearn.pipeline import Pipeline, make_pipeline\n",
    "from sklearn.decomposition import PCA\n",
    "from sklearn.preprocessing import StandardScaler\n",
    "from sklearn.ensemble import RandomForestClassifier, GradientBoostingClassifier\n",
    "from sklearn.neural_network import MLPClassifier\n",
    "from sklearn.tree import DecisionTreeClassifier\n",
    "from pathlib import PosixPath \n",
    "import glob\n",
    "import os\n",
    "import logging\n",
    "import numpy as np\n",
    "import matplotlib.pyplot as plt\n",
    "import tqdm\n",
    "\n",
    "from fastespy.ml import MLHyperParTuning\n",
    "from fastespy import ml\n",
    "from fastespy.analysis import init_logging\n",
    "import sys\n",
    "sys.path.append(\"/Users/manuelmeyer/Python/fastespy/fastespy/scripts/\")\n",
    "sys.path.append(\"/Users/manuelmeyer/Python/TESdata/fastespy/fastespy/scripts/\")\n",
    "from ml_intrinsic_bkg import load_data, run"
   ]
  },
  {
   "cell_type": "code",
   "execution_count": 2,
   "id": "5d77306c",
   "metadata": {},
   "outputs": [],
   "source": [
    "%matplotlib inline"
   ]
  },
  {
   "cell_type": "code",
   "execution_count": 3,
   "id": "86b18674",
   "metadata": {},
   "outputs": [],
   "source": [
    "init_logging(\"INFO\", color=True)"
   ]
  },
  {
   "cell_type": "markdown",
   "id": "d6413406",
   "metadata": {
    "tags": []
   },
   "source": [
    "## Read data "
   ]
  },
  {
   "cell_type": "code",
   "execution_count": 4,
   "id": "a64b50a6",
   "metadata": {},
   "outputs": [
    {
     "name": "stdout",
     "output_type": "stream",
     "text": [
      "17\n"
     ]
    }
   ],
   "source": [
    "path = \"/Users/manuelmeyer/Documents/TESData/IntrinsicsData_NewSetup/\" # May 2021 data\n",
    "prefix = \"IntrinsicsData_NewSetup\"\n",
    "\n",
    "path = \"/Users/manuelmeyer/Documents/TESData/August2020/\" # August 2021 data\n",
    "prefix = \"August2020\"\n",
    "\n",
    "#path = \"/Users/manuelmeyer/Python/TESdata/data-01152021//\" # August 2020 data\n",
    "#prefix = \"data_august2020\"\n",
    "\n",
    "in_dir = PosixPath(path)\n",
    "files = glob.glob(os.path.join(path, '*.npy'))\n",
    "\n",
    "print(len(files))\n",
    "#files\n",
    "\n",
    "if not len(files):\n",
    "    path = \"/Users/manuelmeyer/Python/TESdata/data-05122021/\"\n",
    "    in_dir = PosixPath(path)\n",
    "    files = glob.glob(os.path.join(path, '*.npy'))\n",
    "    print(len(files))"
   ]
  },
  {
   "cell_type": "code",
   "execution_count": 5,
   "id": "4081a16e",
   "metadata": {},
   "outputs": [
    {
     "name": "stderr",
     "output_type": "stream",
     "text": [
      "\u001b[0;36m3753470350.py:\u001b[0;35m   3\u001b[0;0m --- \u001b[1;36mINFO\u001b[1;0m: Using files:\n",
      "\u001b[0;36m3753470350.py:\u001b[0;35m   5\u001b[0;0m --- \u001b[1;36mINFO\u001b[1;0m: /Users/manuelmeyer/Documents/TESData/August2020/0.3RN-1.5GHzGBWP-intrinsics-50MHz-20mV-1day-16-fit000.npy\n",
      "\u001b[0;36m3753470350.py:\u001b[0;35m   5\u001b[0;0m --- \u001b[1;36mINFO\u001b[1;0m: /Users/manuelmeyer/Documents/TESData/August2020/0.3RN-1.5GHzGBWP-intrinsics-50MHz-20mV-72hrs-3-fit000.npy\n",
      "\u001b[0;36m3753470350.py:\u001b[0;35m   5\u001b[0;0m --- \u001b[1;36mINFO\u001b[1;0m: /Users/manuelmeyer/Documents/TESData/August2020/0.3RN-1.5GHz-light-000-fit.npy\n",
      "\u001b[0;36m3753470350.py:\u001b[0;35m   5\u001b[0;0m --- \u001b[1;36mINFO\u001b[1;0m: /Users/manuelmeyer/Documents/TESData/August2020/0.3RN-1.5GBWP-intrinsics-50MHz-20mV-1day-9-fit000.npy\n",
      "\u001b[0;36m3753470350.py:\u001b[0;35m   5\u001b[0;0m --- \u001b[1;36mINFO\u001b[1;0m: /Users/manuelmeyer/Documents/TESData/August2020/0.3RN-1.5GHzGBWP-intrinsics-50MHz-20mV-1day-13-fit000.npy\n",
      "\u001b[0;36m3753470350.py:\u001b[0;35m   5\u001b[0;0m --- \u001b[1;36mINFO\u001b[1;0m: /Users/manuelmeyer/Documents/TESData/August2020/0.3RN-1.5GHzGBWP-intrinsics-50MHz-20mV-1day-14-fit000.npy\n",
      "\u001b[0;36m3753470350.py:\u001b[0;35m   5\u001b[0;0m --- \u001b[1;36mINFO\u001b[1;0m: /Users/manuelmeyer/Documents/TESData/August2020/0.3RN-1.5GHzGBWP-intrinsics-50MHz-20mV-72hrs-1-fit000.npy\n",
      "\u001b[0;36m3753470350.py:\u001b[0;35m   5\u001b[0;0m --- \u001b[1;36mINFO\u001b[1;0m: /Users/manuelmeyer/Documents/TESData/August2020/0.3RN-1.5GBWP-intrinsics-50MHz-20mV-1day-6-fit000.npy\n",
      "\u001b[0;36m3753470350.py:\u001b[0;35m   5\u001b[0;0m --- \u001b[1;36mINFO\u001b[1;0m: /Users/manuelmeyer/Documents/TESData/August2020/0.3RN-1.5GHzGBWP-intrinsics-50MHz-20mV-1day-11-fit000.npy\n",
      "\u001b[0;36m3753470350.py:\u001b[0;35m   5\u001b[0;0m --- \u001b[1;36mINFO\u001b[1;0m: /Users/manuelmeyer/Documents/TESData/August2020/0.3RN-1.5GBWP-intrinsics-50MHz-20mV-1day-8-fit000.npy\n",
      "\u001b[0;36m3753470350.py:\u001b[0;35m   5\u001b[0;0m --- \u001b[1;36mINFO\u001b[1;0m: /Users/manuelmeyer/Documents/TESData/August2020/0.3RN-1.5GHzGBWP-intrinsics-50MHz-20mV-1day-12-fit000.npy\n",
      "\u001b[0;36m3753470350.py:\u001b[0;35m   5\u001b[0;0m --- \u001b[1;36mINFO\u001b[1;0m: /Users/manuelmeyer/Documents/TESData/August2020/0.3RN-1.5GHzGBWP-intrinsics-50MHz-20mV-72hr-2-fit000.npy\n",
      "\u001b[0;36m3753470350.py:\u001b[0;35m   5\u001b[0;0m --- \u001b[1;36mINFO\u001b[1;0m: /Users/manuelmeyer/Documents/TESData/August2020/0.3RN-1.5GHzGBWP-intrinsics-50MHz-20mV-1day-17-fit000.npy\n",
      "\u001b[0;36m3753470350.py:\u001b[0;35m   5\u001b[0;0m --- \u001b[1;36mINFO\u001b[1;0m: /Users/manuelmeyer/Documents/TESData/August2020/0.3RN-1.5GBWP-intrinsics-50MHz-20mV-1day-7-fit000.npy\n",
      "\u001b[0;36m3753470350.py:\u001b[0;35m   5\u001b[0;0m --- \u001b[1;36mINFO\u001b[1;0m: /Users/manuelmeyer/Documents/TESData/August2020/0.3RN-1.5GHzGBWP-intrinsics-50MHz-20mV-1day-10-fit000.npy\n",
      "\u001b[0;36m3753470350.py:\u001b[0;35m   5\u001b[0;0m --- \u001b[1;36mINFO\u001b[1;0m: /Users/manuelmeyer/Documents/TESData/August2020/0.3RN-1.5GHzGBWP-intrinsics-50MHz-20mV-1day-15-fit000.npy\n",
      "\u001b[0;36m3753470350.py:\u001b[0;35m   5\u001b[0;0m --- \u001b[1;36mINFO\u001b[1;0m: /Users/manuelmeyer/Documents/TESData/August2020/0.3RN-1.5GHzGBWP-intrinsics-50MHz-20mV-1day-18-fit000.npy\n",
      "\u001b[0;36m3753470350.py:\u001b[0;35m  21\u001b[0;0m --- \u001b[1;36mINFO\u001b[1;0m: Using features names ['rise time', 'decay time', 'amplitude', 'pulse height', 'chi2 reduced', 'pulse integral fit']\n",
      "\u001b[0;36mml_intrinsic_bkg.py:\u001b[0;35m  43\u001b[0;0m --- \u001b[1;36mINFO\u001b[1;0m: Reading data\n",
      "100%|███████████████████████████████████████████████████████████████████████████████████████████████████████████████████████████████████████████████████████████████████████████████████████████████████████████████| 17/17 [00:03<00:00,  5.58it/s]\n",
      "\u001b[0;36mml_intrinsic_bkg.py:\u001b[0;35m  91\u001b[0;0m --- \u001b[1;36mINFO\u001b[1;0m: Rejected 1561 triggers in light file\n",
      "\u001b[0;36mml_intrinsic_bkg.py:\u001b[0;35m 102\u001b[0;0m --- \u001b[1;36mINFO\u001b[1;0m: In total, there are 1066 light events and 39580 background events for an observation time of 517.91 hours\n"
     ]
    }
   ],
   "source": [
    "files = list(in_dir.glob(\"*.npy\"))\n",
    "\n",
    "logging.info(\"Using files:\")\n",
    "for f in files:\n",
    "    logging.info(f)\n",
    "\n",
    "# define the feature names\n",
    "feature_names = []\n",
    "remove = ['data', 'time', 'pulse integral raw', 'voltage error',\n",
    "          'error', 'start time in hrs', 'end time in hrs',\n",
    "          'trigger time'\n",
    "        ]\n",
    "\n",
    "remove.append('constant')  # this seems to help\n",
    "\n",
    "x = np.load(files[0], allow_pickle=True).tolist()\n",
    "for k in x[1].keys():\n",
    "    if not k in remove and not 'error' in k:\n",
    "        feature_names.append(k)\n",
    "\n",
    "logging.info(\"Using features names {}\".format(feature_names))\n",
    "\n",
    " # define light cleaning cuts\n",
    "light_cleaning_cuts = {\n",
    "     \"chi2 reduced\": \"chi2 < 6.\",\n",
    "    \"decay time\": \"decay < 10.e-6\",\n",
    "    \"trigger time\": \"(trigger >= 29.5e-6) & (trigger <= 30.8e-6)\",  # from gaussian fit, 5 sigma interval\n",
    "}\n",
    "\n",
    "# read the data\n",
    "result, data, t_tot_hrs = load_data(files, feature_names, light_cleaning_cuts=light_cleaning_cuts)"
   ]
  },
  {
   "cell_type": "markdown",
   "id": "76b06c2d",
   "metadata": {},
   "source": [
    "Convert raw data into machine learning format with samples and features"
   ]
  },
  {
   "cell_type": "code",
   "execution_count": 6,
   "id": "955bd710",
   "metadata": {},
   "outputs": [
    {
     "name": "stdout",
     "output_type": "stream",
     "text": [
      "(40646, 10000)\n",
      "(40646, 10000)\n",
      "(40646,)\n"
     ]
    }
   ],
   "source": [
    "print (data['time'].shape)\n",
    "print (data['data'].shape) # n samples x n features\n",
    "print (result['type'].shape)  # n samples"
   ]
  },
  {
   "cell_type": "code",
   "execution_count": 7,
   "id": "5ce5a6c1",
   "metadata": {},
   "outputs": [],
   "source": [
    "downsample = 10 # use only every n-th data point / decrease sampling frequency by this amount\n",
    "factor_x = 1e6  # seconds to micro seconds\n",
    "factor_y = 1e3 # V to mV"
   ]
  },
  {
   "cell_type": "code",
   "execution_count": 8,
   "id": "65d1ef24",
   "metadata": {},
   "outputs": [
    {
     "data": {
      "text/plain": [
       "(40646, 1000)"
      ]
     },
     "execution_count": 8,
     "metadata": {},
     "output_type": "execute_result"
    }
   ],
   "source": [
    "X_raw = data['data'][:,::downsample] * factor_y\n",
    "# size:\n",
    "X_raw.shape"
   ]
  },
  {
   "cell_type": "code",
   "execution_count": 9,
   "id": "0af48325",
   "metadata": {},
   "outputs": [],
   "source": [
    "y_raw = result['type']"
   ]
  },
  {
   "cell_type": "code",
   "execution_count": 10,
   "id": "74395d76",
   "metadata": {},
   "outputs": [
    {
     "data": {
      "text/plain": [
       "[<matplotlib.lines.Line2D at 0x168432910>]"
      ]
     },
     "execution_count": 10,
     "metadata": {},
     "output_type": "execute_result"
    },
    {
     "data": {
      "image/png": "[encoded data removed]",
      "text/plain": [
       "<Figure size 432x288 with 1 Axes>"
      ]
     },
     "metadata": {
      "needs_background": "light"
     },
     "output_type": "display_data"
    }
   ],
   "source": [
    "plt.plot(X_raw[0])"
   ]
  },
  {
   "cell_type": "markdown",
   "id": "8a0bd84a-95dd-4934-90cd-eab6a21af2b1",
   "metadata": {},
   "source": [
    "### build a sklearn pipeline"
   ]
  },
  {
   "cell_type": "code",
   "execution_count": 11,
   "id": "f59d6a90-aac5-4565-b33d-0b01e6fdda5b",
   "metadata": {},
   "outputs": [],
   "source": [
    "normalizer = StandardScaler()\n",
    "pca = PCA()\n",
    "\n",
    "default_rf={'n_estimators': 300,\n",
    "            'max_features': 1,\n",
    "            'min_samples_split': 2,\n",
    "        }\n",
    "\n",
    "clf = RandomForestClassifier(**default_rf)"
   ]
  },
  {
   "cell_type": "code",
   "execution_count": 12,
   "id": "b1a92761-3886-424d-b5cf-43f19a84071b",
   "metadata": {},
   "outputs": [],
   "source": [
    "pipe = Pipeline([('normalizer', normalizer), ('pca', pca), ('clf', clf)])"
   ]
  },
  {
   "cell_type": "code",
   "execution_count": 16,
   "id": "3011e4bd-22d7-4645-a39a-526cd05f2614",
   "metadata": {},
   "outputs": [
    {
     "name": "stdout",
     "output_type": "stream",
     "text": [
      "{'pca__n_components': array([ 2, 12, 22, 32, 42, 52])}\n"
     ]
    }
   ],
   "source": [
    "param_grid = dict(pca__n_components=np.arange(2,53,10))\n",
    "print(param_grid)"
   ]
  },
  {
   "cell_type": "code",
   "execution_count": null,
   "id": "bc236cfd-47d1-4385-b6ed-eea94cae4883",
   "metadata": {},
   "outputs": [
    {
     "name": "stderr",
     "output_type": "stream",
     "text": [
      "\u001b[0;36mml_intrinsic_bkg.py:\u001b[0;35m 239\u001b[0;0m --- \u001b[1;36mINFO\u001b[1;0m: Running optimization for split 1 / 5\n"
     ]
    },
    {
     "name": "stdout",
     "output_type": "stream",
     "text": [
      "Fitting 5 folds for each of 6 candidates, totalling 30 fits\n",
      "The parameter search took 74.59 s\n",
      "Profiling over parameters\n",
      "Refitting on whole test data set and computing learning curve and confusion matrix\n",
      "[learning_curve] Training set sizes: [ 3251  6503  9754 13006 16258 19509 22761 26012]\n"
     ]
    },
    {
     "name": "stderr",
     "output_type": "stream",
     "text": [
      "[Parallel(n_jobs=20)]: Using backend LokyBackend with 20 concurrent workers.\n",
      "[Parallel(n_jobs=20)]: Done  40 out of  40 | elapsed:   39.6s finished\n"
     ]
    },
    {
     "name": "stdout",
     "output_type": "stream",
     "text": [
      "[learning_curve] Training set sizes: [ 3251  6503  9754 13006 16258 19509 22761 26012]\n"
     ]
    },
    {
     "name": "stderr",
     "output_type": "stream",
     "text": [
      "[Parallel(n_jobs=20)]: Using backend LokyBackend with 20 concurrent workers.\n",
      "[Parallel(n_jobs=20)]: Done  40 out of  40 | elapsed:   28.2s finished\n"
     ]
    },
    {
     "name": "stdout",
     "output_type": "stream",
     "text": [
      "[learning_curve] Training set sizes: [ 3251  6503  9754 13006 16258 19509 22761 26012]\n"
     ]
    },
    {
     "name": "stderr",
     "output_type": "stream",
     "text": [
      "[Parallel(n_jobs=20)]: Using backend LokyBackend with 20 concurrent workers.\n",
      "[Parallel(n_jobs=20)]: Done  40 out of  40 | elapsed:   38.5s finished\n",
      "\u001b[0;36mml_intrinsic_bkg.py:\u001b[0;35m 161\u001b[0;0m --- \u001b[1;36mINFO\u001b[1;0m: Printing performance:\n",
      "\u001b[0;36mml_intrinsic_bkg.py:\u001b[0;35m 164\u001b[0;0m --- \u001b[1;36mINFO\u001b[1;0m: Running Feldman & Cousins confidence interval estimation for dark current\n"
     ]
    },
    {
     "name": "stdout",
     "output_type": "stream",
     "text": [
      "==== AUC : bkg_pred ====\n",
      "train: 0.000e+00\n",
      "test: 1.073e-05\n",
      "==== AUC : tp_efficiency ====\n",
      "train: 1.000e+00\n",
      "test: 2.991e-01\n",
      "==== AUC : score ====\n",
      "train: 1.000e+00\n",
      "test: 9.990e-01\n",
      "==== AUC : Significance ====\n",
      "train: 10.218\n",
      "test: 1.602\n",
      "==== Accuracy : bkg_pred ====\n",
      "train: 0.000e+00\n",
      "test: 2.413e-05\n",
      "==== Accuracy : tp_efficiency ====\n",
      "train: 1.000e+00\n",
      "test: 7.430e-01\n",
      "==== Accuracy : score ====\n",
      "train: 1.000e+00\n",
      "test: 9.921e-01\n",
      "==== Accuracy : Significance ====\n",
      "train: 10.218\n",
      "test: 2.633\n",
      "==== Significance : bkg_pred ====\n",
      "train: 0.000e+00\n",
      "test: 5.363e-06\n",
      "==== Significance : tp_efficiency ====\n",
      "train: 1.000e+00\n",
      "test: 3.037e-01\n",
      "==== Significance : score ====\n",
      "train: 1.022e+01\n",
      "test: 2.144e+00\n",
      "==== Significance : Significance ====\n",
      "train: 10.218\n",
      "test: 2.144\n"
     ]
    },
    {
     "name": "stderr",
     "output_type": "stream",
     "text": [
      "/Users/manuelmeyer/Python/fastespy/fastespy/feldman_cousins.py:311: UserWarning: The given `mus`-array is probably to coarse. No upper limit found for `n_obs` = 2. Setting the upper limit to inf.\n",
      "  warnings.warn(('The given `mus`-array is probably to coarse.' +\n",
      "/Users/manuelmeyer/Python/fastespy/fastespy/feldman_cousins.py:311: UserWarning: The given `mus`-array is probably to coarse. No upper limit found for `n_obs` = 3. Setting the upper limit to inf.\n",
      "  warnings.warn(('The given `mus`-array is probably to coarse.' +\n",
      "/Users/manuelmeyer/Python/fastespy/fastespy/feldman_cousins.py:311: UserWarning: The given `mus`-array is probably to coarse. No upper limit found for `n_obs` = 4. Setting the upper limit to inf.\n",
      "  warnings.warn(('The given `mus`-array is probably to coarse.' +\n",
      "/Users/manuelmeyer/Python/fastespy/fastespy/feldman_cousins.py:311: UserWarning: The given `mus`-array is probably to coarse. No upper limit found for `n_obs` = 5. Setting the upper limit to inf.\n",
      "  warnings.warn(('The given `mus`-array is probably to coarse.' +\n",
      "/Users/manuelmeyer/Python/fastespy/fastespy/feldman_cousins.py:311: UserWarning: The given `mus`-array is probably to coarse. No upper limit found for `n_obs` = 6. Setting the upper limit to inf.\n",
      "  warnings.warn(('The given `mus`-array is probably to coarse.' +\n",
      "/Users/manuelmeyer/Python/fastespy/fastespy/feldman_cousins.py:311: UserWarning: The given `mus`-array is probably to coarse. No upper limit found for `n_obs` = 7. Setting the upper limit to inf.\n",
      "  warnings.warn(('The given `mus`-array is probably to coarse.' +\n",
      "/Users/manuelmeyer/Python/fastespy/fastespy/feldman_cousins.py:311: UserWarning: The given `mus`-array is probably to coarse. No upper limit found for `n_obs` = 8. Setting the upper limit to inf.\n",
      "  warnings.warn(('The given `mus`-array is probably to coarse.' +\n",
      "/Users/manuelmeyer/Python/fastespy/fastespy/feldman_cousins.py:311: UserWarning: The given `mus`-array is probably to coarse. No upper limit found for `n_obs` = 9. Setting the upper limit to inf.\n",
      "  warnings.warn(('The given `mus`-array is probably to coarse.' +\n",
      "\u001b[0;36mml_intrinsic_bkg.py:\u001b[0;35m 188\u001b[0;0m --- \u001b[1;36mINFO\u001b[1;0m: dark current AUC: [1.42788560e-06 5.36295061e-06            inf]\n",
      "\u001b[0;36mml_intrinsic_bkg.py:\u001b[0;35m 188\u001b[0;0m --- \u001b[1;36mINFO\u001b[1;0m: dark current Accuracy: [1.42788560e-06 5.36295061e-06            inf]\n",
      "\u001b[0;36mml_intrinsic_bkg.py:\u001b[0;35m 188\u001b[0;0m --- \u001b[1;36mINFO\u001b[1;0m: dark current Significance: [1.42788560e-06 5.36295061e-06            inf]\n",
      "\u001b[0;36mml_intrinsic_bkg.py:\u001b[0;35m 239\u001b[0;0m --- \u001b[1;36mINFO\u001b[1;0m: Running optimization for split 2 / 5\n"
     ]
    },
    {
     "name": "stdout",
     "output_type": "stream",
     "text": [
      "Fitting 5 folds for each of 6 candidates, totalling 30 fits\n",
      "The parameter search took 67.17 s\n",
      "Profiling over parameters\n",
      "Refitting on whole test data set and computing learning curve and confusion matrix\n",
      "[learning_curve] Training set sizes: [ 3251  6503  9755 13006 16258 19510 22761 26013]\n"
     ]
    },
    {
     "name": "stderr",
     "output_type": "stream",
     "text": [
      "[Parallel(n_jobs=20)]: Using backend LokyBackend with 20 concurrent workers.\n",
      "[Parallel(n_jobs=20)]: Done  40 out of  40 | elapsed:   38.9s finished\n"
     ]
    },
    {
     "name": "stdout",
     "output_type": "stream",
     "text": [
      "[learning_curve] Training set sizes: [ 3251  6503  9755 13006 16258 19510 22761 26013]\n"
     ]
    },
    {
     "name": "stderr",
     "output_type": "stream",
     "text": [
      "[Parallel(n_jobs=20)]: Using backend LokyBackend with 20 concurrent workers.\n"
     ]
    }
   ],
   "source": [
    "run(X_raw, y_raw, feature_names,\n",
    "    classifier=pipe, \n",
    "    param_grid=param_grid,\n",
    "    t_tot_hrs=t_tot_hrs,\n",
    "    data=data,\n",
    "    kfolds=5, \n",
    "    classifier_name=\"pipe_dt\",\n",
    "    out_dir=PosixPath(\"./\"),\n",
    "    random_state=42,\n",
    "    log_data=False,\n",
    "    use_pca=False,\n",
    "    n_jobs=20)"
   ]
  }
 ],
 "metadata": {
  "kernelspec": {
   "display_name": "Python [conda env:ml]",
   "language": "python",
   "name": "conda-env-ml-py"
  },
  "language_info": {
   "codemirror_mode": {
    "name": "ipython",
    "version": 3
   },
   "file_extension": ".py",
   "mimetype": "text/x-python",
   "name": "python",
   "nbconvert_exporter": "python",
   "pygments_lexer": "ipython3",
   "version": "3.9.6"
  }
 },
 "nbformat": 4,
 "nbformat_minor": 5
}
