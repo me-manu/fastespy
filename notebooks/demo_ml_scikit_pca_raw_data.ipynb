{
 "cells": [
  {
   "cell_type": "markdown",
   "id": "7bb9959a-28ac-43bc-8b5f-a9ced2b54f65",
   "metadata": {},
   "source": [
    "# Machine learning with `sklearn` on raw data using a classifier with PCA\n",
    "\n",
    "This notebook demonstrates how we can train an `sklearn` classifier (here we use a random forest) on PCA transformed raw data using the functionality of `fastepy`.\n",
    "\n",
    "We start with the relevant imports."
   ]
  },
  {
   "cell_type": "code",
   "execution_count": 1,
   "id": "573b73b5-3f16-40ee-8e24-5cefc1e39975",
   "metadata": {},
   "outputs": [],
   "source": [
    "import numpy as np\n",
    "import logging\n",
    "import time\n",
    "import matplotlib.pyplot as plt\n",
    "from pathlib import PosixPath\n",
    "from fastespy.io.readpydata import convert_data_to_ML_format, load_data_rikhav\n",
    "from fastespy.mlscikit import hyperpartune\n",
    "from fastespy.utils import init_logging\n",
    "from sklearn.pipeline import Pipeline, make_pipeline\n",
    "from sklearn.decomposition import PCA\n",
    "from sklearn.ensemble import RandomForestClassifier"
   ]
  },
  {
   "cell_type": "code",
   "execution_count": 2,
   "id": "5d0dc4ac-9451-4cd2-aa91-8570c6f068ae",
   "metadata": {},
   "outputs": [
    {
     "name": "stdout",
     "output_type": "stream",
     "text": [
      "/Users/manuelmeyer/Documents/TESData/ml_results_raw_pca_rf/\n"
     ]
    }
   ],
   "source": [
    "# input directory with data\n",
    "indir = \"/Users/manuelmeyer/Documents/TESData/August2020/\"   # August 2020 data\n",
    "\n",
    "# the amount of downsampling the raw data in order to save time and memory\n",
    "downsample = 10\n",
    "\n",
    "# number of cores to use\n",
    "n_jobs = 8\n",
    "\n",
    "# random seed for the analysis \n",
    "random_state = 42\n",
    "\n",
    "# The number of k-folds for inner and outer loop\n",
    "kfolds = 5\n",
    "\n",
    "# output directory for ML results\n",
    "outdir = f\"/Users/manuelmeyer/Documents/TESData/ml_results_raw_pca_rf/\"\n",
    "print(outdir)"
   ]
  },
  {
   "cell_type": "markdown",
   "id": "5ac89dc2-db96-4915-a151-006b5211c1fb",
   "metadata": {},
   "source": [
    "Initialize nice colorful logging"
   ]
  },
  {
   "cell_type": "code",
   "execution_count": 3,
   "id": "9a8b3f3d-0372-4556-a5bc-987b1b290422",
   "metadata": {},
   "outputs": [],
   "source": [
    "init_logging(\"INFO\", color=True)"
   ]
  },
  {
   "cell_type": "markdown",
   "id": "f6ea173f-ac69-4960-b2e0-a3a5eec41cab",
   "metadata": {},
   "source": [
    "Get the input files and set up output dir"
   ]
  },
  {
   "cell_type": "code",
   "execution_count": 4,
   "id": "9785f5d4-5877-4206-b18b-ed3c5335d586",
   "metadata": {},
   "outputs": [],
   "source": [
    "in_dir = PosixPath(indir)\n",
    "out_dir = PosixPath(outdir)\n",
    "\n",
    "if not out_dir.exists():\n",
    "    out_dir.mkdir(parents=True)"
   ]
  },
  {
   "cell_type": "markdown",
   "id": "bbdc0e70-76d9-4ac2-b3e1-c40cb5e96756",
   "metadata": {},
   "source": [
    "Get a list of files:"
   ]
  },
  {
   "cell_type": "code",
   "execution_count": 5,
   "id": "8333f647-9ca8-4a77-9cb2-e0007dbd9094",
   "metadata": {},
   "outputs": [
    {
     "name": "stderr",
     "output_type": "stream",
     "text": [
      "\u001b[0;36m1735487905.py:\u001b[0;35m   3\u001b[0;0m --- \u001b[1;36mINFO\u001b[1;0m: Using files:\n",
      "\u001b[0;36m1735487905.py:\u001b[0;35m   5\u001b[0;0m --- \u001b[1;36mINFO\u001b[1;0m: /Users/manuelmeyer/Documents/TESData/August2020/0.3RN-1.5GHzGBWP-intrinsics-50MHz-20mV-1day-16-fit000.npy\n",
      "\u001b[0;36m1735487905.py:\u001b[0;35m   5\u001b[0;0m --- \u001b[1;36mINFO\u001b[1;0m: /Users/manuelmeyer/Documents/TESData/August2020/0.3RN-1.5GHzGBWP-intrinsics-50MHz-20mV-72hrs-3-fit000.npy\n",
      "\u001b[0;36m1735487905.py:\u001b[0;35m   5\u001b[0;0m --- \u001b[1;36mINFO\u001b[1;0m: /Users/manuelmeyer/Documents/TESData/August2020/0.3RN-1.5GHz-light-000-fit.npy\n",
      "\u001b[0;36m1735487905.py:\u001b[0;35m   5\u001b[0;0m --- \u001b[1;36mINFO\u001b[1;0m: /Users/manuelmeyer/Documents/TESData/August2020/0.3RN-1.5GBWP-intrinsics-50MHz-20mV-1day-9-fit000.npy\n",
      "\u001b[0;36m1735487905.py:\u001b[0;35m   5\u001b[0;0m --- \u001b[1;36mINFO\u001b[1;0m: /Users/manuelmeyer/Documents/TESData/August2020/0.3RN-1.5GHzGBWP-intrinsics-50MHz-20mV-1day-13-fit000.npy\n",
      "\u001b[0;36m1735487905.py:\u001b[0;35m   5\u001b[0;0m --- \u001b[1;36mINFO\u001b[1;0m: /Users/manuelmeyer/Documents/TESData/August2020/0.3RN-1.5GHzGBWP-intrinsics-50MHz-20mV-1day-14-fit000.npy\n",
      "\u001b[0;36m1735487905.py:\u001b[0;35m   5\u001b[0;0m --- \u001b[1;36mINFO\u001b[1;0m: /Users/manuelmeyer/Documents/TESData/August2020/0.3RN-1.5GHzGBWP-intrinsics-50MHz-20mV-72hrs-1-fit000.npy\n",
      "\u001b[0;36m1735487905.py:\u001b[0;35m   5\u001b[0;0m --- \u001b[1;36mINFO\u001b[1;0m: /Users/manuelmeyer/Documents/TESData/August2020/0.3RN-1.5GBWP-intrinsics-50MHz-20mV-1day-6-fit000.npy\n",
      "\u001b[0;36m1735487905.py:\u001b[0;35m   5\u001b[0;0m --- \u001b[1;36mINFO\u001b[1;0m: /Users/manuelmeyer/Documents/TESData/August2020/0.3RN-1.5GHzGBWP-intrinsics-50MHz-20mV-1day-11-fit000.npy\n",
      "\u001b[0;36m1735487905.py:\u001b[0;35m   5\u001b[0;0m --- \u001b[1;36mINFO\u001b[1;0m: /Users/manuelmeyer/Documents/TESData/August2020/0.3RN-1.5GBWP-intrinsics-50MHz-20mV-1day-8-fit000.npy\n",
      "\u001b[0;36m1735487905.py:\u001b[0;35m   5\u001b[0;0m --- \u001b[1;36mINFO\u001b[1;0m: /Users/manuelmeyer/Documents/TESData/August2020/0.3RN-1.5GHzGBWP-intrinsics-50MHz-20mV-1day-12-fit000.npy\n",
      "\u001b[0;36m1735487905.py:\u001b[0;35m   5\u001b[0;0m --- \u001b[1;36mINFO\u001b[1;0m: /Users/manuelmeyer/Documents/TESData/August2020/0.3RN-1.5GHzGBWP-intrinsics-50MHz-20mV-72hr-2-fit000.npy\n",
      "\u001b[0;36m1735487905.py:\u001b[0;35m   5\u001b[0;0m --- \u001b[1;36mINFO\u001b[1;0m: /Users/manuelmeyer/Documents/TESData/August2020/0.3RN-1.5GHzGBWP-intrinsics-50MHz-20mV-1day-17-fit000.npy\n",
      "\u001b[0;36m1735487905.py:\u001b[0;35m   5\u001b[0;0m --- \u001b[1;36mINFO\u001b[1;0m: /Users/manuelmeyer/Documents/TESData/August2020/0.3RN-1.5GBWP-intrinsics-50MHz-20mV-1day-7-fit000.npy\n",
      "\u001b[0;36m1735487905.py:\u001b[0;35m   5\u001b[0;0m --- \u001b[1;36mINFO\u001b[1;0m: /Users/manuelmeyer/Documents/TESData/August2020/0.3RN-1.5GHzGBWP-intrinsics-50MHz-20mV-1day-10-fit000.npy\n",
      "\u001b[0;36m1735487905.py:\u001b[0;35m   5\u001b[0;0m --- \u001b[1;36mINFO\u001b[1;0m: /Users/manuelmeyer/Documents/TESData/August2020/0.3RN-1.5GHzGBWP-intrinsics-50MHz-20mV-1day-15-fit000.npy\n",
      "\u001b[0;36m1735487905.py:\u001b[0;35m   5\u001b[0;0m --- \u001b[1;36mINFO\u001b[1;0m: /Users/manuelmeyer/Documents/TESData/August2020/0.3RN-1.5GHzGBWP-intrinsics-50MHz-20mV-1day-18-fit000.npy\n"
     ]
    }
   ],
   "source": [
    "files = list(in_dir.glob(\"*.npy\"))\n",
    "\n",
    "logging.info(\"Using files:\")\n",
    "for f in files:\n",
    "    logging.info(f)"
   ]
  },
  {
   "cell_type": "markdown",
   "id": "b57f41b2-66f8-4450-a289-af48a6ee0cc5",
   "metadata": {},
   "source": [
    "Next, we define the names of the features we would like to use. These are of course specific to the formatting of the output files. I will here assume the file formats used in Rikhav's analysis"
   ]
  },
  {
   "cell_type": "code",
   "execution_count": 6,
   "id": "f546ff90-697d-45b1-94fa-5efaef4c243d",
   "metadata": {},
   "outputs": [
    {
     "name": "stderr",
     "output_type": "stream",
     "text": [
      "\u001b[0;36m2405857269.py:\u001b[0;35m  17\u001b[0;0m --- \u001b[1;36mINFO\u001b[1;0m: Using features names ['rise time', 'decay time', 'constant', 'amplitude', 'pulse height', 'chi2 reduced', 'pulse integral fit']\n"
     ]
    }
   ],
   "source": [
    "# define the feature names\n",
    "feature_names = []\n",
    "\n",
    "# these names will be removed\n",
    "remove = ['data', 'time', 'pulse integral raw', 'voltage error',\n",
    "          'error', 'start time in hrs', 'end time in hrs',\n",
    "          'trigger time'\n",
    "          ]\n",
    "\n",
    "# read in one file to get the feature names\n",
    "# and remove those you don't want\n",
    "x = np.load(files[0], allow_pickle=True).tolist()\n",
    "for k in x[1].keys():\n",
    "    if not k in remove and not 'error' in k:\n",
    "        feature_names.append(k)\n",
    "\n",
    "logging.info(\"Using features names {}\".format(feature_names))"
   ]
  },
  {
   "cell_type": "markdown",
   "id": "8b72ba06-7dd1-4203-bd08-fb8dee924bf7",
   "metadata": {},
   "source": [
    "We now define some minimal data cleaning cuts: "
   ]
  },
  {
   "cell_type": "code",
   "execution_count": 7,
   "id": "62018d3b-cf43-43c8-b012-d1c205738679",
   "metadata": {},
   "outputs": [
    {
     "name": "stderr",
     "output_type": "stream",
     "text": [
      "\u001b[0;36m838698770.py:\u001b[0;35m   7\u001b[0;0m --- \u001b[1;36mINFO\u001b[1;0m: Using cleaning cuts {'chi2 reduced': 'chi2 < 6.', 'decay time': 'decay < 10.e-6', 'trigger time': '(trigger >= 29.5e-6) & (trigger <= 30.8e-6)'}\n"
     ]
    }
   ],
   "source": [
    "# define light cleaning cuts\n",
    "light_cleaning_cuts = {\n",
    "    \"chi2 reduced\": \"chi2 < 6.\",\n",
    "    \"decay time\": \"decay < 10.e-6\",\n",
    "    \"trigger time\": \"(trigger >= 29.5e-6) & (trigger <= 30.8e-6)\",  # from gaussian fit, 5 sigma interval\n",
    "}\n",
    "logging.info(\"Using cleaning cuts {}\".format(light_cleaning_cuts))"
   ]
  },
  {
   "cell_type": "markdown",
   "id": "702222aa-8c97-4f5c-b785-64aa439a54ed",
   "metadata": {},
   "source": [
    "Next we read the output from Rikhav's fits. The `result` dict contains the best fit parameters. The `data` dict contains the raw time lines. \n",
    "The `t_tot_hrs` gives the total time of the data run in hours. "
   ]
  },
  {
   "cell_type": "code",
   "execution_count": 8,
   "id": "b227ebc5-1196-493c-8039-da643a181272",
   "metadata": {},
   "outputs": [
    {
     "name": "stderr",
     "output_type": "stream",
     "text": [
      "\u001b[0;36mreadpydata.py:\u001b[0;35m 291\u001b[0;0m --- \u001b[1;36mINFO\u001b[1;0m: Reading data\n",
      "100%|█████████████████████████████████████████████████████████████████████████████████████████████████████████| 17/17 [00:04<00:00,  4.18it/s]\n",
      "\u001b[0;36mreadpydata.py:\u001b[0;35m 339\u001b[0;0m --- \u001b[1;36mINFO\u001b[1;0m: Rejected 1561 triggers in light file\n",
      "\u001b[0;36mreadpydata.py:\u001b[0;35m 350\u001b[0;0m --- \u001b[1;36mINFO\u001b[1;0m: In total, there are 1066 light events and 39580 background events for an observation time of 517.91 hours\n"
     ]
    },
    {
     "name": "stdout",
     "output_type": "stream",
     "text": [
      "dict_keys(['type', 'rise time', 'decay time', 'constant', 'amplitude', 'pulse height', 'chi2 reduced', 'pulse integral fit'])\n",
      "dict_keys(['time', 'data'])\n",
      "517.906026640339\n"
     ]
    }
   ],
   "source": [
    "# read the data\n",
    "result, data, t_tot_hrs = load_data_rikhav(files, feature_names, light_cleaning_cuts=light_cleaning_cuts)\n",
    "\n",
    "print (result.keys())\n",
    "print (data.keys())\n",
    "print (t_tot_hrs)"
   ]
  },
  {
   "cell_type": "markdown",
   "id": "8e19a07c-4526-4165-9473-0365ba0b507f",
   "metadata": {},
   "source": [
    "factor_x = 1e6  # seconds to micro seconds\n",
    "factor_y = 1e3 # V to mVNow, we get the raw data and transform it into the standard data format expected by `sklearn`:"
   ]
  },
  {
   "cell_type": "code",
   "execution_count": 9,
   "id": "9080862e-5f92-44b4-a4c5-d31683bfb3fe",
   "metadata": {},
   "outputs": [
    {
     "data": {
      "text/plain": [
       "(40646, 1000)"
      ]
     },
     "execution_count": 9,
     "metadata": {},
     "output_type": "execute_result"
    }
   ],
   "source": [
    "factor_x = 1e6  # seconds to micro seconds\n",
    "factor_y = 1e3  # V to mV\n",
    "\n",
    "X_raw = data['data'][:,::downsample] * factor_y\n",
    "y_raw = result['type']\n",
    "# print the size:\n",
    "X_raw.shape"
   ]
  },
  {
   "cell_type": "markdown",
   "id": "12cd6c2e-f26c-43b4-b699-bd7453bb401c",
   "metadata": {},
   "source": [
    "Plot an example pulse:"
   ]
  },
  {
   "cell_type": "code",
   "execution_count": 10,
   "id": "a0f600fc-faf7-49ae-9709-0ba5948c85ea",
   "metadata": {},
   "outputs": [
    {
     "data": {
      "text/plain": [
       "[<matplotlib.lines.Line2D at 0x1528de6d0>]"
      ]
     },
     "execution_count": 10,
     "metadata": {},
     "output_type": "execute_result"
    },
    {
     "data": {
      "image/png": "[encoded data removed]",
      "text/plain": [
       "<Figure size 432x288 with 1 Axes>"
      ]
     },
     "metadata": {
      "needs_background": "light"
     },
     "output_type": "display_data"
    }
   ],
   "source": [
    "plt.plot(X_raw[0])"
   ]
  },
  {
   "cell_type": "markdown",
   "id": "efb4d0f2-d4f0-4d80-b43c-23a318281df4",
   "metadata": {},
   "source": [
    "As the data files are sorted, we should shuffle the data:"
   ]
  },
  {
   "cell_type": "code",
   "execution_count": 11,
   "id": "824c92e8-5ad9-4a0d-8bef-4f65ce9b3dfd",
   "metadata": {},
   "outputs": [
    {
     "name": "stdout",
     "output_type": "stream",
     "text": [
      "[14875 35029 23759 ... 38158   860 15795]\n"
     ]
    }
   ],
   "source": [
    "np.random.seed(random_state)\n",
    "\n",
    "idx_shuffle = np.arange(y_raw.size)\n",
    "np.random.shuffle(idx_shuffle)\n",
    "\n",
    "print(idx_shuffle)\n",
    "\n",
    "X_raw = X_raw[idx_shuffle]\n",
    "y_raw = y_raw[idx_shuffle]"
   ]
  },
  {
   "cell_type": "markdown",
   "id": "e901fe7f-b5ae-4ecc-8945-585c537550d1",
   "metadata": {},
   "source": [
    "Let's have a quick look at the PCA transformed data in order to see how many PCA components we might need. "
   ]
  },
  {
   "cell_type": "code",
   "execution_count": 12,
   "id": "259b9971-dbee-4188-8217-ca1715ee9371",
   "metadata": {},
   "outputs": [],
   "source": [
    "pca_test = PCA()"
   ]
  },
  {
   "cell_type": "code",
   "execution_count": 13,
   "id": "6eb63b2e-1262-4496-9771-3be819eec6c5",
   "metadata": {},
   "outputs": [
    {
     "data": {
      "text/plain": [
       "PCA()"
      ]
     },
     "execution_count": 13,
     "metadata": {},
     "output_type": "execute_result"
    }
   ],
   "source": [
    "pca_test.fit(X_raw)"
   ]
  },
  {
   "cell_type": "code",
   "execution_count": 14,
   "id": "938b7132-28ff-4e44-94ca-d57054584b0a",
   "metadata": {},
   "outputs": [
    {
     "data": {
      "image/png": "[encoded data removed]",
      "text/plain": [
       "<Figure size 720x288 with 1 Axes>"
      ]
     },
     "metadata": {
      "needs_background": "light"
     },
     "output_type": "display_data"
    }
   ],
   "source": [
    "plt.figure(figsize=(10,4))\n",
    "plt.semilogy(pca_test.explained_variance_ratio_)\n",
    "plt.grid(which='both')\n",
    "_ = plt.xticks(np.arange(0, X_raw.shape[1] * 1.1,  X_raw.shape[1] * 0.1))"
   ]
  },
  {
   "cell_type": "markdown",
   "id": "7f3be4fc-d33c-4dfd-aadb-4ae855f364cd",
   "metadata": {},
   "source": [
    "From this it appears that most of the variance is explained by only 5% of the data points. \n",
    "\n",
    "We continue by building an `sklearn` pipeline consisting of a PCA transform and the classifier. We will optimize the number of PCA components supplied to the random forest. Through the PCA transform, the data is already standardized (zero mean and unit variance). "
   ]
  },
  {
   "cell_type": "code",
   "execution_count": 15,
   "id": "3cd42c7e-7083-466f-8995-e94714be9376",
   "metadata": {},
   "outputs": [],
   "source": [
    "pca = PCA()\n",
    "\n",
    "# default random forest parameters, use fully grown trees\n",
    "default_rf={'n_estimators': 300,\n",
    "            'max_features': 1, \n",
    "            'min_samples_split': 2,\n",
    "        }\n",
    "\n",
    "clf = RandomForestClassifier(**default_rf)"
   ]
  },
  {
   "cell_type": "code",
   "execution_count": 16,
   "id": "7bff117f-f4b0-4bf2-b4a0-2db108be3d5c",
   "metadata": {},
   "outputs": [],
   "source": [
    "# build the actual pipeline\n",
    "pipe = Pipeline([('pca', pca), ('clf', clf)])"
   ]
  },
  {
   "cell_type": "code",
   "execution_count": 17,
   "id": "9ddc90ed-83cb-4c3c-954a-21de225eb947",
   "metadata": {},
   "outputs": [
    {
     "name": "stdout",
     "output_type": "stream",
     "text": [
      "{'pca__n_components': array([ 2,  7, 12, 17, 22, 27, 32, 37, 42, 47, 52])}\n"
     ]
    }
   ],
   "source": [
    "param_grid = dict(pca__n_components=np.arange(2,57,5))\n",
    "print(param_grid)"
   ]
  },
  {
   "cell_type": "markdown",
   "id": "99f084d3-b141-41de-9682-3393d81a590f",
   "metadata": {},
   "source": [
    "We can now pass the pipeline into the `fastespy` hyper-parameter optimization: "
   ]
  },
  {
   "cell_type": "code",
   "execution_count": 18,
   "id": "3e74b639-58d2-4e6d-9388-ead480689975",
   "metadata": {},
   "outputs": [
    {
     "name": "stderr",
     "output_type": "stream",
     "text": [
      "\u001b[0;36mhyperpartune.py:\u001b[0;35m1127\u001b[0;0m --- \u001b[1;36mINFO\u001b[1;0m: Running optimization for split 1 / 5\n"
     ]
    },
    {
     "name": "stdout",
     "output_type": "stream",
     "text": [
      "Fitting 5 folds for each of 11 candidates, totalling 55 fits\n",
      "The parameter search took 102.31 s\n",
      "Profiling over parameters\n",
      "Refitting on whole test data set and computing learning curve and confusion matrix\n",
      "[learning_curve] Training set sizes: [ 3251  6503  9754 13006 16258 19509 22761 26012]\n"
     ]
    },
    {
     "name": "stderr",
     "output_type": "stream",
     "text": [
      "[Parallel(n_jobs=8)]: Using backend LokyBackend with 8 concurrent workers.\n",
      "[Parallel(n_jobs=8)]: Done  40 out of  40 | elapsed:   38.8s finished\n"
     ]
    },
    {
     "name": "stdout",
     "output_type": "stream",
     "text": [
      "[learning_curve] Training set sizes: [ 3251  6503  9754 13006 16258 19509 22761 26012]\n"
     ]
    },
    {
     "name": "stderr",
     "output_type": "stream",
     "text": [
      "[Parallel(n_jobs=8)]: Using backend LokyBackend with 8 concurrent workers.\n",
      "[Parallel(n_jobs=8)]: Done  40 out of  40 | elapsed:   27.5s finished\n"
     ]
    },
    {
     "name": "stdout",
     "output_type": "stream",
     "text": [
      "[learning_curve] Training set sizes: [ 3251  6503  9754 13006 16258 19509 22761 26012]\n"
     ]
    },
    {
     "name": "stderr",
     "output_type": "stream",
     "text": [
      "[Parallel(n_jobs=8)]: Using backend LokyBackend with 8 concurrent workers.\n",
      "[Parallel(n_jobs=8)]: Done  40 out of  40 | elapsed:   42.8s finished\n",
      "\u001b[0;36mhyperpartune.py:\u001b[0;35m1035\u001b[0;0m --- \u001b[1;36mINFO\u001b[1;0m: Printing performance:\n",
      "\u001b[0;36mhyperpartune.py:\u001b[0;35m1038\u001b[0;0m --- \u001b[1;36mINFO\u001b[1;0m: Running Feldman & Cousins confidence interval estimation for dark current\n"
     ]
    },
    {
     "name": "stdout",
     "output_type": "stream",
     "text": [
      "==== AUC : bkg_pred ====\n",
      "train: 0.000e+00\n",
      "test: 1.609e-05\n",
      "==== AUC : tp_efficiency ====\n",
      "train: 1.000e+00\n",
      "test: 2.991e-01\n",
      "==== AUC : score ====\n",
      "train: 1.000e+00\n",
      "test: 9.984e-01\n",
      "==== AUC : Significance ====\n",
      "train: 10.218\n",
      "test: 1.343\n",
      "==== Accuracy : bkg_pred ====\n",
      "train: 0.000e+00\n",
      "test: 4.022e-05\n",
      "==== Accuracy : tp_efficiency ====\n",
      "train: 1.000e+00\n",
      "test: 8.271e-01\n",
      "==== Accuracy : score ====\n",
      "train: 1.000e+00\n",
      "test: 9.936e-01\n",
      "==== Accuracy : Significance ====\n",
      "train: 10.218\n",
      "test: 2.336\n",
      "==== Significance : bkg_pred ====\n",
      "train: 0.000e+00\n",
      "test: 1.073e-05\n",
      "==== Significance : tp_efficiency ====\n",
      "train: 1.000e+00\n",
      "test: 1.916e-01\n",
      "==== Significance : score ====\n",
      "train: 1.022e+01\n",
      "test: 1.056e+00\n",
      "==== Significance : Significance ====\n",
      "train: 10.218\n",
      "test: 1.056\n"
     ]
    },
    {
     "name": "stderr",
     "output_type": "stream",
     "text": [
      "/Users/manuelmeyer/Python/fastespy/fastespy/mlscikit/feldman_cousins.py:311: UserWarning: The given `mus`-array is probably to coarse. No upper limit found for `n_obs` = 8. Setting the upper limit to inf.\n",
      "  warnings.warn(('The given `mus`-array is probably to coarse.' +\n",
      "/Users/manuelmeyer/Python/fastespy/fastespy/mlscikit/feldman_cousins.py:311: UserWarning: The given `mus`-array is probably to coarse. No upper limit found for `n_obs` = 9. Setting the upper limit to inf.\n",
      "  warnings.warn(('The given `mus`-array is probably to coarse.' +\n",
      "/Users/manuelmeyer/Python/fastespy/fastespy/mlscikit/feldman_cousins.py:311: UserWarning: The given `mus`-array is probably to coarse. No upper limit found for `n_obs` = 10. Setting the upper limit to inf.\n",
      "  warnings.warn(('The given `mus`-array is probably to coarse.' +\n",
      "/Users/manuelmeyer/Python/fastespy/fastespy/mlscikit/feldman_cousins.py:311: UserWarning: The given `mus`-array is probably to coarse. No upper limit found for `n_obs` = 11. Setting the upper limit to inf.\n",
      "  warnings.warn(('The given `mus`-array is probably to coarse.' +\n",
      "/Users/manuelmeyer/Python/fastespy/fastespy/mlscikit/feldman_cousins.py:311: UserWarning: The given `mus`-array is probably to coarse. No upper limit found for `n_obs` = 12. Setting the upper limit to inf.\n",
      "  warnings.warn(('The given `mus`-array is probably to coarse.' +\n",
      "/Users/manuelmeyer/Python/fastespy/fastespy/mlscikit/feldman_cousins.py:311: UserWarning: The given `mus`-array is probably to coarse. No upper limit found for `n_obs` = 13. Setting the upper limit to inf.\n",
      "  warnings.warn(('The given `mus`-array is probably to coarse.' +\n",
      "/Users/manuelmeyer/Python/fastespy/fastespy/mlscikit/feldman_cousins.py:311: UserWarning: The given `mus`-array is probably to coarse. No upper limit found for `n_obs` = 14. Setting the upper limit to inf.\n",
      "  warnings.warn(('The given `mus`-array is probably to coarse.' +\n",
      "/Users/manuelmeyer/Python/fastespy/fastespy/mlscikit/feldman_cousins.py:311: UserWarning: The given `mus`-array is probably to coarse. No upper limit found for `n_obs` = 15. Setting the upper limit to inf.\n",
      "  warnings.warn(('The given `mus`-array is probably to coarse.' +\n",
      "/Users/manuelmeyer/Python/fastespy/fastespy/mlscikit/feldman_cousins.py:311: UserWarning: The given `mus`-array is probably to coarse. No upper limit found for `n_obs` = 16. Setting the upper limit to inf.\n",
      "  warnings.warn(('The given `mus`-array is probably to coarse.' +\n",
      "/Users/manuelmeyer/Python/fastespy/fastespy/mlscikit/feldman_cousins.py:311: UserWarning: The given `mus`-array is probably to coarse. No upper limit found for `n_obs` = 17. Setting the upper limit to inf.\n",
      "  warnings.warn(('The given `mus`-array is probably to coarse.' +\n",
      "/Users/manuelmeyer/Python/fastespy/fastespy/mlscikit/feldman_cousins.py:311: UserWarning: The given `mus`-array is probably to coarse. No upper limit found for `n_obs` = 18. Setting the upper limit to inf.\n",
      "  warnings.warn(('The given `mus`-array is probably to coarse.' +\n",
      "/Users/manuelmeyer/Python/fastespy/fastespy/mlscikit/feldman_cousins.py:311: UserWarning: The given `mus`-array is probably to coarse. No upper limit found for `n_obs` = 19. Setting the upper limit to inf.\n",
      "  warnings.warn(('The given `mus`-array is probably to coarse.' +\n",
      "\u001b[0;36mhyperpartune.py:\u001b[0;35m1062\u001b[0;0m --- \u001b[1;36mINFO\u001b[1;0m: dark current AUC: [3.95517608e-06 1.07259012e-05 2.30472802e-05]\n",
      "\u001b[0;36mhyperpartune.py:\u001b[0;35m1062\u001b[0;0m --- \u001b[1;36mINFO\u001b[1;0m: dark current Accuracy: [3.95517608e-06 1.07259012e-05 2.30472802e-05]\n",
      "\u001b[0;36mhyperpartune.py:\u001b[0;35m1062\u001b[0;0m --- \u001b[1;36mINFO\u001b[1;0m: dark current Significance: [3.95517608e-06 1.07259012e-05 2.30472802e-05]\n",
      "\u001b[0;36mhyperpartune.py:\u001b[0;35m1127\u001b[0;0m --- \u001b[1;36mINFO\u001b[1;0m: Running optimization for split 2 / 5\n"
     ]
    },
    {
     "name": "stdout",
     "output_type": "stream",
     "text": [
      "Fitting 5 folds for each of 11 candidates, totalling 55 fits\n",
      "The parameter search took 102.65 s\n",
      "Profiling over parameters\n",
      "Refitting on whole test data set and computing learning curve and confusion matrix\n",
      "[learning_curve] Training set sizes: [ 3251  6503  9755 13006 16258 19510 22761 26013]\n"
     ]
    },
    {
     "name": "stderr",
     "output_type": "stream",
     "text": [
      "[Parallel(n_jobs=8)]: Using backend LokyBackend with 8 concurrent workers.\n",
      "[Parallel(n_jobs=8)]: Done  40 out of  40 | elapsed:   42.4s finished\n"
     ]
    },
    {
     "name": "stdout",
     "output_type": "stream",
     "text": [
      "[learning_curve] Training set sizes: [ 3251  6503  9755 13006 16258 19510 22761 26013]\n"
     ]
    },
    {
     "name": "stderr",
     "output_type": "stream",
     "text": [
      "[Parallel(n_jobs=8)]: Using backend LokyBackend with 8 concurrent workers.\n",
      "[Parallel(n_jobs=8)]: Done  40 out of  40 | elapsed:   28.0s finished\n"
     ]
    },
    {
     "name": "stdout",
     "output_type": "stream",
     "text": [
      "[learning_curve] Training set sizes: [ 3251  6503  9755 13006 16258 19510 22761 26013]\n"
     ]
    },
    {
     "name": "stderr",
     "output_type": "stream",
     "text": [
      "[Parallel(n_jobs=8)]: Using backend LokyBackend with 8 concurrent workers.\n",
      "[Parallel(n_jobs=8)]: Done  40 out of  40 | elapsed:   31.2s finished\n",
      "\u001b[0;36mhyperpartune.py:\u001b[0;35m1035\u001b[0;0m --- \u001b[1;36mINFO\u001b[1;0m: Printing performance:\n",
      "\u001b[0;36mhyperpartune.py:\u001b[0;35m1038\u001b[0;0m --- \u001b[1;36mINFO\u001b[1;0m: Running Feldman & Cousins confidence interval estimation for dark current\n"
     ]
    },
    {
     "name": "stdout",
     "output_type": "stream",
     "text": [
      "==== AUC : bkg_pred ====\n",
      "train: 0.000e+00\n",
      "test: 0.000e+00\n",
      "==== AUC : tp_efficiency ====\n",
      "train: 1.000e+00\n",
      "test: 2.160e-01\n",
      "==== AUC : score ====\n",
      "train: 1.000e+00\n",
      "test: 9.993e-01\n",
      "==== AUC : Significance ====\n",
      "train: 10.218\n",
      "test: 4.749\n",
      "==== Accuracy : bkg_pred ====\n",
      "train: 0.000e+00\n",
      "test: 2.414e-05\n",
      "==== Accuracy : tp_efficiency ====\n",
      "train: 1.000e+00\n",
      "test: 7.230e-01\n",
      "==== Accuracy : score ====\n",
      "train: 1.000e+00\n",
      "test: 9.916e-01\n",
      "==== Accuracy : Significance ====\n",
      "train: 10.218\n",
      "test: 2.568\n",
      "==== Significance : bkg_pred ====\n",
      "train: 0.000e+00\n",
      "test: 1.073e-05\n",
      "==== Significance : tp_efficiency ====\n",
      "train: 1.000e+00\n",
      "test: 6.761e-01\n",
      "==== Significance : score ====\n",
      "train: 1.022e+01\n",
      "test: 3.327e+00\n",
      "==== Significance : Significance ====\n",
      "train: 10.218\n",
      "test: 3.327\n"
     ]
    },
    {
     "name": "stderr",
     "output_type": "stream",
     "text": [
      "/Users/manuelmeyer/Python/fastespy/fastespy/mlscikit/feldman_cousins.py:311: UserWarning: The given `mus`-array is probably to coarse. No upper limit found for `n_obs` = 8. Setting the upper limit to inf.\n",
      "  warnings.warn(('The given `mus`-array is probably to coarse.' +\n",
      "/Users/manuelmeyer/Python/fastespy/fastespy/mlscikit/feldman_cousins.py:311: UserWarning: The given `mus`-array is probably to coarse. No upper limit found for `n_obs` = 9. Setting the upper limit to inf.\n",
      "  warnings.warn(('The given `mus`-array is probably to coarse.' +\n",
      "/Users/manuelmeyer/Python/fastespy/fastespy/mlscikit/feldman_cousins.py:311: UserWarning: The given `mus`-array is probably to coarse. No upper limit found for `n_obs` = 10. Setting the upper limit to inf.\n",
      "  warnings.warn(('The given `mus`-array is probably to coarse.' +\n",
      "/Users/manuelmeyer/Python/fastespy/fastespy/mlscikit/feldman_cousins.py:311: UserWarning: The given `mus`-array is probably to coarse. No upper limit found for `n_obs` = 11. Setting the upper limit to inf.\n",
      "  warnings.warn(('The given `mus`-array is probably to coarse.' +\n",
      "/Users/manuelmeyer/Python/fastespy/fastespy/mlscikit/feldman_cousins.py:311: UserWarning: The given `mus`-array is probably to coarse. No upper limit found for `n_obs` = 12. Setting the upper limit to inf.\n",
      "  warnings.warn(('The given `mus`-array is probably to coarse.' +\n",
      "/Users/manuelmeyer/Python/fastespy/fastespy/mlscikit/feldman_cousins.py:311: UserWarning: The given `mus`-array is probably to coarse. No upper limit found for `n_obs` = 13. Setting the upper limit to inf.\n",
      "  warnings.warn(('The given `mus`-array is probably to coarse.' +\n",
      "/Users/manuelmeyer/Python/fastespy/fastespy/mlscikit/feldman_cousins.py:311: UserWarning: The given `mus`-array is probably to coarse. No upper limit found for `n_obs` = 14. Setting the upper limit to inf.\n",
      "  warnings.warn(('The given `mus`-array is probably to coarse.' +\n",
      "/Users/manuelmeyer/Python/fastespy/fastespy/mlscikit/feldman_cousins.py:311: UserWarning: The given `mus`-array is probably to coarse. No upper limit found for `n_obs` = 15. Setting the upper limit to inf.\n",
      "  warnings.warn(('The given `mus`-array is probably to coarse.' +\n",
      "/Users/manuelmeyer/Python/fastespy/fastespy/mlscikit/feldman_cousins.py:311: UserWarning: The given `mus`-array is probably to coarse. No upper limit found for `n_obs` = 16. Setting the upper limit to inf.\n",
      "  warnings.warn(('The given `mus`-array is probably to coarse.' +\n",
      "/Users/manuelmeyer/Python/fastespy/fastespy/mlscikit/feldman_cousins.py:311: UserWarning: The given `mus`-array is probably to coarse. No upper limit found for `n_obs` = 17. Setting the upper limit to inf.\n",
      "  warnings.warn(('The given `mus`-array is probably to coarse.' +\n",
      "/Users/manuelmeyer/Python/fastespy/fastespy/mlscikit/feldman_cousins.py:311: UserWarning: The given `mus`-array is probably to coarse. No upper limit found for `n_obs` = 18. Setting the upper limit to inf.\n",
      "  warnings.warn(('The given `mus`-array is probably to coarse.' +\n",
      "/Users/manuelmeyer/Python/fastespy/fastespy/mlscikit/feldman_cousins.py:311: UserWarning: The given `mus`-array is probably to coarse. No upper limit found for `n_obs` = 19. Setting the upper limit to inf.\n",
      "  warnings.warn(('The given `mus`-array is probably to coarse.' +\n",
      "\u001b[0;36mhyperpartune.py:\u001b[0;35m1062\u001b[0;0m --- \u001b[1;36mINFO\u001b[1;0m: dark current AUC: [3.95566263e-06 1.07272207e-05 2.30501154e-05]\n",
      "\u001b[0;36mhyperpartune.py:\u001b[0;35m1062\u001b[0;0m --- \u001b[1;36mINFO\u001b[1;0m: dark current Accuracy: [3.95566263e-06 1.07272207e-05 2.30501154e-05]\n",
      "\u001b[0;36mhyperpartune.py:\u001b[0;35m1062\u001b[0;0m --- \u001b[1;36mINFO\u001b[1;0m: dark current Significance: [3.95566263e-06 1.07272207e-05 2.30501154e-05]\n",
      "\u001b[0;36mhyperpartune.py:\u001b[0;35m1127\u001b[0;0m --- \u001b[1;36mINFO\u001b[1;0m: Running optimization for split 3 / 5\n"
     ]
    },
    {
     "name": "stdout",
     "output_type": "stream",
     "text": [
      "Fitting 5 folds for each of 11 candidates, totalling 55 fits\n",
      "The parameter search took 110.64 s\n",
      "Profiling over parameters\n",
      "Refitting on whole test data set and computing learning curve and confusion matrix\n",
      "[learning_curve] Training set sizes: [ 3251  6503  9755 13006 16258 19510 22761 26013]\n"
     ]
    },
    {
     "name": "stderr",
     "output_type": "stream",
     "text": [
      "[Parallel(n_jobs=8)]: Using backend LokyBackend with 8 concurrent workers.\n",
      "[Parallel(n_jobs=8)]: Done  40 out of  40 | elapsed:   42.0s finished\n"
     ]
    },
    {
     "name": "stdout",
     "output_type": "stream",
     "text": [
      "[learning_curve] Training set sizes: [ 3251  6503  9755 13006 16258 19510 22761 26013]\n"
     ]
    },
    {
     "name": "stderr",
     "output_type": "stream",
     "text": [
      "[Parallel(n_jobs=8)]: Using backend LokyBackend with 8 concurrent workers.\n",
      "[Parallel(n_jobs=8)]: Done  40 out of  40 | elapsed:   27.3s finished\n"
     ]
    },
    {
     "name": "stdout",
     "output_type": "stream",
     "text": [
      "[learning_curve] Training set sizes: [ 3251  6503  9755 13006 16258 19510 22761 26013]\n"
     ]
    },
    {
     "name": "stderr",
     "output_type": "stream",
     "text": [
      "[Parallel(n_jobs=8)]: Using backend LokyBackend with 8 concurrent workers.\n",
      "[Parallel(n_jobs=8)]: Done  40 out of  40 | elapsed:   39.2s finished\n",
      "\u001b[0;36mhyperpartune.py:\u001b[0;35m1035\u001b[0;0m --- \u001b[1;36mINFO\u001b[1;0m: Printing performance:\n",
      "\u001b[0;36mhyperpartune.py:\u001b[0;35m1038\u001b[0;0m --- \u001b[1;36mINFO\u001b[1;0m: Running Feldman & Cousins confidence interval estimation for dark current\n"
     ]
    },
    {
     "name": "stdout",
     "output_type": "stream",
     "text": [
      "==== AUC : bkg_pred ====\n",
      "train: 0.000e+00\n",
      "test: 0.000e+00\n",
      "==== AUC : tp_efficiency ====\n",
      "train: 1.000e+00\n",
      "test: 1.784e-01\n",
      "==== AUC : score ====\n",
      "train: 1.000e+00\n",
      "test: 9.990e-01\n",
      "==== AUC : Significance ====\n",
      "train: 10.218\n",
      "test: 4.316\n",
      "==== Accuracy : bkg_pred ====\n",
      "train: 0.000e+00\n",
      "test: 2.145e-05\n",
      "==== Accuracy : tp_efficiency ====\n",
      "train: 1.000e+00\n",
      "test: 7.606e-01\n",
      "==== Accuracy : score ====\n",
      "train: 1.000e+00\n",
      "test: 9.927e-01\n",
      "==== Accuracy : Significance ====\n",
      "train: 10.218\n",
      "test: 2.824\n",
      "==== Significance : bkg_pred ====\n",
      "train: 0.000e+00\n",
      "test: 2.682e-06\n",
      "==== Significance : tp_efficiency ====\n",
      "train: 1.000e+00\n",
      "test: 2.958e-01\n",
      "==== Significance : score ====\n",
      "train: 1.022e+01\n",
      "test: 2.661e+00\n",
      "==== Significance : Significance ====\n",
      "train: 10.218\n",
      "test: 2.661\n"
     ]
    },
    {
     "name": "stderr",
     "output_type": "stream",
     "text": [
      "/Users/manuelmeyer/Python/fastespy/fastespy/mlscikit/feldman_cousins.py:311: UserWarning: The given `mus`-array is probably to coarse. No upper limit found for `n_obs` = 1. Setting the upper limit to inf.\n",
      "  warnings.warn(('The given `mus`-array is probably to coarse.' +\n",
      "/Users/manuelmeyer/Python/fastespy/fastespy/mlscikit/feldman_cousins.py:311: UserWarning: The given `mus`-array is probably to coarse. No upper limit found for `n_obs` = 2. Setting the upper limit to inf.\n",
      "  warnings.warn(('The given `mus`-array is probably to coarse.' +\n",
      "/Users/manuelmeyer/Python/fastespy/fastespy/mlscikit/feldman_cousins.py:311: UserWarning: The given `mus`-array is probably to coarse. No upper limit found for `n_obs` = 3. Setting the upper limit to inf.\n",
      "  warnings.warn(('The given `mus`-array is probably to coarse.' +\n",
      "/Users/manuelmeyer/Python/fastespy/fastespy/mlscikit/feldman_cousins.py:311: UserWarning: The given `mus`-array is probably to coarse. No upper limit found for `n_obs` = 4. Setting the upper limit to inf.\n",
      "  warnings.warn(('The given `mus`-array is probably to coarse.' +\n",
      "\u001b[0;36mhyperpartune.py:\u001b[0;35m1062\u001b[0;0m --- \u001b[1;36mINFO\u001b[1;0m: dark current AUC: [2.84941799e-07 2.68180517e-06            inf]\n",
      "\u001b[0;36mhyperpartune.py:\u001b[0;35m1062\u001b[0;0m --- \u001b[1;36mINFO\u001b[1;0m: dark current Accuracy: [2.84941799e-07 2.68180517e-06            inf]\n",
      "\u001b[0;36mhyperpartune.py:\u001b[0;35m1062\u001b[0;0m --- \u001b[1;36mINFO\u001b[1;0m: dark current Significance: [2.84941799e-07 2.68180517e-06            inf]\n",
      "\u001b[0;36mhyperpartune.py:\u001b[0;35m1127\u001b[0;0m --- \u001b[1;36mINFO\u001b[1;0m: Running optimization for split 4 / 5\n"
     ]
    },
    {
     "name": "stdout",
     "output_type": "stream",
     "text": [
      "Fitting 5 folds for each of 11 candidates, totalling 55 fits\n",
      "The parameter search took 102.87 s\n",
      "Profiling over parameters\n",
      "Refitting on whole test data set and computing learning curve and confusion matrix\n",
      "[learning_curve] Training set sizes: [ 3251  6503  9755 13006 16258 19510 22761 26013]\n"
     ]
    },
    {
     "name": "stderr",
     "output_type": "stream",
     "text": [
      "[Parallel(n_jobs=8)]: Using backend LokyBackend with 8 concurrent workers.\n",
      "[Parallel(n_jobs=8)]: Done  40 out of  40 | elapsed:   40.4s finished\n"
     ]
    },
    {
     "name": "stdout",
     "output_type": "stream",
     "text": [
      "[learning_curve] Training set sizes: [ 3251  6503  9755 13006 16258 19510 22761 26013]\n"
     ]
    },
    {
     "name": "stderr",
     "output_type": "stream",
     "text": [
      "[Parallel(n_jobs=8)]: Using backend LokyBackend with 8 concurrent workers.\n",
      "[Parallel(n_jobs=8)]: Done  40 out of  40 | elapsed:   27.2s finished\n"
     ]
    },
    {
     "name": "stdout",
     "output_type": "stream",
     "text": [
      "[learning_curve] Training set sizes: [ 3251  6503  9755 13006 16258 19510 22761 26013]\n"
     ]
    },
    {
     "name": "stderr",
     "output_type": "stream",
     "text": [
      "[Parallel(n_jobs=8)]: Using backend LokyBackend with 8 concurrent workers.\n",
      "[Parallel(n_jobs=8)]: Done  40 out of  40 | elapsed:   30.9s finished\n",
      "\u001b[0;36mhyperpartune.py:\u001b[0;35m1035\u001b[0;0m --- \u001b[1;36mINFO\u001b[1;0m: Printing performance:\n",
      "\u001b[0;36mhyperpartune.py:\u001b[0;35m1038\u001b[0;0m --- \u001b[1;36mINFO\u001b[1;0m: Running Feldman & Cousins confidence interval estimation for dark current\n"
     ]
    },
    {
     "name": "stdout",
     "output_type": "stream",
     "text": [
      "==== AUC : bkg_pred ====\n",
      "train: 0.000e+00\n",
      "test: 2.682e-06\n",
      "==== AUC : tp_efficiency ====\n",
      "train: 1.000e+00\n",
      "test: 2.347e-01\n",
      "==== AUC : score ====\n",
      "train: 1.000e+00\n",
      "test: 9.987e-01\n",
      "==== AUC : Significance ====\n",
      "train: 10.218\n",
      "test: 2.199\n",
      "==== Accuracy : bkg_pred ====\n",
      "train: 0.000e+00\n",
      "test: 2.950e-05\n",
      "==== Accuracy : tp_efficiency ====\n",
      "train: 1.000e+00\n",
      "test: 8.122e-01\n",
      "==== Accuracy : score ====\n",
      "train: 1.000e+00\n",
      "test: 9.937e-01\n",
      "==== Accuracy : Significance ====\n",
      "train: 10.218\n",
      "test: 2.626\n",
      "==== Significance : bkg_pred ====\n",
      "train: 0.000e+00\n",
      "test: 2.145e-05\n",
      "==== Significance : tp_efficiency ====\n",
      "train: 1.000e+00\n",
      "test: 7.230e-01\n",
      "==== Significance : score ====\n",
      "train: 1.022e+01\n",
      "test: 2.697e+00\n",
      "==== Significance : Significance ====\n",
      "train: 10.218\n",
      "test: 2.697\n"
     ]
    },
    {
     "name": "stderr",
     "output_type": "stream",
     "text": [
      "/Users/manuelmeyer/Python/fastespy/fastespy/mlscikit/feldman_cousins.py:311: UserWarning: The given `mus`-array is probably to coarse. No upper limit found for `n_obs` = 18. Setting the upper limit to inf.\n",
      "  warnings.warn(('The given `mus`-array is probably to coarse.' +\n",
      "/Users/manuelmeyer/Python/fastespy/fastespy/mlscikit/feldman_cousins.py:311: UserWarning: The given `mus`-array is probably to coarse. No upper limit found for `n_obs` = 19. Setting the upper limit to inf.\n",
      "  warnings.warn(('The given `mus`-array is probably to coarse.' +\n",
      "/Users/manuelmeyer/Python/fastespy/fastespy/mlscikit/feldman_cousins.py:311: UserWarning: The given `mus`-array is probably to coarse. No upper limit found for `n_obs` = 20. Setting the upper limit to inf.\n",
      "  warnings.warn(('The given `mus`-array is probably to coarse.' +\n",
      "/Users/manuelmeyer/Python/fastespy/fastespy/mlscikit/feldman_cousins.py:311: UserWarning: The given `mus`-array is probably to coarse. No upper limit found for `n_obs` = 21. Setting the upper limit to inf.\n",
      "  warnings.warn(('The given `mus`-array is probably to coarse.' +\n",
      "/Users/manuelmeyer/Python/fastespy/fastespy/mlscikit/feldman_cousins.py:311: UserWarning: The given `mus`-array is probably to coarse. No upper limit found for `n_obs` = 22. Setting the upper limit to inf.\n",
      "  warnings.warn(('The given `mus`-array is probably to coarse.' +\n",
      "/Users/manuelmeyer/Python/fastespy/fastespy/mlscikit/feldman_cousins.py:311: UserWarning: The given `mus`-array is probably to coarse. No upper limit found for `n_obs` = 23. Setting the upper limit to inf.\n",
      "  warnings.warn(('The given `mus`-array is probably to coarse.' +\n",
      "/Users/manuelmeyer/Python/fastespy/fastespy/mlscikit/feldman_cousins.py:311: UserWarning: The given `mus`-array is probably to coarse. No upper limit found for `n_obs` = 24. Setting the upper limit to inf.\n",
      "  warnings.warn(('The given `mus`-array is probably to coarse.' +\n",
      "/Users/manuelmeyer/Python/fastespy/fastespy/mlscikit/feldman_cousins.py:311: UserWarning: The given `mus`-array is probably to coarse. No upper limit found for `n_obs` = 25. Setting the upper limit to inf.\n",
      "  warnings.warn(('The given `mus`-array is probably to coarse.' +\n",
      "/Users/manuelmeyer/Python/fastespy/fastespy/mlscikit/feldman_cousins.py:311: UserWarning: The given `mus`-array is probably to coarse. No upper limit found for `n_obs` = 26. Setting the upper limit to inf.\n",
      "  warnings.warn(('The given `mus`-array is probably to coarse.' +\n",
      "/Users/manuelmeyer/Python/fastespy/fastespy/mlscikit/feldman_cousins.py:311: UserWarning: The given `mus`-array is probably to coarse. No upper limit found for `n_obs` = 27. Setting the upper limit to inf.\n",
      "  warnings.warn(('The given `mus`-array is probably to coarse.' +\n",
      "/Users/manuelmeyer/Python/fastespy/fastespy/mlscikit/feldman_cousins.py:311: UserWarning: The given `mus`-array is probably to coarse. No upper limit found for `n_obs` = 28. Setting the upper limit to inf.\n",
      "  warnings.warn(('The given `mus`-array is probably to coarse.' +\n",
      "/Users/manuelmeyer/Python/fastespy/fastespy/mlscikit/feldman_cousins.py:311: UserWarning: The given `mus`-array is probably to coarse. No upper limit found for `n_obs` = 29. Setting the upper limit to inf.\n",
      "  warnings.warn(('The given `mus`-array is probably to coarse.' +\n",
      "/Users/manuelmeyer/Python/fastespy/fastespy/mlscikit/feldman_cousins.py:311: UserWarning: The given `mus`-array is probably to coarse. No upper limit found for `n_obs` = 30. Setting the upper limit to inf.\n",
      "  warnings.warn(('The given `mus`-array is probably to coarse.' +\n",
      "/Users/manuelmeyer/Python/fastespy/fastespy/mlscikit/feldman_cousins.py:311: UserWarning: The given `mus`-array is probably to coarse. No upper limit found for `n_obs` = 31. Setting the upper limit to inf.\n",
      "  warnings.warn(('The given `mus`-array is probably to coarse.' +\n",
      "/Users/manuelmeyer/Python/fastespy/fastespy/mlscikit/feldman_cousins.py:311: UserWarning: The given `mus`-array is probably to coarse. No upper limit found for `n_obs` = 32. Setting the upper limit to inf.\n",
      "  warnings.warn(('The given `mus`-array is probably to coarse.' +\n",
      "/Users/manuelmeyer/Python/fastespy/fastespy/mlscikit/feldman_cousins.py:311: UserWarning: The given `mus`-array is probably to coarse. No upper limit found for `n_obs` = 33. Setting the upper limit to inf.\n",
      "  warnings.warn(('The given `mus`-array is probably to coarse.' +\n",
      "/Users/manuelmeyer/Python/fastespy/fastespy/mlscikit/feldman_cousins.py:311: UserWarning: The given `mus`-array is probably to coarse. No upper limit found for `n_obs` = 34. Setting the upper limit to inf.\n",
      "  warnings.warn(('The given `mus`-array is probably to coarse.' +\n",
      "/Users/manuelmeyer/Python/fastespy/fastespy/mlscikit/feldman_cousins.py:311: UserWarning: The given `mus`-array is probably to coarse. No upper limit found for `n_obs` = 35. Setting the upper limit to inf.\n",
      "  warnings.warn(('The given `mus`-array is probably to coarse.' +\n",
      "/Users/manuelmeyer/Python/fastespy/fastespy/mlscikit/feldman_cousins.py:311: UserWarning: The given `mus`-array is probably to coarse. No upper limit found for `n_obs` = 36. Setting the upper limit to inf.\n",
      "  warnings.warn(('The given `mus`-array is probably to coarse.' +\n",
      "/Users/manuelmeyer/Python/fastespy/fastespy/mlscikit/feldman_cousins.py:311: UserWarning: The given `mus`-array is probably to coarse. No upper limit found for `n_obs` = 37. Setting the upper limit to inf.\n",
      "  warnings.warn(('The given `mus`-array is probably to coarse.' +\n",
      "/Users/manuelmeyer/Python/fastespy/fastespy/mlscikit/feldman_cousins.py:311: UserWarning: The given `mus`-array is probably to coarse. No upper limit found for `n_obs` = 38. Setting the upper limit to inf.\n",
      "  warnings.warn(('The given `mus`-array is probably to coarse.' +\n",
      "/Users/manuelmeyer/Python/fastespy/fastespy/mlscikit/feldman_cousins.py:311: UserWarning: The given `mus`-array is probably to coarse. No upper limit found for `n_obs` = 39. Setting the upper limit to inf.\n",
      "  warnings.warn(('The given `mus`-array is probably to coarse.' +\n",
      "\u001b[0;36mhyperpartune.py:\u001b[0;35m1062\u001b[0;0m --- \u001b[1;36mINFO\u001b[1;0m: dark current AUC: [1.06467665e-05 2.14544414e-05 3.75184543e-05]\n",
      "\u001b[0;36mhyperpartune.py:\u001b[0;35m1062\u001b[0;0m --- \u001b[1;36mINFO\u001b[1;0m: dark current Accuracy: [1.06467665e-05 2.14544414e-05 3.75184543e-05]\n",
      "\u001b[0;36mhyperpartune.py:\u001b[0;35m1062\u001b[0;0m --- \u001b[1;36mINFO\u001b[1;0m: dark current Significance: [1.06467665e-05 2.14544414e-05 3.75184543e-05]\n",
      "\u001b[0;36mhyperpartune.py:\u001b[0;35m1127\u001b[0;0m --- \u001b[1;36mINFO\u001b[1;0m: Running optimization for split 5 / 5\n"
     ]
    },
    {
     "name": "stdout",
     "output_type": "stream",
     "text": [
      "Fitting 5 folds for each of 11 candidates, totalling 55 fits\n",
      "The parameter search took 98.68 s\n",
      "Profiling over parameters\n",
      "Refitting on whole test data set and computing learning curve and confusion matrix\n",
      "[learning_curve] Training set sizes: [ 3251  6503  9755 13006 16258 19510 22761 26013]\n"
     ]
    },
    {
     "name": "stderr",
     "output_type": "stream",
     "text": [
      "[Parallel(n_jobs=8)]: Using backend LokyBackend with 8 concurrent workers.\n",
      "[Parallel(n_jobs=8)]: Done  40 out of  40 | elapsed:   38.8s finished\n"
     ]
    },
    {
     "name": "stdout",
     "output_type": "stream",
     "text": [
      "[learning_curve] Training set sizes: [ 3251  6503  9755 13006 16258 19510 22761 26013]\n"
     ]
    },
    {
     "name": "stderr",
     "output_type": "stream",
     "text": [
      "[Parallel(n_jobs=8)]: Using backend LokyBackend with 8 concurrent workers.\n",
      "[Parallel(n_jobs=8)]: Done  40 out of  40 | elapsed:   26.5s finished\n"
     ]
    },
    {
     "name": "stdout",
     "output_type": "stream",
     "text": [
      "[learning_curve] Training set sizes: [ 3251  6503  9755 13006 16258 19510 22761 26013]\n"
     ]
    },
    {
     "name": "stderr",
     "output_type": "stream",
     "text": [
      "[Parallel(n_jobs=8)]: Using backend LokyBackend with 8 concurrent workers.\n",
      "[Parallel(n_jobs=8)]: Done  40 out of  40 | elapsed:   26.7s finished\n",
      "\u001b[0;36mhyperpartune.py:\u001b[0;35m1035\u001b[0;0m --- \u001b[1;36mINFO\u001b[1;0m: Printing performance:\n",
      "\u001b[0;36mhyperpartune.py:\u001b[0;35m1038\u001b[0;0m --- \u001b[1;36mINFO\u001b[1;0m: Running Feldman & Cousins confidence interval estimation for dark current\n"
     ]
    },
    {
     "name": "stdout",
     "output_type": "stream",
     "text": [
      "==== AUC : bkg_pred ====\n",
      "train: 0.000e+00\n",
      "test: 5.364e-06\n",
      "==== AUC : tp_efficiency ====\n",
      "train: 1.000e+00\n",
      "test: 2.300e-01\n",
      "==== AUC : score ====\n",
      "train: 1.000e+00\n",
      "test: 9.987e-01\n",
      "==== AUC : Significance ====\n",
      "train: 10.218\n",
      "test: 1.677\n",
      "==== Accuracy : bkg_pred ====\n",
      "train: 0.000e+00\n",
      "test: 2.682e-05\n",
      "==== Accuracy : tp_efficiency ====\n",
      "train: 1.000e+00\n",
      "test: 7.981e-01\n",
      "==== Accuracy : score ====\n",
      "train: 1.000e+00\n",
      "test: 9.935e-01\n",
      "==== Accuracy : Significance ====\n",
      "train: 10.218\n",
      "test: 2.690\n",
      "==== Significance : bkg_pred ====\n",
      "train: 0.000e+00\n",
      "test: 3.486e-05\n",
      "==== Significance : tp_efficiency ====\n",
      "train: 1.000e+00\n",
      "test: 7.981e-01\n",
      "==== Significance : score ====\n",
      "train: 1.022e+01\n",
      "test: 2.405e+00\n",
      "==== Significance : Significance ====\n",
      "train: 10.218\n",
      "test: 2.405\n"
     ]
    },
    {
     "name": "stderr",
     "output_type": "stream",
     "text": [
      "/Users/manuelmeyer/Python/fastespy/fastespy/mlscikit/feldman_cousins.py:311: UserWarning: The given `mus`-array is probably to coarse. No upper limit found for `n_obs` = 30. Setting the upper limit to inf.\n",
      "  warnings.warn(('The given `mus`-array is probably to coarse.' +\n",
      "/Users/manuelmeyer/Python/fastespy/fastespy/mlscikit/feldman_cousins.py:311: UserWarning: The given `mus`-array is probably to coarse. No upper limit found for `n_obs` = 31. Setting the upper limit to inf.\n",
      "  warnings.warn(('The given `mus`-array is probably to coarse.' +\n",
      "/Users/manuelmeyer/Python/fastespy/fastespy/mlscikit/feldman_cousins.py:311: UserWarning: The given `mus`-array is probably to coarse. No upper limit found for `n_obs` = 32. Setting the upper limit to inf.\n",
      "  warnings.warn(('The given `mus`-array is probably to coarse.' +\n",
      "/Users/manuelmeyer/Python/fastespy/fastespy/mlscikit/feldman_cousins.py:311: UserWarning: The given `mus`-array is probably to coarse. No upper limit found for `n_obs` = 33. Setting the upper limit to inf.\n",
      "  warnings.warn(('The given `mus`-array is probably to coarse.' +\n",
      "/Users/manuelmeyer/Python/fastespy/fastespy/mlscikit/feldman_cousins.py:311: UserWarning: The given `mus`-array is probably to coarse. No upper limit found for `n_obs` = 34. Setting the upper limit to inf.\n",
      "  warnings.warn(('The given `mus`-array is probably to coarse.' +\n",
      "/Users/manuelmeyer/Python/fastespy/fastespy/mlscikit/feldman_cousins.py:311: UserWarning: The given `mus`-array is probably to coarse. No upper limit found for `n_obs` = 35. Setting the upper limit to inf.\n",
      "  warnings.warn(('The given `mus`-array is probably to coarse.' +\n",
      "/Users/manuelmeyer/Python/fastespy/fastespy/mlscikit/feldman_cousins.py:311: UserWarning: The given `mus`-array is probably to coarse. No upper limit found for `n_obs` = 36. Setting the upper limit to inf.\n",
      "  warnings.warn(('The given `mus`-array is probably to coarse.' +\n",
      "/Users/manuelmeyer/Python/fastespy/fastespy/mlscikit/feldman_cousins.py:311: UserWarning: The given `mus`-array is probably to coarse. No upper limit found for `n_obs` = 37. Setting the upper limit to inf.\n",
      "  warnings.warn(('The given `mus`-array is probably to coarse.' +\n",
      "/Users/manuelmeyer/Python/fastespy/fastespy/mlscikit/feldman_cousins.py:311: UserWarning: The given `mus`-array is probably to coarse. No upper limit found for `n_obs` = 38. Setting the upper limit to inf.\n",
      "  warnings.warn(('The given `mus`-array is probably to coarse.' +\n",
      "/Users/manuelmeyer/Python/fastespy/fastespy/mlscikit/feldman_cousins.py:311: UserWarning: The given `mus`-array is probably to coarse. No upper limit found for `n_obs` = 39. Setting the upper limit to inf.\n",
      "  warnings.warn(('The given `mus`-array is probably to coarse.' +\n",
      "/Users/manuelmeyer/Python/fastespy/fastespy/mlscikit/feldman_cousins.py:311: UserWarning: The given `mus`-array is probably to coarse. No upper limit found for `n_obs` = 40. Setting the upper limit to inf.\n",
      "  warnings.warn(('The given `mus`-array is probably to coarse.' +\n",
      "/Users/manuelmeyer/Python/fastespy/fastespy/mlscikit/feldman_cousins.py:311: UserWarning: The given `mus`-array is probably to coarse. No upper limit found for `n_obs` = 41. Setting the upper limit to inf.\n",
      "  warnings.warn(('The given `mus`-array is probably to coarse.' +\n",
      "/Users/manuelmeyer/Python/fastespy/fastespy/mlscikit/feldman_cousins.py:311: UserWarning: The given `mus`-array is probably to coarse. No upper limit found for `n_obs` = 42. Setting the upper limit to inf.\n",
      "  warnings.warn(('The given `mus`-array is probably to coarse.' +\n",
      "/Users/manuelmeyer/Python/fastespy/fastespy/mlscikit/feldman_cousins.py:311: UserWarning: The given `mus`-array is probably to coarse. No upper limit found for `n_obs` = 43. Setting the upper limit to inf.\n",
      "  warnings.warn(('The given `mus`-array is probably to coarse.' +\n",
      "/Users/manuelmeyer/Python/fastespy/fastespy/mlscikit/feldman_cousins.py:311: UserWarning: The given `mus`-array is probably to coarse. No upper limit found for `n_obs` = 44. Setting the upper limit to inf.\n",
      "  warnings.warn(('The given `mus`-array is probably to coarse.' +\n",
      "/Users/manuelmeyer/Python/fastespy/fastespy/mlscikit/feldman_cousins.py:311: UserWarning: The given `mus`-array is probably to coarse. No upper limit found for `n_obs` = 45. Setting the upper limit to inf.\n",
      "  warnings.warn(('The given `mus`-array is probably to coarse.' +\n",
      "/Users/manuelmeyer/Python/fastespy/fastespy/mlscikit/feldman_cousins.py:311: UserWarning: The given `mus`-array is probably to coarse. No upper limit found for `n_obs` = 46. Setting the upper limit to inf.\n",
      "  warnings.warn(('The given `mus`-array is probably to coarse.' +\n",
      "/Users/manuelmeyer/Python/fastespy/fastespy/mlscikit/feldman_cousins.py:311: UserWarning: The given `mus`-array is probably to coarse. No upper limit found for `n_obs` = 47. Setting the upper limit to inf.\n",
      "  warnings.warn(('The given `mus`-array is probably to coarse.' +\n",
      "/Users/manuelmeyer/Python/fastespy/fastespy/mlscikit/feldman_cousins.py:311: UserWarning: The given `mus`-array is probably to coarse. No upper limit found for `n_obs` = 48. Setting the upper limit to inf.\n",
      "  warnings.warn(('The given `mus`-array is probably to coarse.' +\n",
      "/Users/manuelmeyer/Python/fastespy/fastespy/mlscikit/feldman_cousins.py:311: UserWarning: The given `mus`-array is probably to coarse. No upper limit found for `n_obs` = 49. Setting the upper limit to inf.\n",
      "  warnings.warn(('The given `mus`-array is probably to coarse.' +\n",
      "/Users/manuelmeyer/Python/fastespy/fastespy/mlscikit/feldman_cousins.py:311: UserWarning: The given `mus`-array is probably to coarse. No upper limit found for `n_obs` = 50. Setting the upper limit to inf.\n",
      "  warnings.warn(('The given `mus`-array is probably to coarse.' +\n",
      "/Users/manuelmeyer/Python/fastespy/fastespy/mlscikit/feldman_cousins.py:311: UserWarning: The given `mus`-array is probably to coarse. No upper limit found for `n_obs` = 51. Setting the upper limit to inf.\n",
      "  warnings.warn(('The given `mus`-array is probably to coarse.' +\n",
      "/Users/manuelmeyer/Python/fastespy/fastespy/mlscikit/feldman_cousins.py:311: UserWarning: The given `mus`-array is probably to coarse. No upper limit found for `n_obs` = 52. Setting the upper limit to inf.\n",
      "  warnings.warn(('The given `mus`-array is probably to coarse.' +\n",
      "/Users/manuelmeyer/Python/fastespy/fastespy/mlscikit/feldman_cousins.py:311: UserWarning: The given `mus`-array is probably to coarse. No upper limit found for `n_obs` = 53. Setting the upper limit to inf.\n",
      "  warnings.warn(('The given `mus`-array is probably to coarse.' +\n",
      "/Users/manuelmeyer/Python/fastespy/fastespy/mlscikit/feldman_cousins.py:311: UserWarning: The given `mus`-array is probably to coarse. No upper limit found for `n_obs` = 54. Setting the upper limit to inf.\n",
      "  warnings.warn(('The given `mus`-array is probably to coarse.' +\n",
      "/Users/manuelmeyer/Python/fastespy/fastespy/mlscikit/feldman_cousins.py:311: UserWarning: The given `mus`-array is probably to coarse. No upper limit found for `n_obs` = 55. Setting the upper limit to inf.\n",
      "  warnings.warn(('The given `mus`-array is probably to coarse.' +\n",
      "/Users/manuelmeyer/Python/fastespy/fastespy/mlscikit/feldman_cousins.py:311: UserWarning: The given `mus`-array is probably to coarse. No upper limit found for `n_obs` = 56. Setting the upper limit to inf.\n",
      "  warnings.warn(('The given `mus`-array is probably to coarse.' +\n",
      "/Users/manuelmeyer/Python/fastespy/fastespy/mlscikit/feldman_cousins.py:311: UserWarning: The given `mus`-array is probably to coarse. No upper limit found for `n_obs` = 57. Setting the upper limit to inf.\n",
      "  warnings.warn(('The given `mus`-array is probably to coarse.' +\n",
      "/Users/manuelmeyer/Python/fastespy/fastespy/mlscikit/feldman_cousins.py:311: UserWarning: The given `mus`-array is probably to coarse. No upper limit found for `n_obs` = 58. Setting the upper limit to inf.\n",
      "  warnings.warn(('The given `mus`-array is probably to coarse.' +\n",
      "/Users/manuelmeyer/Python/fastespy/fastespy/mlscikit/feldman_cousins.py:311: UserWarning: The given `mus`-array is probably to coarse. No upper limit found for `n_obs` = 59. Setting the upper limit to inf.\n",
      "  warnings.warn(('The given `mus`-array is probably to coarse.' +\n",
      "/Users/manuelmeyer/Python/fastespy/fastespy/mlscikit/feldman_cousins.py:311: UserWarning: The given `mus`-array is probably to coarse. No upper limit found for `n_obs` = 60. Setting the upper limit to inf.\n",
      "  warnings.warn(('The given `mus`-array is probably to coarse.' +\n",
      "/Users/manuelmeyer/Python/fastespy/fastespy/mlscikit/feldman_cousins.py:311: UserWarning: The given `mus`-array is probably to coarse. No upper limit found for `n_obs` = 61. Setting the upper limit to inf.\n",
      "  warnings.warn(('The given `mus`-array is probably to coarse.' +\n",
      "/Users/manuelmeyer/Python/fastespy/fastespy/mlscikit/feldman_cousins.py:311: UserWarning: The given `mus`-array is probably to coarse. No upper limit found for `n_obs` = 62. Setting the upper limit to inf.\n",
      "  warnings.warn(('The given `mus`-array is probably to coarse.' +\n",
      "/Users/manuelmeyer/Python/fastespy/fastespy/mlscikit/feldman_cousins.py:311: UserWarning: The given `mus`-array is probably to coarse. No upper limit found for `n_obs` = 63. Setting the upper limit to inf.\n",
      "  warnings.warn(('The given `mus`-array is probably to coarse.' +\n",
      "/Users/manuelmeyer/Python/fastespy/fastespy/mlscikit/feldman_cousins.py:311: UserWarning: The given `mus`-array is probably to coarse. No upper limit found for `n_obs` = 64. Setting the upper limit to inf.\n",
      "  warnings.warn(('The given `mus`-array is probably to coarse.' +\n",
      "\u001b[0;36mhyperpartune.py:\u001b[0;35m1062\u001b[0;0m --- \u001b[1;36mINFO\u001b[1;0m: dark current AUC: [1.99157556e-05 3.48634672e-05 5.37768982e-05]\n",
      "\u001b[0;36mhyperpartune.py:\u001b[0;35m1062\u001b[0;0m --- \u001b[1;36mINFO\u001b[1;0m: dark current Accuracy: [1.99157556e-05 3.48634672e-05 5.37768982e-05]\n",
      "\u001b[0;36mhyperpartune.py:\u001b[0;35m1062\u001b[0;0m --- \u001b[1;36mINFO\u001b[1;0m: dark current Significance: [1.99157556e-05 3.48634672e-05 5.37768982e-05]\n"
     ]
    },
    {
     "name": "stdout",
     "output_type": "stream",
     "text": [
      "It took 1198.48 s\n"
     ]
    }
   ],
   "source": [
    "t0 = time.time()\n",
    "hyperpartune.run_hyper_par_opt_all_folds(X_raw, y_raw,\n",
    "                                         feature_names,\n",
    "                                         classifier=pipe, \n",
    "                                         param_grid=param_grid,\n",
    "                                         t_tot_hrs=t_tot_hrs,\n",
    "                                         data=data,\n",
    "                                         kfolds=5, \n",
    "                                         classifier_name=\"pipe_dt\",\n",
    "                                         out_dir=out_dir,\n",
    "                                         random_state=random_state,\n",
    "                                         log_data=False,\n",
    "                                         use_pca=False,\n",
    "                                         n_jobs=n_jobs)\n",
    "\n",
    "print(\"It took {0:.2f} s\".format(time.time() - t0))"
   ]
  }
 ],
 "metadata": {
  "kernelspec": {
   "display_name": "Python [conda env:ml]",
   "language": "python",
   "name": "conda-env-ml-py"
  },
  "language_info": {
   "codemirror_mode": {
    "name": "ipython",
    "version": 3
   },
   "file_extension": ".py",
   "mimetype": "text/x-python",
   "name": "python",
   "nbconvert_exporter": "python",
   "pygments_lexer": "ipython3",
   "version": "3.9.6"
  }
 },
 "nbformat": 4,
 "nbformat_minor": 5
}
