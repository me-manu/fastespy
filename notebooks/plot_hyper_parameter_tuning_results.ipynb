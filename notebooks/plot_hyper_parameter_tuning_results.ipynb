{
 "cells": [
  {
   "cell_type": "code",
   "execution_count": 1,
   "metadata": {},
   "outputs": [],
   "source": [
    "import numpy as np\n",
    "import pathlib\n",
    "import matplotlib.pyplot as plt\n",
    "from fastespy.ml import significance\n",
    "from fastespy.ml import MLHyperParTuning"
   ]
  },
  {
   "cell_type": "code",
   "execution_count": 2,
   "metadata": {},
   "outputs": [],
   "source": [
    "%matplotlib inline"
   ]
  },
  {
   "cell_type": "code",
   "execution_count": 6,
   "metadata": {},
   "outputs": [],
   "source": [
    "suffix = 'log_pca'\n",
    "#suffix = 'log_pca_class_weight'\n",
    "path = pathlib.PosixPath(f\"../../../ml_results_02262021_{suffix:s}/\")\n",
    "#path = pathlib.PosixPath(f\"../../../ml_results_09202021_{suffix:s}/\")\n",
    "#path = pathlib.PosixPath(\"../../../ml_results_08172021_log_pca//\")"
   ]
  },
  {
   "cell_type": "code",
   "execution_count": 7,
   "metadata": {},
   "outputs": [],
   "source": [
    "classifier = \"bdt\"\n",
    "classifier = \"dt\"\n",
    "#classifier = \"mlp\"\n",
    "classifier = \"rf\"\n",
    "result = []\n",
    "\n",
    "\n",
    "for p in path.glob(f\"*/r{classifier:s}*.npy\"):\n",
    "    print(p)\n",
    "    r = np.load(p, allow_pickle=True).flat[0]\n",
    "    result.append(r)"
   ]
  },
  {
   "cell_type": "code",
   "execution_count": 8,
   "metadata": {},
   "outputs": [
    {
     "ename": "IndexError",
     "evalue": "list index out of range",
     "output_type": "error",
     "traceback": [
      "\u001b[0;31m---------------------------------------------------------------------------\u001b[0m",
      "\u001b[0;31mIndexError\u001b[0m                                Traceback (most recent call last)",
      "\u001b[0;32m/var/folders/4h/qfkd75ns1vzg60n7w4jchlw40000gr/T/ipykernel_49267/2461769121.py\u001b[0m in \u001b[0;36m<module>\u001b[0;34m\u001b[0m\n\u001b[0;32m----> 1\u001b[0;31m \u001b[0mresult\u001b[0m\u001b[0;34m[\u001b[0m\u001b[0;36m0\u001b[0m\u001b[0;34m]\u001b[0m\u001b[0;34m[\u001b[0m\u001b[0;34m'dark_current'\u001b[0m\u001b[0;34m]\u001b[0m\u001b[0;34m\u001b[0m\u001b[0;34m\u001b[0m\u001b[0m\n\u001b[0m",
      "\u001b[0;31mIndexError\u001b[0m: list index out of range"
     ]
    }
   ],
   "source": [
    "result[0]['dark_current']"
   ]
  },
  {
   "cell_type": "code",
   "execution_count": null,
   "metadata": {},
   "outputs": [],
   "source": [
    "for r in result:\n",
    "    print(r['results']['best_params']['Significance'])"
   ]
  },
  {
   "cell_type": "code",
   "execution_count": null,
   "metadata": {},
   "outputs": [],
   "source": [
    "for r in result:\n",
    "    MLHyperParTuning.plot_parameter_profiles(r['results'],[\"Significance\"], classifier, path=None)"
   ]
  },
  {
   "cell_type": "code",
   "execution_count": null,
   "metadata": {},
   "outputs": [],
   "source": [
    "fig = plt.figure(figsize=(6,10))\n",
    "\n",
    "ax_sig = plt.subplot(311)\n",
    "ax_bkg = plt.subplot(312)\n",
    "ax_eff = plt.subplot(313)\n",
    "\n",
    "thr = result[0]['results']['thresholds']\n",
    "\n",
    "for t in ['train', 'test']:\n",
    "    \n",
    "    for i, ax in enumerate([ax_sig, ax_bkg, ax_eff]):\n",
    "        y = np.array([r['results']['thr_sig_bkg_eff_{0:s}'.format(t)][\"Significance\"][i] for r in result])    \n",
    "        ax.plot(thr, y.mean(axis=0), label=t if not i else \"\")\n",
    "#        ax.fill_between(thr, y.min(axis=0), y2=y.max(axis=0), alpha=0.5)\n",
    "        ax.fill_between(thr, y.mean(axis=0) - np.sqrt(y.var(axis=0)),\n",
    "                        y2=y.mean(axis=0) + np.sqrt(y.var(axis=0)), alpha=0.5)\n",
    "    \n",
    "        if t == 'test':\n",
    "            if i == 1:\n",
    "                ax.set_yscale(\"log\")\n",
    "                ax.set_ylabel(\"Background rate (Hz)\")\n",
    "            ax.grid(True)\n",
    "        \n",
    "            if not i == 2:\n",
    "                ax.tick_params(labelbottom=False, direction=\"in\")\n",
    "                if not i:\n",
    "                    ax.set_ylabel(r\"Signficance ($\\sigma$)\")\n",
    "                    ax.legend(loc=2)\n",
    "            else:\n",
    "                ax.set_xlabel(\"Threshold\")\n",
    "                ax.set_ylabel(\"Efficiency\")\n",
    "            \n",
    "fig.subplots_adjust(hspace=0.)\n",
    "fig.suptitle(classifier, y=0.9)\n",
    "\n",
    "plt.savefig(f\"./sig_bkg_eff_{suffix:s}_{classifier:s}.png\", dpi=120)"
   ]
  },
  {
   "cell_type": "code",
   "execution_count": null,
   "metadata": {},
   "outputs": [],
   "source": [
    "result[0]['results'].keys()"
   ]
  },
  {
   "cell_type": "code",
   "execution_count": null,
   "metadata": {},
   "outputs": [],
   "source": [
    "for r in result:\n",
    "    plt.figure()\n",
    "    for score, val in r['results']['learning_curve'].items():\n",
    "    \n",
    "        if not score == 'Significance':\n",
    "            continue\n",
    "    \n",
    "        train_sizes, train_scores, valid_scores = val\n",
    "    \n",
    "        plt.plot(train_sizes, train_scores.mean(axis=1),\n",
    "                 marker='o',\n",
    "                 label=score + \" Train\",\n",
    "                 ls='--',\n",
    "                 color='g' if score == 'AUC' else 'k'\n",
    "                )\n",
    "        plt.fill_between(train_sizes,\n",
    "                         train_scores.mean(axis=1) - np.sqrt(train_scores.var()),\n",
    "                         y2=train_scores.mean(axis=1) + np.sqrt(train_scores.var()),\n",
    "                         alpha=0.3,\n",
    "                         color='g' if score == 'AUC' else 'k',\n",
    "                         zorder=-1\n",
    "                        )\n",
    "    \n",
    "        plt.plot(train_sizes, valid_scores.mean(axis=1),\n",
    "                 marker='o',\n",
    "                 label=score + \" valid\", ls='-',\n",
    "                 color= 'g' if score == 'AUC' else 'k',\n",
    "                )\n",
    "        plt.fill_between(train_sizes,\n",
    "                         valid_scores.mean(axis=1) - np.sqrt(valid_scores.var()),\n",
    "                         y2=valid_scores.mean(axis=1) + np.sqrt(valid_scores.var()),\n",
    "                         alpha=0.3,\n",
    "                         color='g' if score == 'AUC' else 'k',\n",
    "                         zorder=-1\n",
    "                        )\n",
    "\n",
    "    plt.legend(title=classifier)\n",
    "    plt.grid()\n",
    "    plt.xlabel(\"Sample Size\")\n",
    "    plt.ylabel(\"Score\")\n"
   ]
  },
  {
   "cell_type": "markdown",
   "metadata": {},
   "source": [
    "For one scorer, plot the dark current rate for each iteration as well as the signficance"
   ]
  },
  {
   "cell_type": "code",
   "execution_count": null,
   "metadata": {},
   "outputs": [],
   "source": [
    "scorer = \"Significance\"\n",
    "\n",
    "fig = plt.figure(dpi=150, figsize=(6,5))\n",
    "ax = fig.add_subplot(211)\n",
    "ax2 = fig.add_subplot(212)\n",
    "\n",
    "\n",
    "for i, r in enumerate(result):\n",
    "    ax.errorbar(i+1, r['dark_current'][scorer][1] * 1e6, \n",
    "                yerr=np.array([[r['dark_current'][scorer][1] - r['dark_current'][scorer][0]],\n",
    "                      [r['dark_current'][scorer][2] - r['dark_current'][scorer][1]]]) * 1e6,\n",
    "                marker='o', color=\"C0\")\n",
    "    \n",
    "    print(i, r['dark_current'][scorer][1])\n",
    "    \n",
    "    sig = significance(n_b=r['dark_current'][scorer],\n",
    "                   obs_time=r['t_obs'],\n",
    "                   e_a=r['results']['tp_efficiency_test'][scorer]\n",
    "                   )\n",
    "    \n",
    "    ax2.errorbar(i+1, sig[1],\n",
    "            yerr=np.array([[sig[1] - sig[0]],\n",
    "                           [sig[2] - sig[1]]]),\n",
    "             marker='o', color=\"C3\")\n",
    "    \n",
    "    \n",
    "ax.grid()\n",
    "ax2.grid()\n",
    "\n",
    "plt.suptitle(classifier)\n",
    "ax.set_xticks(np.arange(1,len(result)+1))\n",
    "ax2.set_xticks(np.arange(1,len(result)+1))\n",
    "ax.tick_params(labelbottom=False)\n",
    "\n",
    "ax.set_ylabel(\"Dark Current (10$^{-6}$ Hz)\")\n",
    "ax2.set_ylabel(r\"Significance ($\\sigma$)\")\n",
    "plt.xlabel(\"K Fold\")"
   ]
  },
  {
   "cell_type": "code",
   "execution_count": 15,
   "metadata": {},
   "outputs": [
    {
     "data": {
      "text/plain": [
       "Text(0.5, 0, 'Scorer')"
      ]
     },
     "execution_count": 15,
     "metadata": {},
     "output_type": "execute_result"
    },
    {
     "data": {
      "image/png": "[encoded data removed]",
      "text/plain": [
       "<Figure size 900x750 with 3 Axes>"
      ]
     },
     "metadata": {
      "needs_background": "light"
     },
     "output_type": "display_data"
    }
   ],
   "source": [
    "fig = plt.figure(dpi=150, figsize=(6,5))\n",
    "ax = fig.add_subplot(311)\n",
    "ax2 = fig.add_subplot(312)\n",
    "ax3 = fig.add_subplot(313)\n",
    "\n",
    "for i, scorer in enumerate(r['scoring']):\n",
    "\n",
    "    dc = []\n",
    "    sig = []\n",
    "    tpr = []\n",
    "    \n",
    "    for j, r in enumerate(result):\n",
    "        \n",
    "        dc.append(r['dark_current'][scorer][1] * 1e6)\n",
    "        tpr.append(r['results']['tp_efficiency_test'][scorer])\n",
    "        sig.append(significance(n_b=dc[-1] / 1e6,\n",
    "                   obs_time=r['t_obs'],\n",
    "                   e_a=tpr[-1]\n",
    "                   ))\n",
    "    ax.errorbar(i + 1, np.mean(dc), yerr=np.sqrt(np.var(dc)), marker='o', color='C0')\n",
    "    ax2.errorbar(i + 1, np.mean(tpr), yerr=np.sqrt(np.var(tpr)), marker='o', color='C1')\n",
    "    ax3.errorbar(i + 1, np.mean(sig), yerr=np.sqrt(np.var(sig)), marker='o', color='C3')\n",
    "    \n",
    "    \n",
    "ax.grid()\n",
    "ax2.grid()\n",
    "ax3.grid()\n",
    "\n",
    "plt.suptitle(classifier)\n",
    "\n",
    "ax.tick_params(labelbottom=False)\n",
    "ax2.tick_params(labelbottom=False)\n",
    "\n",
    "ax.set_ylabel(\"Dark Current (10$^{-6}$ Hz)\", fontsize='medium')\n",
    "ax2.set_ylabel(r\"TP efficiency\", fontsize='medium')\n",
    "ax3.set_ylabel(r\"Significance ($\\sigma$)\", fontsize='medium')\n",
    "\n",
    "\n",
    "ax.set_xticks(np.arange(1,len(r['scoring'])+1))\n",
    "ax2.set_xticks(np.arange(1,len(r['scoring'])+1))\n",
    "plt.xticks(np.arange(1,len(r['scoring'])+1), r['scoring'])\n",
    "plt.xlabel(\"Scorer\")"
   ]
  },
  {
   "cell_type": "markdown",
   "metadata": {},
   "source": [
    "### Loop over different classifier"
   ]
  },
  {
   "cell_type": "code",
   "execution_count": 1,
   "metadata": {},
   "outputs": [
    {
     "ename": "NameError",
     "evalue": "name 'path' is not defined",
     "output_type": "error",
     "traceback": [
      "\u001b[0;31m---------------------------------------------------------------------------\u001b[0m",
      "\u001b[0;31mNameError\u001b[0m                                 Traceback (most recent call last)",
      "\u001b[0;32m/var/folders/4h/qfkd75ns1vzg60n7w4jchlw40000gr/T/ipykernel_49267/2570854436.py\u001b[0m in \u001b[0;36m<module>\u001b[0;34m\u001b[0m\n\u001b[1;32m      8\u001b[0m     \u001b[0mresult\u001b[0m\u001b[0;34m[\u001b[0m\u001b[0mc\u001b[0m\u001b[0;34m]\u001b[0m \u001b[0;34m=\u001b[0m \u001b[0;34m[\u001b[0m\u001b[0;34m]\u001b[0m\u001b[0;34m\u001b[0m\u001b[0;34m\u001b[0m\u001b[0m\n\u001b[1;32m      9\u001b[0m \u001b[0;34m\u001b[0m\u001b[0m\n\u001b[0;32m---> 10\u001b[0;31m     \u001b[0;32mfor\u001b[0m \u001b[0mp\u001b[0m \u001b[0;32min\u001b[0m \u001b[0mpath\u001b[0m\u001b[0;34m.\u001b[0m\u001b[0mglob\u001b[0m\u001b[0;34m(\u001b[0m\u001b[0;34mf\"*/r{c:s}*.npy\"\u001b[0m\u001b[0;34m)\u001b[0m\u001b[0;34m:\u001b[0m\u001b[0;34m\u001b[0m\u001b[0;34m\u001b[0m\u001b[0m\n\u001b[0m\u001b[1;32m     11\u001b[0m         \u001b[0mprint\u001b[0m\u001b[0;34m(\u001b[0m\u001b[0mp\u001b[0m\u001b[0;34m)\u001b[0m\u001b[0;34m\u001b[0m\u001b[0;34m\u001b[0m\u001b[0m\n\u001b[1;32m     12\u001b[0m         \u001b[0mr\u001b[0m \u001b[0;34m=\u001b[0m \u001b[0mnp\u001b[0m\u001b[0;34m.\u001b[0m\u001b[0mload\u001b[0m\u001b[0;34m(\u001b[0m\u001b[0mp\u001b[0m\u001b[0;34m,\u001b[0m \u001b[0mallow_pickle\u001b[0m\u001b[0;34m=\u001b[0m\u001b[0;32mTrue\u001b[0m\u001b[0;34m)\u001b[0m\u001b[0;34m.\u001b[0m\u001b[0mflat\u001b[0m\u001b[0;34m[\u001b[0m\u001b[0;36m0\u001b[0m\u001b[0;34m]\u001b[0m\u001b[0;34m\u001b[0m\u001b[0;34m\u001b[0m\u001b[0m\n",
      "\u001b[0;31mNameError\u001b[0m: name 'path' is not defined"
     ]
    }
   ],
   "source": [
    "classifier = [\"rf\", \"bdt\", \"mlp\"]\n",
    "#classifier = [\"dt\", \"rf\"]\n",
    "\n",
    "result = {}\n",
    "\n",
    "for i, c in enumerate(classifier):\n",
    "\n",
    "    result[c] = []\n",
    "    \n",
    "    for p in path.glob(f\"*/r{c:s}*.npy\"):\n",
    "        print(p)\n",
    "        r = np.load(p, allow_pickle=True).flat[0]\n",
    "        result[c].append(r)"
   ]
  },
  {
   "cell_type": "code",
   "execution_count": 17,
   "metadata": {},
   "outputs": [
    {
     "data": {
      "text/plain": [
       "Text(0.5, 0, 'Classifier')"
      ]
     },
     "execution_count": 17,
     "metadata": {},
     "output_type": "execute_result"
    },
    {
     "data": {
      "image/png": "[encoded data removed]",
      "text/plain": [
       "<Figure size 900x750 with 3 Axes>"
      ]
     },
     "metadata": {
      "needs_background": "light"
     },
     "output_type": "display_data"
    }
   ],
   "source": [
    "\n",
    "fig = plt.figure(dpi=150, figsize=(6,5))\n",
    "ax = fig.add_subplot(311)\n",
    "ax2 = fig.add_subplot(312)\n",
    "ax3 = fig.add_subplot(313)\n",
    "\n",
    "scorer = \"Significance\"\n",
    "\n",
    "cs = 5.\n",
    "\n",
    "for i, c in enumerate(classifier):\n",
    "\n",
    "    dc = []\n",
    "    sig = []\n",
    "    tpr = []\n",
    "    \n",
    "    for j, r in enumerate(result[c]):\n",
    "        \n",
    "        dc.append(r['dark_current'][scorer][1] * 1e6)\n",
    "        tpr.append(r['results']['tp_efficiency_test'][scorer])\n",
    "        sig.append(significance(n_b=dc[-1] / 1e6,\n",
    "                   obs_time=r['t_obs'],\n",
    "                   e_a=tpr[-1]\n",
    "                   ))\n",
    "    ax.errorbar(i + 1, np.mean(dc), yerr=np.sqrt(np.var(dc)), marker='o', color='C0', capsize=cs, mec='k')\n",
    "    ax2.errorbar(i + 1, np.mean(tpr), yerr=np.sqrt(np.var(tpr)), marker='o', color='C1', capsize=cs, mec='k')\n",
    "    ax3.errorbar(i + 1, np.mean(sig), yerr=np.sqrt(np.var(sig)), marker='o', color='C3', capsize=cs, mec='k')\n",
    "    \n",
    "    \n",
    "ax.grid(lw=1, color=\"0.9\")\n",
    "ax2.grid(lw=1, color=\"0.9\")\n",
    "ax3.grid(lw=1, color=\"0.9\")\n",
    "\n",
    "ax.tick_params(labelbottom=False)\n",
    "ax2.tick_params(labelbottom=False)\n",
    "\n",
    "ax.set_ylabel(\"Dark Current (10$^{-6}$ Hz)\", fontsize='medium')\n",
    "ax2.set_ylabel(r\"TP efficiency\", fontsize='medium')\n",
    "ax3.set_ylabel(r\"Significance ($\\sigma$)\", fontsize='medium')\n",
    "\n",
    "\n",
    "ax.set_xticks(np.arange(1,len(classifier)+1))\n",
    "ax2.set_xticks(np.arange(1,len(classifier)+1))\n",
    "plt.xticks(np.arange(1,len(classifier)+1), [c.upper() for c in classifier])\n",
    "plt.xlabel(\"Classifier\")"
   ]
  },
  {
   "cell_type": "code",
   "execution_count": null,
   "metadata": {},
   "outputs": [],
   "source": []
  }
 ],
 "metadata": {
  "kernelspec": {
   "display_name": "Python [conda env:ml]",
   "language": "python",
   "name": "conda-env-ml-py"
  },
  "language_info": {
   "codemirror_mode": {
    "name": "ipython",
    "version": 3
   },
   "file_extension": ".py",
   "mimetype": "text/x-python",
   "name": "python",
   "nbconvert_exporter": "python",
   "pygments_lexer": "ipython3",
   "version": "3.9.6"
  }
 },
 "nbformat": 4,
 "nbformat_minor": 4
}
