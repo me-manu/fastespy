{
 "cells": [
  {
   "cell_type": "markdown",
   "metadata": {},
   "source": [
    "# Test Tensorflow / Keras Models\n",
    "This notebook tests some machine learning on fitted TES data using Keras and Tensorflow"
   ]
  },
  {
   "cell_type": "markdown",
   "metadata": {},
   "source": [
    "## Read data "
   ]
  },
  {
   "cell_type": "code",
   "execution_count": 1,
   "metadata": {},
   "outputs": [],
   "source": [
    "import numpy as np\n",
    "import glob\n",
    "import os\n",
    "import itertools\n",
    "import matplotlib.pyplot as plt\n",
    "import time\n",
    "import copy\n",
    "from fastespy.readpydata import convert_data_to_ML_format\n",
    "from fastespy.plotting import plot_2d_hist, plot_scatter_w_hist\n",
    "from fastespy.ml import MLHyperParTuning, significance\n",
    "from fastespy.analysis import init_logging\n",
    "from pathlib import PosixPath\n",
    "import logging\n",
    "\n",
    "import sys\n",
    "sys.path.append(\"/Users/manuelmeyer/Python/TESdata/fastespy/fastespy/scripts/\")\n",
    "from ml_intrinsic_bkg import load_data"
   ]
  },
  {
   "cell_type": "code",
   "execution_count": 2,
   "metadata": {},
   "outputs": [],
   "source": [
    "%matplotlib inline"
   ]
  },
  {
   "cell_type": "code",
   "execution_count": 3,
   "metadata": {},
   "outputs": [
    {
     "name": "stdout",
     "output_type": "stream",
     "text": [
      "8\n",
      "../../../data-05122021/intrinsics-0.3RN-1.5GHzGBWP-50MHz-20mV-5day-1-triggertimefixed.npy\n"
     ]
    }
   ],
   "source": [
    "path = \"../../../data-05122021/\"\n",
    "in_dir = PosixPath(path)\n",
    "files = glob.glob(os.path.join(path, '*.npy'))\n",
    "\n",
    "print(len(files))\n",
    "print(files[0])"
   ]
  },
  {
   "cell_type": "code",
   "execution_count": 4,
   "metadata": {},
   "outputs": [],
   "source": [
    "init_logging(\"INFO\", color=True)"
   ]
  },
  {
   "cell_type": "code",
   "execution_count": 5,
   "metadata": {},
   "outputs": [
    {
     "name": "stderr",
     "output_type": "stream",
     "text": [
      "\u001b[0;36m3942267661.py:\u001b[0;35m   3\u001b[0;0m --- \u001b[1;36mINFO\u001b[1;0m: Using files:\n",
      "\u001b[0;36m3942267661.py:\u001b[0;35m   5\u001b[0;0m --- \u001b[1;36mINFO\u001b[1;0m: ../../../data-05122021/intrinsics-0.3RN-1.5GHzGBWP-50MHz-20mV-5day-1-triggertimefixed.npy\n",
      "\u001b[0;36m3942267661.py:\u001b[0;35m   5\u001b[0;0m --- \u001b[1;36mINFO\u001b[1;0m: ../../../data-05122021/intrinsics-0.3RN-1.5GHzGBWP-50MHz-20mV-5day-4-triggertimefixed.npy\n",
      "\u001b[0;36m3942267661.py:\u001b[0;35m   5\u001b[0;0m --- \u001b[1;36mINFO\u001b[1;0m: ../../../data-05122021/intrinsics-0.3RN-1.5GHzGBWP-50MHz-20mV-5day-2-triggertimefixed.pickle.npy\n",
      "\u001b[0;36m3942267661.py:\u001b[0;35m   5\u001b[0;0m --- \u001b[1;36mINFO\u001b[1;0m: ../../../data-05122021/intrinsics-0.3RN-1.5GHzGBWP-50MHz-20mV-36hrs-1-triggertimefixed.npy\n",
      "\u001b[0;36m3942267661.py:\u001b[0;35m   5\u001b[0;0m --- \u001b[1;36mINFO\u001b[1;0m: ../../../data-05122021/newsettings-0.3RN-1.5GHzGBWP-50MHz-20mV-light-triggertimefixed.npy\n",
      "\u001b[0;36m3942267661.py:\u001b[0;35m   5\u001b[0;0m --- \u001b[1;36mINFO\u001b[1;0m: ../../../data-05122021/intrinsics-0.3RN-1.5GHzGBWP-50MHz-20mV-5day-5-triggertimefixed.npy\n",
      "\u001b[0;36m3942267661.py:\u001b[0;35m   5\u001b[0;0m --- \u001b[1;36mINFO\u001b[1;0m: ../../../data-05122021/intrinsics-0.3RN-1.5GHzGBWP-50MHz-20mV-24hrs-1-triggertimefixed.npy\n",
      "\u001b[0;36m3942267661.py:\u001b[0;35m   5\u001b[0;0m --- \u001b[1;36mINFO\u001b[1;0m: ../../../data-05122021/intrinsics-0.3RN-1.5GHzGBWP-50MHz-20mV-5day-3-triggertimefixed.pickle.npy\n",
      "\u001b[0;36m3942267661.py:\u001b[0;35m  19\u001b[0;0m --- \u001b[1;36mINFO\u001b[1;0m: Using features names ['rise time', 'decay time', 'constant', 'amplitude', 'pulse height', 'chi2 reduced', 'pulse integral fit']\n",
      "\u001b[0;36mml_intrinsic_bkg.py:\u001b[0;35m  42\u001b[0;0m --- \u001b[1;36mINFO\u001b[1;0m: Reading data\n",
      "100%|█████████████████████████████████████████████████████████████████████████████████████████████████████████████████████████████████████████████████████████████████████████| 8/8 [00:08<00:00,  1.05s/it]\n",
      "\u001b[0;36mml_intrinsic_bkg.py:\u001b[0;35m  90\u001b[0;0m --- \u001b[1;36mINFO\u001b[1;0m: Rejected 165 triggers in light file\n",
      "\u001b[0;36mml_intrinsic_bkg.py:\u001b[0;35m 104\u001b[0;0m --- \u001b[1;36mINFO\u001b[1;0m: In total, there are 9443 light events and 30457 background events for an observation time of 487.20 hours\n"
     ]
    }
   ],
   "source": [
    "files = list(in_dir.glob(\"*.npy\"))\n",
    "\n",
    "logging.info(\"Using files:\")\n",
    "for f in files:\n",
    "    logging.info(f)\n",
    "\n",
    "# define the feature names\n",
    "feature_names = []\n",
    "remove = ['data', 'time', 'pulse integral raw', 'voltage error',\n",
    "          'error', 'start time in hrs', 'end time in hrs',\n",
    "          'trigger time'\n",
    "        ]\n",
    "\n",
    "x = np.load(files[0], allow_pickle=True).tolist()\n",
    "for k in x[1].keys():\n",
    "    if not k in remove and not 'error' in k:\n",
    "        feature_names.append(k)\n",
    "\n",
    "logging.info(\"Using features names {}\".format(feature_names))\n",
    "\n",
    " # define light cleaning cuts\n",
    "light_cleaning_cuts = {\n",
    "     \"chi2 reduced\": \"chi2 < 6.\",\n",
    "    \"decay time\": \"decay < 10.e-6\",\n",
    "    \"trigger time\": \"(trigger >= 29.5e-6) & (trigger <= 30.8e-6)\",  # from gaussian fit, 5 sigma interval\n",
    "}\n",
    "\n",
    "# read the data\n",
    "result, data, t_tot_hrs = load_data(files, feature_names, light_cleaning_cuts=light_cleaning_cuts)\n",
    "\n",
    "# convert data to ML format\n",
    "X, y = convert_data_to_ML_format(result,\n",
    "                                 feature_names,\n",
    "                                 bkg_type=0,\n",
    "                                 signal_type=1)"
   ]
  },
  {
   "cell_type": "code",
   "execution_count": 6,
   "metadata": {},
   "outputs": [
    {
     "name": "stdout",
     "output_type": "stream",
     "text": [
      "Discarded 89 triggers in log transform\n"
     ]
    },
    {
     "name": "stderr",
     "output_type": "stream",
     "text": [
      "/Users/manuelmeyer/Python/TESdata/fastespy/fastespy/ml.py:319: RuntimeWarning: divide by zero encountered in log10\n",
      "  X[:, j] = np.log10(-X[:, j])\n"
     ]
    }
   ],
   "source": [
    "X_log, y_log = MLHyperParTuning.transform_data_log(X, y, feature_names)"
   ]
  },
  {
   "cell_type": "code",
   "execution_count": 7,
   "metadata": {},
   "outputs": [],
   "source": [
    "k_folds = 5\n",
    "ml = MLHyperParTuning(X_log, y_log,\n",
    "                      valid_fraction=1. / k_folds,\n",
    "                      stratify=True,\n",
    "                      random_state=42,\n",
    "                      n_splits=k_folds)\n",
    "\n",
    "# now test and train data are contained \n",
    "# in ml.X_test, ml.X_train, ml.y_test, and ml.y_train"
   ]
  },
  {
   "cell_type": "markdown",
   "metadata": {},
   "source": [
    "To Do:\n",
    "- check significance, create metric from it?  If not straight forward, do at least for final results\n",
    "- produce confusion matrix\n",
    "- check whether PCA improves things\n",
    "- compare with sklearn results\n",
    "- compare with previous data set\n",
    "- more things to test: weighting, data augmentation, regularization"
   ]
  },
  {
   "cell_type": "code",
   "execution_count": 8,
   "metadata": {},
   "outputs": [],
   "source": [
    "x = ml._kf.split(ml.X_train, ml.y_train)"
   ]
  },
  {
   "cell_type": "code",
   "execution_count": 69,
   "metadata": {},
   "outputs": [
    {
     "name": "stdout",
     "output_type": "stream",
     "text": [
      "0.23717571333254836\n",
      "0.23724289527398335\n",
      "25479\n",
      "6369\n",
      "7963\n"
     ]
    }
   ],
   "source": [
    "# generate train and validation set from stratified K fold\n",
    "\n",
    "for train_index, val_index in ml._kf.split(ml.X_train, ml.y_train):\n",
    "    X_train, y_train = ml.X_train[train_index], ml.y_train[train_index]\n",
    "    X_val, y_val = ml.X_train[val_index], ml.y_train[val_index]\n",
    "    \n",
    "# check class proportion\n",
    "print(y_train.sum() / y_train.size)\n",
    "print(y_val.sum() / y_val.size)\n",
    "print(y_train.size)\n",
    "print(y_val.size)\n",
    "print(ml.y_test.size)"
   ]
  },
  {
   "cell_type": "markdown",
   "metadata": {},
   "source": [
    "## Start with Keras and tensorflow"
   ]
  },
  {
   "cell_type": "code",
   "execution_count": 10,
   "metadata": {},
   "outputs": [
    {
     "name": "stderr",
     "output_type": "stream",
     "text": [
      "\u001b[0;36m  utils.py:\u001b[0;35m 157\u001b[0;0m --- \u001b[1;36mINFO\u001b[1;0m: NumExpr defaulting to 8 threads.\n"
     ]
    }
   ],
   "source": [
    "import tensorflow as tf\n",
    "from tensorflow import keras\n",
    "from tensorflow.keras.layers.experimental.preprocessing import Normalization"
   ]
  },
  {
   "cell_type": "code",
   "execution_count": 70,
   "metadata": {},
   "outputs": [],
   "source": [
    "from tensorflow.keras.layers.experimental import preprocessing"
   ]
  },
  {
   "cell_type": "code",
   "execution_count": 71,
   "metadata": {},
   "outputs": [],
   "source": [
    "# normalize the input data\n",
    "normalizer = Normalization(axis=-1)\n",
    "\n",
    "# adapt to training data\n",
    "normalizer.adapt(X_train)\n",
    "\n",
    "# normalize training data\n",
    "X_train = normalizer(X_train)\n",
    "X_val = normalizer(X_val)\n",
    "X_test = normalizer(ml.X_test)"
   ]
  },
  {
   "cell_type": "code",
   "execution_count": null,
   "metadata": {},
   "outputs": [],
   "source": []
  },
  {
   "cell_type": "code",
   "execution_count": 72,
   "metadata": {},
   "outputs": [
    {
     "name": "stdout",
     "output_type": "stream",
     "text": [
      "[0.9999836  0.99999964 0.99999845 1.0000031  0.99999785 0.9999997\n",
      " 0.9999974 ]\n",
      "[ 3.4160090e-07  1.4319713e-07  9.0346219e-09  2.5528072e-07\n",
      " -3.0475826e-07  6.2180283e-09 -3.1405955e-07]\n"
     ]
    }
   ],
   "source": [
    "print(np.var(X_train, axis=0))\n",
    "print(np.mean(X_train, axis=0))"
   ]
  },
  {
   "cell_type": "markdown",
   "metadata": {},
   "source": [
    "### Building a first simple DNN"
   ]
  },
  {
   "cell_type": "code",
   "execution_count": 73,
   "metadata": {},
   "outputs": [],
   "source": [
    "# define different metrics\n",
    "# see also https://www.tensorflow.org/tutorials/structured_data/imbalanced_data\n",
    "metrics = [\n",
    "      keras.metrics.TruePositives(name='tp'),\n",
    "      keras.metrics.FalsePositives(name='fp'),\n",
    "      keras.metrics.TrueNegatives(name='tn'),\n",
    "      keras.metrics.FalseNegatives(name='fn'), \n",
    "      keras.metrics.BinaryAccuracy(name='accuracy'),\n",
    "      keras.metrics.Precision(name='precision'),\n",
    "      keras.metrics.Recall(name='recall'),\n",
    "      keras.metrics.AUC(name='auc'),\n",
    "      keras.metrics.AUC(name='prc', curve='PR'), # precision-recall curve\n",
    "]\n",
    "\n",
    "adam = keras.optimizers.Adam(learning_rate=3e-4)\n"
   ]
  },
  {
   "cell_type": "code",
   "execution_count": 74,
   "metadata": {},
   "outputs": [],
   "source": [
    "# initializing the sequential model\n",
    "def make_model(metrics=metrics, output_bias=None):\n",
    "    model = keras.Sequential(name=\"dnn_test\")\n",
    "    \n",
    "    if output_bias is not None:\n",
    "        output_bias = tf.keras.initializers.Constant(output_bias)\n",
    "\n",
    "\n",
    "    # adding the input layer\n",
    "    model.add(keras.layers.Input(shape=(X_train.shape[1])))\n",
    "    model.add(keras.layers.Dense(100, activation='relu', name='dense1'))\n",
    "    model.add(keras.layers.Dense(100, activation='relu', name='dense2'))\n",
    "    model.add(keras.layers.Dense(100, activation='relu', name='dense3'))\n",
    "    model.add(keras.layers.Dense(1, activation='sigmoid', name='output',\n",
    "                                 bias_initializer=output_bias)) # output layer for binary classification\n",
    "    \n",
    "    model.compile(\n",
    "        loss=keras.losses.BinaryCrossentropy(from_logits=True),\n",
    "        optimizer=adam,\n",
    "        metrics=metrics\n",
    "    )\n",
    "    \n",
    "    return model"
   ]
  },
  {
   "cell_type": "code",
   "execution_count": 75,
   "metadata": {},
   "outputs": [],
   "source": [
    "model = make_model()"
   ]
  },
  {
   "cell_type": "code",
   "execution_count": 76,
   "metadata": {},
   "outputs": [
    {
     "data": {
      "text/plain": [
       "(None, 1)"
      ]
     },
     "execution_count": 76,
     "metadata": {},
     "output_type": "execute_result"
    }
   ],
   "source": [
    "model.output_shape"
   ]
  },
  {
   "cell_type": "code",
   "execution_count": 77,
   "metadata": {},
   "outputs": [
    {
     "name": "stdout",
     "output_type": "stream",
     "text": [
      "Model: \"dnn_test\"\n",
      "_________________________________________________________________\n",
      "Layer (type)                 Output Shape              Param #   \n",
      "=================================================================\n",
      "dense1 (Dense)               (None, 100)               800       \n",
      "_________________________________________________________________\n",
      "dense2 (Dense)               (None, 100)               10100     \n",
      "_________________________________________________________________\n",
      "dense3 (Dense)               (None, 100)               10100     \n",
      "_________________________________________________________________\n",
      "output (Dense)               (None, 1)                 101       \n",
      "=================================================================\n",
      "Total params: 21,101\n",
      "Trainable params: 21,101\n",
      "Non-trainable params: 0\n",
      "_________________________________________________________________\n"
     ]
    }
   ],
   "source": [
    "model.summary()"
   ]
  },
  {
   "cell_type": "code",
   "execution_count": 78,
   "metadata": {},
   "outputs": [],
   "source": [
    "EPOCHS = 100\n",
    "BATCH_SIZE = 2048  # large enough so that you have enough signal samples in each batch\n",
    "\n",
    "# early stopping if loss of validation set does not improve\n",
    "early_stopping = tf.keras.callbacks.EarlyStopping(\n",
    "    monitor='val_loss', \n",
    "    verbose=1,\n",
    "    patience=10,\n",
    "    mode='min',\n",
    "    restore_best_weights=True)\n"
   ]
  },
  {
   "cell_type": "code",
   "execution_count": 79,
   "metadata": {},
   "outputs": [
    {
     "data": {
      "text/plain": [
       "array([[0.22888866],\n",
       "       [0.21083164],\n",
       "       [0.21664736],\n",
       "       [0.19540781],\n",
       "       [0.22581261],\n",
       "       [0.17584646],\n",
       "       [0.19817877],\n",
       "       [0.21116522],\n",
       "       [0.20872867],\n",
       "       [0.21226886]], dtype=float32)"
      ]
     },
     "execution_count": 79,
     "metadata": {},
     "output_type": "execute_result"
    }
   ],
   "source": [
    "# test the model\n",
    "model.predict(X_train[:10])"
   ]
  },
  {
   "cell_type": "code",
   "execution_count": 80,
   "metadata": {},
   "outputs": [],
   "source": [
    "results = model.evaluate(X_train, y_train, batch_size=BATCH_SIZE, verbose=0, return_dict=True)"
   ]
  },
  {
   "cell_type": "code",
   "execution_count": 81,
   "metadata": {},
   "outputs": [
    {
     "name": "stdout",
     "output_type": "stream",
     "text": [
      "0.6931471805599453 0.5597890019416809\n"
     ]
    }
   ],
   "source": [
    "# check the loss. if initial bias is correct, you should get something of the order of\n",
    "# -ln(1 / n_classes) = ln(2)\n",
    "print(np.log(2.), results['loss'])"
   ]
  },
  {
   "cell_type": "code",
   "execution_count": 82,
   "metadata": {},
   "outputs": [
    {
     "name": "stdout",
     "output_type": "stream",
     "text": [
      "[-1.16822644]\n",
      "0.3109178843383412\n"
     ]
    }
   ],
   "source": [
    "# compute initial bias\n",
    "initial_bias = np.array([np.log(y_train.sum() / np.invert(y_train.astype(np.bool)).astype(np.int).sum())])\n",
    "print(initial_bias)\n",
    "print(y_train.sum() / np.invert(y_train.astype(np.bool)).astype(np.int).sum())"
   ]
  },
  {
   "cell_type": "code",
   "execution_count": 83,
   "metadata": {},
   "outputs": [
    {
     "name": "stdout",
     "output_type": "stream",
     "text": [
      "0.23717571333254836\n"
     ]
    }
   ],
   "source": [
    "print(y_train.sum()/ y_train.size)"
   ]
  },
  {
   "cell_type": "code",
   "execution_count": 84,
   "metadata": {},
   "outputs": [],
   "source": [
    "model = make_model(output_bias=np.array([initial_bias]))"
   ]
  },
  {
   "cell_type": "code",
   "execution_count": 85,
   "metadata": {},
   "outputs": [
    {
     "name": "stderr",
     "output_type": "stream",
     "text": [
      "\u001b[0;36mdef_function.py:\u001b[0;35m 126\u001b[0;0m --- \u001b[1;31mWARNING\u001b[1;0m: 5 out of the last 5 calls to <function Model.make_predict_function.<locals>.predict_function at 0x12c8da050> triggered tf.function retracing. Tracing is expensive and the excessive number of tracings could be due to (1) creating @tf.function repeatedly in a loop, (2) passing tensors with different shapes, (3) passing Python objects instead of tensors. For (1), please define your @tf.function outside of the loop. For (2), @tf.function has experimental_relax_shapes=True option that relaxes argument shapes that can avoid unnecessary retracing. For (3), please refer to https://www.tensorflow.org/guide/function#controlling_retracing and https://www.tensorflow.org/api_docs/python/tf/function for  more details.\n"
     ]
    },
    {
     "data": {
      "text/plain": [
       "array([[0.25699183],\n",
       "       [0.25751597],\n",
       "       [0.25141257],\n",
       "       [0.23959371],\n",
       "       [0.25173634],\n",
       "       [0.2590467 ],\n",
       "       [0.23792484],\n",
       "       [0.23229513],\n",
       "       [0.2457309 ],\n",
       "       [0.25574267]], dtype=float32)"
      ]
     },
     "execution_count": 85,
     "metadata": {},
     "output_type": "execute_result"
    }
   ],
   "source": [
    "model.predict(X_train[:10])"
   ]
  },
  {
   "cell_type": "code",
   "execution_count": 86,
   "metadata": {},
   "outputs": [
    {
     "name": "stdout",
     "output_type": "stream",
     "text": [
      "[0.54780251]\n"
     ]
    }
   ],
   "source": [
    "p0 = 1. / (1. + np.exp(-initial_bias))\n",
    "print (-p0 * np.log(p0) - (1. - p0) * np.log(1. - p0))"
   ]
  },
  {
   "cell_type": "code",
   "execution_count": 87,
   "metadata": {},
   "outputs": [
    {
     "name": "stdout",
     "output_type": "stream",
     "text": [
      "0.5643817782402039\n"
     ]
    }
   ],
   "source": [
    "results = model.evaluate(X_train, y_train, batch_size=BATCH_SIZE, verbose=0, return_dict=True)\n",
    "print(results['loss'])"
   ]
  },
  {
   "cell_type": "code",
   "execution_count": 88,
   "metadata": {},
   "outputs": [
    {
     "data": {
      "text/plain": [
       "<tf.Tensor: shape=(1,), dtype=float32, numpy=array([-1.1682265], dtype=float32)>"
      ]
     },
     "execution_count": 88,
     "metadata": {},
     "output_type": "execute_result"
    }
   ],
   "source": [
    "model.layers[-1].bias.value()"
   ]
  },
  {
   "cell_type": "code",
   "execution_count": 89,
   "metadata": {},
   "outputs": [],
   "source": [
    "import tempfile\n",
    "import os"
   ]
  },
  {
   "cell_type": "markdown",
   "metadata": {},
   "source": [
    "Save the initial weights"
   ]
  },
  {
   "cell_type": "code",
   "execution_count": 90,
   "metadata": {},
   "outputs": [],
   "source": [
    "initial_weights = os.path.join(tempfile.mkdtemp(), 'initial_weights')\n",
    "model.save_weights(initial_weights)"
   ]
  },
  {
   "cell_type": "code",
   "execution_count": 91,
   "metadata": {},
   "outputs": [],
   "source": [
    "# check if new bias helps\n",
    "model = make_model()\n",
    "model.load_weights(initial_weights)\n",
    "model.layers[-1].bias.assign([0.0])\n",
    "zero_bias_history = model.fit(\n",
    "    X_train,\n",
    "    y_train,\n",
    "    batch_size=BATCH_SIZE,\n",
    "    epochs=20,\n",
    "    validation_data=(X_val, y_val), \n",
    "    verbose=0\n",
    ")"
   ]
  },
  {
   "cell_type": "code",
   "execution_count": 92,
   "metadata": {},
   "outputs": [],
   "source": [
    "# now with bias\n",
    "model = make_model()\n",
    "model.load_weights(initial_weights)\n",
    "careful_bias_history = model.fit(\n",
    "    X_train,\n",
    "    y_train,\n",
    "    batch_size=BATCH_SIZE,\n",
    "    epochs=20,\n",
    "    validation_data=(X_val, y_val), \n",
    "    verbose=0\n",
    ")\n"
   ]
  },
  {
   "cell_type": "code",
   "execution_count": 93,
   "metadata": {},
   "outputs": [],
   "source": [
    "# plot the results \n",
    "def plot_metric(history, metric=\"loss\", **kwargs):\n",
    "    label = kwargs.pop('label', '')\n",
    "    plt.semilogy(history.epoch, history.history[metric], label='Train ' + label, **kwargs)\n",
    "    \n",
    "    kwargs.pop('ls', None)\n",
    "    plt.semilogy(history.epoch, history.history[f'val_{metric}'], label='Val ' + label, ls='--', **kwargs)\n",
    "    plt.xlabel('Epoch')\n",
    "    plt.ylabel(metric)\n"
   ]
  },
  {
   "cell_type": "code",
   "execution_count": 94,
   "metadata": {},
   "outputs": [
    {
     "data": {
      "text/plain": [
       "<matplotlib.legend.Legend at 0x12c7a6fd0>"
      ]
     },
     "execution_count": 94,
     "metadata": {},
     "output_type": "execute_result"
    },
    {
     "data": {
      "image/png": "[encoded data removed]",
      "text/plain": [
       "<Figure size 432x288 with 1 Axes>"
      ]
     },
     "metadata": {
      "needs_background": "light"
     },
     "output_type": "display_data"
    }
   ],
   "source": [
    "plot_loss(zero_bias_history, label='zero bias', color='C0')\n",
    "plot_loss(careful_bias_history, label='initial bias', color='C1')\n",
    "plt.legend()"
   ]
  },
  {
   "cell_type": "markdown",
   "metadata": {},
   "source": [
    "The initial bias seems to help slightly."
   ]
  },
  {
   "cell_type": "markdown",
   "metadata": {},
   "source": [
    "### Train the full model"
   ]
  },
  {
   "cell_type": "code",
   "execution_count": 95,
   "metadata": {},
   "outputs": [
    {
     "name": "stdout",
     "output_type": "stream",
     "text": [
      "Epoch 1/100\n",
      "13/13 [==============================] - 2s 65ms/step - loss: 0.4804 - tp: 1870.2857 - fp: 31.3571 - tn: 16312.2857 - fn: 3205.2143 - accuracy: 0.8568 - precision: 0.9837 - recall: 0.4020 - auc: 0.9405 - prc: 0.8813 - val_loss: 0.2259 - val_tp: 1506.0000 - val_fp: 64.0000 - val_tn: 4794.0000 - val_fn: 5.0000 - val_accuracy: 0.9892 - val_precision: 0.9592 - val_recall: 0.9967 - val_auc: 0.9966 - val_prc: 0.9695\n",
      "Epoch 2/100\n",
      "13/13 [==============================] - 0s 8ms/step - loss: 0.1740 - tp: 3522.4286 - fp: 276.3571 - tn: 11245.0000 - fn: 6.3571 - accuracy: 0.9819 - precision: 0.9294 - recall: 0.9982 - auc: 0.9965 - prc: 0.9736 - val_loss: 0.0751 - val_tp: 1507.0000 - val_fp: 79.0000 - val_tn: 4779.0000 - val_fn: 4.0000 - val_accuracy: 0.9870 - val_precision: 0.9502 - val_recall: 0.9974 - val_auc: 0.9980 - val_prc: 0.9826\n",
      "Epoch 3/100\n",
      "13/13 [==============================] - 0s 8ms/step - loss: 0.0620 - tp: 3552.5714 - fp: 167.2857 - tn: 11321.8571 - fn: 8.4286 - accuracy: 0.9879 - precision: 0.9537 - recall: 0.9975 - auc: 0.9980 - prc: 0.9870 - val_loss: 0.0406 - val_tp: 1502.0000 - val_fp: 46.0000 - val_tn: 4812.0000 - val_fn: 9.0000 - val_accuracy: 0.9914 - val_precision: 0.9703 - val_recall: 0.9940 - val_auc: 0.9984 - val_prc: 0.9864\n",
      "Epoch 4/100\n",
      "13/13 [==============================] - 0s 8ms/step - loss: 0.0347 - tp: 3527.1429 - fp: 100.3571 - tn: 11406.0000 - fn: 16.6429 - accuracy: 0.9924 - precision: 0.9726 - recall: 0.9956 - auc: 0.9986 - prc: 0.9895 - val_loss: 0.0313 - val_tp: 1500.0000 - val_fp: 42.0000 - val_tn: 4816.0000 - val_fn: 11.0000 - val_accuracy: 0.9917 - val_precision: 0.9728 - val_recall: 0.9927 - val_auc: 0.9981 - val_prc: 0.9892\n",
      "Epoch 5/100\n",
      "13/13 [==============================] - 0s 8ms/step - loss: 0.0267 - tp: 3562.8571 - fp: 78.9286 - tn: 11387.8571 - fn: 20.5000 - accuracy: 0.9937 - precision: 0.9795 - recall: 0.9943 - auc: 0.9986 - prc: 0.9919 - val_loss: 0.0276 - val_tp: 1500.0000 - val_fp: 32.0000 - val_tn: 4826.0000 - val_fn: 11.0000 - val_accuracy: 0.9932 - val_precision: 0.9791 - val_recall: 0.9927 - val_auc: 0.9980 - val_prc: 0.9926\n",
      "Epoch 6/100\n",
      "13/13 [==============================] - 0s 8ms/step - loss: 0.0236 - tp: 3566.3571 - fp: 70.9286 - tn: 11394.6429 - fn: 18.2143 - accuracy: 0.9943 - precision: 0.9814 - recall: 0.9949 - auc: 0.9986 - prc: 0.9937 - val_loss: 0.0260 - val_tp: 1500.0000 - val_fp: 29.0000 - val_tn: 4829.0000 - val_fn: 11.0000 - val_accuracy: 0.9937 - val_precision: 0.9810 - val_recall: 0.9927 - val_auc: 0.9981 - val_prc: 0.9937\n",
      "Epoch 7/100\n",
      "13/13 [==============================] - 0s 8ms/step - loss: 0.0238 - tp: 3548.6429 - fp: 61.5714 - tn: 11416.5000 - fn: 23.4286 - accuracy: 0.9945 - precision: 0.9840 - recall: 0.9930 - auc: 0.9980 - prc: 0.9933 - val_loss: 0.0247 - val_tp: 1500.0000 - val_fp: 27.0000 - val_tn: 4831.0000 - val_fn: 11.0000 - val_accuracy: 0.9940 - val_precision: 0.9823 - val_recall: 0.9927 - val_auc: 0.9982 - val_prc: 0.9947\n",
      "Epoch 8/100\n",
      "13/13 [==============================] - 0s 8ms/step - loss: 0.0228 - tp: 3556.9286 - fp: 58.8571 - tn: 11411.7143 - fn: 22.6429 - accuracy: 0.9947 - precision: 0.9846 - recall: 0.9932 - auc: 0.9981 - prc: 0.9912 - val_loss: 0.0241 - val_tp: 1500.0000 - val_fp: 26.0000 - val_tn: 4832.0000 - val_fn: 11.0000 - val_accuracy: 0.9942 - val_precision: 0.9830 - val_recall: 0.9927 - val_auc: 0.9982 - val_prc: 0.9948\n",
      "Epoch 9/100\n",
      "13/13 [==============================] - 0s 8ms/step - loss: 0.0223 - tp: 3567.2143 - fp: 60.4286 - tn: 11401.4286 - fn: 21.0714 - accuracy: 0.9944 - precision: 0.9825 - recall: 0.9944 - auc: 0.9984 - prc: 0.9939 - val_loss: 0.0235 - val_tp: 1500.0000 - val_fp: 28.0000 - val_tn: 4830.0000 - val_fn: 11.0000 - val_accuracy: 0.9939 - val_precision: 0.9817 - val_recall: 0.9927 - val_auc: 0.9982 - val_prc: 0.9945\n",
      "Epoch 10/100\n",
      "13/13 [==============================] - 0s 8ms/step - loss: 0.0222 - tp: 3541.6429 - fp: 58.0000 - tn: 11431.9286 - fn: 18.5714 - accuracy: 0.9950 - precision: 0.9838 - recall: 0.9952 - auc: 0.9982 - prc: 0.9920 - val_loss: 0.0232 - val_tp: 1500.0000 - val_fp: 23.0000 - val_tn: 4835.0000 - val_fn: 11.0000 - val_accuracy: 0.9947 - val_precision: 0.9849 - val_recall: 0.9927 - val_auc: 0.9982 - val_prc: 0.9952\n",
      "Epoch 11/100\n",
      "13/13 [==============================] - 0s 8ms/step - loss: 0.0217 - tp: 3539.7857 - fp: 57.1429 - tn: 11431.4286 - fn: 21.7857 - accuracy: 0.9947 - precision: 0.9841 - recall: 0.9938 - auc: 0.9985 - prc: 0.9922 - val_loss: 0.0228 - val_tp: 1500.0000 - val_fp: 23.0000 - val_tn: 4835.0000 - val_fn: 11.0000 - val_accuracy: 0.9947 - val_precision: 0.9849 - val_recall: 0.9927 - val_auc: 0.9982 - val_prc: 0.9946\n",
      "Epoch 12/100\n",
      "13/13 [==============================] - 0s 8ms/step - loss: 0.0217 - tp: 3542.1429 - fp: 55.9286 - tn: 11430.5714 - fn: 21.5000 - accuracy: 0.9948 - precision: 0.9837 - recall: 0.9944 - auc: 0.9985 - prc: 0.9920 - val_loss: 0.0225 - val_tp: 1501.0000 - val_fp: 24.0000 - val_tn: 4834.0000 - val_fn: 10.0000 - val_accuracy: 0.9947 - val_precision: 0.9843 - val_recall: 0.9934 - val_auc: 0.9983 - val_prc: 0.9950\n",
      "Epoch 13/100\n",
      "13/13 [==============================] - 0s 8ms/step - loss: 0.0224 - tp: 3553.5000 - fp: 57.6429 - tn: 11416.5714 - fn: 22.4286 - accuracy: 0.9945 - precision: 0.9835 - recall: 0.9933 - auc: 0.9984 - prc: 0.9929 - val_loss: 0.0227 - val_tp: 1499.0000 - val_fp: 22.0000 - val_tn: 4836.0000 - val_fn: 12.0000 - val_accuracy: 0.9947 - val_precision: 0.9855 - val_recall: 0.9921 - val_auc: 0.9983 - val_prc: 0.9953\n",
      "Epoch 14/100\n",
      "13/13 [==============================] - 0s 8ms/step - loss: 0.0200 - tp: 3556.4286 - fp: 52.3571 - tn: 11420.0714 - fn: 21.2857 - accuracy: 0.9954 - precision: 0.9871 - recall: 0.9936 - auc: 0.9987 - prc: 0.9945 - val_loss: 0.0223 - val_tp: 1500.0000 - val_fp: 22.0000 - val_tn: 4836.0000 - val_fn: 11.0000 - val_accuracy: 0.9948 - val_precision: 0.9855 - val_recall: 0.9927 - val_auc: 0.9986 - val_prc: 0.9959\n",
      "Epoch 15/100\n",
      "13/13 [==============================] - 0s 8ms/step - loss: 0.0208 - tp: 3567.8571 - fp: 52.1429 - tn: 11408.2143 - fn: 21.9286 - accuracy: 0.9950 - precision: 0.9855 - recall: 0.9938 - auc: 0.9988 - prc: 0.9945 - val_loss: 0.0219 - val_tp: 1501.0000 - val_fp: 23.0000 - val_tn: 4835.0000 - val_fn: 10.0000 - val_accuracy: 0.9948 - val_precision: 0.9849 - val_recall: 0.9934 - val_auc: 0.9986 - val_prc: 0.9953\n",
      "Epoch 16/100\n",
      "13/13 [==============================] - 0s 8ms/step - loss: 0.0218 - tp: 3548.9286 - fp: 50.1429 - tn: 11426.5000 - fn: 24.5714 - accuracy: 0.9951 - precision: 0.9860 - recall: 0.9933 - auc: 0.9985 - prc: 0.9924 - val_loss: 0.0217 - val_tp: 1501.0000 - val_fp: 23.0000 - val_tn: 4835.0000 - val_fn: 10.0000 - val_accuracy: 0.9948 - val_precision: 0.9849 - val_recall: 0.9934 - val_auc: 0.9986 - val_prc: 0.9955\n",
      "Epoch 17/100\n",
      "13/13 [==============================] - 0s 8ms/step - loss: 0.0207 - tp: 3582.2857 - fp: 56.7857 - tn: 11389.6429 - fn: 21.4286 - accuracy: 0.9946 - precision: 0.9837 - recall: 0.9940 - auc: 0.9987 - prc: 0.9940 - val_loss: 0.0217 - val_tp: 1501.0000 - val_fp: 22.0000 - val_tn: 4836.0000 - val_fn: 10.0000 - val_accuracy: 0.9950 - val_precision: 0.9856 - val_recall: 0.9934 - val_auc: 0.9986 - val_prc: 0.9953\n",
      "Epoch 18/100\n",
      "13/13 [==============================] - 0s 8ms/step - loss: 0.0222 - tp: 3527.7857 - fp: 53.0714 - tn: 11443.8571 - fn: 25.4286 - accuracy: 0.9947 - precision: 0.9856 - recall: 0.9921 - auc: 0.9983 - prc: 0.9932 - val_loss: 0.0216 - val_tp: 1500.0000 - val_fp: 22.0000 - val_tn: 4836.0000 - val_fn: 11.0000 - val_accuracy: 0.9948 - val_precision: 0.9855 - val_recall: 0.9927 - val_auc: 0.9987 - val_prc: 0.9961\n",
      "Epoch 19/100\n",
      "13/13 [==============================] - 0s 9ms/step - loss: 0.0230 - tp: 3557.5714 - fp: 51.5714 - tn: 11412.5714 - fn: 28.4286 - accuracy: 0.9946 - precision: 0.9854 - recall: 0.9919 - auc: 0.9983 - prc: 0.9927 - val_loss: 0.0215 - val_tp: 1502.0000 - val_fp: 24.0000 - val_tn: 4834.0000 - val_fn: 9.0000 - val_accuracy: 0.9948 - val_precision: 0.9843 - val_recall: 0.9940 - val_auc: 0.9989 - val_prc: 0.9960\n",
      "Epoch 20/100\n",
      "13/13 [==============================] - 0s 9ms/step - loss: 0.0206 - tp: 3507.9286 - fp: 54.2857 - tn: 11463.3571 - fn: 24.5714 - accuracy: 0.9945 - precision: 0.9838 - recall: 0.9927 - auc: 0.9986 - prc: 0.9946 - val_loss: 0.0213 - val_tp: 1500.0000 - val_fp: 22.0000 - val_tn: 4836.0000 - val_fn: 11.0000 - val_accuracy: 0.9948 - val_precision: 0.9855 - val_recall: 0.9927 - val_auc: 0.9989 - val_prc: 0.9958\n",
      "Epoch 21/100\n",
      "13/13 [==============================] - 0s 8ms/step - loss: 0.0201 - tp: 3537.2857 - fp: 50.2857 - tn: 11438.9286 - fn: 23.6429 - accuracy: 0.9951 - precision: 0.9863 - recall: 0.9930 - auc: 0.9988 - prc: 0.9945 - val_loss: 0.0211 - val_tp: 1501.0000 - val_fp: 23.0000 - val_tn: 4835.0000 - val_fn: 10.0000 - val_accuracy: 0.9948 - val_precision: 0.9849 - val_recall: 0.9934 - val_auc: 0.9990 - val_prc: 0.9960\n",
      "Epoch 22/100\n",
      "13/13 [==============================] - 0s 8ms/step - loss: 0.0217 - tp: 3553.5714 - fp: 53.4286 - tn: 11418.2143 - fn: 24.9286 - accuracy: 0.9946 - precision: 0.9852 - recall: 0.9923 - auc: 0.9986 - prc: 0.9937 - val_loss: 0.0210 - val_tp: 1501.0000 - val_fp: 23.0000 - val_tn: 4835.0000 - val_fn: 10.0000 - val_accuracy: 0.9948 - val_precision: 0.9849 - val_recall: 0.9934 - val_auc: 0.9989 - val_prc: 0.9958\n",
      "Epoch 23/100\n",
      "13/13 [==============================] - 0s 8ms/step - loss: 0.0204 - tp: 3527.0000 - fp: 54.5714 - tn: 11444.0714 - fn: 24.5000 - accuracy: 0.9946 - precision: 0.9844 - recall: 0.9927 - auc: 0.9987 - prc: 0.9944 - val_loss: 0.0210 - val_tp: 1500.0000 - val_fp: 23.0000 - val_tn: 4835.0000 - val_fn: 11.0000 - val_accuracy: 0.9947 - val_precision: 0.9849 - val_recall: 0.9927 - val_auc: 0.9990 - val_prc: 0.9967\n",
      "Epoch 24/100\n",
      "13/13 [==============================] - 0s 8ms/step - loss: 0.0186 - tp: 3564.2143 - fp: 47.1429 - tn: 11416.2857 - fn: 22.5000 - accuracy: 0.9955 - precision: 0.9877 - recall: 0.9938 - auc: 0.9989 - prc: 0.9946 - val_loss: 0.0211 - val_tp: 1500.0000 - val_fp: 22.0000 - val_tn: 4836.0000 - val_fn: 11.0000 - val_accuracy: 0.9948 - val_precision: 0.9855 - val_recall: 0.9927 - val_auc: 0.9990 - val_prc: 0.9965\n",
      "Epoch 25/100\n",
      "13/13 [==============================] - 0s 8ms/step - loss: 0.0205 - tp: 3530.7857 - fp: 47.9286 - tn: 11446.7857 - fn: 24.6429 - accuracy: 0.9953 - precision: 0.9867 - recall: 0.9932 - auc: 0.9985 - prc: 0.9923 - val_loss: 0.0207 - val_tp: 1501.0000 - val_fp: 23.0000 - val_tn: 4835.0000 - val_fn: 10.0000 - val_accuracy: 0.9948 - val_precision: 0.9849 - val_recall: 0.9934 - val_auc: 0.9989 - val_prc: 0.9959\n",
      "Epoch 26/100\n",
      "13/13 [==============================] - 0s 8ms/step - loss: 0.0174 - tp: 3527.9286 - fp: 46.0714 - tn: 11453.2857 - fn: 22.8571 - accuracy: 0.9958 - precision: 0.9881 - recall: 0.9940 - auc: 0.9989 - prc: 0.9950 - val_loss: 0.0207 - val_tp: 1500.0000 - val_fp: 23.0000 - val_tn: 4835.0000 - val_fn: 11.0000 - val_accuracy: 0.9947 - val_precision: 0.9849 - val_recall: 0.9927 - val_auc: 0.9989 - val_prc: 0.9958\n",
      "Epoch 27/100\n",
      "13/13 [==============================] - 0s 9ms/step - loss: 0.0181 - tp: 3535.4286 - fp: 50.1429 - tn: 11440.4286 - fn: 24.1429 - accuracy: 0.9952 - precision: 0.9863 - recall: 0.9932 - auc: 0.9991 - prc: 0.9951 - val_loss: 0.0206 - val_tp: 1500.0000 - val_fp: 23.0000 - val_tn: 4835.0000 - val_fn: 11.0000 - val_accuracy: 0.9947 - val_precision: 0.9849 - val_recall: 0.9927 - val_auc: 0.9989 - val_prc: 0.9960\n",
      "Epoch 28/100\n",
      "13/13 [==============================] - 0s 9ms/step - loss: 0.0180 - tp: 3539.9286 - fp: 47.3571 - tn: 11439.8571 - fn: 23.0000 - accuracy: 0.9954 - precision: 0.9878 - recall: 0.9930 - auc: 0.9989 - prc: 0.9959 - val_loss: 0.0207 - val_tp: 1500.0000 - val_fp: 23.0000 - val_tn: 4835.0000 - val_fn: 11.0000 - val_accuracy: 0.9947 - val_precision: 0.9849 - val_recall: 0.9927 - val_auc: 0.9990 - val_prc: 0.9967\n",
      "Epoch 29/100\n",
      "13/13 [==============================] - 0s 9ms/step - loss: 0.0214 - tp: 3530.2857 - fp: 50.8571 - tn: 11441.0000 - fn: 28.0000 - accuracy: 0.9945 - precision: 0.9850 - recall: 0.9918 - auc: 0.9986 - prc: 0.9929 - val_loss: 0.0204 - val_tp: 1502.0000 - val_fp: 24.0000 - val_tn: 4834.0000 - val_fn: 9.0000 - val_accuracy: 0.9948 - val_precision: 0.9843 - val_recall: 0.9940 - val_auc: 0.9989 - val_prc: 0.9959\n",
      "Epoch 30/100\n",
      "13/13 [==============================] - 0s 8ms/step - loss: 0.0193 - tp: 3553.7143 - fp: 49.5000 - tn: 11426.7143 - fn: 20.2143 - accuracy: 0.9951 - precision: 0.9847 - recall: 0.9946 - auc: 0.9989 - prc: 0.9940 - val_loss: 0.0203 - val_tp: 1502.0000 - val_fp: 24.0000 - val_tn: 4834.0000 - val_fn: 9.0000 - val_accuracy: 0.9948 - val_precision: 0.9843 - val_recall: 0.9940 - val_auc: 0.9989 - val_prc: 0.9961\n",
      "Epoch 31/100\n",
      "13/13 [==============================] - 0s 8ms/step - loss: 0.0191 - tp: 3539.0000 - fp: 47.5000 - tn: 11441.0714 - fn: 22.5714 - accuracy: 0.9954 - precision: 0.9868 - recall: 0.9939 - auc: 0.9985 - prc: 0.9933 - val_loss: 0.0204 - val_tp: 1501.0000 - val_fp: 23.0000 - val_tn: 4835.0000 - val_fn: 10.0000 - val_accuracy: 0.9948 - val_precision: 0.9849 - val_recall: 0.9934 - val_auc: 0.9989 - val_prc: 0.9959\n",
      "Epoch 32/100\n",
      "13/13 [==============================] - 0s 8ms/step - loss: 0.0201 - tp: 3558.1429 - fp: 48.5000 - tn: 11416.2857 - fn: 27.2143 - accuracy: 0.9948 - precision: 0.9865 - recall: 0.9918 - auc: 0.9988 - prc: 0.9949 - val_loss: 0.0202 - val_tp: 1502.0000 - val_fp: 23.0000 - val_tn: 4835.0000 - val_fn: 9.0000 - val_accuracy: 0.9950 - val_precision: 0.9849 - val_recall: 0.9940 - val_auc: 0.9990 - val_prc: 0.9961\n",
      "Epoch 33/100\n",
      "13/13 [==============================] - 0s 8ms/step - loss: 0.0181 - tp: 3524.7857 - fp: 47.4286 - tn: 11451.4286 - fn: 26.5000 - accuracy: 0.9953 - precision: 0.9870 - recall: 0.9929 - auc: 0.9989 - prc: 0.9954 - val_loss: 0.0201 - val_tp: 1500.0000 - val_fp: 23.0000 - val_tn: 4835.0000 - val_fn: 11.0000 - val_accuracy: 0.9947 - val_precision: 0.9849 - val_recall: 0.9927 - val_auc: 0.9990 - val_prc: 0.9960\n",
      "Epoch 34/100\n",
      "13/13 [==============================] - 0s 8ms/step - loss: 0.0175 - tp: 3558.0714 - fp: 47.5000 - tn: 11423.1429 - fn: 21.4286 - accuracy: 0.9955 - precision: 0.9876 - recall: 0.9937 - auc: 0.9991 - prc: 0.9954 - val_loss: 0.0204 - val_tp: 1500.0000 - val_fp: 23.0000 - val_tn: 4835.0000 - val_fn: 11.0000 - val_accuracy: 0.9947 - val_precision: 0.9849 - val_recall: 0.9927 - val_auc: 0.9990 - val_prc: 0.9965\n",
      "Epoch 35/100\n",
      "13/13 [==============================] - 0s 9ms/step - loss: 0.0184 - tp: 3527.8571 - fp: 43.0000 - tn: 11453.1429 - fn: 26.1429 - accuracy: 0.9956 - precision: 0.9878 - recall: 0.9936 - auc: 0.9990 - prc: 0.9950 - val_loss: 0.0200 - val_tp: 1502.0000 - val_fp: 24.0000 - val_tn: 4834.0000 - val_fn: 9.0000 - val_accuracy: 0.9948 - val_precision: 0.9843 - val_recall: 0.9940 - val_auc: 0.9990 - val_prc: 0.9964\n",
      "Epoch 36/100\n",
      "13/13 [==============================] - 0s 9ms/step - loss: 0.0193 - tp: 3510.9286 - fp: 48.2143 - tn: 11465.6429 - fn: 25.3571 - accuracy: 0.9951 - precision: 0.9859 - recall: 0.9932 - auc: 0.9989 - prc: 0.9954 - val_loss: 0.0199 - val_tp: 1502.0000 - val_fp: 24.0000 - val_tn: 4834.0000 - val_fn: 9.0000 - val_accuracy: 0.9948 - val_precision: 0.9843 - val_recall: 0.9940 - val_auc: 0.9990 - val_prc: 0.9961\n",
      "Epoch 37/100\n",
      "13/13 [==============================] - 0s 9ms/step - loss: 0.0188 - tp: 3550.4286 - fp: 53.7143 - tn: 11426.5000 - fn: 19.5000 - accuracy: 0.9950 - precision: 0.9840 - recall: 0.9950 - auc: 0.9991 - prc: 0.9959 - val_loss: 0.0198 - val_tp: 1502.0000 - val_fp: 23.0000 - val_tn: 4835.0000 - val_fn: 9.0000 - val_accuracy: 0.9950 - val_precision: 0.9849 - val_recall: 0.9940 - val_auc: 0.9990 - val_prc: 0.9961\n",
      "Epoch 38/100\n",
      "13/13 [==============================] - 0s 9ms/step - loss: 0.0208 - tp: 3524.9286 - fp: 49.3571 - tn: 11451.6429 - fn: 24.2143 - accuracy: 0.9949 - precision: 0.9851 - recall: 0.9930 - auc: 0.9986 - prc: 0.9930 - val_loss: 0.0198 - val_tp: 1502.0000 - val_fp: 23.0000 - val_tn: 4835.0000 - val_fn: 9.0000 - val_accuracy: 0.9950 - val_precision: 0.9849 - val_recall: 0.9940 - val_auc: 0.9990 - val_prc: 0.9963\n",
      "Epoch 39/100\n",
      "13/13 [==============================] - 0s 8ms/step - loss: 0.0181 - tp: 3541.8571 - fp: 53.6429 - tn: 11432.0000 - fn: 22.6429 - accuracy: 0.9950 - precision: 0.9854 - recall: 0.9938 - auc: 0.9991 - prc: 0.9956 - val_loss: 0.0197 - val_tp: 1502.0000 - val_fp: 23.0000 - val_tn: 4835.0000 - val_fn: 9.0000 - val_accuracy: 0.9950 - val_precision: 0.9849 - val_recall: 0.9940 - val_auc: 0.9990 - val_prc: 0.9960\n",
      "Epoch 40/100\n",
      "13/13 [==============================] - 0s 8ms/step - loss: 0.0171 - tp: 3544.5714 - fp: 49.8571 - tn: 11433.1429 - fn: 22.5714 - accuracy: 0.9953 - precision: 0.9864 - recall: 0.9940 - auc: 0.9991 - prc: 0.9957 - val_loss: 0.0196 - val_tp: 1501.0000 - val_fp: 23.0000 - val_tn: 4835.0000 - val_fn: 10.0000 - val_accuracy: 0.9948 - val_precision: 0.9849 - val_recall: 0.9934 - val_auc: 0.9990 - val_prc: 0.9968\n",
      "Epoch 41/100\n",
      "13/13 [==============================] - 0s 8ms/step - loss: 0.0163 - tp: 3533.9286 - fp: 44.1429 - tn: 11447.4286 - fn: 24.6429 - accuracy: 0.9955 - precision: 0.9885 - recall: 0.9925 - auc: 0.9993 - prc: 0.9971 - val_loss: 0.0196 - val_tp: 1501.0000 - val_fp: 23.0000 - val_tn: 4835.0000 - val_fn: 10.0000 - val_accuracy: 0.9948 - val_precision: 0.9849 - val_recall: 0.9934 - val_auc: 0.9990 - val_prc: 0.9968\n",
      "Epoch 42/100\n",
      "13/13 [==============================] - 0s 8ms/step - loss: 0.0176 - tp: 3530.7857 - fp: 48.4286 - tn: 11447.2143 - fn: 23.7143 - accuracy: 0.9955 - precision: 0.9870 - recall: 0.9940 - auc: 0.9990 - prc: 0.9958 - val_loss: 0.0195 - val_tp: 1502.0000 - val_fp: 24.0000 - val_tn: 4834.0000 - val_fn: 9.0000 - val_accuracy: 0.9948 - val_precision: 0.9843 - val_recall: 0.9940 - val_auc: 0.9990 - val_prc: 0.9964\n",
      "Epoch 43/100\n",
      "13/13 [==============================] - 0s 8ms/step - loss: 0.0171 - tp: 3546.4286 - fp: 50.1429 - tn: 11431.0714 - fn: 22.5000 - accuracy: 0.9952 - precision: 0.9865 - recall: 0.9936 - auc: 0.9991 - prc: 0.9958 - val_loss: 0.0195 - val_tp: 1501.0000 - val_fp: 23.0000 - val_tn: 4835.0000 - val_fn: 10.0000 - val_accuracy: 0.9948 - val_precision: 0.9849 - val_recall: 0.9934 - val_auc: 0.9990 - val_prc: 0.9968\n",
      "Epoch 44/100\n",
      "13/13 [==============================] - 0s 9ms/step - loss: 0.0199 - tp: 3561.0000 - fp: 51.5714 - tn: 11413.9286 - fn: 23.6429 - accuracy: 0.9948 - precision: 0.9843 - recall: 0.9937 - auc: 0.9989 - prc: 0.9943 - val_loss: 0.0194 - val_tp: 1502.0000 - val_fp: 24.0000 - val_tn: 4834.0000 - val_fn: 9.0000 - val_accuracy: 0.9948 - val_precision: 0.9843 - val_recall: 0.9940 - val_auc: 0.9990 - val_prc: 0.9964\n",
      "Epoch 45/100\n",
      "13/13 [==============================] - 0s 8ms/step - loss: 0.0189 - tp: 3515.5714 - fp: 53.0714 - tn: 11455.0714 - fn: 26.4286 - accuracy: 0.9946 - precision: 0.9844 - recall: 0.9927 - auc: 0.9988 - prc: 0.9947 - val_loss: 0.0193 - val_tp: 1502.0000 - val_fp: 23.0000 - val_tn: 4835.0000 - val_fn: 9.0000 - val_accuracy: 0.9950 - val_precision: 0.9849 - val_recall: 0.9940 - val_auc: 0.9990 - val_prc: 0.9964\n",
      "Epoch 46/100\n",
      "13/13 [==============================] - 0s 8ms/step - loss: 0.0185 - tp: 3549.2143 - fp: 54.6429 - tn: 11424.1429 - fn: 22.1429 - accuracy: 0.9948 - precision: 0.9849 - recall: 0.9934 - auc: 0.9989 - prc: 0.9954 - val_loss: 0.0195 - val_tp: 1501.0000 - val_fp: 22.0000 - val_tn: 4836.0000 - val_fn: 10.0000 - val_accuracy: 0.9950 - val_precision: 0.9856 - val_recall: 0.9934 - val_auc: 0.9990 - val_prc: 0.9966\n",
      "Epoch 47/100\n",
      "13/13 [==============================] - 0s 8ms/step - loss: 0.0198 - tp: 3567.2857 - fp: 49.5000 - tn: 11406.2143 - fn: 27.1429 - accuracy: 0.9947 - precision: 0.9861 - recall: 0.9918 - auc: 0.9989 - prc: 0.9948 - val_loss: 0.0193 - val_tp: 1502.0000 - val_fp: 24.0000 - val_tn: 4834.0000 - val_fn: 9.0000 - val_accuracy: 0.9948 - val_precision: 0.9843 - val_recall: 0.9940 - val_auc: 0.9993 - val_prc: 0.9967\n",
      "Epoch 48/100\n",
      "13/13 [==============================] - 0s 8ms/step - loss: 0.0181 - tp: 3541.5714 - fp: 49.9286 - tn: 11436.2143 - fn: 22.4286 - accuracy: 0.9951 - precision: 0.9858 - recall: 0.9938 - auc: 0.9990 - prc: 0.9955 - val_loss: 0.0192 - val_tp: 1501.0000 - val_fp: 22.0000 - val_tn: 4836.0000 - val_fn: 10.0000 - val_accuracy: 0.9950 - val_precision: 0.9856 - val_recall: 0.9934 - val_auc: 0.9991 - val_prc: 0.9969\n",
      "Epoch 49/100\n",
      "13/13 [==============================] - 0s 8ms/step - loss: 0.0196 - tp: 3547.9286 - fp: 46.4286 - tn: 11427.0714 - fn: 28.7143 - accuracy: 0.9947 - precision: 0.9867 - recall: 0.9911 - auc: 0.9988 - prc: 0.9963 - val_loss: 0.0191 - val_tp: 1502.0000 - val_fp: 22.0000 - val_tn: 4836.0000 - val_fn: 9.0000 - val_accuracy: 0.9951 - val_precision: 0.9856 - val_recall: 0.9940 - val_auc: 0.9990 - val_prc: 0.9963\n",
      "Epoch 50/100\n",
      "13/13 [==============================] - 0s 9ms/step - loss: 0.0170 - tp: 3519.9286 - fp: 50.5714 - tn: 11453.0714 - fn: 26.5714 - accuracy: 0.9948 - precision: 0.9858 - recall: 0.9922 - auc: 0.9992 - prc: 0.9967 - val_loss: 0.0190 - val_tp: 1501.0000 - val_fp: 22.0000 - val_tn: 4836.0000 - val_fn: 10.0000 - val_accuracy: 0.9950 - val_precision: 0.9856 - val_recall: 0.9934 - val_auc: 0.9990 - val_prc: 0.9962\n",
      "Epoch 51/100\n",
      "13/13 [==============================] - 0s 9ms/step - loss: 0.0186 - tp: 3544.3571 - fp: 49.4286 - tn: 11431.2857 - fn: 25.0714 - accuracy: 0.9947 - precision: 0.9847 - recall: 0.9931 - auc: 0.9991 - prc: 0.9964 - val_loss: 0.0190 - val_tp: 1502.0000 - val_fp: 23.0000 - val_tn: 4835.0000 - val_fn: 9.0000 - val_accuracy: 0.9950 - val_precision: 0.9849 - val_recall: 0.9940 - val_auc: 0.9990 - val_prc: 0.9964\n",
      "Epoch 52/100\n",
      "13/13 [==============================] - 0s 9ms/step - loss: 0.0183 - tp: 3561.4286 - fp: 47.0000 - tn: 11417.3571 - fn: 24.3571 - accuracy: 0.9953 - precision: 0.9869 - recall: 0.9936 - auc: 0.9989 - prc: 0.9957 - val_loss: 0.0189 - val_tp: 1501.0000 - val_fp: 22.0000 - val_tn: 4836.0000 - val_fn: 10.0000 - val_accuracy: 0.9950 - val_precision: 0.9856 - val_recall: 0.9934 - val_auc: 0.9991 - val_prc: 0.9969\n",
      "Epoch 53/100\n",
      "13/13 [==============================] - 0s 9ms/step - loss: 0.0194 - tp: 3533.0000 - fp: 48.2857 - tn: 11442.5714 - fn: 26.2857 - accuracy: 0.9949 - precision: 0.9854 - recall: 0.9928 - auc: 0.9989 - prc: 0.9941 - val_loss: 0.0188 - val_tp: 1502.0000 - val_fp: 23.0000 - val_tn: 4835.0000 - val_fn: 9.0000 - val_accuracy: 0.9950 - val_precision: 0.9849 - val_recall: 0.9940 - val_auc: 0.9994 - val_prc: 0.9968\n",
      "Epoch 54/100\n",
      "13/13 [==============================] - 0s 9ms/step - loss: 0.0170 - tp: 3545.2857 - fp: 49.2857 - tn: 11430.3571 - fn: 25.2143 - accuracy: 0.9950 - precision: 0.9860 - recall: 0.9930 - auc: 0.9992 - prc: 0.9965 - val_loss: 0.0189 - val_tp: 1501.0000 - val_fp: 22.0000 - val_tn: 4836.0000 - val_fn: 10.0000 - val_accuracy: 0.9950 - val_precision: 0.9856 - val_recall: 0.9934 - val_auc: 0.9991 - val_prc: 0.9969\n",
      "Epoch 55/100\n",
      "13/13 [==============================] - 0s 8ms/step - loss: 0.0181 - tp: 3564.5000 - fp: 48.8571 - tn: 11412.7857 - fn: 24.0000 - accuracy: 0.9951 - precision: 0.9865 - recall: 0.9931 - auc: 0.9990 - prc: 0.9957 - val_loss: 0.0188 - val_tp: 1502.0000 - val_fp: 23.0000 - val_tn: 4835.0000 - val_fn: 9.0000 - val_accuracy: 0.9950 - val_precision: 0.9849 - val_recall: 0.9940 - val_auc: 0.9993 - val_prc: 0.9967\n",
      "Epoch 56/100\n",
      "13/13 [==============================] - 0s 9ms/step - loss: 0.0171 - tp: 3527.1429 - fp: 53.0000 - tn: 11447.2857 - fn: 22.7143 - accuracy: 0.9950 - precision: 0.9856 - recall: 0.9934 - auc: 0.9993 - prc: 0.9965 - val_loss: 0.0189 - val_tp: 1501.0000 - val_fp: 22.0000 - val_tn: 4836.0000 - val_fn: 10.0000 - val_accuracy: 0.9950 - val_precision: 0.9856 - val_recall: 0.9934 - val_auc: 0.9990 - val_prc: 0.9967\n",
      "Epoch 57/100\n",
      "13/13 [==============================] - 0s 9ms/step - loss: 0.0181 - tp: 3521.7857 - fp: 48.2143 - tn: 11454.3571 - fn: 25.7857 - accuracy: 0.9950 - precision: 0.9863 - recall: 0.9924 - auc: 0.9989 - prc: 0.9943 - val_loss: 0.0186 - val_tp: 1502.0000 - val_fp: 23.0000 - val_tn: 4835.0000 - val_fn: 9.0000 - val_accuracy: 0.9950 - val_precision: 0.9849 - val_recall: 0.9940 - val_auc: 0.9994 - val_prc: 0.9968\n",
      "Epoch 58/100\n",
      "13/13 [==============================] - 0s 9ms/step - loss: 0.0173 - tp: 3540.2857 - fp: 52.3571 - tn: 11434.1429 - fn: 23.3571 - accuracy: 0.9951 - precision: 0.9858 - recall: 0.9936 - auc: 0.9991 - prc: 0.9963 - val_loss: 0.0186 - val_tp: 1501.0000 - val_fp: 22.0000 - val_tn: 4836.0000 - val_fn: 10.0000 - val_accuracy: 0.9950 - val_precision: 0.9856 - val_recall: 0.9934 - val_auc: 0.9994 - val_prc: 0.9973\n",
      "Epoch 59/100\n",
      "13/13 [==============================] - 0s 9ms/step - loss: 0.0181 - tp: 3561.1429 - fp: 47.4286 - tn: 11412.7857 - fn: 28.7857 - accuracy: 0.9948 - precision: 0.9868 - recall: 0.9915 - auc: 0.9991 - prc: 0.9956 - val_loss: 0.0184 - val_tp: 1502.0000 - val_fp: 23.0000 - val_tn: 4835.0000 - val_fn: 9.0000 - val_accuracy: 0.9950 - val_precision: 0.9849 - val_recall: 0.9940 - val_auc: 0.9993 - val_prc: 0.9966\n",
      "Epoch 60/100\n",
      "13/13 [==============================] - 0s 8ms/step - loss: 0.0183 - tp: 3557.8571 - fp: 47.7857 - tn: 11418.6429 - fn: 25.8571 - accuracy: 0.9949 - precision: 0.9862 - recall: 0.9927 - auc: 0.9990 - prc: 0.9946 - val_loss: 0.0185 - val_tp: 1502.0000 - val_fp: 23.0000 - val_tn: 4835.0000 - val_fn: 9.0000 - val_accuracy: 0.9950 - val_precision: 0.9849 - val_recall: 0.9940 - val_auc: 0.9994 - val_prc: 0.9968\n",
      "Epoch 61/100\n",
      "13/13 [==============================] - 0s 8ms/step - loss: 0.0182 - tp: 3542.2857 - fp: 49.2143 - tn: 11433.0000 - fn: 25.6429 - accuracy: 0.9948 - precision: 0.9863 - recall: 0.9919 - auc: 0.9990 - prc: 0.9968 - val_loss: 0.0185 - val_tp: 1501.0000 - val_fp: 22.0000 - val_tn: 4836.0000 - val_fn: 10.0000 - val_accuracy: 0.9950 - val_precision: 0.9856 - val_recall: 0.9934 - val_auc: 0.9994 - val_prc: 0.9973\n",
      "Epoch 62/100\n",
      "13/13 [==============================] - 0s 8ms/step - loss: 0.0166 - tp: 3545.9286 - fp: 47.9286 - tn: 11428.9286 - fn: 27.3571 - accuracy: 0.9950 - precision: 0.9865 - recall: 0.9924 - auc: 0.9993 - prc: 0.9971 - val_loss: 0.0183 - val_tp: 1502.0000 - val_fp: 23.0000 - val_tn: 4835.0000 - val_fn: 9.0000 - val_accuracy: 0.9950 - val_precision: 0.9849 - val_recall: 0.9940 - val_auc: 0.9994 - val_prc: 0.9968\n",
      "Epoch 63/100\n",
      "13/13 [==============================] - 0s 8ms/step - loss: 0.0169 - tp: 3532.3571 - fp: 52.7143 - tn: 11445.0714 - fn: 20.0000 - accuracy: 0.9952 - precision: 0.9846 - recall: 0.9949 - auc: 0.9992 - prc: 0.9963 - val_loss: 0.0182 - val_tp: 1502.0000 - val_fp: 22.0000 - val_tn: 4836.0000 - val_fn: 9.0000 - val_accuracy: 0.9951 - val_precision: 0.9856 - val_recall: 0.9940 - val_auc: 0.9994 - val_prc: 0.9968\n",
      "Epoch 64/100\n",
      "13/13 [==============================] - 0s 8ms/step - loss: 0.0179 - tp: 3564.5714 - fp: 53.1429 - tn: 11409.5000 - fn: 22.9286 - accuracy: 0.9947 - precision: 0.9855 - recall: 0.9924 - auc: 0.9990 - prc: 0.9956 - val_loss: 0.0184 - val_tp: 1501.0000 - val_fp: 22.0000 - val_tn: 4836.0000 - val_fn: 10.0000 - val_accuracy: 0.9950 - val_precision: 0.9856 - val_recall: 0.9934 - val_auc: 0.9994 - val_prc: 0.9972\n",
      "Epoch 65/100\n",
      "13/13 [==============================] - 0s 9ms/step - loss: 0.0166 - tp: 3584.0000 - fp: 45.2857 - tn: 11395.3571 - fn: 25.5000 - accuracy: 0.9954 - precision: 0.9881 - recall: 0.9930 - auc: 0.9992 - prc: 0.9960 - val_loss: 0.0181 - val_tp: 1502.0000 - val_fp: 22.0000 - val_tn: 4836.0000 - val_fn: 9.0000 - val_accuracy: 0.9951 - val_precision: 0.9856 - val_recall: 0.9940 - val_auc: 0.9994 - val_prc: 0.9967\n",
      "Epoch 66/100\n",
      "13/13 [==============================] - 0s 9ms/step - loss: 0.0167 - tp: 3536.5000 - fp: 43.7857 - tn: 11443.6429 - fn: 26.2143 - accuracy: 0.9955 - precision: 0.9877 - recall: 0.9935 - auc: 0.9992 - prc: 0.9961 - val_loss: 0.0183 - val_tp: 1502.0000 - val_fp: 23.0000 - val_tn: 4835.0000 - val_fn: 9.0000 - val_accuracy: 0.9950 - val_precision: 0.9849 - val_recall: 0.9940 - val_auc: 0.9993 - val_prc: 0.9963\n",
      "Epoch 67/100\n",
      "13/13 [==============================] - 0s 8ms/step - loss: 0.0174 - tp: 3549.7857 - fp: 51.9286 - tn: 11425.5714 - fn: 22.8571 - accuracy: 0.9950 - precision: 0.9851 - recall: 0.9939 - auc: 0.9990 - prc: 0.9959 - val_loss: 0.0181 - val_tp: 1501.0000 - val_fp: 22.0000 - val_tn: 4836.0000 - val_fn: 10.0000 - val_accuracy: 0.9950 - val_precision: 0.9856 - val_recall: 0.9934 - val_auc: 0.9994 - val_prc: 0.9974\n",
      "Epoch 68/100\n",
      "13/13 [==============================] - 0s 8ms/step - loss: 0.0162 - tp: 3539.2143 - fp: 50.4286 - tn: 11438.7857 - fn: 21.7143 - accuracy: 0.9953 - precision: 0.9862 - recall: 0.9941 - auc: 0.9992 - prc: 0.9966 - val_loss: 0.0180 - val_tp: 1502.0000 - val_fp: 22.0000 - val_tn: 4836.0000 - val_fn: 9.0000 - val_accuracy: 0.9951 - val_precision: 0.9856 - val_recall: 0.9940 - val_auc: 0.9994 - val_prc: 0.9968\n",
      "Epoch 69/100\n",
      "13/13 [==============================] - 0s 8ms/step - loss: 0.0177 - tp: 3546.7857 - fp: 49.7857 - tn: 11430.2143 - fn: 23.3571 - accuracy: 0.9953 - precision: 0.9860 - recall: 0.9944 - auc: 0.9990 - prc: 0.9958 - val_loss: 0.0179 - val_tp: 1502.0000 - val_fp: 22.0000 - val_tn: 4836.0000 - val_fn: 9.0000 - val_accuracy: 0.9951 - val_precision: 0.9856 - val_recall: 0.9940 - val_auc: 0.9993 - val_prc: 0.9967\n",
      "Epoch 70/100\n",
      "13/13 [==============================] - 0s 9ms/step - loss: 0.0166 - tp: 3554.4286 - fp: 49.5714 - tn: 11420.7857 - fn: 25.3571 - accuracy: 0.9949 - precision: 0.9859 - recall: 0.9927 - auc: 0.9992 - prc: 0.9965 - val_loss: 0.0179 - val_tp: 1501.0000 - val_fp: 22.0000 - val_tn: 4836.0000 - val_fn: 10.0000 - val_accuracy: 0.9950 - val_precision: 0.9856 - val_recall: 0.9934 - val_auc: 0.9994 - val_prc: 0.9975\n",
      "Epoch 71/100\n",
      "13/13 [==============================] - 0s 9ms/step - loss: 0.0169 - tp: 3533.7857 - fp: 46.2857 - tn: 11443.1429 - fn: 26.9286 - accuracy: 0.9952 - precision: 0.9869 - recall: 0.9929 - auc: 0.9991 - prc: 0.9957 - val_loss: 0.0179 - val_tp: 1501.0000 - val_fp: 22.0000 - val_tn: 4836.0000 - val_fn: 10.0000 - val_accuracy: 0.9950 - val_precision: 0.9856 - val_recall: 0.9934 - val_auc: 0.9995 - val_prc: 0.9976\n",
      "Epoch 72/100\n",
      "13/13 [==============================] - 0s 9ms/step - loss: 0.0176 - tp: 3538.0000 - fp: 46.7857 - tn: 11439.5714 - fn: 25.7857 - accuracy: 0.9951 - precision: 0.9865 - recall: 0.9928 - auc: 0.9990 - prc: 0.9954 - val_loss: 0.0178 - val_tp: 1502.0000 - val_fp: 22.0000 - val_tn: 4836.0000 - val_fn: 9.0000 - val_accuracy: 0.9951 - val_precision: 0.9856 - val_recall: 0.9940 - val_auc: 0.9993 - val_prc: 0.9960\n",
      "Epoch 73/100\n",
      "13/13 [==============================] - 0s 9ms/step - loss: 0.0148 - tp: 3533.5714 - fp: 48.5000 - tn: 11446.3571 - fn: 21.7143 - accuracy: 0.9956 - precision: 0.9874 - recall: 0.9941 - auc: 0.9994 - prc: 0.9972 - val_loss: 0.0178 - val_tp: 1501.0000 - val_fp: 22.0000 - val_tn: 4836.0000 - val_fn: 10.0000 - val_accuracy: 0.9950 - val_precision: 0.9856 - val_recall: 0.9934 - val_auc: 0.9994 - val_prc: 0.9975\n",
      "Epoch 74/100\n",
      "13/13 [==============================] - 0s 8ms/step - loss: 0.0158 - tp: 3520.2857 - fp: 47.6429 - tn: 11455.5000 - fn: 26.7143 - accuracy: 0.9950 - precision: 0.9870 - recall: 0.9917 - auc: 0.9993 - prc: 0.9967 - val_loss: 0.0177 - val_tp: 1502.0000 - val_fp: 22.0000 - val_tn: 4836.0000 - val_fn: 9.0000 - val_accuracy: 0.9951 - val_precision: 0.9856 - val_recall: 0.9940 - val_auc: 0.9994 - val_prc: 0.9975\n",
      "Epoch 75/100\n",
      "13/13 [==============================] - 0s 8ms/step - loss: 0.0153 - tp: 3514.7857 - fp: 46.0000 - tn: 11463.8571 - fn: 25.5000 - accuracy: 0.9954 - precision: 0.9871 - recall: 0.9933 - auc: 0.9993 - prc: 0.9969 - val_loss: 0.0177 - val_tp: 1502.0000 - val_fp: 22.0000 - val_tn: 4836.0000 - val_fn: 9.0000 - val_accuracy: 0.9951 - val_precision: 0.9856 - val_recall: 0.9940 - val_auc: 0.9993 - val_prc: 0.9960\n",
      "Epoch 76/100\n",
      "13/13 [==============================] - 0s 8ms/step - loss: 0.0163 - tp: 3538.4286 - fp: 47.7857 - tn: 11437.8571 - fn: 26.0714 - accuracy: 0.9951 - precision: 0.9864 - recall: 0.9931 - auc: 0.9992 - prc: 0.9971 - val_loss: 0.0177 - val_tp: 1502.0000 - val_fp: 23.0000 - val_tn: 4835.0000 - val_fn: 9.0000 - val_accuracy: 0.9950 - val_precision: 0.9849 - val_recall: 0.9940 - val_auc: 0.9993 - val_prc: 0.9963\n",
      "Epoch 77/100\n",
      "13/13 [==============================] - 0s 8ms/step - loss: 0.0174 - tp: 3544.5000 - fp: 50.7857 - tn: 11430.1429 - fn: 24.7143 - accuracy: 0.9948 - precision: 0.9851 - recall: 0.9929 - auc: 0.9991 - prc: 0.9962 - val_loss: 0.0176 - val_tp: 1502.0000 - val_fp: 22.0000 - val_tn: 4836.0000 - val_fn: 9.0000 - val_accuracy: 0.9951 - val_precision: 0.9856 - val_recall: 0.9940 - val_auc: 0.9994 - val_prc: 0.9968\n",
      "Epoch 78/100\n",
      "13/13 [==============================] - 0s 8ms/step - loss: 0.0176 - tp: 3531.1429 - fp: 49.7857 - tn: 11446.5714 - fn: 22.6429 - accuracy: 0.9951 - precision: 0.9852 - recall: 0.9940 - auc: 0.9990 - prc: 0.9963 - val_loss: 0.0176 - val_tp: 1502.0000 - val_fp: 22.0000 - val_tn: 4836.0000 - val_fn: 9.0000 - val_accuracy: 0.9951 - val_precision: 0.9856 - val_recall: 0.9940 - val_auc: 0.9993 - val_prc: 0.9963\n",
      "Epoch 79/100\n",
      "13/13 [==============================] - 0s 9ms/step - loss: 0.0159 - tp: 3530.8571 - fp: 49.4286 - tn: 11448.2143 - fn: 21.6429 - accuracy: 0.9954 - precision: 0.9861 - recall: 0.9944 - auc: 0.9992 - prc: 0.9964 - val_loss: 0.0174 - val_tp: 1502.0000 - val_fp: 22.0000 - val_tn: 4836.0000 - val_fn: 9.0000 - val_accuracy: 0.9951 - val_precision: 0.9856 - val_recall: 0.9940 - val_auc: 0.9993 - val_prc: 0.9966\n",
      "Epoch 80/100\n",
      "13/13 [==============================] - 0s 9ms/step - loss: 0.0169 - tp: 3562.4286 - fp: 48.9286 - tn: 11416.3571 - fn: 22.4286 - accuracy: 0.9953 - precision: 0.9858 - recall: 0.9945 - auc: 0.9991 - prc: 0.9966 - val_loss: 0.0175 - val_tp: 1502.0000 - val_fp: 22.0000 - val_tn: 4836.0000 - val_fn: 9.0000 - val_accuracy: 0.9951 - val_precision: 0.9856 - val_recall: 0.9940 - val_auc: 0.9993 - val_prc: 0.9963\n",
      "Epoch 81/100\n",
      "13/13 [==============================] - 0s 8ms/step - loss: 0.0153 - tp: 3545.9286 - fp: 44.5714 - tn: 11435.7857 - fn: 23.8571 - accuracy: 0.9956 - precision: 0.9879 - recall: 0.9936 - auc: 0.9992 - prc: 0.9972 - val_loss: 0.0173 - val_tp: 1502.0000 - val_fp: 22.0000 - val_tn: 4836.0000 - val_fn: 9.0000 - val_accuracy: 0.9951 - val_precision: 0.9856 - val_recall: 0.9940 - val_auc: 0.9993 - val_prc: 0.9961\n",
      "Epoch 82/100\n",
      "13/13 [==============================] - 0s 8ms/step - loss: 0.0158 - tp: 3545.8571 - fp: 48.7857 - tn: 11433.0714 - fn: 22.4286 - accuracy: 0.9953 - precision: 0.9866 - recall: 0.9934 - auc: 0.9991 - prc: 0.9969 - val_loss: 0.0175 - val_tp: 1499.0000 - val_fp: 21.0000 - val_tn: 4837.0000 - val_fn: 12.0000 - val_accuracy: 0.9948 - val_precision: 0.9862 - val_recall: 0.9921 - val_auc: 0.9995 - val_prc: 0.9981\n",
      "Epoch 83/100\n",
      "13/13 [==============================] - 0s 8ms/step - loss: 0.0160 - tp: 3528.0000 - fp: 41.3571 - tn: 11456.1429 - fn: 24.6429 - accuracy: 0.9956 - precision: 0.9888 - recall: 0.9926 - auc: 0.9993 - prc: 0.9969 - val_loss: 0.0174 - val_tp: 1503.0000 - val_fp: 24.0000 - val_tn: 4834.0000 - val_fn: 8.0000 - val_accuracy: 0.9950 - val_precision: 0.9843 - val_recall: 0.9947 - val_auc: 0.9993 - val_prc: 0.9962\n",
      "Epoch 84/100\n",
      "13/13 [==============================] - 0s 8ms/step - loss: 0.0170 - tp: 3525.2857 - fp: 48.5000 - tn: 11451.6429 - fn: 24.7143 - accuracy: 0.9952 - precision: 0.9864 - recall: 0.9932 - auc: 0.9992 - prc: 0.9974 - val_loss: 0.0173 - val_tp: 1502.0000 - val_fp: 22.0000 - val_tn: 4836.0000 - val_fn: 9.0000 - val_accuracy: 0.9951 - val_precision: 0.9856 - val_recall: 0.9940 - val_auc: 0.9993 - val_prc: 0.9963\n",
      "Epoch 85/100\n",
      "13/13 [==============================] - 0s 9ms/step - loss: 0.0163 - tp: 3555.2143 - fp: 50.5714 - tn: 11425.2857 - fn: 19.0714 - accuracy: 0.9955 - precision: 0.9866 - recall: 0.9947 - auc: 0.9992 - prc: 0.9970 - val_loss: 0.0175 - val_tp: 1499.0000 - val_fp: 21.0000 - val_tn: 4837.0000 - val_fn: 12.0000 - val_accuracy: 0.9948 - val_precision: 0.9862 - val_recall: 0.9921 - val_auc: 0.9995 - val_prc: 0.9983\n",
      "Epoch 86/100\n",
      "13/13 [==============================] - 0s 9ms/step - loss: 0.0151 - tp: 3567.2143 - fp: 44.1429 - tn: 11412.5000 - fn: 26.2857 - accuracy: 0.9956 - precision: 0.9889 - recall: 0.9928 - auc: 0.9993 - prc: 0.9976 - val_loss: 0.0172 - val_tp: 1502.0000 - val_fp: 22.0000 - val_tn: 4836.0000 - val_fn: 9.0000 - val_accuracy: 0.9951 - val_precision: 0.9856 - val_recall: 0.9940 - val_auc: 0.9994 - val_prc: 0.9976\n",
      "Epoch 87/100\n",
      "13/13 [==============================] - 0s 9ms/step - loss: 0.0191 - tp: 3529.0714 - fp: 44.7857 - tn: 11448.8571 - fn: 27.4286 - accuracy: 0.9950 - precision: 0.9864 - recall: 0.9922 - auc: 0.9988 - prc: 0.9946 - val_loss: 0.0176 - val_tp: 1504.0000 - val_fp: 24.0000 - val_tn: 4834.0000 - val_fn: 7.0000 - val_accuracy: 0.9951 - val_precision: 0.9843 - val_recall: 0.9954 - val_auc: 0.9993 - val_prc: 0.9965\n",
      "Epoch 88/100\n",
      "13/13 [==============================] - 0s 9ms/step - loss: 0.0157 - tp: 3535.8571 - fp: 51.3571 - tn: 11443.9286 - fn: 19.0000 - accuracy: 0.9953 - precision: 0.9858 - recall: 0.9943 - auc: 0.9992 - prc: 0.9962 - val_loss: 0.0176 - val_tp: 1497.0000 - val_fp: 21.0000 - val_tn: 4837.0000 - val_fn: 14.0000 - val_accuracy: 0.9945 - val_precision: 0.9862 - val_recall: 0.9907 - val_auc: 0.9995 - val_prc: 0.9982\n",
      "Epoch 89/100\n",
      "13/13 [==============================] - 0s 8ms/step - loss: 0.0157 - tp: 3556.2857 - fp: 43.0000 - tn: 11427.2857 - fn: 23.5714 - accuracy: 0.9956 - precision: 0.9886 - recall: 0.9929 - auc: 0.9994 - prc: 0.9974 - val_loss: 0.0172 - val_tp: 1502.0000 - val_fp: 22.0000 - val_tn: 4836.0000 - val_fn: 9.0000 - val_accuracy: 0.9951 - val_precision: 0.9856 - val_recall: 0.9940 - val_auc: 0.9993 - val_prc: 0.9964\n",
      "Epoch 90/100\n",
      "13/13 [==============================] - 0s 8ms/step - loss: 0.0169 - tp: 3543.6429 - fp: 44.1429 - tn: 11438.6429 - fn: 23.7143 - accuracy: 0.9955 - precision: 0.9870 - recall: 0.9943 - auc: 0.9991 - prc: 0.9966 - val_loss: 0.0171 - val_tp: 1502.0000 - val_fp: 22.0000 - val_tn: 4836.0000 - val_fn: 9.0000 - val_accuracy: 0.9951 - val_precision: 0.9856 - val_recall: 0.9940 - val_auc: 0.9994 - val_prc: 0.9971\n",
      "Epoch 91/100\n",
      "13/13 [==============================] - 0s 9ms/step - loss: 0.0171 - tp: 3554.5000 - fp: 52.4286 - tn: 11420.3571 - fn: 22.8571 - accuracy: 0.9949 - precision: 0.9850 - recall: 0.9939 - auc: 0.9991 - prc: 0.9961 - val_loss: 0.0170 - val_tp: 1502.0000 - val_fp: 22.0000 - val_tn: 4836.0000 - val_fn: 9.0000 - val_accuracy: 0.9951 - val_precision: 0.9856 - val_recall: 0.9940 - val_auc: 0.9995 - val_prc: 0.9978\n",
      "Epoch 92/100\n",
      "13/13 [==============================] - 0s 9ms/step - loss: 0.0157 - tp: 3553.2857 - fp: 50.9286 - tn: 11423.2857 - fn: 22.6429 - accuracy: 0.9954 - precision: 0.9865 - recall: 0.9942 - auc: 0.9992 - prc: 0.9971 - val_loss: 0.0169 - val_tp: 1502.0000 - val_fp: 22.0000 - val_tn: 4836.0000 - val_fn: 9.0000 - val_accuracy: 0.9951 - val_precision: 0.9856 - val_recall: 0.9940 - val_auc: 0.9995 - val_prc: 0.9976\n",
      "Epoch 93/100\n",
      "13/13 [==============================] - 0s 9ms/step - loss: 0.0166 - tp: 3552.7857 - fp: 50.8571 - tn: 11423.5000 - fn: 23.0000 - accuracy: 0.9949 - precision: 0.9853 - recall: 0.9936 - auc: 0.9993 - prc: 0.9971 - val_loss: 0.0168 - val_tp: 1502.0000 - val_fp: 22.0000 - val_tn: 4836.0000 - val_fn: 9.0000 - val_accuracy: 0.9951 - val_precision: 0.9856 - val_recall: 0.9940 - val_auc: 0.9995 - val_prc: 0.9976\n",
      "Epoch 94/100\n",
      "13/13 [==============================] - 0s 8ms/step - loss: 0.0154 - tp: 3544.2857 - fp: 48.2857 - tn: 11436.2143 - fn: 21.3571 - accuracy: 0.9954 - precision: 0.9868 - recall: 0.9937 - auc: 0.9993 - prc: 0.9981 - val_loss: 0.0171 - val_tp: 1501.0000 - val_fp: 21.0000 - val_tn: 4837.0000 - val_fn: 10.0000 - val_accuracy: 0.9951 - val_precision: 0.9862 - val_recall: 0.9934 - val_auc: 0.9995 - val_prc: 0.9976\n",
      "Epoch 95/100\n",
      "13/13 [==============================] - 0s 8ms/step - loss: 0.0148 - tp: 3559.1429 - fp: 41.3571 - tn: 11424.7857 - fn: 24.8571 - accuracy: 0.9959 - precision: 0.9893 - recall: 0.9938 - auc: 0.9994 - prc: 0.9978 - val_loss: 0.0169 - val_tp: 1502.0000 - val_fp: 22.0000 - val_tn: 4836.0000 - val_fn: 9.0000 - val_accuracy: 0.9951 - val_precision: 0.9856 - val_recall: 0.9940 - val_auc: 0.9995 - val_prc: 0.9978\n",
      "Epoch 96/100\n",
      "13/13 [==============================] - 0s 8ms/step - loss: 0.0153 - tp: 3531.8571 - fp: 44.5000 - tn: 11447.0000 - fn: 26.7857 - accuracy: 0.9954 - precision: 0.9874 - recall: 0.9933 - auc: 0.9994 - prc: 0.9979 - val_loss: 0.0169 - val_tp: 1504.0000 - val_fp: 23.0000 - val_tn: 4835.0000 - val_fn: 7.0000 - val_accuracy: 0.9953 - val_precision: 0.9849 - val_recall: 0.9954 - val_auc: 0.9994 - val_prc: 0.9971\n",
      "Epoch 97/100\n",
      "13/13 [==============================] - 0s 8ms/step - loss: 0.0154 - tp: 3554.8571 - fp: 49.7857 - tn: 11426.2857 - fn: 19.2143 - accuracy: 0.9956 - precision: 0.9865 - recall: 0.9950 - auc: 0.9993 - prc: 0.9972 - val_loss: 0.0167 - val_tp: 1502.0000 - val_fp: 22.0000 - val_tn: 4836.0000 - val_fn: 9.0000 - val_accuracy: 0.9951 - val_precision: 0.9856 - val_recall: 0.9940 - val_auc: 0.9995 - val_prc: 0.9979\n",
      "Epoch 98/100\n",
      "13/13 [==============================] - 0s 8ms/step - loss: 0.0175 - tp: 3516.2857 - fp: 55.0714 - tn: 11456.0000 - fn: 22.7857 - accuracy: 0.9948 - precision: 0.9837 - recall: 0.9939 - auc: 0.9993 - prc: 0.9975 - val_loss: 0.0169 - val_tp: 1502.0000 - val_fp: 23.0000 - val_tn: 4835.0000 - val_fn: 9.0000 - val_accuracy: 0.9950 - val_precision: 0.9849 - val_recall: 0.9940 - val_auc: 0.9994 - val_prc: 0.9971\n",
      "Epoch 99/100\n",
      "13/13 [==============================] - 0s 9ms/step - loss: 0.0152 - tp: 3556.2857 - fp: 47.2143 - tn: 11428.0000 - fn: 18.6429 - accuracy: 0.9957 - precision: 0.9874 - recall: 0.9948 - auc: 0.9992 - prc: 0.9967 - val_loss: 0.0170 - val_tp: 1500.0000 - val_fp: 21.0000 - val_tn: 4837.0000 - val_fn: 11.0000 - val_accuracy: 0.9950 - val_precision: 0.9862 - val_recall: 0.9927 - val_auc: 0.9995 - val_prc: 0.9977\n",
      "Epoch 100/100\n",
      "13/13 [==============================] - 0s 9ms/step - loss: 0.0183 - tp: 3546.2857 - fp: 45.1429 - tn: 11430.6429 - fn: 28.0714 - accuracy: 0.9947 - precision: 0.9867 - recall: 0.9910 - auc: 0.9991 - prc: 0.9972 - val_loss: 0.0169 - val_tp: 1504.0000 - val_fp: 23.0000 - val_tn: 4835.0000 - val_fn: 7.0000 - val_accuracy: 0.9953 - val_precision: 0.9849 - val_recall: 0.9954 - val_auc: 0.9994 - val_prc: 0.9972\n"
     ]
    }
   ],
   "source": [
    "# now with bias\n",
    "model = make_model()\n",
    "model.load_weights(initial_weights)\n",
    "baseline_history = model.fit(\n",
    "    X_train,\n",
    "    y_train,\n",
    "    batch_size=BATCH_SIZE,\n",
    "    epochs=EPOCHS,\n",
    "    validation_data=(X_val, y_val), \n",
    "    verbose=1\n",
    ")\n"
   ]
  },
  {
   "cell_type": "code",
   "execution_count": 96,
   "metadata": {},
   "outputs": [
    {
     "data": {
      "image/png": "[encoded data removed]",
      "text/plain": [
       "<Figure size 432x288 with 1 Axes>"
      ]
     },
     "metadata": {
      "needs_background": "light"
     },
     "output_type": "display_data"
    }
   ],
   "source": [
    "plot_metric(baseline_history, color=\"C0\")"
   ]
  },
  {
   "cell_type": "code",
   "execution_count": 97,
   "metadata": {},
   "outputs": [
    {
     "data": {
      "text/plain": [
       "<matplotlib.legend.Legend at 0x12e80db10>"
      ]
     },
     "execution_count": 97,
     "metadata": {},
     "output_type": "execute_result"
    },
    {
     "data": {
      "image/png": "[encoded data removed]",
      "text/plain": [
       "<Figure size 432x288 with 1 Axes>"
      ]
     },
     "metadata": {
      "needs_background": "light"
     },
     "output_type": "display_data"
    }
   ],
   "source": [
    "plot_metric(baseline_history, metric=\"fp\", color=\"C0\", label=\"false positives\")\n",
    "plot_metric(baseline_history, metric=\"fn\", color=\"C1\", label=\"false negatives\")\n",
    "plt.legend()"
   ]
  },
  {
   "cell_type": "code",
   "execution_count": 98,
   "metadata": {},
   "outputs": [
    {
     "data": {
      "text/plain": [
       "0.23722215245510486"
      ]
     },
     "execution_count": 98,
     "metadata": {},
     "output_type": "execute_result"
    }
   ],
   "source": [
    "ml.y_test.sum() / ml.y_test.size"
   ]
  },
  {
   "cell_type": "code",
   "execution_count": 99,
   "metadata": {},
   "outputs": [
    {
     "name": "stdout",
     "output_type": "stream",
     "text": [
      "249/249 - 0s - loss: 0.0201 - tp: 1880.0000 - fp: 30.0000 - tn: 6044.0000 - fn: 9.0000 - accuracy: 0.9951 - precision: 0.9843 - recall: 0.9952 - auc: 0.9990 - prc: 0.9945\n",
      "Test loss: 0.02012157253921032\n",
      "Test accuracy: 1880.0\n"
     ]
    }
   ],
   "source": [
    "test_scores = model.evaluate(X_test, ml.y_test, verbose=2)\n",
    "print(\"Test loss:\", test_scores[0])\n",
    "print(\"Test accuracy:\", test_scores[1])"
   ]
  },
  {
   "cell_type": "code",
   "execution_count": 100,
   "metadata": {},
   "outputs": [
    {
     "name": "stderr",
     "output_type": "stream",
     "text": [
      "\u001b[0;36mdef_function.py:\u001b[0;35m 126\u001b[0;0m --- \u001b[1;31mWARNING\u001b[1;0m: 6 out of the last 6 calls to <function Model.make_predict_function.<locals>.predict_function at 0x12e9cc440> triggered tf.function retracing. Tracing is expensive and the excessive number of tracings could be due to (1) creating @tf.function repeatedly in a loop, (2) passing tensors with different shapes, (3) passing Python objects instead of tensors. For (1), please define your @tf.function outside of the loop. For (2), @tf.function has experimental_relax_shapes=True option that relaxes argument shapes that can avoid unnecessary retracing. For (3), please refer to https://www.tensorflow.org/guide/function#controlling_retracing and https://www.tensorflow.org/api_docs/python/tf/function for  more details.\n"
     ]
    }
   ],
   "source": [
    "y_pred_test = model.predict(X_test)\n",
    "y_pred_train = model.predict(X_train)"
   ]
  },
  {
   "cell_type": "code",
   "execution_count": 101,
   "metadata": {},
   "outputs": [],
   "source": [
    "class_pred_test = (y_pred_test > 0.5).flatten().astype(np.int)\n",
    "class_pred_train = (y_pred_train > 0.5).flatten().astype(np.int)"
   ]
  },
  {
   "cell_type": "code",
   "execution_count": 102,
   "metadata": {},
   "outputs": [
    {
     "ename": "ValueError",
     "evalue": "operands could not be broadcast together with shapes (25479,) (31848,) ",
     "output_type": "error",
     "traceback": [
      "\u001b[0;31m---------------------------------------------------------------------------\u001b[0m",
      "\u001b[0;31mValueError\u001b[0m                                Traceback (most recent call last)",
      "\u001b[0;32m/var/folders/kl/h3xzts3n0ms58mqjnbp87qjh0000gn/T/ipykernel_80424/884197226.py\u001b[0m in \u001b[0;36m<module>\u001b[0;34m\u001b[0m\n\u001b[1;32m      2\u001b[0m \u001b[0mfalse_negative_test\u001b[0m \u001b[0;34m=\u001b[0m \u001b[0;34m(\u001b[0m\u001b[0mclass_pred_test\u001b[0m \u001b[0;34m==\u001b[0m \u001b[0;36m0\u001b[0m\u001b[0;34m)\u001b[0m \u001b[0;34m&\u001b[0m \u001b[0;34m(\u001b[0m\u001b[0mml\u001b[0m\u001b[0;34m.\u001b[0m\u001b[0my_test\u001b[0m \u001b[0;34m==\u001b[0m \u001b[0;36m1\u001b[0m\u001b[0;34m)\u001b[0m\u001b[0;34m\u001b[0m\u001b[0;34m\u001b[0m\u001b[0m\n\u001b[1;32m      3\u001b[0m \u001b[0;34m\u001b[0m\u001b[0m\n\u001b[0;32m----> 4\u001b[0;31m \u001b[0mfalse_positive_train\u001b[0m \u001b[0;34m=\u001b[0m \u001b[0;34m(\u001b[0m\u001b[0mclass_pred_train\u001b[0m \u001b[0;34m==\u001b[0m \u001b[0;36m1\u001b[0m\u001b[0;34m)\u001b[0m \u001b[0;34m&\u001b[0m \u001b[0;34m(\u001b[0m\u001b[0mml\u001b[0m\u001b[0;34m.\u001b[0m\u001b[0my_train\u001b[0m \u001b[0;34m==\u001b[0m \u001b[0;36m0\u001b[0m\u001b[0;34m)\u001b[0m\u001b[0;34m\u001b[0m\u001b[0;34m\u001b[0m\u001b[0m\n\u001b[0m\u001b[1;32m      5\u001b[0m \u001b[0mfalse_negative_train\u001b[0m \u001b[0;34m=\u001b[0m \u001b[0;34m(\u001b[0m\u001b[0mclass_pred_train\u001b[0m \u001b[0;34m==\u001b[0m \u001b[0;36m0\u001b[0m\u001b[0;34m)\u001b[0m \u001b[0;34m&\u001b[0m \u001b[0;34m(\u001b[0m\u001b[0mml\u001b[0m\u001b[0;34m.\u001b[0m\u001b[0my_train\u001b[0m \u001b[0;34m==\u001b[0m \u001b[0;36m1\u001b[0m\u001b[0;34m)\u001b[0m\u001b[0;34m\u001b[0m\u001b[0;34m\u001b[0m\u001b[0m\n",
      "\u001b[0;31mValueError\u001b[0m: operands could not be broadcast together with shapes (25479,) (31848,) "
     ]
    }
   ],
   "source": [
    "false_positive_test = (class_pred_test == 1) & (ml.y_test == 0)\n",
    "false_negative_test = (class_pred_test == 0) & (ml.y_test == 1)\n",
    "\n",
    "false_positive_train = (class_pred_train == 1) & (ml.y_train == 0)\n",
    "false_negative_train = (class_pred_train == 0) & (ml.y_train == 1)"
   ]
  },
  {
   "cell_type": "code",
   "execution_count": 224,
   "metadata": {},
   "outputs": [
    {
     "name": "stdout",
     "output_type": "stream",
     "text": [
      "35 11\n",
      "120 41\n"
     ]
    }
   ],
   "source": [
    "print (false_positive_test.sum(), false_negative_test.sum())\n",
    "print (false_positive_train.sum(), false_negative_train.sum())"
   ]
  },
  {
   "cell_type": "code",
   "execution_count": 225,
   "metadata": {},
   "outputs": [
    {
     "name": "stdout",
     "output_type": "stream",
     "text": [
      "bkg rate test 9.977e-05 Hz\n",
      "bkg rate train 8.553e-05 Hz\n"
     ]
    }
   ],
   "source": [
    "print(\"bkg rate test {0:.3e} Hz\".format(\n",
    "    false_positive_test.sum() / ml.y_test.size * (ml.y_train.size + ml.y_test.size) / (t_tot_hrs * 3600.)))\n",
    "print(\"bkg rate train {0:.3e} Hz\".format(\n",
    "    false_positive_train.sum() / ml.y_train.size * (ml.y_train.size + ml.y_test.size) / (t_tot_hrs * 3600.)))"
   ]
  },
  {
   "cell_type": "code",
   "execution_count": null,
   "metadata": {},
   "outputs": [],
   "source": []
  }
 ],
 "metadata": {
  "kernelspec": {
   "display_name": "Python [conda env:ml]",
   "language": "python",
   "name": "conda-env-ml-py"
  },
  "language_info": {
   "codemirror_mode": {
    "name": "ipython",
    "version": 3
   },
   "file_extension": ".py",
   "mimetype": "text/x-python",
   "name": "python",
   "nbconvert_exporter": "python",
   "pygments_lexer": "ipython3",
   "version": "3.7.10"
  }
 },
 "nbformat": 4,
 "nbformat_minor": 2
}
