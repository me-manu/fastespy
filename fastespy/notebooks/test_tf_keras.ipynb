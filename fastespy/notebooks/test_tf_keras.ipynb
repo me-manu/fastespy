{
 "cells": [
  {
   "cell_type": "markdown",
   "metadata": {},
   "source": [
    "# Test Tensorflow / Keras Models\n",
    "This notebook tests some machine learning on fitted TES data using Keras and Tensorflow"
   ]
  },
  {
   "cell_type": "code",
   "execution_count": 82,
   "metadata": {},
   "outputs": [],
   "source": [
    "import numpy as np\n",
    "import glob\n",
    "import os\n",
    "import itertools\n",
    "import matplotlib.pyplot as plt\n",
    "import time\n",
    "import copy\n",
    "from fastespy.readpydata import convert_data_to_ML_format\n",
    "from fastespy.plotting import plot_2d_hist, plot_scatter_w_hist\n",
    "from fastespy.ml import MLHyperParTuning, significance\n",
    "from fastespy.analysis import init_logging\n",
    "from pathlib import PosixPath\n",
    "import logging\n",
    "from sklearn.decomposition import PCA\n",
    "\n",
    "import sys\n",
    "sys.path.append(\"/Users/manuelmeyer/Python/fastespy/fastespy/scripts/\")\n",
    "from ml_intrinsic_bkg import load_data"
   ]
  },
  {
   "cell_type": "code",
   "execution_count": 83,
   "metadata": {},
   "outputs": [],
   "source": [
    "%matplotlib inline"
   ]
  },
  {
   "cell_type": "markdown",
   "metadata": {},
   "source": [
    "## Read data "
   ]
  },
  {
   "cell_type": "code",
   "execution_count": 84,
   "metadata": {},
   "outputs": [
    {
     "name": "stdout",
     "output_type": "stream",
     "text": [
      "8\n"
     ]
    }
   ],
   "source": [
    "path = \"/Users/manuelmeyer/Downloads/IntrinsicsData_NewSetup/\"\n",
    "in_dir = PosixPath(path)\n",
    "files = glob.glob(os.path.join(path, '*.npy'))\n",
    "\n",
    "print(len(files))\n",
    "#files"
   ]
  },
  {
   "cell_type": "code",
   "execution_count": 85,
   "metadata": {},
   "outputs": [],
   "source": [
    "init_logging(\"INFO\", color=True)"
   ]
  },
  {
   "cell_type": "code",
   "execution_count": 86,
   "metadata": {},
   "outputs": [
    {
     "name": "stderr",
     "output_type": "stream",
     "text": [
      "\u001b[0;36m3247362142.py:\u001b[0;35m   3\u001b[0;0m --- \u001b[1;36m\u001b[1;36mINFO\u001b[1;0m\u001b[1;0m: Using files:\n",
      "\u001b[0;36m3247362142.py:\u001b[0;35m   5\u001b[0;0m --- \u001b[1;36m\u001b[1;36mINFO\u001b[1;0m\u001b[1;0m: /Users/manuelmeyer/Downloads/IntrinsicsData_NewSetup/intrinsics-0.3RN-1.5GHzGBWP-50MHz-20mV-5day-1-triggertimefixed.npy\n",
      "\u001b[0;36m3247362142.py:\u001b[0;35m   5\u001b[0;0m --- \u001b[1;36m\u001b[1;36mINFO\u001b[1;0m\u001b[1;0m: /Users/manuelmeyer/Downloads/IntrinsicsData_NewSetup/intrinsics-0.3RN-1.5GHzGBWP-50MHz-20mV-5day-4-triggertimefixed.npy\n",
      "\u001b[0;36m3247362142.py:\u001b[0;35m   5\u001b[0;0m --- \u001b[1;36m\u001b[1;36mINFO\u001b[1;0m\u001b[1;0m: /Users/manuelmeyer/Downloads/IntrinsicsData_NewSetup/intrinsics-0.3RN-1.5GHzGBWP-50MHz-20mV-5day-2-triggertimefixed.pickle.npy\n",
      "\u001b[0;36m3247362142.py:\u001b[0;35m   5\u001b[0;0m --- \u001b[1;36m\u001b[1;36mINFO\u001b[1;0m\u001b[1;0m: /Users/manuelmeyer/Downloads/IntrinsicsData_NewSetup/intrinsics-0.3RN-1.5GHzGBWP-50MHz-20mV-36hrs-1-triggertimefixed.npy\n",
      "\u001b[0;36m3247362142.py:\u001b[0;35m   5\u001b[0;0m --- \u001b[1;36m\u001b[1;36mINFO\u001b[1;0m\u001b[1;0m: /Users/manuelmeyer/Downloads/IntrinsicsData_NewSetup/newsettings-0.3RN-1.5GHzGBWP-50MHz-20mV-light-triggertimefixed.npy\n",
      "\u001b[0;36m3247362142.py:\u001b[0;35m   5\u001b[0;0m --- \u001b[1;36m\u001b[1;36mINFO\u001b[1;0m\u001b[1;0m: /Users/manuelmeyer/Downloads/IntrinsicsData_NewSetup/intrinsics-0.3RN-1.5GHzGBWP-50MHz-20mV-5day-5-triggertimefixed.npy\n",
      "\u001b[0;36m3247362142.py:\u001b[0;35m   5\u001b[0;0m --- \u001b[1;36m\u001b[1;36mINFO\u001b[1;0m\u001b[1;0m: /Users/manuelmeyer/Downloads/IntrinsicsData_NewSetup/intrinsics-0.3RN-1.5GHzGBWP-50MHz-20mV-24hrs-1-triggertimefixed.npy\n",
      "\u001b[0;36m3247362142.py:\u001b[0;35m   5\u001b[0;0m --- \u001b[1;36m\u001b[1;36mINFO\u001b[1;0m\u001b[1;0m: /Users/manuelmeyer/Downloads/IntrinsicsData_NewSetup/intrinsics-0.3RN-1.5GHzGBWP-50MHz-20mV-5day-3-triggertimefixed.pickle.npy\n",
      "\u001b[0;36m3247362142.py:\u001b[0;35m  21\u001b[0;0m --- \u001b[1;36m\u001b[1;36mINFO\u001b[1;0m\u001b[1;0m: Using features names ['rise time', 'decay time', 'amplitude', 'pulse height', 'chi2 reduced', 'pulse integral fit']\n",
      "\u001b[0;36mml_intrinsic_bkg.py:\u001b[0;35m  42\u001b[0;0m --- \u001b[1;36m\u001b[1;36mINFO\u001b[1;0m\u001b[1;0m: Reading data\n",
      "100%|████████████████████████████████████████████████████████████████████████████████████████████████████████████████████████████████████████████████████████████████| 8/8 [00:04<00:00,  1.81it/s]\n",
      "\u001b[0;36mml_intrinsic_bkg.py:\u001b[0;35m  90\u001b[0;0m --- \u001b[1;36m\u001b[1;36mINFO\u001b[1;0m\u001b[1;0m: Rejected 165 triggers in light file\n",
      "\u001b[0;36mml_intrinsic_bkg.py:\u001b[0;35m 101\u001b[0;0m --- \u001b[1;36m\u001b[1;36mINFO\u001b[1;0m\u001b[1;0m: In total, there are 9443 light events and 30457 background events for an observation time of 487.20 hours\n"
     ]
    }
   ],
   "source": [
    "files = list(in_dir.glob(\"*.npy\"))\n",
    "\n",
    "logging.info(\"Using files:\")\n",
    "for f in files:\n",
    "    logging.info(f)\n",
    "\n",
    "# define the feature names\n",
    "feature_names = []\n",
    "remove = ['data', 'time', 'pulse integral raw', 'voltage error',\n",
    "          'error', 'start time in hrs', 'end time in hrs',\n",
    "          'trigger time'\n",
    "        ]\n",
    "\n",
    "remove.append('constant')  # this seems to help\n",
    "\n",
    "x = np.load(files[0], allow_pickle=True).tolist()\n",
    "for k in x[1].keys():\n",
    "    if not k in remove and not 'error' in k:\n",
    "        feature_names.append(k)\n",
    "\n",
    "logging.info(\"Using features names {}\".format(feature_names))\n",
    "\n",
    " # define light cleaning cuts\n",
    "light_cleaning_cuts = {\n",
    "     \"chi2 reduced\": \"chi2 < 6.\",\n",
    "    \"decay time\": \"decay < 10.e-6\",\n",
    "    \"trigger time\": \"(trigger >= 29.5e-6) & (trigger <= 30.8e-6)\",  # from gaussian fit, 5 sigma interval\n",
    "}\n",
    "\n",
    "# read the data\n",
    "result, data, t_tot_hrs = load_data(files, feature_names, light_cleaning_cuts=light_cleaning_cuts)\n",
    "\n",
    "# convert data to ML format\n",
    "X, y = convert_data_to_ML_format(result,\n",
    "                                 feature_names,\n",
    "                                 bkg_type=0,\n",
    "                                 signal_type=1)"
   ]
  },
  {
   "cell_type": "code",
   "execution_count": 87,
   "metadata": {},
   "outputs": [
    {
     "name": "stdout",
     "output_type": "stream",
     "text": [
      "Discarded 89 triggers in log transform\n"
     ]
    },
    {
     "name": "stderr",
     "output_type": "stream",
     "text": [
      "/Users/manuelmeyer/Python/fastespy/fastespy/ml.py:319: RuntimeWarning: divide by zero encountered in log10\n",
      "  X[:, j] = np.log10(-X[:, j])\n"
     ]
    }
   ],
   "source": [
    "X_log, y_log = MLHyperParTuning.transform_data_log(X.copy(), y.copy(), feature_names)"
   ]
  },
  {
   "cell_type": "code",
   "execution_count": 88,
   "metadata": {},
   "outputs": [],
   "source": [
    "k_folds = 5\n",
    "ml = MLHyperParTuning(X_log, y_log,\n",
    "                      valid_fraction=1. / k_folds,\n",
    "                      stratify=True,\n",
    "                      random_state=42,\n",
    "                      n_splits=k_folds)\n",
    "\n",
    "# now test and train data are contained \n",
    "# in ml.X_test, ml.X_train, ml.y_test, and ml.y_train"
   ]
  },
  {
   "cell_type": "markdown",
   "metadata": {},
   "source": [
    "To Do:\n",
    "- compare with sklearn results\n",
    "- compare with previous data set\n",
    "- more things to test: weighting -> does not work on new mac, data augmentation, regularization with dropout?\n",
    "- hyper parameter tuning\n",
    "- learning curve: you need to write this yourself, see, e.g., https://keras.io/examples/keras_recipes/sample_size_estimate/ \n",
    "- Start with CNNs: https://keras.io/examples/timeseries/timeseries_classification_from_scratch/ and https://github.com/cauchyturing/UCR_Time_Series_Classification_Deep_Learning_Baseline\n",
    "- check out unsupervised learning and other examples here: https://keras.io/examples/timeseries/ \n",
    "- understand and implement resnet layers"
   ]
  },
  {
   "cell_type": "code",
   "execution_count": 89,
   "metadata": {},
   "outputs": [],
   "source": [
    "x = ml.kf.split(ml.X_train, ml.y_train)"
   ]
  },
  {
   "cell_type": "code",
   "execution_count": 90,
   "metadata": {},
   "outputs": [
    {
     "name": "stdout",
     "output_type": "stream",
     "text": [
      "0.23717571333254836\n",
      "0.23724289527398335\n",
      "25479\n",
      "6369\n",
      "7963\n"
     ]
    }
   ],
   "source": [
    "# generate train and validation set from stratified K fold\n",
    "\n",
    "for train_index, val_index in ml._kf.split(ml.X_train, ml.y_train):\n",
    "    \n",
    "    # training data set\n",
    "    X_train, y_train = ml.X_train[train_index], ml.y_train[train_index]\n",
    "    \n",
    "    # validation data set\n",
    "    X_val, y_val = ml.X_train[val_index], ml.y_train[val_index]\n",
    "    \n",
    "# check class proportion\n",
    "print(y_train.sum() / y_train.size)\n",
    "print(y_val.sum() / y_val.size)\n",
    "print(y_train.size)\n",
    "print(y_val.size)\n",
    "print(ml.y_test.size)"
   ]
  },
  {
   "cell_type": "markdown",
   "metadata": {},
   "source": [
    "## Start with Keras and tensorflow"
   ]
  },
  {
   "cell_type": "code",
   "execution_count": 91,
   "metadata": {},
   "outputs": [],
   "source": [
    "import tensorflow as tf\n",
    "from tensorflow import keras\n",
    "from tensorflow.keras.layers.experimental.preprocessing import Normalization"
   ]
  },
  {
   "cell_type": "code",
   "execution_count": 92,
   "metadata": {},
   "outputs": [],
   "source": [
    "use_pca = False # I haven't seen any gains with this"
   ]
  },
  {
   "cell_type": "code",
   "execution_count": 93,
   "metadata": {},
   "outputs": [],
   "source": [
    "# normalize the input data\n",
    "normalizer = Normalization(axis=-1)\n",
    "\n",
    "# transfrom data with PCA\n",
    "if use_pca:\n",
    "    pca = PCA(n_components=None)  # None: all components\n",
    "    pca.fit(X_train)\n",
    "    X_train = pca.transform(X_train)\n",
    "    X_val = pca.transform(X_val)\n",
    "    X_test = pca.transform(ml.X_test)\n",
    "else:\n",
    "    X_test = ml.X_test\n",
    "\n",
    "# adapt to training data\n",
    "normalizer.adapt(X_train)\n",
    "\n",
    "# normalize training data\n",
    "X_train = normalizer(X_train)\n",
    "X_val = normalizer(X_val)\n",
    "X_test = normalizer(X_test)"
   ]
  },
  {
   "cell_type": "code",
   "execution_count": 94,
   "metadata": {},
   "outputs": [
    {
     "name": "stdout",
     "output_type": "stream",
     "text": [
      "[0.9999836  0.99999964 1.0000027  0.99999785 0.9999997  0.9999974 ]\n",
      "[1.003187  1.0076953 0.989486  0.9892453 0.9987803 1.0009006]\n",
      "[1.0304174  1.0032228  0.9808954  0.974932   0.95843047 0.98772496]\n"
     ]
    }
   ],
   "source": [
    "print(np.var(X_train, axis=0))\n",
    "print(np.var(X_val, axis=0))\n",
    "print(np.var(X_test, axis=0))"
   ]
  },
  {
   "cell_type": "markdown",
   "metadata": {},
   "source": [
    "### Building a first simple DNN"
   ]
  },
  {
   "cell_type": "code",
   "execution_count": 95,
   "metadata": {},
   "outputs": [],
   "source": [
    "# define different metrics\n",
    "# see also https://www.tensorflow.org/tutorials/structured_data/imbalanced_data\n",
    "metrics = [\n",
    "      keras.metrics.TruePositives(name='tp'),\n",
    "      keras.metrics.FalsePositives(name='fp'),\n",
    "      keras.metrics.TrueNegatives(name='tn'),\n",
    "      keras.metrics.FalseNegatives(name='fn'), \n",
    "      keras.metrics.BinaryAccuracy(name='accuracy'),\n",
    "      keras.metrics.Precision(name='precision'),\n",
    "      keras.metrics.Recall(name='recall'),\n",
    "      keras.metrics.AUC(name='auc'),\n",
    "      keras.metrics.AUC(name='prc', curve='PR'), # precision-recall curve\n",
    "]\n",
    "\n",
    "adam = keras.optimizers.Adam(learning_rate=3e-4)\n"
   ]
  },
  {
   "cell_type": "code",
   "execution_count": 96,
   "metadata": {},
   "outputs": [],
   "source": [
    "# initializing the sequential model\n",
    "def make_model(metrics=metrics,\n",
    "               output_bias=None,\n",
    "               n_layers=3,\n",
    "               n_nodes=100,\n",
    "               dropout=0., \n",
    "               l2_regularizer=None):\n",
    "    \n",
    "    model = keras.Sequential(name=\"dnn_test\")\n",
    "    \n",
    "    if output_bias is not None:\n",
    "        output_bias = tf.keras.initializers.Constant(output_bias)\n",
    "        \n",
    "    if l2_regularizer is not None:\n",
    "        l2_regularizer = keras.regularizers.l2(l2_regularizer)\n",
    "    \n",
    "    # adding the input layer\n",
    "    model.add(keras.layers.Input(shape=(X_train.shape[1])))\n",
    "    \n",
    "    # hidden layers\n",
    "    for i in range(n_layers):\n",
    "        model.add(keras.layers.Dense(n_nodes,\n",
    "                                     activation='relu',\n",
    "                                     name='dense{0:n}'.format(i + 1),\n",
    "                                     kernel_regularizer=l2_regularizer,\n",
    "                                     bias_regularizer=l2_regularizer\n",
    "                                    )\n",
    "                 )\n",
    "        if dropout > 0.:\n",
    "            model.add(keras.layers.Dropout(dropout))\n",
    "    \n",
    "    # output\n",
    "    model.add(keras.layers.Dense(1, activation='sigmoid', name='output',\n",
    "                                 bias_initializer=output_bias)) # output layer for binary classification\n",
    "    \n",
    "    model.compile(\n",
    "        loss=keras.losses.BinaryCrossentropy(from_logits=True),\n",
    "        optimizer=adam,\n",
    "        metrics=metrics\n",
    "    )\n",
    "    \n",
    "    return model"
   ]
  },
  {
   "cell_type": "code",
   "execution_count": 97,
   "metadata": {},
   "outputs": [],
   "source": [
    "n_nodes = 100\n",
    "n_layers = 5\n",
    "l2_regularizer = None\n",
    "dropout = 0.1"
   ]
  },
  {
   "cell_type": "code",
   "execution_count": 98,
   "metadata": {},
   "outputs": [
    {
     "name": "stdout",
     "output_type": "stream",
     "text": [
      "[-1.16822644]\n",
      "0.3109178843383412\n"
     ]
    }
   ],
   "source": [
    "# compute initial bias\n",
    "# makes sense for imbalanced data, see the imbalanced data tutorial\n",
    "\n",
    "initial_bias = np.array([np.log(y_train.sum() / np.invert(y_train.astype(bool)).astype(int).sum())])\n",
    "\n",
    "print(initial_bias)\n",
    "print(y_train.sum() / np.invert(y_train.astype(bool)).astype(int).sum())"
   ]
  },
  {
   "cell_type": "code",
   "execution_count": 99,
   "metadata": {},
   "outputs": [],
   "source": [
    "model = make_model(n_nodes=n_nodes,\n",
    "                   n_layers=n_layers,\n",
    "                   l2_regularizer=l2_regularizer,\n",
    "                   output_bias=np.array([initial_bias]),\n",
    "                   dropout=dropout\n",
    "                  )"
   ]
  },
  {
   "cell_type": "code",
   "execution_count": 100,
   "metadata": {},
   "outputs": [
    {
     "data": {
      "text/plain": [
       "(None, 1)"
      ]
     },
     "execution_count": 100,
     "metadata": {},
     "output_type": "execute_result"
    }
   ],
   "source": [
    "model.output_shape"
   ]
  },
  {
   "cell_type": "code",
   "execution_count": 101,
   "metadata": {},
   "outputs": [
    {
     "name": "stdout",
     "output_type": "stream",
     "text": [
      "Model: \"dnn_test\"\n",
      "_________________________________________________________________\n",
      "Layer (type)                 Output Shape              Param #   \n",
      "=================================================================\n",
      "dense1 (Dense)               (None, 100)               700       \n",
      "_________________________________________________________________\n",
      "dropout (Dropout)            (None, 100)               0         \n",
      "_________________________________________________________________\n",
      "dense2 (Dense)               (None, 100)               10100     \n",
      "_________________________________________________________________\n",
      "dropout_1 (Dropout)          (None, 100)               0         \n",
      "_________________________________________________________________\n",
      "dense3 (Dense)               (None, 100)               10100     \n",
      "_________________________________________________________________\n",
      "dropout_2 (Dropout)          (None, 100)               0         \n",
      "_________________________________________________________________\n",
      "dense4 (Dense)               (None, 100)               10100     \n",
      "_________________________________________________________________\n",
      "dropout_3 (Dropout)          (None, 100)               0         \n",
      "_________________________________________________________________\n",
      "dense5 (Dense)               (None, 100)               10100     \n",
      "_________________________________________________________________\n",
      "dropout_4 (Dropout)          (None, 100)               0         \n",
      "_________________________________________________________________\n",
      "output (Dense)               (None, 1)                 101       \n",
      "=================================================================\n",
      "Total params: 41,201\n",
      "Trainable params: 41,201\n",
      "Non-trainable params: 0\n",
      "_________________________________________________________________\n"
     ]
    }
   ],
   "source": [
    "model.summary()"
   ]
  },
  {
   "cell_type": "code",
   "execution_count": 102,
   "metadata": {},
   "outputs": [],
   "source": [
    "EPOCHS = 100\n",
    "BATCH_SIZE = 2048  # large enough so that you have enough signal samples in each batch\n",
    "\n",
    "# early stopping if loss of validation set does not improve\n",
    "early_stopping = tf.keras.callbacks.EarlyStopping(\n",
    "    monitor='val_loss', \n",
    "    verbose=1,\n",
    "    patience=10,\n",
    "    mode='min',\n",
    "    restore_best_weights=True)\n"
   ]
  },
  {
   "cell_type": "code",
   "execution_count": 103,
   "metadata": {},
   "outputs": [
    {
     "name": "stdout",
     "output_type": "stream",
     "text": [
      "0.23717571333254836\n"
     ]
    },
    {
     "name": "stderr",
     "output_type": "stream",
     "text": [
      "\u001b[0;36mag_logging.py:\u001b[0;35m 146\u001b[0;0m --- \u001b[1;31m\u001b[1;31mWARNING\u001b[1;0m\u001b[1;0m: AutoGraph could not transform <function Model.make_predict_function.<locals>.predict_function at 0x150639ee0> and will run it as-is.\n",
      "Please report this to the TensorFlow team. When filing the bug, set the verbosity to 10 (on Linux, `export AUTOGRAPH_VERBOSITY=10`) and attach the full output.\n",
      "Cause: unsupported operand type(s) for -: 'NoneType' and 'int'\n",
      "To silence this warning, decorate the function with @tf.autograph.experimental.do_not_convert\n"
     ]
    },
    {
     "name": "stdout",
     "output_type": "stream",
     "text": [
      "WARNING: AutoGraph could not transform <function Model.make_predict_function.<locals>.predict_function at 0x150639ee0> and will run it as-is.\n",
      "Please report this to the TensorFlow team. When filing the bug, set the verbosity to 10 (on Linux, `export AUTOGRAPH_VERBOSITY=10`) and attach the full output.\n",
      "Cause: unsupported operand type(s) for -: 'NoneType' and 'int'\n",
      "To silence this warning, decorate the function with @tf.autograph.experimental.do_not_convert\n"
     ]
    },
    {
     "data": {
      "text/plain": [
       "array([[0.23157182],\n",
       "       [0.2332849 ],\n",
       "       [0.2327527 ],\n",
       "       [0.22569555],\n",
       "       [0.2304453 ],\n",
       "       [0.22244921],\n",
       "       [0.22634685],\n",
       "       [0.22572385],\n",
       "       [0.2217248 ],\n",
       "       [0.22920318]], dtype=float32)"
      ]
     },
     "execution_count": 103,
     "metadata": {},
     "output_type": "execute_result"
    }
   ],
   "source": [
    "# test the model\n",
    "# with output bias, it should be roughly the class imbalance\n",
    "print(y_train.sum()/ y_train.size)\n",
    "model.predict(X_train[:10])"
   ]
  },
  {
   "cell_type": "code",
   "execution_count": 104,
   "metadata": {},
   "outputs": [
    {
     "name": "stderr",
     "output_type": "stream",
     "text": [
      "\u001b[0;36mag_logging.py:\u001b[0;35m 146\u001b[0;0m --- \u001b[1;31m\u001b[1;31mWARNING\u001b[1;0m\u001b[1;0m: AutoGraph could not transform <function Model.make_test_function.<locals>.test_function at 0x1782ce3a0> and will run it as-is.\n",
      "Please report this to the TensorFlow team. When filing the bug, set the verbosity to 10 (on Linux, `export AUTOGRAPH_VERBOSITY=10`) and attach the full output.\n",
      "Cause: unsupported operand type(s) for -: 'NoneType' and 'int'\n",
      "To silence this warning, decorate the function with @tf.autograph.experimental.do_not_convert\n"
     ]
    },
    {
     "name": "stdout",
     "output_type": "stream",
     "text": [
      "WARNING: AutoGraph could not transform <function Model.make_test_function.<locals>.test_function at 0x1782ce3a0> and will run it as-is.\n",
      "Please report this to the TensorFlow team. When filing the bug, set the verbosity to 10 (on Linux, `export AUTOGRAPH_VERBOSITY=10`) and attach the full output.\n",
      "Cause: unsupported operand type(s) for -: 'NoneType' and 'int'\n",
      "To silence this warning, decorate the function with @tf.autograph.experimental.do_not_convert\n"
     ]
    }
   ],
   "source": [
    "results = model.evaluate(X_train, y_train, batch_size=BATCH_SIZE, verbose=0, return_dict=True)"
   ]
  },
  {
   "cell_type": "code",
   "execution_count": 105,
   "metadata": {},
   "outputs": [
    {
     "name": "stdout",
     "output_type": "stream",
     "text": [
      "0.6931471805599453 0.5515455007553101\n"
     ]
    }
   ],
   "source": [
    "# check the loss. if initial bias is correct, you should get something of the order of\n",
    "# -ln(1 / n_classes) = ln(2)\n",
    "print(np.log(2.), results['loss'])"
   ]
  },
  {
   "cell_type": "code",
   "execution_count": 106,
   "metadata": {},
   "outputs": [
    {
     "name": "stdout",
     "output_type": "stream",
     "text": [
      "[0.54780251]\n"
     ]
    }
   ],
   "source": [
    "p0 = 1. / (1. + np.exp(-initial_bias))\n",
    "print (-p0 * np.log(p0) - (1. - p0) * np.log(1. - p0))"
   ]
  },
  {
   "cell_type": "code",
   "execution_count": 107,
   "metadata": {},
   "outputs": [
    {
     "data": {
      "text/plain": [
       "<tf.Tensor: shape=(1,), dtype=float32, numpy=array([-1.1682265], dtype=float32)>"
      ]
     },
     "execution_count": 107,
     "metadata": {},
     "output_type": "execute_result"
    }
   ],
   "source": [
    "# how to check bias value\n",
    "model.layers[-1].bias.value()"
   ]
  },
  {
   "cell_type": "code",
   "execution_count": 108,
   "metadata": {},
   "outputs": [],
   "source": [
    "import tempfile\n",
    "import os"
   ]
  },
  {
   "cell_type": "markdown",
   "metadata": {},
   "source": [
    "Save the initial weights"
   ]
  },
  {
   "cell_type": "code",
   "execution_count": 109,
   "metadata": {},
   "outputs": [],
   "source": [
    "initial_weights = os.path.join(tempfile.mkdtemp(), f'initial_weights_{n_layers}_{n_nodes}')\n",
    "model.save_weights(initial_weights)"
   ]
  },
  {
   "cell_type": "code",
   "execution_count": 110,
   "metadata": {},
   "outputs": [
    {
     "name": "stderr",
     "output_type": "stream",
     "text": [
      "\u001b[0;36mag_logging.py:\u001b[0;35m 146\u001b[0;0m --- \u001b[1;31m\u001b[1;31mWARNING\u001b[1;0m\u001b[1;0m: AutoGraph could not transform <function Model.make_train_function.<locals>.train_function at 0x1533b2040> and will run it as-is.\n",
      "Please report this to the TensorFlow team. When filing the bug, set the verbosity to 10 (on Linux, `export AUTOGRAPH_VERBOSITY=10`) and attach the full output.\n",
      "Cause: unsupported operand type(s) for -: 'NoneType' and 'int'\n",
      "To silence this warning, decorate the function with @tf.autograph.experimental.do_not_convert\n"
     ]
    },
    {
     "name": "stdout",
     "output_type": "stream",
     "text": [
      "WARNING: AutoGraph could not transform <function Model.make_train_function.<locals>.train_function at 0x1533b2040> and will run it as-is.\n",
      "Please report this to the TensorFlow team. When filing the bug, set the verbosity to 10 (on Linux, `export AUTOGRAPH_VERBOSITY=10`) and attach the full output.\n",
      "Cause: unsupported operand type(s) for -: 'NoneType' and 'int'\n",
      "To silence this warning, decorate the function with @tf.autograph.experimental.do_not_convert\n"
     ]
    },
    {
     "name": "stderr",
     "output_type": "stream",
     "text": [
      "\u001b[0;36mag_logging.py:\u001b[0;35m 146\u001b[0;0m --- \u001b[1;31m\u001b[1;31mWARNING\u001b[1;0m\u001b[1;0m: AutoGraph could not transform <function Model.make_test_function.<locals>.test_function at 0x152633280> and will run it as-is.\n",
      "Please report this to the TensorFlow team. When filing the bug, set the verbosity to 10 (on Linux, `export AUTOGRAPH_VERBOSITY=10`) and attach the full output.\n",
      "Cause: unsupported operand type(s) for -: 'NoneType' and 'int'\n",
      "To silence this warning, decorate the function with @tf.autograph.experimental.do_not_convert\n"
     ]
    },
    {
     "name": "stdout",
     "output_type": "stream",
     "text": [
      "WARNING: AutoGraph could not transform <function Model.make_test_function.<locals>.test_function at 0x152633280> and will run it as-is.\n",
      "Please report this to the TensorFlow team. When filing the bug, set the verbosity to 10 (on Linux, `export AUTOGRAPH_VERBOSITY=10`) and attach the full output.\n",
      "Cause: unsupported operand type(s) for -: 'NoneType' and 'int'\n",
      "To silence this warning, decorate the function with @tf.autograph.experimental.do_not_convert\n"
     ]
    }
   ],
   "source": [
    "# check if new bias helps\n",
    "model = make_model(n_nodes=n_nodes, n_layers=n_layers, l2_regularizer=l2_regularizer, dropout=dropout)\n",
    "model.load_weights(initial_weights)\n",
    "model.layers[-1].bias.assign([0.0])\n",
    "zero_bias_history = model.fit(\n",
    "    X_train,\n",
    "    y_train,\n",
    "    batch_size=BATCH_SIZE,\n",
    "    epochs=20,\n",
    "    validation_data=(X_val, y_val), \n",
    "    verbose=0\n",
    ")"
   ]
  },
  {
   "cell_type": "code",
   "execution_count": 111,
   "metadata": {},
   "outputs": [
    {
     "name": "stderr",
     "output_type": "stream",
     "text": [
      "\u001b[0;36mag_logging.py:\u001b[0;35m 146\u001b[0;0m --- \u001b[1;31m\u001b[1;31mWARNING\u001b[1;0m\u001b[1;0m: AutoGraph could not transform <function Model.make_train_function.<locals>.train_function at 0x151b813a0> and will run it as-is.\n",
      "Please report this to the TensorFlow team. When filing the bug, set the verbosity to 10 (on Linux, `export AUTOGRAPH_VERBOSITY=10`) and attach the full output.\n",
      "Cause: unsupported operand type(s) for -: 'NoneType' and 'int'\n",
      "To silence this warning, decorate the function with @tf.autograph.experimental.do_not_convert\n"
     ]
    },
    {
     "name": "stdout",
     "output_type": "stream",
     "text": [
      "WARNING: AutoGraph could not transform <function Model.make_train_function.<locals>.train_function at 0x151b813a0> and will run it as-is.\n",
      "Please report this to the TensorFlow team. When filing the bug, set the verbosity to 10 (on Linux, `export AUTOGRAPH_VERBOSITY=10`) and attach the full output.\n",
      "Cause: unsupported operand type(s) for -: 'NoneType' and 'int'\n",
      "To silence this warning, decorate the function with @tf.autograph.experimental.do_not_convert\n"
     ]
    },
    {
     "name": "stderr",
     "output_type": "stream",
     "text": [
      "\u001b[0;36mag_logging.py:\u001b[0;35m 146\u001b[0;0m --- \u001b[1;31m\u001b[1;31mWARNING\u001b[1;0m\u001b[1;0m: AutoGraph could not transform <function Model.make_test_function.<locals>.test_function at 0x152e67d30> and will run it as-is.\n",
      "Please report this to the TensorFlow team. When filing the bug, set the verbosity to 10 (on Linux, `export AUTOGRAPH_VERBOSITY=10`) and attach the full output.\n",
      "Cause: unsupported operand type(s) for -: 'NoneType' and 'int'\n",
      "To silence this warning, decorate the function with @tf.autograph.experimental.do_not_convert\n"
     ]
    },
    {
     "name": "stdout",
     "output_type": "stream",
     "text": [
      "WARNING: AutoGraph could not transform <function Model.make_test_function.<locals>.test_function at 0x152e67d30> and will run it as-is.\n",
      "Please report this to the TensorFlow team. When filing the bug, set the verbosity to 10 (on Linux, `export AUTOGRAPH_VERBOSITY=10`) and attach the full output.\n",
      "Cause: unsupported operand type(s) for -: 'NoneType' and 'int'\n",
      "To silence this warning, decorate the function with @tf.autograph.experimental.do_not_convert\n"
     ]
    }
   ],
   "source": [
    "# now with bias\n",
    "model = make_model(n_nodes=n_nodes, n_layers=n_layers, l2_regularizer=l2_regularizer, dropout=dropout)\n",
    "model.load_weights(initial_weights)\n",
    "careful_bias_history = model.fit(\n",
    "    X_train,\n",
    "    y_train,\n",
    "    batch_size=BATCH_SIZE,\n",
    "    epochs=20,\n",
    "    validation_data=(X_val, y_val), \n",
    "    verbose=0\n",
    ")\n"
   ]
  },
  {
   "cell_type": "code",
   "execution_count": 112,
   "metadata": {},
   "outputs": [],
   "source": [
    "# plot the results \n",
    "def plot_metric(history, metric=\"loss\", **kwargs):\n",
    "    label = kwargs.pop('label', '')\n",
    "    plt.semilogy(history.epoch, history.history[metric], label='Train ' + label, **kwargs)\n",
    "    \n",
    "    kwargs.pop('ls', None)\n",
    "    plt.semilogy(history.epoch, history.history[f'val_{metric}'], label='Val ' + label, ls='--', **kwargs)\n",
    "    plt.xlabel('Epoch')\n",
    "    plt.ylabel(metric)\n"
   ]
  },
  {
   "cell_type": "code",
   "execution_count": 113,
   "metadata": {},
   "outputs": [
    {
     "data": {
      "text/plain": [
       "<matplotlib.legend.Legend at 0x1513990a0>"
      ]
     },
     "execution_count": 113,
     "metadata": {},
     "output_type": "execute_result"
    },
    {
     "data": {
      "image/png": "[encoded data removed]",
      "text/plain": [
       "<Figure size 432x288 with 1 Axes>"
      ]
     },
     "metadata": {
      "needs_background": "light"
     },
     "output_type": "display_data"
    }
   ],
   "source": [
    "plot_metric(zero_bias_history, metric='loss', label='zero bias', color='C0')\n",
    "plot_metric(careful_bias_history, metric='loss' , label='initial bias', color='C1')\n",
    "plt.legend()"
   ]
  },
  {
   "cell_type": "markdown",
   "metadata": {},
   "source": [
    "The initial bias seems to help slightly."
   ]
  },
  {
   "cell_type": "markdown",
   "metadata": {},
   "source": [
    "### Train the full model"
   ]
  },
  {
   "cell_type": "code",
   "execution_count": 114,
   "metadata": {},
   "outputs": [
    {
     "name": "stdout",
     "output_type": "stream",
     "text": [
      "Weight for class 0: 0.66\n",
      "Weight for class 1: 2.11\n"
     ]
    }
   ],
   "source": [
    "use_weights = False # setting to true will let notebook crash on my new mac....\n",
    "\n",
    "# weighting following\n",
    "# https://www.tensorflow.org/tutorials/structured_data/imbalanced_data#class_weights\n",
    "# Scaling by total/2 helps keep the loss to a similar magnitude.\n",
    "# The sum of the weights of all examples stays the same.\n",
    "\n",
    "weight_for_0 = 1 / (y.size - y.sum()) * (y.size / 2.0)\n",
    "weight_for_1 = 1 / y.sum() * (y.size / 2.0)\n",
    "\n",
    "if use_weights:\n",
    "    class_weight = {0: weight_for_0, 1: weight_for_1}\n",
    "else:\n",
    "    class_weight = None\n",
    "print('Weight for class 0: {:.2f}'.format(weight_for_0))\n",
    "print('Weight for class 1: {:.2f}'.format(weight_for_1))\n",
    "\n"
   ]
  },
  {
   "cell_type": "code",
   "execution_count": 115,
   "metadata": {},
   "outputs": [
    {
     "name": "stderr",
     "output_type": "stream",
     "text": [
      "\u001b[0;36mag_logging.py:\u001b[0;35m 146\u001b[0;0m --- \u001b[1;31m\u001b[1;31mWARNING\u001b[1;0m\u001b[1;0m: AutoGraph could not transform <function Model.make_train_function.<locals>.train_function at 0x2924b4940> and will run it as-is.\n",
      "Please report this to the TensorFlow team. When filing the bug, set the verbosity to 10 (on Linux, `export AUTOGRAPH_VERBOSITY=10`) and attach the full output.\n",
      "Cause: unsupported operand type(s) for -: 'NoneType' and 'int'\n",
      "To silence this warning, decorate the function with @tf.autograph.experimental.do_not_convert\n"
     ]
    },
    {
     "name": "stdout",
     "output_type": "stream",
     "text": [
      "tf.Tensor([1.2918187], shape=(1,), dtype=float32)\n",
      "Model: \"dnn_test\"\n",
      "_________________________________________________________________\n",
      "Layer (type)                 Output Shape              Param #   \n",
      "=================================================================\n",
      "dense1 (Dense)               (None, 100)               700       \n",
      "_________________________________________________________________\n",
      "dropout_15 (Dropout)         (None, 100)               0         \n",
      "_________________________________________________________________\n",
      "dense2 (Dense)               (None, 100)               10100     \n",
      "_________________________________________________________________\n",
      "dropout_16 (Dropout)         (None, 100)               0         \n",
      "_________________________________________________________________\n",
      "dense3 (Dense)               (None, 100)               10100     \n",
      "_________________________________________________________________\n",
      "dropout_17 (Dropout)         (None, 100)               0         \n",
      "_________________________________________________________________\n",
      "dense4 (Dense)               (None, 100)               10100     \n",
      "_________________________________________________________________\n",
      "dropout_18 (Dropout)         (None, 100)               0         \n",
      "_________________________________________________________________\n",
      "dense5 (Dense)               (None, 100)               10100     \n",
      "_________________________________________________________________\n",
      "dropout_19 (Dropout)         (None, 100)               0         \n",
      "_________________________________________________________________\n",
      "output (Dense)               (None, 1)                 101       \n",
      "=================================================================\n",
      "Total params: 41,201\n",
      "Trainable params: 41,201\n",
      "Non-trainable params: 0\n",
      "_________________________________________________________________\n",
      "WARNING: AutoGraph could not transform <function Model.make_train_function.<locals>.train_function at 0x2924b4940> and will run it as-is.\n",
      "Please report this to the TensorFlow team. When filing the bug, set the verbosity to 10 (on Linux, `export AUTOGRAPH_VERBOSITY=10`) and attach the full output.\n",
      "Cause: unsupported operand type(s) for -: 'NoneType' and 'int'\n",
      "To silence this warning, decorate the function with @tf.autograph.experimental.do_not_convert\n"
     ]
    },
    {
     "name": "stderr",
     "output_type": "stream",
     "text": [
      "\u001b[0;36mag_logging.py:\u001b[0;35m 146\u001b[0;0m --- \u001b[1;31m\u001b[1;31mWARNING\u001b[1;0m\u001b[1;0m: AutoGraph could not transform <function Model.make_test_function.<locals>.test_function at 0x2976a81f0> and will run it as-is.\n",
      "Please report this to the TensorFlow team. When filing the bug, set the verbosity to 10 (on Linux, `export AUTOGRAPH_VERBOSITY=10`) and attach the full output.\n",
      "Cause: unsupported operand type(s) for -: 'NoneType' and 'int'\n",
      "To silence this warning, decorate the function with @tf.autograph.experimental.do_not_convert\n"
     ]
    },
    {
     "name": "stdout",
     "output_type": "stream",
     "text": [
      "WARNING: AutoGraph could not transform <function Model.make_test_function.<locals>.test_function at 0x2976a81f0> and will run it as-is.\n",
      "Please report this to the TensorFlow team. When filing the bug, set the verbosity to 10 (on Linux, `export AUTOGRAPH_VERBOSITY=10`) and attach the full output.\n",
      "Cause: unsupported operand type(s) for -: 'NoneType' and 'int'\n",
      "To silence this warning, decorate the function with @tf.autograph.experimental.do_not_convert\n"
     ]
    },
    {
     "name": "stderr",
     "output_type": "stream",
     "text": [
      "2021-08-23 14:58:25.629938: W tensorflow/compiler/tf2mlcompute/convert/mlc_convert_utils.cc:690] ComputeTimeStepForAdam: Computing time_step from beta1_power and beta2_power gives different results, probably due to losing precision in pow or log. The time_step that comes from the larger beta_power is chosen (time_step = 975).\n",
      "2021-08-23 14:58:25.630336: W tensorflow/compiler/tf2mlcompute/convert/mlc_convert_utils.cc:690] ComputeTimeStepForAdam: Computing time_step from beta1_power and beta2_power gives different results, probably due to losing precision in pow or log. The time_step that comes from the larger beta_power is chosen (time_step = 975).\n",
      "2021-08-23 14:58:25.630711: W tensorflow/compiler/tf2mlcompute/convert/mlc_convert_utils.cc:690] ComputeTimeStepForAdam: Computing time_step from beta1_power and beta2_power gives different results, probably due to losing precision in pow or log. The time_step that comes from the larger beta_power is chosen (time_step = 975).\n",
      "2021-08-23 14:58:25.630802: W tensorflow/compiler/tf2mlcompute/convert/mlc_convert_utils.cc:690] ComputeTimeStepForAdam: Computing time_step from beta1_power and beta2_power gives different results, probably due to losing precision in pow or log. The time_step that comes from the larger beta_power is chosen (time_step = 975).\n",
      "2021-08-23 14:58:25.630816: W tensorflow/compiler/tf2mlcompute/convert/mlc_convert_utils.cc:690] ComputeTimeStepForAdam: Computing time_step from beta1_power and beta2_power gives different results, probably due to losing precision in pow or log. The time_step that comes from the larger beta_power is chosen (time_step = 975).\n",
      "2021-08-23 14:58:25.630889: W tensorflow/compiler/tf2mlcompute/convert/mlc_convert_utils.cc:690] ComputeTimeStepForAdam: Computing time_step from beta1_power and beta2_power gives different results, probably due to losing precision in pow or log. The time_step that comes from the larger beta_power is chosen (time_step = 975).\n",
      "2021-08-23 14:58:25.630901: W tensorflow/compiler/tf2mlcompute/convert/mlc_convert_utils.cc:690] ComputeTimeStepForAdam: Computing time_step from beta1_power and beta2_power gives different results, probably due to losing precision in pow or log. The time_step that comes from the larger beta_power is chosen (time_step = 975).\n",
      "2021-08-23 14:58:25.630966: W tensorflow/compiler/tf2mlcompute/convert/mlc_convert_utils.cc:690] ComputeTimeStepForAdam: Computing time_step from beta1_power and beta2_power gives different results, probably due to losing precision in pow or log. The time_step that comes from the larger beta_power is chosen (time_step = 975).\n",
      "2021-08-23 14:58:25.630977: W tensorflow/compiler/tf2mlcompute/convert/mlc_convert_utils.cc:690] ComputeTimeStepForAdam: Computing time_step from beta1_power and beta2_power gives different results, probably due to losing precision in pow or log. The time_step that comes from the larger beta_power is chosen (time_step = 975).\n",
      "2021-08-23 14:58:25.631041: W tensorflow/compiler/tf2mlcompute/convert/mlc_convert_utils.cc:690] ComputeTimeStepForAdam: Computing time_step from beta1_power and beta2_power gives different results, probably due to losing precision in pow or log. The time_step that comes from the larger beta_power is chosen (time_step = 975).\n",
      "2021-08-23 14:58:25.631052: W tensorflow/compiler/tf2mlcompute/convert/mlc_convert_utils.cc:690] ComputeTimeStepForAdam: Computing time_step from beta1_power and beta2_power gives different results, probably due to losing precision in pow or log. The time_step that comes from the larger beta_power is chosen (time_step = 975).\n",
      "2021-08-23 14:58:25.631117: W tensorflow/compiler/tf2mlcompute/convert/mlc_convert_utils.cc:690] ComputeTimeStepForAdam: Computing time_step from beta1_power and beta2_power gives different results, probably due to losing precision in pow or log. The time_step that comes from the larger beta_power is chosen (time_step = 975).\n",
      "2021-08-23 14:58:25.662104: W tensorflow/compiler/tf2mlcompute/convert/mlc_convert_utils.cc:690] ComputeTimeStepForAdam: Computing time_step from beta1_power and beta2_power gives different results, probably due to losing precision in pow or log. The time_step that comes from the larger beta_power is chosen (time_step = 976).\n",
      "2021-08-23 14:58:25.662229: W tensorflow/compiler/tf2mlcompute/convert/mlc_convert_utils.cc:690] ComputeTimeStepForAdam: Computing time_step from beta1_power and beta2_power gives different results, probably due to losing precision in pow or log. The time_step that comes from the larger beta_power is chosen (time_step = 976).\n",
      "2021-08-23 14:58:25.662250: W tensorflow/compiler/tf2mlcompute/convert/mlc_convert_utils.cc:690] ComputeTimeStepForAdam: Computing time_step from beta1_power and beta2_power gives different results, probably due to losing precision in pow or log. The time_step that comes from the larger beta_power is chosen (time_step = 976).\n",
      "2021-08-23 14:58:25.662335: W tensorflow/compiler/tf2mlcompute/convert/mlc_convert_utils.cc:690] ComputeTimeStepForAdam: Computing time_step from beta1_power and beta2_power gives different results, probably due to losing precision in pow or log. The time_step that comes from the larger beta_power is chosen (time_step = 976).\n",
      "2021-08-23 14:58:25.662354: W tensorflow/compiler/tf2mlcompute/convert/mlc_convert_utils.cc:690] ComputeTimeStepForAdam: Computing time_step from beta1_power and beta2_power gives different results, probably due to losing precision in pow or log. The time_step that comes from the larger beta_power is chosen (time_step = 976).\n",
      "2021-08-23 14:58:25.662442: W tensorflow/compiler/tf2mlcompute/convert/mlc_convert_utils.cc:690] ComputeTimeStepForAdam: Computing time_step from beta1_power and beta2_power gives different results, probably due to losing precision in pow or log. The time_step that comes from the larger beta_power is chosen (time_step = 976).\n",
      "2021-08-23 14:58:25.662459: W tensorflow/compiler/tf2mlcompute/convert/mlc_convert_utils.cc:690] ComputeTimeStepForAdam: Computing time_step from beta1_power and beta2_power gives different results, probably due to losing precision in pow or log. The time_step that comes from the larger beta_power is chosen (time_step = 976).\n",
      "2021-08-23 14:58:25.662551: W tensorflow/compiler/tf2mlcompute/convert/mlc_convert_utils.cc:690] ComputeTimeStepForAdam: Computing time_step from beta1_power and beta2_power gives different results, probably due to losing precision in pow or log. The time_step that comes from the larger beta_power is chosen (time_step = 976).\n",
      "2021-08-23 14:58:25.662565: W tensorflow/compiler/tf2mlcompute/convert/mlc_convert_utils.cc:690] ComputeTimeStepForAdam: Computing time_step from beta1_power and beta2_power gives different results, probably due to losing precision in pow or log. The time_step that comes from the larger beta_power is chosen (time_step = 976).\n",
      "2021-08-23 14:58:25.662640: W tensorflow/compiler/tf2mlcompute/convert/mlc_convert_utils.cc:690] ComputeTimeStepForAdam: Computing time_step from beta1_power and beta2_power gives different results, probably due to losing precision in pow or log. The time_step that comes from the larger beta_power is chosen (time_step = 976).\n",
      "2021-08-23 14:58:25.662654: W tensorflow/compiler/tf2mlcompute/convert/mlc_convert_utils.cc:690] ComputeTimeStepForAdam: Computing time_step from beta1_power and beta2_power gives different results, probably due to losing precision in pow or log. The time_step that comes from the larger beta_power is chosen (time_step = 976).\n",
      "2021-08-23 14:58:25.662724: W tensorflow/compiler/tf2mlcompute/convert/mlc_convert_utils.cc:690] ComputeTimeStepForAdam: Computing time_step from beta1_power and beta2_power gives different results, probably due to losing precision in pow or log. The time_step that comes from the larger beta_power is chosen (time_step = 976).\n"
     ]
    }
   ],
   "source": [
    "# now with bias\n",
    "model = make_model(n_nodes=n_nodes, n_layers=n_layers, l2_regularizer=l2_regularizer, dropout=dropout)\n",
    "print(model.layers[-1].bias.value())\n",
    "model.summary()\n",
    "model.load_weights(initial_weights)\n",
    "baseline_history = model.fit(\n",
    "    X_train,\n",
    "    y_train,\n",
    "    batch_size=BATCH_SIZE,\n",
    "    epochs=EPOCHS,\n",
    "    validation_data=(X_val, y_val), \n",
    "    verbose=0,\n",
    "    class_weight=class_weight\n",
    ")\n"
   ]
  },
  {
   "cell_type": "code",
   "execution_count": 116,
   "metadata": {},
   "outputs": [
    {
     "data": {
      "image/png": "[encoded data removed]",
      "text/plain": [
       "<Figure size 432x288 with 1 Axes>"
      ]
     },
     "metadata": {
      "needs_background": "light"
     },
     "output_type": "display_data"
    }
   ],
   "source": [
    "plot_metric(baseline_history, color=\"C0\")"
   ]
  },
  {
   "cell_type": "code",
   "execution_count": 117,
   "metadata": {},
   "outputs": [
    {
     "data": {
      "text/plain": [
       "<matplotlib.legend.Legend at 0x15059e850>"
      ]
     },
     "execution_count": 117,
     "metadata": {},
     "output_type": "execute_result"
    },
    {
     "data": {
      "image/png": "[encoded data removed]",
      "text/plain": [
       "<Figure size 432x288 with 1 Axes>"
      ]
     },
     "metadata": {
      "needs_background": "light"
     },
     "output_type": "display_data"
    }
   ],
   "source": [
    "plot_metric(baseline_history, metric=\"fp\", color=\"C0\", label=\"false positives\")\n",
    "plot_metric(baseline_history, metric=\"fn\", color=\"C1\", label=\"false negatives\")\n",
    "plt.ylabel(\"Number of FP / FN\")\n",
    "plt.legend()"
   ]
  },
  {
   "cell_type": "code",
   "execution_count": 118,
   "metadata": {},
   "outputs": [
    {
     "name": "stdout",
     "output_type": "stream",
     "text": [
      "249/249 - 0s - loss: 0.0215 - tp: 1865.0000 - fp: 30.0000 - tn: 6044.0000 - fn: 24.0000 - accuracy: 0.9932 - precision: 0.9842 - recall: 0.9873 - auc: 0.9991 - prc: 0.9953\n",
      "Test loss: 0.021490996703505516\n",
      "Test accuracy: 0.9932186603546143\n",
      "{'loss': 0.021490996703505516, 'tp': 1865.0, 'fp': 30.0, 'tn': 6044.0, 'fn': 24.0, 'accuracy': 0.9932186603546143, 'precision': 0.9841688871383667, 'recall': 0.9872948527336121, 'auc': 0.999110996723175, 'prc': 0.9953464865684509}\n"
     ]
    }
   ],
   "source": [
    "# evaluate model on test set\n",
    "test_scores = model.evaluate(X_test, ml.y_test, verbose=2, return_dict=True)\n",
    "print(\"Test loss:\", test_scores[\"loss\"])\n",
    "print(\"Test accuracy:\", test_scores[\"accuracy\"])\n",
    "print(test_scores)"
   ]
  },
  {
   "cell_type": "code",
   "execution_count": 119,
   "metadata": {},
   "outputs": [
    {
     "name": "stderr",
     "output_type": "stream",
     "text": [
      "\u001b[0;36mag_logging.py:\u001b[0;35m 146\u001b[0;0m --- \u001b[1;31m\u001b[1;31mWARNING\u001b[1;0m\u001b[1;0m: AutoGraph could not transform <function Model.make_predict_function.<locals>.predict_function at 0x291dcf4c0> and will run it as-is.\n",
      "Please report this to the TensorFlow team. When filing the bug, set the verbosity to 10 (on Linux, `export AUTOGRAPH_VERBOSITY=10`) and attach the full output.\n",
      "Cause: unsupported operand type(s) for -: 'NoneType' and 'int'\n",
      "To silence this warning, decorate the function with @tf.autograph.experimental.do_not_convert\n"
     ]
    },
    {
     "name": "stdout",
     "output_type": "stream",
     "text": [
      "WARNING: AutoGraph could not transform <function Model.make_predict_function.<locals>.predict_function at 0x291dcf4c0> and will run it as-is.\n",
      "Please report this to the TensorFlow team. When filing the bug, set the verbosity to 10 (on Linux, `export AUTOGRAPH_VERBOSITY=10`) and attach the full output.\n",
      "Cause: unsupported operand type(s) for -: 'NoneType' and 'int'\n",
      "To silence this warning, decorate the function with @tf.autograph.experimental.do_not_convert\n"
     ]
    }
   ],
   "source": [
    "y_pred_test = model.predict(X_test)\n",
    "y_pred_val = model.predict(X_val)\n",
    "y_pred_train = model.predict(X_train)"
   ]
  },
  {
   "cell_type": "code",
   "execution_count": 120,
   "metadata": {},
   "outputs": [],
   "source": [
    "threshold = 0.5 # threshold to classify event as \"signal\"\n",
    "class_pred_test = (y_pred_test > threshold).flatten().astype(int)\n",
    "class_pred_val = (y_pred_val > threshold).flatten().astype(int)\n",
    "class_pred_train = (y_pred_train > threshold).flatten().astype(int)"
   ]
  },
  {
   "cell_type": "code",
   "execution_count": 121,
   "metadata": {},
   "outputs": [],
   "source": [
    "false_positive_test = (class_pred_test == 1) & (ml.y_test == 0)\n",
    "false_negative_test = (class_pred_test == 0) & (ml.y_test == 1)\n",
    "\n",
    "false_positive_val = (class_pred_val == 1) & (y_val == 0)\n",
    "false_negative_val = (class_pred_val == 0) & (y_val == 1)\n",
    "\n",
    "false_positive_train = (class_pred_train == 1) & (y_train == 0)\n",
    "false_negative_train = (class_pred_train == 0) & (y_train == 1)"
   ]
  },
  {
   "cell_type": "code",
   "execution_count": 122,
   "metadata": {},
   "outputs": [
    {
     "name": "stdout",
     "output_type": "stream",
     "text": [
      "30 24\n",
      "21 15\n",
      "67 59\n"
     ]
    }
   ],
   "source": [
    "print (false_positive_test.sum(), false_negative_test.sum())\n",
    "print (false_positive_val.sum(), false_negative_val.sum())\n",
    "print (false_positive_train.sum(), false_negative_train.sum())"
   ]
  },
  {
   "cell_type": "code",
   "execution_count": 123,
   "metadata": {},
   "outputs": [
    {
     "name": "stdout",
     "output_type": "stream",
     "text": [
      "bkg rate test 8.551e-05 Hz\n",
      "bkg rate val 5.986e-05 Hz\n",
      "bkg rate train 5.969e-05 Hz\n"
     ]
    }
   ],
   "source": [
    "print(\"bkg rate test {0:.3e} Hz\".format(\n",
    "    false_positive_test.sum() / ml.y_test.size * (y_train.size + y_val.size + ml.y_test.size) / (t_tot_hrs * 3600.)))\n",
    "print(\"bkg rate val {0:.3e} Hz\".format(\n",
    "    false_positive_val.sum() / ml.y_test.size * (y_train.size + y_val.size + ml.y_test.size) / (t_tot_hrs * 3600.)))\n",
    "print(\"bkg rate train {0:.3e} Hz\".format(\n",
    "    false_positive_train.sum() / y_train.size * (y_train.size + y_val.size + ml.y_test.size) / (t_tot_hrs * 3600.)))"
   ]
  },
  {
   "cell_type": "markdown",
   "metadata": {},
   "source": [
    "### Compute significance for threshold = 0.5"
   ]
  },
  {
   "cell_type": "code",
   "execution_count": 124,
   "metadata": {},
   "outputs": [],
   "source": [
    "from fastespy.ml import significance_scorer"
   ]
  },
  {
   "cell_type": "code",
   "execution_count": 125,
   "metadata": {},
   "outputs": [
    {
     "data": {
      "text/plain": [
       "1.9054042475190496"
      ]
     },
     "execution_count": 125,
     "metadata": {},
     "output_type": "execute_result"
    }
   ],
   "source": [
    "significance_scorer(ml.y_test, class_pred_test,\n",
    "                    t_obs=t_tot_hrs * 3600.,\n",
    "                    N_tot=y_train.size + y_val.size + ml.y_test.size)"
   ]
  },
  {
   "cell_type": "code",
   "execution_count": 126,
   "metadata": {},
   "outputs": [
    {
     "data": {
      "text/plain": [
       "2.031830996642084"
      ]
     },
     "execution_count": 126,
     "metadata": {},
     "output_type": "execute_result"
    }
   ],
   "source": [
    "significance_scorer(y_val, class_pred_val, \n",
    "                    t_obs=t_tot_hrs * 3600.,\n",
    "                    N_tot=y_train.size + y_val.size + ml.y_test.size)"
   ]
  },
  {
   "cell_type": "code",
   "execution_count": 127,
   "metadata": {},
   "outputs": [
    {
     "data": {
      "text/plain": [
       "2.252473885872993"
      ]
     },
     "execution_count": 127,
     "metadata": {},
     "output_type": "execute_result"
    }
   ],
   "source": [
    "significance_scorer(y_train, class_pred_train,\n",
    "                    t_obs=t_tot_hrs * 3600.,\n",
    "                    N_tot=y_train.size + y_val.size + ml.y_test.size)\n"
   ]
  },
  {
   "cell_type": "code",
   "execution_count": 138,
   "metadata": {},
   "outputs": [],
   "source": [
    "# plot significance as function of threshold\n",
    "def plot_sig_vs_thr(model, X, y_true, t_obs_hours, N_tot, step=0.002):\n",
    "    y_pred = model.predict(X)\n",
    "    \n",
    "    threshold = np.arange(step, 1., step)\n",
    "    significance = np.zeros_like(threshold)\n",
    "    bkg_rate = np.zeros_like(threshold)\n",
    "    eff = np.zeros_like(threshold)\n",
    "    \n",
    "    for i, thr in enumerate(threshold):\n",
    "        class_pred = (y_pred > thr).flatten().astype(int)\n",
    "    \n",
    "        significance[i] = significance_scorer(y_true, class_pred,\n",
    "                            t_obs=t_obs_hours * 3600.,\n",
    "                            N_tot=N_tot)\n",
    "        \n",
    "        # bkg rate\n",
    "        fp = (class_pred == 1) & (y_true == 0)\n",
    "        fn = (class_pred == 0) & (y_true == 1)\n",
    "        tp = (class_pred == 1) & (y_true == 1)\n",
    "        bkg_rate[i] = fp.sum() / y_true.size * N_tot / (t_obs_hours * 3600.)\n",
    "        eff[i] = tp.sum() / y_true.sum()\n",
    "        \n",
    "    ax = plt.subplot(311)\n",
    "    ax.plot(threshold, significance)\n",
    "    ax.set_ylabel(\"Significance ($\\sigma$)\")\n",
    "    ax.tick_params(labelbottom=False, direction=\"in\")\n",
    "    ax.grid()\n",
    "    \n",
    "    ax = plt.subplot(312)\n",
    "    ax.plot(threshold, bkg_rate)\n",
    "    ax.set_yscale(\"log\")\n",
    "    ax.set_ylabel(\"Bkg rate (Hz)\")\n",
    "    ax.tick_params(labelbottom=False, direction=\"in\")\n",
    "    ax.grid()\n",
    "    ax.set_ylim(5e-6, ax.get_ylim()[1])\n",
    "        \n",
    "    ax = plt.subplot(313)\n",
    "    ax.plot(threshold, eff)\n",
    "    #ax.set_yscale(\"log\")\n",
    "    ax.set_ylabel(\"Efficiency\")\n",
    "    ax.tick_params(direction=\"in\")\n",
    "    ax.grid()\n",
    "    \n",
    "    imax = np.argmax(significance)\n",
    "    print(f\"Max significance: {significance[imax]:.2f} for threshold {threshold[imax]:.4f}\"\n",
    "          f\" background rate {bkg_rate[imax]:.2e} and analysis efficiency {eff[imax]:.2f}\")\n",
    "    \n",
    "    return ax"
   ]
  },
  {
   "cell_type": "code",
   "execution_count": 139,
   "metadata": {},
   "outputs": [
    {
     "name": "stdout",
     "output_type": "stream",
     "text": [
      "Max significance: 3.20 for threshold 0.9905 background rate 1.43e-05 and analysis efficiency 0.76\n"
     ]
    },
    {
     "data": {
      "image/png": "[encoded data removed]",
      "text/plain": [
       "<Figure size 720x720 with 3 Axes>"
      ]
     },
     "metadata": {
      "needs_background": "light"
     },
     "output_type": "display_data"
    }
   ],
   "source": [
    "fig=plt.figure(dpi=120, figsize=(6,2*3))\n",
    "ax = plot_sig_vs_thr(model,\n",
    "                     X_test,\n",
    "                     ml.y_test,\n",
    "                     t_obs_hours=t_tot_hrs,\n",
    "                     N_tot=y_train.size + y_val.size + ml.y_test.size,\n",
    "                     step=0.0001\n",
    "                     )\n",
    "plt.subplots_adjust(hspace=0.)"
   ]
  },
  {
   "cell_type": "markdown",
   "metadata": {},
   "source": [
    "### Plot misidentified pulses"
   ]
  },
  {
   "cell_type": "code",
   "execution_count": 130,
   "metadata": {},
   "outputs": [],
   "source": [
    "threshold = 0.992\n",
    "class_pred_test = (y_pred_test > threshold).flatten().astype(int)\n",
    "false_positive_test = (class_pred_test == 1) & (ml.y_test == 0)\n",
    "false_negative_test = (class_pred_test == 0) & (ml.y_test == 1)"
   ]
  },
  {
   "cell_type": "markdown",
   "metadata": {},
   "source": [
    "#### False positives"
   ]
  },
  {
   "cell_type": "code",
   "execution_count": 131,
   "metadata": {},
   "outputs": [
    {
     "data": {
      "image/png": "[encoded data removed]",
      "text/plain": [
       "<Figure size 1728x360 with 5 Axes>"
      ]
     },
     "metadata": {
      "needs_background": "light"
     },
     "output_type": "display_data"
    }
   ],
   "source": [
    "d = {}\n",
    "d['y_test'] = ml.y_test\n",
    "scorer = 'keras_loss'\n",
    "d['y_pred_test'] = {scorer: class_pred_test}\n",
    "d['idx_test'] = ml.idx_test\n",
    "d['prob_test'] = {scorer: np.hstack([1. - y_pred_test, y_pred_test])}\n",
    "d['classifier'] = \"keras_mlp\"\n",
    "\n",
    "if false_positive_test.sum() < 50:\n",
    "    ax = ml.plot_misidentified_time_lines(\n",
    "        d, scorer,\n",
    "        data['time'],\n",
    "        data['data'],\n",
    "        X=X,  # give original data, for right values in legend\n",
    "        feature_names=feature_names,\n",
    "        plot_false_positive=True, save_plot=False\n",
    "    )"
   ]
  },
  {
   "cell_type": "markdown",
   "metadata": {},
   "source": [
    "#### False negatives"
   ]
  },
  {
   "cell_type": "code",
   "execution_count": 132,
   "metadata": {},
   "outputs": [
    {
     "name": "stdout",
     "output_type": "stream",
     "text": [
      "False negatives too high for plotting: 517\n"
     ]
    }
   ],
   "source": [
    "d = {}\n",
    "d['y_test'] = ml.y_test\n",
    "scorer = 'keras_loss'\n",
    "d['y_pred_test'] = {scorer: class_pred_test}\n",
    "d['idx_test'] = ml.idx_test\n",
    "d['prob_test'] = {scorer: np.hstack([1. - y_pred_test, y_pred_test])}\n",
    "d['classifier'] = \"keras_mlp\"\n",
    "\n",
    "if false_negative_test.sum() < 50:\n",
    "    ax = ml.plot_misidentified_time_lines(\n",
    "        d, scorer,\n",
    "        data['time'],\n",
    "        data['data'],\n",
    "        X=X_log,  # give original data, for right values in legend\n",
    "        feature_names=feature_names,\n",
    "        plot_false_positive=False,\n",
    "        save_plot=False\n",
    "    )\n",
    "else:\n",
    "    print(f\"False negatives too high for plotting: {false_negative_test.sum():n}\")"
   ]
  },
  {
   "cell_type": "code",
   "execution_count": 133,
   "metadata": {},
   "outputs": [
    {
     "data": {
      "text/plain": [
       "['rise time',\n",
       " 'decay time',\n",
       " 'amplitude',\n",
       " 'pulse height',\n",
       " 'chi2 reduced',\n",
       " 'pulse integral fit']"
      ]
     },
     "execution_count": 133,
     "metadata": {},
     "output_type": "execute_result"
    }
   ],
   "source": [
    "feature_names"
   ]
  },
  {
   "cell_type": "code",
   "execution_count": 134,
   "metadata": {},
   "outputs": [],
   "source": [
    "# test samples with true positives\n",
    "tp_idx = (class_pred_test == 1) & (ml.y_test == 1)"
   ]
  },
  {
   "cell_type": "code",
   "execution_count": 135,
   "metadata": {},
   "outputs": [],
   "source": [
    "# energy resolution\n",
    "\n",
    "# get pulse integral of true positives\n",
    "pi = X_test.numpy()[tp_idx, feature_names.index(\"pulse integral fit\")]"
   ]
  },
  {
   "cell_type": "code",
   "execution_count": 136,
   "metadata": {},
   "outputs": [
    {
     "name": "stdout",
     "output_type": "stream",
     "text": [
      "0.24202375\n"
     ]
    },
    {
     "data": {
      "image/png": "[encoded data removed]",
      "text/plain": [
       "<Figure size 432x288 with 1 Axes>"
      ]
     },
     "metadata": {
      "needs_background": "light"
     },
     "output_type": "display_data"
    }
   ],
   "source": [
    "n, bins, _ = plt.hist(10.**pi, bins=50, density=True)\n",
    "cen = 0.5*(bins[1:] + bins[:-1])\n",
    "\n",
    "plt.plot(cen, norm.pdf(cen, loc=np.mean(10.**pi), scale=np.sqrt(np.var(10.**pi))))\n",
    "print(np.sqrt(np.var(10.**pi))/np.mean(10.**pi))"
   ]
  },
  {
   "cell_type": "code",
   "execution_count": 137,
   "metadata": {},
   "outputs": [],
   "source": [
    "from scipy.stats import norm"
   ]
  },
  {
   "cell_type": "code",
   "execution_count": null,
   "metadata": {},
   "outputs": [],
   "source": []
  },
  {
   "cell_type": "code",
   "execution_count": null,
   "metadata": {},
   "outputs": [],
   "source": []
  }
 ],
 "metadata": {
  "kernelspec": {
   "display_name": "Python [conda env:apple_tf]",
   "language": "python",
   "name": "conda-env-apple_tf-py"
  },
  "language_info": {
   "codemirror_mode": {
    "name": "ipython",
    "version": 3
   },
   "file_extension": ".py",
   "mimetype": "text/x-python",
   "name": "python",
   "nbconvert_exporter": "python",
   "pygments_lexer": "ipython3",
   "version": "3.8.10"
  }
 },
 "nbformat": 4,
 "nbformat_minor": 4
}
