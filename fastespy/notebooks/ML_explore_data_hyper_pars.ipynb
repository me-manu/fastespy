{
 "cells": [
  {
   "cell_type": "markdown",
   "metadata": {},
   "source": [
    "# Notebook to explore files and test ML stuff on intrinsic data set \n",
    "\n",
    "The idea is to compare this to Rikhav's cut based analysis. "
   ]
  },
  {
   "cell_type": "code",
   "execution_count": 1,
   "metadata": {},
   "outputs": [],
   "source": [
    "import numpy as np\n",
    "import glob\n",
    "import os\n",
    "import tqdm\n",
    "import itertools\n",
    "import matplotlib.pyplot as plt\n",
    "import time\n",
    "import copy\n",
    "from fastespy.readpydata import convert_data_to_ML_format\n",
    "from fastespy.plotting import plot_2d_hist, plot_scatter_w_hist"
   ]
  },
  {
   "cell_type": "code",
   "execution_count": 2,
   "metadata": {},
   "outputs": [],
   "source": [
    "%matplotlib inline"
   ]
  },
  {
   "cell_type": "markdown",
   "metadata": {},
   "source": [
    "### Explore the data\n",
    "\n",
    "Let's take a look at the data from Rikhav's intrinsic runs, done at $R_N = 0.3$ and a gain width product of 1.5 GHz. The trigger threshold was set to 20mV."
   ]
  },
  {
   "cell_type": "code",
   "execution_count": 3,
   "metadata": {},
   "outputs": [
    {
     "name": "stdout",
     "output_type": "stream",
     "text": [
      "17\n",
      "../../../data-01152021/0.3RN-1.5GHzGBWP-intrinsics-50MHz-20mV-1day-16-fit000.npy\n"
     ]
    }
   ],
   "source": [
    "path = \"../../../data-01152021/\"\n",
    "files = glob.glob(os.path.join(path, '*.npy'))\n",
    "\n",
    "print(len(files))\n",
    "print(files[0])"
   ]
  },
  {
   "cell_type": "markdown",
   "metadata": {},
   "source": [
    "Load one file and inspect it's contents:"
   ]
  },
  {
   "cell_type": "code",
   "execution_count": 4,
   "metadata": {},
   "outputs": [
    {
     "name": "stdout",
     "output_type": "stream",
     "text": [
      "1709\n"
     ]
    },
    {
     "data": {
      "text/plain": [
       "{'start time in hrs': 0.01628305595,\n",
       " 'end time in hrs': 0.0162831115,\n",
       " 'data': array([-0.0012398 , -0.00112535, -0.00089647, ...,  0.00028611,\n",
       "        -0.00024796,  0.00020981]),\n",
       " 'time': array([58.61900142, 58.61900144, 58.61900146, ..., 58.61920136,\n",
       "        58.61920138, 58.6192014 ]),\n",
       " 'rise time': 1.7650903275199694e-06,\n",
       " 'rise time error': 1.5309936511128432e-08,\n",
       " 'decay time': 2.287605898160283e-05,\n",
       " 'decay time error': 2.5212876321734424e-07,\n",
       " 'constant': 0.0004085272957005441,\n",
       " 'constant error': 3.960175446925966e-05,\n",
       " 'amplitude': 0.01804428397975213,\n",
       " 'amplitude error': 7.416273727863304e-05,\n",
       " 'pulse integral raw': -7.72645215374739e-07,\n",
       " 'pulse integral raw error': 3.000000248221113e-07,\n",
       " 'pulse height': -0.031212677749656446,\n",
       " 'pulse height error': 0.0014603982455307404,\n",
       " 'trigger time': 2.966826527028843e-05,\n",
       " 'chi2 reduced': 1.7620628040853559,\n",
       " 'voltage error': 0.0015,\n",
       " 'pulse integral fit': -8.3209149181234e-07}"
      ]
     },
     "execution_count": 4,
     "metadata": {},
     "output_type": "execute_result"
    }
   ],
   "source": [
    "x = np.load(files[0], allow_pickle=True).tolist()\n",
    "print(len(x.keys()))  # number of recorded triggers\n",
    "#print(x.keys())  # in Rikhav's files, the keys are integers from 1,..., N_trigger \n",
    "x[1]"
   ]
  },
  {
   "cell_type": "markdown",
   "metadata": {},
   "source": [
    "From this first look, define the key words that you would like to save"
   ]
  },
  {
   "cell_type": "code",
   "execution_count": 18,
   "metadata": {},
   "outputs": [
    {
     "name": "stdout",
     "output_type": "stream",
     "text": [
      "['rise time', 'decay time', 'constant', 'amplitude', 'pulse height', 'chi2 reduced', 'pulse integral fit']\n"
     ]
    }
   ],
   "source": [
    "feature_names = []\n",
    "remove = ['data', 'time', 'pulse integral raw', 'voltage error',\n",
    "          'error', 'start time in hrs', 'end time in hrs',\n",
    "          'trigger time'\n",
    "         ]\n",
    "\n",
    "for k in x[1].keys():\n",
    "    if not k in remove and not 'error' in k:\n",
    "        feature_names.append(k)\n",
    "\n",
    "print(feature_names)"
   ]
  },
  {
   "cell_type": "code",
   "execution_count": 19,
   "metadata": {},
   "outputs": [
    {
     "name": "stderr",
     "output_type": "stream",
     "text": [
      "100%|██████████| 17/17 [00:07<00:00,  2.21it/s]\n"
     ]
    }
   ],
   "source": [
    "result = {'type': []}\n",
    "t_tot_hrs = 0.\n",
    "\n",
    "# loop through files\n",
    "for f in tqdm.tqdm(files): \n",
    "    x = np.load(f, allow_pickle=True).tolist()\n",
    "\n",
    "    # for each file: calculate observation time\n",
    "    t_start = 1e10\n",
    "    t_stop = 0.\n",
    "    # loop through triggers\n",
    "    for i in range(1,len(x.keys())+1):\n",
    "        for name in feature_names:\n",
    "            if not name in result.keys():\n",
    "                result[name] = []\n",
    "                \n",
    "            result[name].append(x[i][name])\n",
    "        \n",
    "        if 'intrinsic' in f:\n",
    "            if x[i]['end time in hrs'] > t_stop:\n",
    "                t_stop = x[i]['end time in hrs']\n",
    "            if x[i]['start time in hrs'] < t_start:\n",
    "                t_start = x[i]['start time in hrs']\n",
    "            result['type'].append(0)\n",
    "        \n",
    "        if 'light' in f:\n",
    "            result['type'].append(1)\n",
    "\n",
    "    if 'intrinsic' in f:\n",
    "        t_tot_hrs += t_stop - t_start  # only add for dark count rate\n",
    "\n",
    "# convert into into numpy arrays\n",
    "for k, v in result.items():\n",
    "    if k == 'type':\n",
    "        dtype = np.bool\n",
    "    else:\n",
    "        dtype = np.float32\n",
    "    result[k] = np.array(v, dtype=dtype)"
   ]
  },
  {
   "cell_type": "code",
   "execution_count": 20,
   "metadata": {},
   "outputs": [
    {
     "data": {
      "text/plain": [
       "42207"
      ]
     },
     "execution_count": 20,
     "metadata": {},
     "output_type": "execute_result"
    }
   ],
   "source": [
    "len(result['rise time'])"
   ]
  },
  {
   "cell_type": "markdown",
   "metadata": {},
   "source": [
    "### Plot some histograms\n",
    "\n",
    "Rikhav said the following: \"The fit parameters I use for then selecting data are pulse height, amplitude, pulse integral, the exponential rise and decay times, and the chi2\""
   ]
  },
  {
   "cell_type": "code",
   "execution_count": 28,
   "metadata": {},
   "outputs": [],
   "source": [
    "# define labels\n",
    "label = {\n",
    "    'rise time': r'Rise time $(\\mu\\mathrm{s})$',\n",
    "    'decay time': r'Decay time $(\\mu\\mathrm{s})$',\n",
    "    'pulse height': r'Pulse height (mV)',\n",
    "    'amplitude': r'Amplitude (mV)',\n",
    "    'pulse integral fit': r'Pulse Integral (mV $\\mu$s)',\n",
    "    'chi2 reduced': r'$\\chi^2/$d.o.f.',\n",
    "    'constant': 'Constant offset (mV)'\n",
    "}"
   ]
  },
  {
   "cell_type": "code",
   "execution_count": 29,
   "metadata": {},
   "outputs": [
    {
     "data": {
      "image/png": "[encoded data removed]",
      "text/plain": [
       "<Figure size 432x288 with 1 Axes>"
      ]
     },
     "metadata": {
      "needs_background": "light"
     },
     "output_type": "display_data"
    }
   ],
   "source": [
    "k = 'rise time'\n",
    "bins = np.logspace(-9., -3., 100)\n",
    "\n",
    "for i in range(2):\n",
    "    m = result['type'] == i\n",
    "    plt.hist(result[k][m], bins=bins, label=i, density=True, alpha=0.5)\n",
    "\n",
    "plt.legend()\n",
    "plt.xlabel(label[k])\n",
    "plt.gca().set_xscale('log')"
   ]
  },
  {
   "cell_type": "code",
   "execution_count": 30,
   "metadata": {},
   "outputs": [
    {
     "data": {
      "image/png": "[encoded data removed]",
      "text/plain": [
       "<Figure size 432x288 with 1 Axes>"
      ]
     },
     "metadata": {
      "needs_background": "light"
     },
     "output_type": "display_data"
    }
   ],
   "source": [
    "k = 'decay time'\n",
    "bins = np.logspace(-7., -2., 100)\n",
    "for i in range(2):\n",
    "    m = result['type'] == i\n",
    "    plt.hist(result[k][m], bins=bins, label=i, density=True, alpha=0.5)\n",
    "plt.xlabel(label[k])\n",
    "plt.gca().set_xscale('log')"
   ]
  },
  {
   "cell_type": "code",
   "execution_count": 31,
   "metadata": {},
   "outputs": [
    {
     "data": {
      "image/png": "[encoded data removed]",
      "text/plain": [
       "<Figure size 432x288 with 1 Axes>"
      ]
     },
     "metadata": {
      "needs_background": "light"
     },
     "output_type": "display_data"
    }
   ],
   "source": [
    "k = 'pulse integral fit'\n",
    "bins = np.logspace(-8., -4., 100)\n",
    "for i in range(2):\n",
    "    m = result['type'] == i\n",
    "    plt.hist(-result[k][m], bins=bins, label=i, density=True, alpha=0.5)\n",
    "plt.xlabel(label[k])\n",
    "plt.gca().set_xscale('log')"
   ]
  },
  {
   "cell_type": "code",
   "execution_count": 32,
   "metadata": {},
   "outputs": [
    {
     "data": {
      "image/png": "[encoded data removed]",
      "text/plain": [
       "<Figure size 432x288 with 1 Axes>"
      ]
     },
     "metadata": {
      "needs_background": "light"
     },
     "output_type": "display_data"
    }
   ],
   "source": [
    "k = 'chi2 reduced'\n",
    "bins = np.logspace(-1, 2, 100)\n",
    "for i in range(2):\n",
    "    m = result['type'] == i\n",
    "    plt.hist(result[k][m], bins=bins, label=i, density=True, alpha=0.5)\n",
    "plt.xlabel(label[k])\n",
    "plt.gca().set_xscale('log')"
   ]
  },
  {
   "cell_type": "code",
   "execution_count": 33,
   "metadata": {},
   "outputs": [
    {
     "data": {
      "image/png": "[encoded data removed]",
      "text/plain": [
       "<Figure size 432x288 with 1 Axes>"
      ]
     },
     "metadata": {
      "needs_background": "light"
     },
     "output_type": "display_data"
    }
   ],
   "source": [
    "k = 'pulse height'\n",
    "bins = np.logspace(-2, -1, 100)\n",
    "for i in range(2):\n",
    "    m = result['type'] == i\n",
    "    plt.hist(-result[k][m], bins=bins, label=i, density=True, alpha=0.5)\n",
    "plt.xlabel(label[k])\n",
    "plt.gca().set_xscale('log')"
   ]
  },
  {
   "cell_type": "code",
   "execution_count": 43,
   "metadata": {},
   "outputs": [
    {
     "data": {
      "image/png": "[encoded data removed]",
      "text/plain": [
       "<Figure size 432x288 with 1 Axes>"
      ]
     },
     "metadata": {
      "needs_background": "light"
     },
     "output_type": "display_data"
    }
   ],
   "source": [
    "k = 'amplitude'\n",
    "bins = np.logspace(-3, -1, 100)\n",
    "for i in range(2):\n",
    "    m = result['type'] == i\n",
    "    plt.hist(result[k][m], bins=bins, label=i, alpha=0.5)\n",
    "plt.xlabel(label[k])\n",
    "plt.gca().set_xscale('log')"
   ]
  },
  {
   "cell_type": "code",
   "execution_count": 35,
   "metadata": {},
   "outputs": [
    {
     "data": {
      "image/png": "[encoded data removed]",
      "text/plain": [
       "<Figure size 432x288 with 1 Axes>"
      ]
     },
     "metadata": {
      "needs_background": "light"
     },
     "output_type": "display_data"
    }
   ],
   "source": [
    "k = 'constant'\n",
    "bins = np.logspace(-5, -1, 100)\n",
    "for i in range(2):\n",
    "    m = result['type'] == i\n",
    "    plt.hist(result[k][m], bins=bins, label=i, density=True, alpha=0.5)\n",
    "plt.xlabel(label[k])\n",
    "plt.gca().set_xscale('log')"
   ]
  },
  {
   "cell_type": "markdown",
   "metadata": {},
   "source": [
    "# Apply machine learning\n",
    "\n",
    "Test machine learning algorithms to separate light from background."
   ]
  },
  {
   "cell_type": "code",
   "execution_count": 156,
   "metadata": {},
   "outputs": [],
   "source": [
    "from sklearn.model_selection import train_test_split\n",
    "from sklearn.model_selection import KFold, StratifiedKFold\n",
    "from sklearn.model_selection import GridSearchCV\n",
    "from sklearn.model_selection import learning_curve\n",
    "from sklearn.metrics import get_scorer, make_scorer, fbeta_score\n",
    "from sklearn.ensemble import RandomForestClassifier, GradientBoostingClassifier\n",
    "from sklearn.neural_network import MLPClassifier\n",
    "from sklearn.tree import DecisionTreeClassifier\n",
    "from sklearn.metrics import classification_report, confusion_matrix\n",
    "from sklearn.metrics import ConfusionMatrixDisplay\n",
    "from sklearn.preprocessing import StandardScaler\n",
    "from sklearn.pipeline import make_pipeline"
   ]
  },
  {
   "cell_type": "code",
   "execution_count": 45,
   "metadata": {},
   "outputs": [],
   "source": [
    "X, y = convert_data_to_ML_format(result, feature_names, bkg_type=0, signal_type=1)"
   ]
  },
  {
   "cell_type": "code",
   "execution_count": 46,
   "metadata": {},
   "outputs": [
    {
     "name": "stdout",
     "output_type": "stream",
     "text": [
      "2627 39580\n"
     ]
    }
   ],
   "source": [
    "print(np.sum(y == 1), np.sum(y == 0))"
   ]
  },
  {
   "cell_type": "code",
   "execution_count": 47,
   "metadata": {},
   "outputs": [],
   "source": [
    "X_train, X_test, y_train, y_test = train_test_split(X, y,\n",
    "                                                    random_state=42,\n",
    "                                                    stratify=y, # use class labels, since large imbalance between light and bkg\n",
    "                                                    test_size=0.2\n",
    "                                                    )"
   ]
  },
  {
   "cell_type": "code",
   "execution_count": 137,
   "metadata": {},
   "outputs": [
    {
     "name": "stdout",
     "output_type": "stream",
     "text": [
      "[ 2.83844064e-06  4.07742613e-05  8.09105469e-04  1.91716572e-02\n",
      " -3.09358507e-02  3.12724394e+00 -1.37544670e-06]\n",
      "[1.16744351e-05 5.24398759e-05 3.80342121e-03 6.80674070e-03\n",
      " 9.02881672e-03 2.83112367e+00 1.16073526e-06]\n",
      "[-2.41789986e-16  6.06323488e-18  2.12917077e-17  2.13262121e-16\n",
      " -3.61903442e-17  1.84198708e-17  9.67791258e-17]\n",
      "[1. 1. 1. 1. 1. 1. 1.]\n",
      "[-0.00058068  0.04254445  0.00350468  0.01225276 -0.01970591  0.02025896\n",
      " -0.01458494]\n",
      "[0.54453729 2.17277558 0.64801249 0.92800992 0.98227279 1.07192081\n",
      " 0.87812632]\n"
     ]
    }
   ],
   "source": [
    "# preprocess data: zero mean, standard deviation of 1\n",
    "scaler = StandardScaler().fit(X_train)\n",
    "print(scaler.mean_)\n",
    "print(scaler.scale_)\n",
    "X_train_scaled = scaler.transform(X_train)\n",
    "X_test_scaled = scaler.transform(X_test)\n",
    "\n",
    "print(X_train_scaled.mean(axis=0))\n",
    "print(X_train_scaled.std(axis=0))\n",
    "\n",
    "print(X_test_scaled.mean(axis=0))\n",
    "print(X_test_scaled.std(axis=0))"
   ]
  },
  {
   "cell_type": "code",
   "execution_count": 48,
   "metadata": {},
   "outputs": [
    {
     "name": "stdout",
     "output_type": "stream",
     "text": [
      "2102 31663\n",
      "525 7917\n"
     ]
    }
   ],
   "source": [
    "print(np.sum(y_train == 1), np.sum(y_train == 0))\n",
    "print(np.sum(y_test == 1), np.sum(y_test == 0))"
   ]
  },
  {
   "cell_type": "code",
   "execution_count": 49,
   "metadata": {},
   "outputs": [],
   "source": [
    "# With the test data, perform a K-fold cross validation to\n",
    "# find the best hyper parameters.\n",
    "#kf = KFold(n_splits=5, shuffle=True, random_state=42)\n",
    "kf = StratifiedKFold(n_splits=5, shuffle=True, random_state=42)  # retain same percentage of bkg/light samples in each fold"
   ]
  },
  {
   "cell_type": "markdown",
   "metadata": {},
   "source": [
    "Classifiers and parameter grids for hyper parameter optimization:"
   ]
  },
  {
   "cell_type": "code",
   "execution_count": 159,
   "metadata": {},
   "outputs": [],
   "source": [
    "clf = dict(\n",
    "    dt=DecisionTreeClassifier,\n",
    "    bdt=GradientBoostingClassifier,\n",
    "    rf=RandomForestClassifier,\n",
    "    mlp=MLPClassifier\n",
    ")"
   ]
  },
  {
   "cell_type": "code",
   "execution_count": 169,
   "metadata": {},
   "outputs": [],
   "source": [
    "param_grid = dict(\n",
    "    dt={'ccp_alpha': np.linspace(0., 0.001, 5),\n",
    "        'min_samples_split': np.arange(2, 53, 10),\n",
    "        'max_depth': np.arange(2, 21, 1)\n",
    "        },\n",
    "#    bdt={'n_estimators': np.arange(100, 1100, 200),\n",
    "#         'learning_rate': np.arange(0.1, 1.1, 0.2),\n",
    "#         'max_depth': np.arange(2, 6, 2)\n",
    "#         },\n",
    "# smaller grid\n",
    "    bdt={'n_estimators': np.arange(100, 1100, 400),\n",
    "         'learning_rate': np.arange(0.1, 1.1, 0.4),\n",
    "         'max_depth': np.arange(2, 10, 3)\n",
    "         },\n",
    "\n",
    "    rf={'n_estimators': np.arange(100, 600, 200),\n",
    "        'max_features': np.arange(1, 6, 2),\n",
    "        'min_samples_split': np.arange(2, 82, 20),\n",
    "        },\n",
    "    mlp={\n",
    "        'hidden_layer_sizes': ((10,), (50,), (10, 10), (50, 50), (10, 10, 10), (50, 50, 50)),\n",
    "        'alpha': 10.**np.arange(-4, 0.5, 0.5)\n",
    "        }\n",
    ")"
   ]
  },
  {
   "cell_type": "code",
   "execution_count": 161,
   "metadata": {},
   "outputs": [],
   "source": [
    "default_pars = dict(\n",
    "    dt={'criterion': 'gini',\n",
    "        'min_samples_leaf': 1,\n",
    "        },\n",
    "    bdt={'loss': 'deviance',\n",
    "         'min_samples_split': 2\n",
    "         },\n",
    "    rf={'criterion': 'gini',\n",
    "        'max_depth': None,  # fully grown trees\n",
    "        },\n",
    "    mlp={'learning_rate' : 'constant',\n",
    "         'activation': 'relu',\n",
    "         'max_iter': 1000,\n",
    "         'solver': 'adam',\n",
    "         'shuffle': True,\n",
    "         'tol': 1e-4\n",
    "         }\n",
    ")"
   ]
  },
  {
   "cell_type": "markdown",
   "metadata": {},
   "source": [
    "Generate my own scorer the optimizes the detection significance. \n",
    "Numbers taken from ALPS design requirement document."
   ]
  },
  {
   "cell_type": "code",
   "execution_count": 162,
   "metadata": {},
   "outputs": [],
   "source": [
    "def significance_scorer(y, y_pred, \n",
    "                        n_s=2.8e-5,  # assumed signal rate in Hz\n",
    "                        e_d=0.5,  # detector efficiency\n",
    "                        t_obs=20. * 24. * 3600., # observation time in seconds\n",
    "                        N_tot=1000  # total number of triggers for t_obs\n",
    "                       ):\n",
    "    \"\"\"\n",
    "    Scorer that scales upwards for better detection significance, \n",
    "    see https://scikit-learn.org/stable/modules/generated/sklearn.metrics.make_scorer.html\n",
    "    \n",
    "    Parameters\n",
    "    ----------\n",
    "    y: array-like\n",
    "        true labels\n",
    "    \n",
    "    y_pred: array-like\n",
    "        predicted labels\n",
    "    \n",
    "    t_obs: float\n",
    "        observation time in seconds\n",
    "    \n",
    "    n_s: float\n",
    "        signal rate from regenerated photons\n",
    "        \n",
    "    e_d: fload\n",
    "        Detector efficiency\n",
    "        \n",
    "    N_tot: int\n",
    "        Total number of triggers recorded in t_obs\n",
    "        \n",
    "    Returns\n",
    "    -------\n",
    "    Detection significance\n",
    "    \"\"\"\n",
    "    \n",
    "    # true positive rate\n",
    "    # this is also the analysis efficiency\n",
    "    tp_rate = np.sum(y * y_pred) / float(np.sum(y))\n",
    "    \n",
    "    # misidentified background events\n",
    "    # false positive rate\n",
    "    fp_rate = np.sum((y_pred == 1) & (y == 0)) / float(len(y)) \n",
    "    # from this, you get the dark current\n",
    "    n_b = fp_rate * N_tot / t_obs\n",
    "    \n",
    "    S = 2. * (np.sqrt(e_d * tp_rate * n_s + n_b) - np.sqrt(n_b)) * np.sqrt(t_obs)\n",
    "    return S\n",
    "        "
   ]
  },
  {
   "cell_type": "markdown",
   "metadata": {},
   "source": [
    "Create a scorer"
   ]
  },
  {
   "cell_type": "code",
   "execution_count": 163,
   "metadata": {},
   "outputs": [],
   "source": [
    "sig_score = make_scorer(significance_scorer,\n",
    "                        greater_is_better=True,\n",
    "                        t_obs=t_tot_hrs * 3600.,\n",
    "                        N_tot=y.size)"
   ]
  },
  {
   "cell_type": "markdown",
   "metadata": {},
   "source": [
    "The scoring options:"
   ]
  },
  {
   "cell_type": "code",
   "execution_count": 164,
   "metadata": {},
   "outputs": [],
   "source": [
    "scoring = {'AUC': 'roc_auc',\n",
    "           'Accuracy': 'accuracy',\n",
    "           #'Precision': 'precision',\n",
    "           'Significance': sig_score\n",
    "#           'Recall': 'recall',\n",
    "#           'F_1': 'f1',\n",
    "#           'F_2': make_scorer(fbeta_score, beta=2),\n",
    "#           'F_{1/2}': make_scorer(fbeta_score, beta=0.5),\n",
    "           }"
   ]
  },
  {
   "cell_type": "code",
   "execution_count": 165,
   "metadata": {},
   "outputs": [],
   "source": [
    "refit = 'Significance'"
   ]
  },
  {
   "cell_type": "markdown",
   "metadata": {},
   "source": [
    "Which classifier to test:"
   ]
  },
  {
   "cell_type": "code",
   "execution_count": 170,
   "metadata": {},
   "outputs": [
    {
     "name": "stdout",
     "output_type": "stream",
     "text": [
      "{'n_estimators': array([100, 500, 900]), 'learning_rate': array([0.1, 0.5, 0.9]), 'max_depth': array([2, 5, 8])}\n"
     ]
    }
   ],
   "source": [
    "classifier = 'dt'\n",
    "classifier = 'bdt'\n",
    "print(param_grid[classifier])"
   ]
  },
  {
   "cell_type": "code",
   "execution_count": 171,
   "metadata": {},
   "outputs": [],
   "source": [
    "gs = GridSearchCV(clf[classifier](random_state=42, **default_pars[classifier]),\n",
    "                  param_grid=param_grid[classifier],\n",
    "                  scoring=scoring,\n",
    "                  refit=refit,\n",
    "                  #scoring=sig_score,  #only use significance\n",
    "                  #refit=True,\n",
    "                  return_train_score=True,\n",
    "                  cv=kf,\n",
    "                  verbose=1,\n",
    "                  n_jobs=8\n",
    "                  )"
   ]
  },
  {
   "cell_type": "code",
   "execution_count": 172,
   "metadata": {},
   "outputs": [
    {
     "name": "stdout",
     "output_type": "stream",
     "text": [
      "Fitting 5 folds for each of 27 candidates, totalling 135 fits\n"
     ]
    },
    {
     "name": "stderr",
     "output_type": "stream",
     "text": [
      "[Parallel(n_jobs=8)]: Using backend LokyBackend with 8 concurrent workers.\n",
      "[Parallel(n_jobs=8)]: Done  34 tasks      | elapsed:  2.7min\n",
      "[Parallel(n_jobs=8)]: Done 135 out of 135 | elapsed:  8.4min finished\n"
     ]
    },
    {
     "name": "stdout",
     "output_type": "stream",
     "text": [
      "The parameter search took 542.26 s\n"
     ]
    }
   ],
   "source": [
    "t0 = time.time()\n",
    "#gs.fit(X_train, y_train)\n",
    "gs.fit(X_train_scaled, y_train)\n",
    "\n",
    "t1 = time.time()\n",
    "print(\"The parameter search took {0:.2f} s\".format(t1-t0))"
   ]
  },
  {
   "cell_type": "code",
   "execution_count": 173,
   "metadata": {},
   "outputs": [],
   "source": [
    "results = dict(gs_cv=gs.cv_results_)"
   ]
  },
  {
   "cell_type": "markdown",
   "metadata": {},
   "source": [
    "### Post processing"
   ]
  },
  {
   "cell_type": "code",
   "execution_count": 174,
   "metadata": {},
   "outputs": [],
   "source": [
    "def profile_params(results, scoring, clfid):\n",
    "    \"\"\"\n",
    "    Profile the parameters.\n",
    "    For each value of a parameter, compute\n",
    "    the best mean test and train scores and standard deviations\n",
    "    from profiling, i.e., for each value of a parameter\n",
    "    set the other grid parameters to the values that maximize the score.\n",
    "    \"\"\"\n",
    "    mean_best_test = {}\n",
    "    mean_best_train = {}\n",
    "    std_best_test = {}\n",
    "    std_best_train = {}\n",
    "\n",
    "    for score in scoring.keys():\n",
    "\n",
    "        mean_best_test[score] = {}\n",
    "        mean_best_train[score] = {}\n",
    "        std_best_test[score] = {}\n",
    "        std_best_train[score] = {}\n",
    "\n",
    "        for param, v in param_grid[clfid].items():\n",
    "\n",
    "            mean_best_test[score][param] = np.zeros_like(v).astype(np.float)\n",
    "            mean_best_train[score][param] = np.zeros_like(v).astype(np.float)\n",
    "            std_best_test[score][param] = np.zeros_like(v).astype(np.float)\n",
    "            std_best_train[score][param] = np.zeros_like(v).astype(np.float)\n",
    "\n",
    "            for i, vi in enumerate(v):\n",
    "                # create a mask where flattened param array corresponds to k = vi\n",
    "                if param == 'hidden_layer_sizes':\n",
    "                    m = []\n",
    "                    for x in results['param_hidden_layer_sizes'].data:\n",
    "                        m.append(x == vi)\n",
    "                    m = np.array(m)\n",
    "                else:\n",
    "                    m = results[f'param_{param}'] == vi\n",
    "                # get the best value for this vi\n",
    "                idmax_test = np.argmax(results[f'mean_test_{score}'][m])\n",
    "                idmax_train = np.argmax(results[f'mean_train_{score}'][m])\n",
    "\n",
    "                mean_best_test[score][param][i] = results[f'mean_test_{score}'][m][idmax_test]\n",
    "                std_best_test[score][param][i] = results[f'std_test_{score}'][m][idmax_test]\n",
    "\n",
    "                mean_best_train[score][param][i] = results[f'mean_train_{score}'][m][idmax_train]\n",
    "                std_best_train[score][param][i] = results[f'std_train_{score}'][m][idmax_train]\n",
    "\n",
    "    return mean_best_test, std_best_test, mean_best_train, std_best_train"
   ]
  },
  {
   "cell_type": "code",
   "execution_count": 175,
   "metadata": {},
   "outputs": [],
   "source": [
    "mt, st, mtr, sstr = profile_params(gs.cv_results_, scoring, classifier)"
   ]
  },
  {
   "cell_type": "code",
   "execution_count": 177,
   "metadata": {},
   "outputs": [
    {
     "name": "stdout",
     "output_type": "stream",
     "text": [
      "[learning_curve] Training set sizes: [ 3376  6753 10129 13506 16882 20259 23635 27012]\n"
     ]
    },
    {
     "name": "stderr",
     "output_type": "stream",
     "text": [
      "[Parallel(n_jobs=8)]: Using backend LokyBackend with 8 concurrent workers.\n",
      "[Parallel(n_jobs=8)]: Done  40 out of  40 | elapsed:  3.0min finished\n"
     ]
    },
    {
     "name": "stdout",
     "output_type": "stream",
     "text": [
      "[learning_curve] Training set sizes: [ 3376  6753 10129 13506 16882 20259 23635 27012]\n"
     ]
    },
    {
     "name": "stderr",
     "output_type": "stream",
     "text": [
      "[Parallel(n_jobs=8)]: Using backend LokyBackend with 8 concurrent workers.\n",
      "[Parallel(n_jobs=8)]: Done  40 out of  40 | elapsed:  2.4min finished\n"
     ]
    },
    {
     "name": "stdout",
     "output_type": "stream",
     "text": [
      "[learning_curve] Training set sizes: [ 3376  6753 10129 13506 16882 20259 23635 27012]\n"
     ]
    },
    {
     "name": "stderr",
     "output_type": "stream",
     "text": [
      "[Parallel(n_jobs=8)]: Using backend LokyBackend with 8 concurrent workers.\n",
      "[Parallel(n_jobs=8)]: Done  40 out of  40 | elapsed:  2.5min finished\n"
     ]
    }
   ],
   "source": [
    "results['profile'] = dict(mean_test=mt, std_test=st, mean_train=mtr, std_train=sstr)\n",
    "\n",
    "# loop over scoring:\n",
    "# get the best param index\n",
    "# and for the estimator with these params,\n",
    "# calcuate the score.\n",
    "results['best_params'] = dict()\n",
    "results['score_validation'] = dict()\n",
    "results['learning_curve'] = dict()\n",
    "results['confusion_matrix_test'] = dict()\n",
    "results['confusion_matrix_train'] = dict()\n",
    "results['classification_report'] = dict()\n",
    "results['bkg_pred_test'] = dict()\n",
    "results['tp_efficiency_test'] = dict()\n",
    "results['bkg_pred_train'] = dict()\n",
    "results['tp_efficiency_train'] = dict()\n",
    "results['score_train'] = dict()\n",
    "\n",
    "# for learning curve\n",
    "train_sizes = (np.arange(0.1, 0.9, 0.1) * y_train.shape).astype(np.int)\n",
    "\n",
    "#X_use_test = X_test\n",
    "#X_use_train = X_train\n",
    "\n",
    "X_use_test = X_test_scaled\n",
    "X_use_train = X_train_scaled\n",
    "\n",
    "for k, v in scoring.items():\n",
    "\n",
    "    scorer = get_scorer(v)\n",
    "    # get the best index for parameters\n",
    "    best_index = np.nonzero(gs.cv_results_[f'rank_test_{k:s}'] == 1)[0][0]\n",
    "    results['best_params'][k] = copy.deepcopy(default_pars[classifier])\n",
    "    results['best_params'][k].update(gs.cv_results_['params'][best_index])\n",
    "\n",
    "    # init an estimator with the best parameters\n",
    "    #if k == 'Significance':\n",
    "    #    results['best_params'][k]['max_depth'] = 19\n",
    "    #    results['best_params'][k]['min_samples_split'] = 2\n",
    "    best_clf = clf[classifier](random_state=42, **results['best_params'][k])\n",
    "    best_clf.fit(X_use_train, y_train)\n",
    "\n",
    "    y_pred_test = best_clf.predict(X_use_test)\n",
    "    y_pred_train = best_clf.predict(X_use_train)\n",
    "\n",
    "    results['score_validation'][k] = scorer(best_clf, X_use_test, y_test)\n",
    "    results['score_train'][k] = scorer(best_clf, X_use_train, y_train)\n",
    "\n",
    "    # create a learning curve for the best classifier\n",
    "    train_sizes, train_scores, valid_scores = learning_curve(best_clf, X_use_train, y_train,\n",
    "                                                             train_sizes=train_sizes,\n",
    "                                                             cv=kf,\n",
    "                                                             verbose=1,\n",
    "                                                             n_jobs=8)\n",
    "\n",
    "    results['learning_curve'][k] = (train_sizes, train_scores, valid_scores)\n",
    "\n",
    "    # get the confusion matrix for the best classifier\n",
    "    results['confusion_matrix_test'][k] = confusion_matrix(y_test, y_pred_test)\n",
    "    results['confusion_matrix_train'][k] = confusion_matrix(y_train, y_pred_train)\n",
    "\n",
    "    # get the classification report for the best classifier\n",
    "    results['classification_report'][k] = classification_report(y_test, y_pred_test,\n",
    "                                                                output_dict=True,\n",
    "                                                                labels=[0, 1],\n",
    "                                                                target_names=['bkg', 'light']\n",
    "                                                                )\n",
    "\n",
    "    fp_test = results['confusion_matrix_test'][k][0,1]  # false positive\n",
    "    fp_test_rate = fp_test / y_pred_test.size  # false positive rate\n",
    "    results['bkg_pred_test'][k] = fp_test_rate * y.size\n",
    "    \n",
    "    fp_train = results['confusion_matrix_train'][k][0,1]  # false positive\n",
    "    fp_train_rate = fp_test / y_pred_train.size  # false positive rate\n",
    "    results['bkg_pred_train'][k] = fp_train_rate * y.size\n",
    "    \n",
    "    # efficiency of identifying light\n",
    "    tp_test = results['confusion_matrix_test'][k][1,1]  # true positive\n",
    "    tp_train = results['confusion_matrix_train'][k][1,1]  # true positive\n",
    "    results['tp_efficiency_test'][k] = tp_test / (y_test == 1).sum()\n",
    "    results['tp_efficiency_train'][k] = tp_train / (y_train == 1).sum()"
   ]
  },
  {
   "cell_type": "code",
   "execution_count": 180,
   "metadata": {},
   "outputs": [
    {
     "name": "stdout",
     "output_type": "stream",
     "text": [
      "AUC {'loss': 'deviance', 'min_samples_split': 2, 'learning_rate': 0.1, 'max_depth': 2, 'n_estimators': 900}\n",
      "Accuracy {'loss': 'deviance', 'min_samples_split': 2, 'learning_rate': 0.1, 'max_depth': 5, 'n_estimators': 500}\n",
      "Significance {'loss': 'deviance', 'min_samples_split': 2, 'learning_rate': 0.1, 'max_depth': 5, 'n_estimators': 500}\n"
     ]
    }
   ],
   "source": [
    "for k, v in scoring.items():\n",
    "    print(k, results['best_params'][k])"
   ]
  },
  {
   "cell_type": "code",
   "execution_count": 181,
   "metadata": {},
   "outputs": [
    {
     "name": "stdout",
     "output_type": "stream",
     "text": [
      "AUC 0.9998407285106792 1.0\n",
      "Accuracy 0.9973939824686093 1.0\n",
      "Significance 2.9181554313336378 10.218114061346759\n"
     ]
    }
   ],
   "source": [
    "for k, v in scoring.items():\n",
    "    print(k, results['score_validation'][k], results['score_train'][k])"
   ]
  },
  {
   "cell_type": "markdown",
   "metadata": {},
   "source": [
    "## Plot the results\n",
    "\n",
    "First plot the **parameter profiles**"
   ]
  },
  {
   "cell_type": "code",
   "execution_count": 182,
   "metadata": {},
   "outputs": [
    {
     "name": "stdout",
     "output_type": "stream",
     "text": [
      "n_estimators\n",
      "learning_rate\n",
      "max_depth\n"
     ]
    },
    {
     "data": {
      "image/png": "[encoded data removed]",
      "text/plain": [
       "<Figure size 864x288 with 3 Axes>"
      ]
     },
     "metadata": {
      "needs_background": "light"
     },
     "output_type": "display_data"
    }
   ],
   "source": [
    "plt.figure(figsize=(4*3, 4))\n",
    "ax = []\n",
    "for i, score in enumerate(['Significance']):\n",
    "    color = 'g' if score == 'AUC' else 'k'\n",
    "    color = 'r' if score == 'Accuracy' else color\n",
    "    for j, par in enumerate(results['profile']['mean_test'][score].keys()):\n",
    "        \n",
    "        if not i:\n",
    "            ax.append(plt.subplot(1,len(results['profile']['mean_test'][score].keys()), j+1))\n",
    "        \n",
    "        print (par)\n",
    "        if par == 'hidden_layer_sizes':\n",
    "            \n",
    "            x = np.unique([np.sum(results['gs_cv'][f'param_{par}'].data[i]) for i in \\\n",
    "                           range(results['gs_cv'][f'param_{par}'].data.size)])\n",
    "        \n",
    "        else:\n",
    "            x = np.unique(results['gs_cv'][f'param_{par}'].data).astype(np.float)\n",
    "        \n",
    "        for t in ['test', 'train']:\n",
    "            ax[j].plot(x, results['profile'][f'mean_{t:s}'][score][par],\n",
    "                       color=color, \n",
    "                       ls='-' if t == 'test' else '--',\n",
    "                       label=score + \" \" + t\n",
    "                      )\n",
    "        \n",
    "            if t == 'test':\n",
    "                ax[j].fill_between(x, results['profile'][f'mean_{t:s}'][score][par] - \\\n",
    "                                       0.5 * results['profile'][f'std_{t:s}'][score][par],\n",
    "                                   y2=results['profile'][f'mean_{t:s}'][score][par] + \\\n",
    "                                       0.5 * results['profile'][f'std_{t:s}'][score][par],\n",
    "                                   color=color,\n",
    "                                   alpha=0.3)\n",
    "        \n",
    "        if not i:\n",
    "            ax[j].set_xlabel(par)\n",
    "        else:\n",
    "            ax[j].legend()\n",
    "            #ax[j].set_ylim(0.92,1.001)\n",
    "            #ax[j].grid()\n",
    "        if j:\n",
    "            ax[j].tick_params(labelleft=False)\n",
    "        ax[j].set_ylim(0.1,11.)  \n",
    "plt.subplots_adjust(wspace = 0.05)"
   ]
  },
  {
   "cell_type": "code",
   "execution_count": 183,
   "metadata": {},
   "outputs": [
    {
     "name": "stdout",
     "output_type": "stream",
     "text": [
      "n_estimators\n",
      "learning_rate\n",
      "max_depth\n",
      "n_estimators\n",
      "learning_rate\n",
      "max_depth\n"
     ]
    },
    {
     "data": {
      "image/png": "[encoded data removed]",
      "text/plain": [
       "<Figure size 864x288 with 3 Axes>"
      ]
     },
     "metadata": {
      "needs_background": "light"
     },
     "output_type": "display_data"
    }
   ],
   "source": [
    "plt.figure(figsize=(4*3, 4))\n",
    "ax = []\n",
    "#for i, score in enumerate(['AUC', 'Accuracy', 'Precision']):\n",
    "for i, score in enumerate(['AUC', 'Accuracy']):\n",
    "    color = 'g' if score == 'AUC' else 'k'\n",
    "    color = 'r' if score == 'Accuracy' else color\n",
    "    for j, par in enumerate(results['profile']['mean_test'][score].keys()):\n",
    "        \n",
    "        if not i:\n",
    "            ax.append(plt.subplot(1,len(results['profile']['mean_test'][score].keys()), j+1))\n",
    "        \n",
    "        print (par)\n",
    "        if par == 'hidden_layer_sizes':\n",
    "            \n",
    "            x = np.unique([np.sum(results['gs_cv'][f'param_{par}'].data[i]) for i in \\\n",
    "                           range(results['gs_cv'][f'param_{par}'].data.size)])\n",
    "        \n",
    "        else:\n",
    "            x = np.unique(results['gs_cv'][f'param_{par}'].data).astype(np.float)\n",
    "        \n",
    "        for t in ['test', 'train']:\n",
    "            ax[j].plot(x, results['profile'][f'mean_{t:s}'][score][par],\n",
    "                       color=color, \n",
    "                       ls='-' if t == 'test' else '--',\n",
    "                       label=score + \" \" + t\n",
    "                      )\n",
    "        \n",
    "            if t == 'test':\n",
    "                ax[j].fill_between(x, results['profile'][f'mean_{t:s}'][score][par] - \\\n",
    "                                       0.5 * results['profile'][f'std_{t:s}'][score][par],\n",
    "                                   y2=results['profile'][f'mean_{t:s}'][score][par] + \\\n",
    "                                       0.5 * results['profile'][f'std_{t:s}'][score][par],\n",
    "                                   color=color,\n",
    "                                   alpha=0.3)\n",
    "        \n",
    "        if not i:\n",
    "            ax[j].set_xlabel(par)\n",
    "        else:\n",
    "            ax[j].legend()\n",
    "            #ax[j].set_ylim(0.92,1.001)\n",
    "            ax[j].set_ylim(1.,10.)\n",
    "            #ax[j].grid()\n",
    "        if j:\n",
    "            ax[j].tick_params(labelleft=False)\n",
    "        ax[j].set_ylim(0.96,1.01)  \n",
    "plt.subplots_adjust(wspace = 0.05)"
   ]
  },
  {
   "cell_type": "markdown",
   "metadata": {},
   "source": [
    "Plot the **learning curve**"
   ]
  },
  {
   "cell_type": "code",
   "execution_count": 184,
   "metadata": {},
   "outputs": [
    {
     "data": {
      "text/plain": [
       "Text(0, 0.5, 'Score')"
      ]
     },
     "execution_count": 184,
     "metadata": {},
     "output_type": "execute_result"
    },
    {
     "data": {
      "image/png": "[encoded data removed]",
      "text/plain": [
       "<Figure size 432x288 with 1 Axes>"
      ]
     },
     "metadata": {
      "needs_background": "light"
     },
     "output_type": "display_data"
    }
   ],
   "source": [
    "for score, val in results['learning_curve'].items():\n",
    "    \n",
    "    if not score == 'Significance':\n",
    "        continue\n",
    "    \n",
    "    train_sizes, train_scores, valid_scores = val\n",
    "    \n",
    "    plt.plot(train_sizes, train_scores.mean(axis=1),\n",
    "             marker='o',\n",
    "             label=score + \" Train\",\n",
    "             ls='--',\n",
    "             color='g' if score == 'AUC' else 'k'\n",
    "            )\n",
    "    plt.fill_between(train_sizes,\n",
    "                     train_scores.mean(axis=1) - np.sqrt(train_scores.var()),\n",
    "                     y2=train_scores.mean(axis=1) + np.sqrt(train_scores.var()),\n",
    "                     alpha=0.3,\n",
    "                     color='g' if score == 'AUC' else 'k',\n",
    "                     zorder=-1\n",
    "                    )\n",
    "    \n",
    "    plt.plot(train_sizes, valid_scores.mean(axis=1),\n",
    "             marker='o',\n",
    "             label=score + \" valid\", ls='-',\n",
    "             color= 'g' if score == 'AUC' else 'k',\n",
    "            )\n",
    "    plt.fill_between(train_sizes,\n",
    "                     valid_scores.mean(axis=1) - np.sqrt(valid_scores.var()),\n",
    "                     y2=valid_scores.mean(axis=1) + np.sqrt(valid_scores.var()),\n",
    "                     alpha=0.3,\n",
    "                     color='g' if score == 'AUC' else 'k',\n",
    "                     zorder=-1\n",
    "                    )\n",
    "\n",
    "plt.legend(title=classifier)\n",
    "plt.grid()\n",
    "plt.xlabel(\"Sample Size\")\n",
    "plt.ylabel(\"Score\")\n"
   ]
  },
  {
   "cell_type": "code",
   "execution_count": 185,
   "metadata": {},
   "outputs": [
    {
     "data": {
      "image/png": "[encoded data removed]",
      "text/plain": [
       "<Figure size 432x288 with 2 Axes>"
      ]
     },
     "metadata": {
      "needs_background": "light"
     },
     "output_type": "display_data"
    },
    {
     "data": {
      "image/png": "[encoded data removed]",
      "text/plain": [
       "<Figure size 432x288 with 2 Axes>"
      ]
     },
     "metadata": {
      "needs_background": "light"
     },
     "output_type": "display_data"
    },
    {
     "data": {
      "image/png": "[encoded data removed]",
      "text/plain": [
       "<Figure size 432x288 with 2 Axes>"
      ]
     },
     "metadata": {
      "needs_background": "light"
     },
     "output_type": "display_data"
    }
   ],
   "source": [
    "for score in scoring.keys():\n",
    "    disp = ConfusionMatrixDisplay(np.array(results['confusion_matrix_test'][score]),\n",
    "                                  display_labels=['bkg', 'light'])\n",
    "    disp.plot(cmap=plt.cm.Blues,\n",
    "              #ax=ax,\n",
    "              values_format=\"d\")\n",
    "    plt.title(f\"{classifier}\" + f\" {score} \")"
   ]
  },
  {
   "cell_type": "code",
   "execution_count": 193,
   "metadata": {},
   "outputs": [
    {
     "name": "stdout",
     "output_type": "stream",
     "text": [
      "==== AUC : bkg_pred ====\n",
      "test: 2.950e-05\n",
      "train: 7.375e-06\n",
      "==== AUC : tp_efficiency ====\n",
      "test: 9.867e-01\n",
      "train: 1.000e+00\n",
      "==== AUC : score ====\n",
      "train: 1.000e+00\n",
      "validation: 9.998e-01\n",
      "==== Accuracy : bkg_pred ====\n",
      "test: 3.486e-05\n",
      "train: 8.716e-06\n",
      "==== Accuracy : tp_efficiency ====\n",
      "test: 9.829e-01\n",
      "train: 1.000e+00\n",
      "==== Accuracy : score ====\n",
      "train: 1.000e+00\n",
      "validation: 9.974e-01\n",
      "==== Significance : bkg_pred ====\n",
      "test: 3.486e-05\n",
      "train: 8.716e-06\n",
      "==== Significance : tp_efficiency ====\n",
      "test: 9.829e-01\n",
      "train: 1.000e+00\n",
      "==== Significance : score ====\n",
      "train: 1.022e+01\n",
      "validation: 2.918e+00\n"
     ]
    }
   ],
   "source": [
    "keys = ['bkg_pred', 'tp_efficiency', 'score']\n",
    "\n",
    "for k in scoring.keys():\n",
    "    for ki in keys:\n",
    "        print(\"==== {0:s} : {1:s} ====\".format(k, ki))\n",
    "        if not ki == 'score':\n",
    "            for t in ['test', 'train']:\n",
    "                if ki == 'bkg_pred':\n",
    "                    c = t_tot_hrs * 3600.\n",
    "                else:\n",
    "                    c = 1.\n",
    "                print(\"{0:s}: {1:.3e}\".format(t,\n",
    "                                              results['{0:s}_{1:s}'.format(ki, t)][k] \n",
    "                                              / c))\n",
    "        else:\n",
    "            for t in ['train', 'validation']:\n",
    "                print(\"{0:s}: {1:.3e}\".format(t,\n",
    "                                              results['{0:s}_{1:s}'.format(ki, t)][k]))"
   ]
  },
  {
   "cell_type": "code",
   "execution_count": 194,
   "metadata": {},
   "outputs": [
    {
     "name": "stdout",
     "output_type": "stream",
     "text": [
      "0.9828571428571429\n",
      "1.0\n"
     ]
    }
   ],
   "source": [
    "print(results['tp_efficiency_test']['Significance'])\n",
    "print(results['tp_efficiency_train']['Significance'])"
   ]
  },
  {
   "cell_type": "code",
   "execution_count": 195,
   "metadata": {},
   "outputs": [
    {
     "name": "stdout",
     "output_type": "stream",
     "text": [
      "2.9181554313336378\n",
      "10.218114061346759\n"
     ]
    }
   ],
   "source": [
    "print(results['score_validation']['Significance'])\n",
    "print(results['score_train']['Significance'])"
   ]
  },
  {
   "cell_type": "markdown",
   "metadata": {},
   "source": [
    "### Plot the sensitivity"
   ]
  },
  {
   "cell_type": "code",
   "execution_count": 196,
   "metadata": {},
   "outputs": [],
   "source": [
    "def significance(n_b, obs_time, n_s = 2.8e-5, e_d=0.5, e_a=1.):\n",
    "    \"\"\"Signficance of a signal given some background rate and obs time\"\"\"\n",
    "    N_b = obs_time * n_b\n",
    "    N_s = obs_time * n_s\n",
    "    eps = e_d * e_a\n",
    "    S = 2. * (np.sqrt(eps * N_s + N_b) - np.sqrt(N_b))\n",
    "    return S"
   ]
  },
  {
   "cell_type": "code",
   "execution_count": 197,
   "metadata": {},
   "outputs": [
    {
     "name": "stdout",
     "output_type": "stream",
     "text": [
      "4.414883729476727\n"
     ]
    }
   ],
   "source": [
    "# sensitivity from Rikhav's result\n",
    "print(significance(7.52e-6, obs_time=t_tot_hrs * 3600., n_s = 2.8e-5, e_d=0.5, e_a=0.82))"
   ]
  },
  {
   "cell_type": "code",
   "execution_count": 285,
   "metadata": {},
   "outputs": [
    {
     "data": {
      "text/plain": [
       "Text(0, 0.5, 'Signficance $S$')"
      ]
     },
     "execution_count": 285,
     "metadata": {},
     "output_type": "execute_result"
    },
    {
     "data": {
      "image/png": "[encoded data removed]",
      "text/plain": [
       "<Figure size 600x450 with 1 Axes>"
      ]
     },
     "metadata": {
      "needs_background": "light"
     },
     "output_type": "display_data"
    }
   ],
   "source": [
    "plt.figure(figsize=(4,3), dpi=150)\n",
    "n_b = np.logspace(-7., -4., 100)\n",
    "obs_time = 20. * 24. * 3600.\n",
    "plt.semilogx(n_b, significance(n_b, obs_time=obs_time), lw=2)\n",
    "plt.grid()\n",
    "plt.yticks(np.arange(10))\n",
    "plt.xlabel(\"Dark current rate (Hz)\")\n",
    "plt.ylabel(\"Signficance $S$\")"
   ]
  },
  {
   "cell_type": "code",
   "execution_count": null,
   "metadata": {},
   "outputs": [],
   "source": []
  }
 ],
 "metadata": {
  "kernelspec": {
   "display_name": "Python [conda env:ml]",
   "language": "python",
   "name": "conda-env-ml-py"
  },
  "language_info": {
   "codemirror_mode": {
    "name": "ipython",
    "version": 3
   },
   "file_extension": ".py",
   "mimetype": "text/x-python",
   "name": "python",
   "nbconvert_exporter": "python",
   "pygments_lexer": "ipython3",
   "version": "3.7.10"
  }
 },
 "nbformat": 4,
 "nbformat_minor": 2
}
