{
 "cells": [
  {
   "cell_type": "code",
   "execution_count": 2,
   "metadata": {},
   "outputs": [],
   "source": [
    "from fastespy import feldman_cousins as fc\n",
    "import numpy as np\n",
    "import matplotlib.pyplot as plt\n",
    "import time"
   ]
  },
  {
   "cell_type": "code",
   "execution_count": 3,
   "metadata": {},
   "outputs": [],
   "source": [
    "%load_ext autoreload"
   ]
  },
  {
   "cell_type": "code",
   "execution_count": 4,
   "metadata": {},
   "outputs": [],
   "source": [
    "%autoreload 2"
   ]
  },
  {
   "cell_type": "code",
   "execution_count": 5,
   "metadata": {},
   "outputs": [],
   "source": [
    "%matplotlib inline"
   ]
  },
  {
   "cell_type": "code",
   "execution_count": 6,
   "metadata": {},
   "outputs": [
    {
     "name": "stdout",
     "output_type": "stream",
     "text": [
      "(2401,) (50,)\n"
     ]
    },
    {
     "name": "stderr",
     "output_type": "stream",
     "text": [
      "/Users/manuelmeyer/Python/TESdata/fastespy/fastespy/feldman_cousins.py:313: UserWarning: The given `mus`-array is probably to coarse. No upper limit found for `n_obs` = 23. Setting the upper limit to inf.\n",
      "  'Setting the upper limit to inf.').format(n))\n",
      "/Users/manuelmeyer/Python/TESdata/fastespy/fastespy/feldman_cousins.py:313: UserWarning: The given `mus`-array is probably to coarse. No upper limit found for `n_obs` = 24. Setting the upper limit to inf.\n",
      "  'Setting the upper limit to inf.').format(n))\n",
      "/Users/manuelmeyer/Python/TESdata/fastespy/fastespy/feldman_cousins.py:313: UserWarning: The given `mus`-array is probably to coarse. No upper limit found for `n_obs` = 25. Setting the upper limit to inf.\n",
      "  'Setting the upper limit to inf.').format(n))\n",
      "/Users/manuelmeyer/Python/TESdata/fastespy/fastespy/feldman_cousins.py:313: UserWarning: The given `mus`-array is probably to coarse. No upper limit found for `n_obs` = 26. Setting the upper limit to inf.\n",
      "  'Setting the upper limit to inf.').format(n))\n",
      "/Users/manuelmeyer/Python/TESdata/fastespy/fastespy/feldman_cousins.py:313: UserWarning: The given `mus`-array is probably to coarse. No upper limit found for `n_obs` = 27. Setting the upper limit to inf.\n",
      "  'Setting the upper limit to inf.').format(n))\n",
      "/Users/manuelmeyer/Python/TESdata/fastespy/fastespy/feldman_cousins.py:313: UserWarning: The given `mus`-array is probably to coarse. No upper limit found for `n_obs` = 28. Setting the upper limit to inf.\n",
      "  'Setting the upper limit to inf.').format(n))\n",
      "/Users/manuelmeyer/Python/TESdata/fastespy/fastespy/feldman_cousins.py:313: UserWarning: The given `mus`-array is probably to coarse. No upper limit found for `n_obs` = 29. Setting the upper limit to inf.\n",
      "  'Setting the upper limit to inf.').format(n))\n",
      "/Users/manuelmeyer/Python/TESdata/fastespy/fastespy/feldman_cousins.py:313: UserWarning: The given `mus`-array is probably to coarse. No upper limit found for `n_obs` = 30. Setting the upper limit to inf.\n",
      "  'Setting the upper limit to inf.').format(n))\n",
      "/Users/manuelmeyer/Python/TESdata/fastespy/fastespy/feldman_cousins.py:313: UserWarning: The given `mus`-array is probably to coarse. No upper limit found for `n_obs` = 31. Setting the upper limit to inf.\n",
      "  'Setting the upper limit to inf.').format(n))\n",
      "/Users/manuelmeyer/Python/TESdata/fastespy/fastespy/feldman_cousins.py:313: UserWarning: The given `mus`-array is probably to coarse. No upper limit found for `n_obs` = 32. Setting the upper limit to inf.\n",
      "  'Setting the upper limit to inf.').format(n))\n",
      "/Users/manuelmeyer/Python/TESdata/fastespy/fastespy/feldman_cousins.py:313: UserWarning: The given `mus`-array is probably to coarse. No upper limit found for `n_obs` = 33. Setting the upper limit to inf.\n",
      "  'Setting the upper limit to inf.').format(n))\n",
      "/Users/manuelmeyer/Python/TESdata/fastespy/fastespy/feldman_cousins.py:313: UserWarning: The given `mus`-array is probably to coarse. No upper limit found for `n_obs` = 34. Setting the upper limit to inf.\n",
      "  'Setting the upper limit to inf.').format(n))\n",
      "/Users/manuelmeyer/Python/TESdata/fastespy/fastespy/feldman_cousins.py:313: UserWarning: The given `mus`-array is probably to coarse. No upper limit found for `n_obs` = 35. Setting the upper limit to inf.\n",
      "  'Setting the upper limit to inf.').format(n))\n",
      "/Users/manuelmeyer/Python/TESdata/fastespy/fastespy/feldman_cousins.py:313: UserWarning: The given `mus`-array is probably to coarse. No upper limit found for `n_obs` = 36. Setting the upper limit to inf.\n",
      "  'Setting the upper limit to inf.').format(n))\n",
      "/Users/manuelmeyer/Python/TESdata/fastespy/fastespy/feldman_cousins.py:313: UserWarning: The given `mus`-array is probably to coarse. No upper limit found for `n_obs` = 37. Setting the upper limit to inf.\n",
      "  'Setting the upper limit to inf.').format(n))\n",
      "/Users/manuelmeyer/Python/TESdata/fastespy/fastespy/feldman_cousins.py:313: UserWarning: The given `mus`-array is probably to coarse. No upper limit found for `n_obs` = 38. Setting the upper limit to inf.\n",
      "  'Setting the upper limit to inf.').format(n))\n",
      "/Users/manuelmeyer/Python/TESdata/fastespy/fastespy/feldman_cousins.py:313: UserWarning: The given `mus`-array is probably to coarse. No upper limit found for `n_obs` = 39. Setting the upper limit to inf.\n",
      "  'Setting the upper limit to inf.').format(n))\n",
      "/Users/manuelmeyer/Python/TESdata/fastespy/fastespy/feldman_cousins.py:313: UserWarning: The given `mus`-array is probably to coarse. No upper limit found for `n_obs` = 40. Setting the upper limit to inf.\n",
      "  'Setting the upper limit to inf.').format(n))\n",
      "/Users/manuelmeyer/Python/TESdata/fastespy/fastespy/feldman_cousins.py:313: UserWarning: The given `mus`-array is probably to coarse. No upper limit found for `n_obs` = 41. Setting the upper limit to inf.\n",
      "  'Setting the upper limit to inf.').format(n))\n",
      "/Users/manuelmeyer/Python/TESdata/fastespy/fastespy/feldman_cousins.py:313: UserWarning: The given `mus`-array is probably to coarse. No upper limit found for `n_obs` = 42. Setting the upper limit to inf.\n",
      "  'Setting the upper limit to inf.').format(n))\n",
      "/Users/manuelmeyer/Python/TESdata/fastespy/fastespy/feldman_cousins.py:313: UserWarning: The given `mus`-array is probably to coarse. No upper limit found for `n_obs` = 43. Setting the upper limit to inf.\n",
      "  'Setting the upper limit to inf.').format(n))\n",
      "/Users/manuelmeyer/Python/TESdata/fastespy/fastespy/feldman_cousins.py:313: UserWarning: The given `mus`-array is probably to coarse. No upper limit found for `n_obs` = 44. Setting the upper limit to inf.\n",
      "  'Setting the upper limit to inf.').format(n))\n",
      "/Users/manuelmeyer/Python/TESdata/fastespy/fastespy/feldman_cousins.py:313: UserWarning: The given `mus`-array is probably to coarse. No upper limit found for `n_obs` = 45. Setting the upper limit to inf.\n",
      "  'Setting the upper limit to inf.').format(n))\n",
      "/Users/manuelmeyer/Python/TESdata/fastespy/fastespy/feldman_cousins.py:313: UserWarning: The given `mus`-array is probably to coarse. No upper limit found for `n_obs` = 46. Setting the upper limit to inf.\n",
      "  'Setting the upper limit to inf.').format(n))\n",
      "/Users/manuelmeyer/Python/TESdata/fastespy/fastespy/feldman_cousins.py:313: UserWarning: The given `mus`-array is probably to coarse. No upper limit found for `n_obs` = 47. Setting the upper limit to inf.\n",
      "  'Setting the upper limit to inf.').format(n))\n",
      "/Users/manuelmeyer/Python/TESdata/fastespy/fastespy/feldman_cousins.py:313: UserWarning: The given `mus`-array is probably to coarse. No upper limit found for `n_obs` = 48. Setting the upper limit to inf.\n",
      "  'Setting the upper limit to inf.').format(n))\n",
      "/Users/manuelmeyer/Python/TESdata/fastespy/fastespy/feldman_cousins.py:313: UserWarning: The given `mus`-array is probably to coarse. No upper limit found for `n_obs` = 49. Setting the upper limit to inf.\n",
      "  'Setting the upper limit to inf.').format(n))\n"
     ]
    }
   ],
   "source": [
    "t0 = time.time()\n",
    "n_b = 0\n",
    "n_obs = np.arange(50)\n",
    "mus = np.linspace(0, 30, 2401)\n",
    "alpha = 0.9\n",
    "\n",
    "print(mus.shape, n_obs.shape)\n",
    "\n",
    "lower_limits_mu, upper_limits_mu = fc.poissonian_feldman_cousins_interval(\n",
    "        n_obs=n_obs,\n",
    "        n_b=n_b,\n",
    "        mus=mus,\n",
    "        alpha=alpha,\n",
    "        fix_discrete_n_pathology=False,\n",
    "        n_jobs=8)\n",
    "\n",
    "lower_limits = lower_limits_mu[:, 0]\n",
    "upper_limits = upper_limits_mu[:, 0]\n",
    "t1 = time.time()"
   ]
  },
  {
   "cell_type": "code",
   "execution_count": 7,
   "metadata": {},
   "outputs": [
    {
     "name": "stdout",
     "output_type": "stream",
     "text": [
      "3.215491771697998\n"
     ]
    }
   ],
   "source": [
    "print(t1 - t0)"
   ]
  },
  {
   "cell_type": "code",
   "execution_count": 8,
   "metadata": {},
   "outputs": [
    {
     "data": {
      "text/plain": [
       "Text(0, 0.5, '$\\\\mu$')"
      ]
     },
     "execution_count": 8,
     "metadata": {},
     "output_type": "execute_result"
    },
    {
     "data": {
      "image/png": "[encoded data removed]",
      "text/plain": [
       "<Figure size 432x288 with 1 Axes>"
      ]
     },
     "metadata": {
      "needs_background": "light"
     },
     "output_type": "display_data"
    }
   ],
   "source": [
    "plt.plot(n_obs, lower_limits, drawstyle='steps-post', color='C0')\n",
    "plt.plot(n_obs, upper_limits, drawstyle='steps-post', color='C0')\n",
    "plt.xlim(0, 25)\n",
    "plt.ylim(0, 25)\n",
    "plt.xlabel(r'$n_{\\mathrm{obs}}$')\n",
    "plt.ylabel(r'$\\mu$')"
   ]
  },
  {
   "cell_type": "code",
   "execution_count": 9,
   "metadata": {},
   "outputs": [
    {
     "name": "stdout",
     "output_type": "stream",
     "text": [
      "(50, 1)\n"
     ]
    }
   ],
   "source": [
    "print(upper_limits_mu.shape)"
   ]
  },
  {
   "cell_type": "code",
   "execution_count": 15,
   "metadata": {},
   "outputs": [
    {
     "name": "stdout",
     "output_type": "stream",
     "text": [
      "5.5125\n",
      "16.5\n"
     ]
    }
   ],
   "source": [
    "print (lower_limits_mu[10,0])\n",
    "print (upper_limits_mu[10,0])"
   ]
  },
  {
   "cell_type": "code",
   "execution_count": null,
   "metadata": {},
   "outputs": [],
   "source": []
  }
 ],
 "metadata": {
  "kernelspec": {
   "display_name": "Python [conda env:ml]",
   "language": "python",
   "name": "conda-env-ml-py"
  },
  "language_info": {
   "codemirror_mode": {
    "name": "ipython",
    "version": 3
   },
   "file_extension": ".py",
   "mimetype": "text/x-python",
   "name": "python",
   "nbconvert_exporter": "python",
   "pygments_lexer": "ipython3",
   "version": "3.7.6"
  }
 },
 "nbformat": 4,
 "nbformat_minor": 2
}
