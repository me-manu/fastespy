{
 "cells": [
  {
   "cell_type": "code",
   "execution_count": 126,
   "metadata": {},
   "outputs": [],
   "source": [
    "import numpy as np\n",
    "import matplotlib.pyplot as plt\n",
    "from fastespy.functions import tesresponse, calc_xi, expflare\n",
    "import copy"
   ]
  },
  {
   "cell_type": "code",
   "execution_count": 2,
   "metadata": {},
   "outputs": [],
   "source": [
    "%matplotlib inline"
   ]
  },
  {
   "cell_type": "code",
   "execution_count": 113,
   "metadata": {},
   "outputs": [],
   "source": [
    "t = np.linspace(0.,30.,10000)"
   ]
  },
  {
   "cell_type": "code",
   "execution_count": 114,
   "metadata": {},
   "outputs": [],
   "source": [
    "def pre_factor(td, tr, ti):\n",
    "    result = 1. / tr - 1. / ti\n",
    "    result *= 1. / td - 1. / ti\n",
    "    result /= (1. / tr - 1 / td)\n",
    "    return result\n",
    "\n",
    "def I_tes(t, apply_t0_cut= True, **kwargs):\n",
    "    if np.isscalar(t):\n",
    "        t = np.array([t])\n",
    "    elif type(t) == list:\n",
    "        t = np.array(t)\n",
    "\n",
    "    xi = pre_factor(kwargs['td'], kwargs['tr'], kwargs['ti'])\n",
    "\n",
    "    if apply_t0_cut:\n",
    "        m = t > kwargs['t0']\n",
    "    else:\n",
    "        m = np.ones(t.size, dtype=np.bool)\n",
    "    rise_exp = -(t - kwargs['t0']) / kwargs['tr']\n",
    "    decay_exp = -(t - kwargs['t0']) / kwargs['td']\n",
    "\n",
    "    exp_rise = np.exp(rise_exp)\n",
    "    exp_decay = np.exp(decay_exp)\n",
    "    \n",
    "    result = np.zeros_like(t)\n",
    "    result[m] = kwargs['c'] - (exp_rise - exp_decay)[m] * kwargs['A'] * xi\n",
    "    result[~m] = np.full((~m).sum(), kwargs['c'])\n",
    "\n",
    "    return result"
   ]
  },
  {
   "cell_type": "code",
   "execution_count": 115,
   "metadata": {},
   "outputs": [],
   "source": [
    "def I_tes_simple(t, tol=1e-6, **kwargs):\n",
    "    if np.isscalar(t):\n",
    "        t = np.array([t])\n",
    "    elif type(t) == list:\n",
    "        t = np.array(t)\n",
    "\n",
    "    m = t > kwargs['t0']\n",
    "\n",
    "    rise_exp = -(t - kwargs['t0']) / kwargs['tr']\n",
    "    decay_exp = -(t - kwargs['t0']) / kwargs['td']\n",
    "\n",
    "    exp_rise = np.exp(rise_exp)\n",
    "    exp_decay = np.exp(decay_exp)\n",
    "    \n",
    "    result = np.zeros_like(t)\n",
    "    \n",
    "    result = np.full(t.size, kwargs['c']).astype(np.float64)\n",
    "    if np.abs(kwargs['tr'] - kwargs['td']) < tol:\n",
    "        result[m] -= np.abs(kwargs['A'] * ((t - kwargs['t0']) * exp_rise)[m])\n",
    "    else:\n",
    "        result[m] -= np.abs((exp_rise - exp_decay)[m] * kwargs['A'])\n",
    "    \n",
    "    return result"
   ]
  },
  {
   "cell_type": "code",
   "execution_count": 124,
   "metadata": {},
   "outputs": [],
   "source": [
    "pars = dict(c=0, A=1, tr=0.5, td=1., t0=5.)\n",
    "pars2 = copy.deepcopy(pars)\n",
    "pars2['ti'] = 1.\n",
    "pars2['A'] = 4.29\n",
    "pars3 = copy.deepcopy(pars)\n",
    "pars3['A'] = 4."
   ]
  },
  {
   "cell_type": "code",
   "execution_count": 125,
   "metadata": {},
   "outputs": [
    {
     "data": {
      "text/plain": [
       "[<matplotlib.lines.Line2D at 0x1026696a0>]"
      ]
     },
     "execution_count": 125,
     "metadata": {},
     "output_type": "execute_result"
    },
    {
     "data": {
      "image/png": "[encoded data removed]",
      "text/plain": [
       "<Figure size 432x288 with 1 Axes>"
      ]
     },
     "metadata": {
      "needs_background": "light"
     },
     "output_type": "display_data"
    }
   ],
   "source": [
    "try:    \n",
    "    plt.plot(t, tesresponse(t, **pars), lw = 3)\n",
    "    plt.plot(t, I_tes(t, apply_t0_cut=True, **pars2), ls = '--', lw = 2)\n",
    "except ZeroDivisionError:\n",
    "    pass\n",
    "plt.plot(t, I_tes_simple(t, **pars3), ls = '-.', lw = 2)\n",
    "#plt.plot(t, I_tes(t, apply_t0_cut=False, **pars2), ls = '-.', lw = 2)\n",
    "#plt.gca().set_ylim(-1, 1)"
   ]
  },
  {
   "cell_type": "code",
   "execution_count": 123,
   "metadata": {},
   "outputs": [
    {
     "name": "stdout",
     "output_type": "stream",
     "text": [
      "[        nan         nan         nan ... 13.33333333 13.33333333\n",
      " 13.33333333]\n"
     ]
    },
    {
     "name": "stderr",
     "output_type": "stream",
     "text": [
      "/Users/manuelmeyer/anaconda3/envs/gammapy/lib/python3.6/site-packages/ipykernel_launcher.py:1: RuntimeWarning: invalid value encountered in true_divide\n",
      "  \"\"\"Entry point for launching an IPython kernel.\n"
     ]
    }
   ],
   "source": [
    "print (tesresponse(t, **pars) / I_tes_simple(t, **pars3))"
   ]
  },
  {
   "cell_type": "code",
   "execution_count": 91,
   "metadata": {},
   "outputs": [
    {
     "data": {
      "text/plain": [
       "-1.2611303154159255"
      ]
     },
     "execution_count": 91,
     "metadata": {},
     "output_type": "execute_result"
    }
   ],
   "source": [
    "pre_factor(pars2['td'], pars2['tr'], pars2['ti']) * pars2['A'] / (pars['A'] / calc_xi(pars['td'], pars['tr']))"
   ]
  },
  {
   "cell_type": "code",
   "execution_count": 92,
   "metadata": {},
   "outputs": [
    {
     "data": {
      "text/plain": [
       "(-10, 10)"
      ]
     },
     "execution_count": 92,
     "metadata": {},
     "output_type": "execute_result"
    },
    {
     "data": {
      "image/png": "[encoded data removed]",
      "text/plain": [
       "<Figure size 432x288 with 1 Axes>"
      ]
     },
     "metadata": {
      "needs_background": "light"
     },
     "output_type": "display_data"
    }
   ],
   "source": [
    "ti = 1\n",
    "td = 3.\n",
    "tr = np.linspace(0.01,1.99, 100)\n",
    "\n",
    "plt.plot(tr, pre_factor(td, tr, ti))\n",
    "plt.plot(tr, 1. / calc_xi(td, tr))\n",
    "\n",
    "plt.gca().set_ylim(-10,10)"
   ]
  },
  {
   "cell_type": "code",
   "execution_count": 66,
   "metadata": {},
   "outputs": [
    {
     "data": {
      "text/plain": [
       "array([-4.97487437e-01, -4.92385787e-01, -4.87179487e-01, -4.81865285e-01,\n",
       "       -4.76439791e-01, -4.70899471e-01, -4.65240642e-01, -4.59459459e-01,\n",
       "       -4.53551913e-01, -4.47513812e-01, -4.41340782e-01, -4.35028249e-01,\n",
       "       -4.28571429e-01, -4.21965318e-01, -4.15204678e-01, -4.08284024e-01,\n",
       "       -4.01197605e-01, -3.93939394e-01, -3.86503067e-01, -3.78881988e-01,\n",
       "       -3.71069182e-01, -3.63057325e-01, -3.54838710e-01, -3.46405229e-01,\n",
       "       -3.37748344e-01, -3.28859060e-01, -3.19727891e-01, -3.10344828e-01,\n",
       "       -3.00699301e-01, -2.90780142e-01, -2.80575540e-01, -2.70072993e-01,\n",
       "       -2.59259259e-01, -2.48120301e-01, -2.36641221e-01, -2.24806202e-01,\n",
       "       -2.12598425e-01, -2.00000000e-01, -1.86991870e-01, -1.73553719e-01,\n",
       "       -1.59663866e-01, -1.45299145e-01, -1.30434783e-01, -1.15044248e-01,\n",
       "       -9.90990991e-02, -8.25688073e-02, -6.54205607e-02, -4.76190476e-02,\n",
       "       -2.91262136e-02, -9.90099010e-03,  1.01010101e-02,  3.09278351e-02,\n",
       "        5.26315789e-02,  7.52688172e-02,  9.89010989e-02,  1.23595506e-01,\n",
       "        1.49425287e-01,  1.76470588e-01,  2.04819277e-01,  2.34567901e-01,\n",
       "        2.65822785e-01,  2.98701299e-01,  3.33333333e-01,  3.69863014e-01,\n",
       "        4.08450704e-01,  4.49275362e-01,  4.92537313e-01,  5.38461538e-01,\n",
       "        5.87301587e-01,  6.39344262e-01,  6.94915254e-01,  7.54385965e-01,\n",
       "        8.18181818e-01,  8.86792453e-01,  9.60784314e-01,  1.04081633e+00,\n",
       "        1.12765957e+00,  1.22222222e+00,  1.32558140e+00,  1.43902439e+00,\n",
       "        1.56410256e+00,  1.70270270e+00,  1.85714286e+00,  2.03030303e+00,\n",
       "        2.22580645e+00,  2.44827586e+00,  2.70370370e+00,  3.00000000e+00,\n",
       "        3.34782609e+00,  3.76190476e+00,  4.26315789e+00,  4.88235294e+00,\n",
       "        5.66666667e+00,  6.69230769e+00,  8.09090909e+00,  1.01111111e+01,\n",
       "        1.32857143e+01,  1.90000000e+01,  3.23333333e+01,  9.90000000e+01])"
      ]
     },
     "execution_count": 66,
     "metadata": {},
     "output_type": "execute_result"
    }
   ],
   "source": [
    "pre_factor(td, tr, ti)"
   ]
  },
  {
   "cell_type": "code",
   "execution_count": 131,
   "metadata": {},
   "outputs": [],
   "source": [
    "def max_expflare(**pars):\n",
    "    sum_t = pars['td'] + pars['tr']\n",
    "    result = 2. * pars['A']\n",
    "    result /= sum_t\n",
    "    result *= np.power(pars['td'], pars['td'] / sum_t) \n",
    "    result *= np.power(pars['tr'], pars['tr'] / sum_t)\n",
    "    return pars['c'] - result\n",
    "\n",
    "def max_expflare2(**pars):\n",
    "    sum_t = pars['td'] + pars['tr']\n",
    "    result = 2. * pars['A']\n",
    "    result /= sum_t\n",
    "    result *= np.power(pars['td'] / pars['tr'], pars['td'] / sum_t) \n",
    "    result *= pars['tr']\n",
    "    return pars['c'] - result"
   ]
  },
  {
   "cell_type": "code",
   "execution_count": 132,
   "metadata": {},
   "outputs": [
    {
     "data": {
      "text/plain": [
       "<matplotlib.lines.Line2D at 0x1137f6be0>"
      ]
     },
     "execution_count": 132,
     "metadata": {},
     "output_type": "execute_result"
    },
    {
     "data": {
      "image/png": "[encoded data removed]",
      "text/plain": [
       "<Figure size 432x288 with 1 Axes>"
      ]
     },
     "metadata": {
      "needs_background": "light"
     },
     "output_type": "display_data"
    }
   ],
   "source": [
    "plt.plot(t, expflare(t, **pars))\n",
    "plt.axhline(max_expflare(**pars))\n",
    "\n",
    "plt.axhline(max_expflare2(**pars), ls='--', color='r')"
   ]
  },
  {
   "cell_type": "code",
   "execution_count": null,
   "metadata": {},
   "outputs": [],
   "source": []
  }
 ],
 "metadata": {
  "kernelspec": {
   "display_name": "Python 3",
   "language": "python",
   "name": "python3"
  },
  "language_info": {
   "codemirror_mode": {
    "name": "ipython",
    "version": 3
   },
   "file_extension": ".py",
   "mimetype": "text/x-python",
   "name": "python",
   "nbconvert_exporter": "python",
   "pygments_lexer": "ipython3",
   "version": "3.6.7"
  }
 },
 "nbformat": 4,
 "nbformat_minor": 2
}
