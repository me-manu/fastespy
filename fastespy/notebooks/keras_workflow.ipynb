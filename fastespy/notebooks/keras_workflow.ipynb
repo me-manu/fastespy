{
 "cells": [
  {
   "cell_type": "markdown",
   "id": "a43cea28-0fad-4395-b1ef-4cef1d0e92de",
   "metadata": {},
   "source": [
    "# Testing KERAS classification with MLP"
   ]
  },
  {
   "cell_type": "code",
   "execution_count": 1,
   "id": "75f3f567-a10e-4696-aafb-69a9a87e2af1",
   "metadata": {},
   "outputs": [],
   "source": [
    "from fastespy.mlkeras.evaluation import SplitData, plot_metric, plot_sig_vs_thr, get_sig_bkg_rate_eff, get_tp_fp_fn\n",
    "from fastespy.mlkeras import models\n",
    "from fastespy.ml import MLHyperParTuning\n",
    "from fastespy.readpydata import convert_data_to_ML_format\n",
    "from fastespy import feldman_cousins as fc\n",
    "from tensorflow.keras.layers.experimental.preprocessing import Normalization\n",
    "from tensorflow import keras\n",
    "import matplotlib.pyplot as plt\n",
    "import sys\n",
    "import glob\n",
    "import os\n",
    "import tempfile\n",
    "import logging\n",
    "import numpy as np\n",
    "from pathlib import PosixPath\n",
    "from fastespy.analysis import init_logging\n",
    "sys.path.append(\"/Users/manuelmeyer/Python/fastespy/fastespy/scripts/\")\n",
    "sys.path.append(\"/Users/manuelmeyer/Python/TESdata/fastespy/fastespy/scripts/\")\n",
    "from ml_intrinsic_bkg import load_data"
   ]
  },
  {
   "cell_type": "code",
   "execution_count": 2,
   "id": "159f670b-cc1c-4cc4-b15e-e84ca9e5623f",
   "metadata": {},
   "outputs": [],
   "source": [
    "%matplotlib inline"
   ]
  },
  {
   "cell_type": "code",
   "execution_count": 3,
   "id": "6b35f20d-d41d-4026-9495-fa8e91d3a816",
   "metadata": {},
   "outputs": [],
   "source": [
    "init_logging(\"INFO\", color=True)"
   ]
  },
  {
   "cell_type": "markdown",
   "id": "37dd92c4-3ea9-46bf-b595-77d57bc26895",
   "metadata": {},
   "source": [
    "## Read data "
   ]
  },
  {
   "cell_type": "code",
   "execution_count": 4,
   "id": "ef7d83f9-ba9f-4470-8143-5548ef2f0d37",
   "metadata": {},
   "outputs": [
    {
     "name": "stdout",
     "output_type": "stream",
     "text": [
      "8\n"
     ]
    }
   ],
   "source": [
    "path = \"/Users/manuelmeyer/Downloads/IntrinsicsData_NewSetup/\"\n",
    "in_dir = PosixPath(path)\n",
    "files = glob.glob(os.path.join(path, '*.npy'))\n",
    "\n",
    "print(len(files))\n",
    "#files\n",
    "\n",
    "if not len(files):\n",
    "    path = \"/Users/manuelmeyer/Python/TESdata/data-05122021/\"\n",
    "    in_dir = PosixPath(path)\n",
    "    files = glob.glob(os.path.join(path, '*.npy'))\n",
    "    print(len(files))"
   ]
  },
  {
   "cell_type": "code",
   "execution_count": 5,
   "id": "911f6bcc-f6ff-4b40-ac8e-5e892cc66143",
   "metadata": {},
   "outputs": [
    {
     "name": "stderr",
     "output_type": "stream",
     "text": [
      "\u001b[0;36m3247362142.py:\u001b[0;35m   3\u001b[0;0m --- \u001b[1;36mINFO\u001b[1;0m: Using files:\n",
      "\u001b[0;36m3247362142.py:\u001b[0;35m   5\u001b[0;0m --- \u001b[1;36mINFO\u001b[1;0m: /Users/manuelmeyer/Downloads/IntrinsicsData_NewSetup/intrinsics-0.3RN-1.5GHzGBWP-50MHz-20mV-5day-1-triggertimefixed.npy\n",
      "\u001b[0;36m3247362142.py:\u001b[0;35m   5\u001b[0;0m --- \u001b[1;36mINFO\u001b[1;0m: /Users/manuelmeyer/Downloads/IntrinsicsData_NewSetup/intrinsics-0.3RN-1.5GHzGBWP-50MHz-20mV-5day-4-triggertimefixed.npy\n",
      "\u001b[0;36m3247362142.py:\u001b[0;35m   5\u001b[0;0m --- \u001b[1;36mINFO\u001b[1;0m: /Users/manuelmeyer/Downloads/IntrinsicsData_NewSetup/intrinsics-0.3RN-1.5GHzGBWP-50MHz-20mV-5day-2-triggertimefixed.pickle.npy\n",
      "\u001b[0;36m3247362142.py:\u001b[0;35m   5\u001b[0;0m --- \u001b[1;36mINFO\u001b[1;0m: /Users/manuelmeyer/Downloads/IntrinsicsData_NewSetup/intrinsics-0.3RN-1.5GHzGBWP-50MHz-20mV-36hrs-1-triggertimefixed.npy\n",
      "\u001b[0;36m3247362142.py:\u001b[0;35m   5\u001b[0;0m --- \u001b[1;36mINFO\u001b[1;0m: /Users/manuelmeyer/Downloads/IntrinsicsData_NewSetup/newsettings-0.3RN-1.5GHzGBWP-50MHz-20mV-light-triggertimefixed.npy\n",
      "\u001b[0;36m3247362142.py:\u001b[0;35m   5\u001b[0;0m --- \u001b[1;36mINFO\u001b[1;0m: /Users/manuelmeyer/Downloads/IntrinsicsData_NewSetup/intrinsics-0.3RN-1.5GHzGBWP-50MHz-20mV-5day-5-triggertimefixed.npy\n",
      "\u001b[0;36m3247362142.py:\u001b[0;35m   5\u001b[0;0m --- \u001b[1;36mINFO\u001b[1;0m: /Users/manuelmeyer/Downloads/IntrinsicsData_NewSetup/intrinsics-0.3RN-1.5GHzGBWP-50MHz-20mV-24hrs-1-triggertimefixed.npy\n",
      "\u001b[0;36m3247362142.py:\u001b[0;35m   5\u001b[0;0m --- \u001b[1;36mINFO\u001b[1;0m: /Users/manuelmeyer/Downloads/IntrinsicsData_NewSetup/intrinsics-0.3RN-1.5GHzGBWP-50MHz-20mV-5day-3-triggertimefixed.pickle.npy\n",
      "\u001b[0;36m3247362142.py:\u001b[0;35m  21\u001b[0;0m --- \u001b[1;36mINFO\u001b[1;0m: Using features names ['rise time', 'decay time', 'amplitude', 'pulse height', 'chi2 reduced', 'pulse integral fit']\n",
      "\u001b[0;36mml_intrinsic_bkg.py:\u001b[0;35m  42\u001b[0;0m --- \u001b[1;36mINFO\u001b[1;0m: Reading data\n",
      "100%|██████████████████████████████████████████████████████████████████████████████████████████████████████████████| 8/8 [00:03<00:00,  2.61it/s]\n",
      "\u001b[0;36mml_intrinsic_bkg.py:\u001b[0;35m  90\u001b[0;0m --- \u001b[1;36mINFO\u001b[1;0m: Rejected 165 triggers in light file\n",
      "\u001b[0;36mml_intrinsic_bkg.py:\u001b[0;35m 101\u001b[0;0m --- \u001b[1;36mINFO\u001b[1;0m: In total, there are 9443 light events and 30457 background events for an observation time of 487.20 hours\n"
     ]
    }
   ],
   "source": [
    "files = list(in_dir.glob(\"*.npy\"))\n",
    "\n",
    "logging.info(\"Using files:\")\n",
    "for f in files:\n",
    "    logging.info(f)\n",
    "\n",
    "# define the feature names\n",
    "feature_names = []\n",
    "remove = ['data', 'time', 'pulse integral raw', 'voltage error',\n",
    "          'error', 'start time in hrs', 'end time in hrs',\n",
    "          'trigger time'\n",
    "        ]\n",
    "\n",
    "remove.append('constant')  # this seems to help\n",
    "\n",
    "x = np.load(files[0], allow_pickle=True).tolist()\n",
    "for k in x[1].keys():\n",
    "    if not k in remove and not 'error' in k:\n",
    "        feature_names.append(k)\n",
    "\n",
    "logging.info(\"Using features names {}\".format(feature_names))\n",
    "\n",
    " # define light cleaning cuts\n",
    "light_cleaning_cuts = {\n",
    "     \"chi2 reduced\": \"chi2 < 6.\",\n",
    "    \"decay time\": \"decay < 10.e-6\",\n",
    "    \"trigger time\": \"(trigger >= 29.5e-6) & (trigger <= 30.8e-6)\",  # from gaussian fit, 5 sigma interval\n",
    "}\n",
    "\n",
    "# read the data\n",
    "result, data, t_tot_hrs = load_data(files, feature_names, light_cleaning_cuts=light_cleaning_cuts)\n",
    "\n",
    "# convert data to ML format\n",
    "X, y = convert_data_to_ML_format(result,\n",
    "                                 feature_names,\n",
    "                                 bkg_type=0,\n",
    "                                 signal_type=1)"
   ]
  },
  {
   "cell_type": "markdown",
   "id": "1388b7df-2ca4-48ca-a5f4-9b739d530fb9",
   "metadata": {},
   "source": [
    "Do a log transform"
   ]
  },
  {
   "cell_type": "code",
   "execution_count": 6,
   "id": "a89c9e3e-13cd-4a07-a6db-9ee041879cdb",
   "metadata": {},
   "outputs": [
    {
     "name": "stdout",
     "output_type": "stream",
     "text": [
      "Discarded 89 triggers in log transform\n"
     ]
    },
    {
     "name": "stderr",
     "output_type": "stream",
     "text": [
      "/Users/manuelmeyer/Python/fastespy/fastespy/ml.py:319: RuntimeWarning: divide by zero encountered in log10\n",
      "  X[:, j] = np.log10(-X[:, j])\n"
     ]
    }
   ],
   "source": [
    "X_log, y_log = MLHyperParTuning.transform_data_log(X.copy(), y.copy(), feature_names)"
   ]
  },
  {
   "cell_type": "markdown",
   "id": "1a2cadc9-ac2b-45de-a75d-fd2e44cb9c71",
   "metadata": {},
   "source": [
    "Get a split of the data (will be repeated later on):"
   ]
  },
  {
   "cell_type": "code",
   "execution_count": 7,
   "id": "c37d5de7-9369-45b2-8c95-750320f6fe75",
   "metadata": {},
   "outputs": [],
   "source": [
    "sd = SplitData(X_log, y_log, n_splits=5, stratify=True, random_state=42)"
   ]
  },
  {
   "cell_type": "code",
   "execution_count": 8,
   "id": "adff6085-775a-40e0-9530-5cd3848f8534",
   "metadata": {},
   "outputs": [],
   "source": [
    "i_split = 0\n",
    "#X_train, X_test, y_train, y_test = sd.get_split(i_split)\n",
    "X_train, X_test, y_train, y_test = sd.get_split_with_test_set(m=i_split, n=0)"
   ]
  },
  {
   "cell_type": "markdown",
   "id": "682890ad-962c-4bd6-95be-42168159fa9b",
   "metadata": {},
   "source": [
    "Normalize the data"
   ]
  },
  {
   "cell_type": "code",
   "execution_count": 9,
   "id": "a3590cf7-bcc2-4681-94fa-2033c61e238d",
   "metadata": {},
   "outputs": [],
   "source": [
    "# normalize the input data\n",
    "normalizer = Normalization(axis=-1)\n",
    "\n",
    "# adapt to training data\n",
    "normalizer.adapt(X_train)\n",
    "\n",
    "# normalize training data\n",
    "X_train = normalizer(X_train)\n",
    "X_test = normalizer(X_test)"
   ]
  },
  {
   "cell_type": "markdown",
   "id": "f661d2e2-9534-4d77-b46b-513cbeb5e8f2",
   "metadata": {},
   "source": [
    "### Define the model"
   ]
  },
  {
   "cell_type": "code",
   "execution_count": 10,
   "id": "1c354fe1-558b-4ebe-be67-19d82921daf1",
   "metadata": {},
   "outputs": [
    {
     "name": "stdout",
     "output_type": "stream",
     "text": [
      "[-1.16817499] [0.54781338]\n"
     ]
    }
   ],
   "source": [
    "initial_bias, initial_loss = models.initial_output_bias(y_train)\n",
    "print(initial_bias, initial_loss)"
   ]
  },
  {
   "cell_type": "code",
   "execution_count": 24,
   "id": "91b23ccf-1a4c-4368-9caa-fbfd739b9624",
   "metadata": {},
   "outputs": [],
   "source": [
    "n_nodes = 100\n",
    "n_layers = 5\n",
    "l2_regularizer = None\n",
    "dropout = 0.1"
   ]
  },
  {
   "cell_type": "code",
   "execution_count": 25,
   "id": "86e634e2-1a86-4cf8-b76a-e8f7d1a87c46",
   "metadata": {},
   "outputs": [],
   "source": [
    "model = models.make_mlp_model(n_features=X_train.shape[1],\n",
    "                              n_layers=n_layers,\n",
    "                              n_nodes=n_nodes,\n",
    "                              l2_regularizer=l2_regularizer,\n",
    "                              dropout=dropout,\n",
    "                              output_bias=initial_bias,\n",
    "                              learning_rate=3e-4\n",
    "                             )"
   ]
  },
  {
   "cell_type": "code",
   "execution_count": 26,
   "id": "ad0f7591-8a45-47c3-8792-9a931ac31e6e",
   "metadata": {},
   "outputs": [],
   "source": [
    "EPOCHS = 100\n",
    "BATCH_SIZE = 2048  # large enough so that you have enough signal samples in each batch\n",
    "\n",
    "# early stopping if loss of validation set does not improve\n",
    "early_stopping = keras.callbacks.EarlyStopping(\n",
    "    monitor='val_loss', \n",
    "    verbose=1,\n",
    "    patience=10,\n",
    "    mode='min',\n",
    "    restore_best_weights=True)\n"
   ]
  },
  {
   "cell_type": "markdown",
   "id": "40a3cc75-a4ed-4cdb-be9d-a685f4c82051",
   "metadata": {},
   "source": [
    "Initial predictions"
   ]
  },
  {
   "cell_type": "code",
   "execution_count": 27,
   "id": "323b0ee6-839e-4ceb-bec1-4694ef6e1545",
   "metadata": {},
   "outputs": [
    {
     "name": "stdout",
     "output_type": "stream",
     "text": [
      "\u001b[1;31mWARNING\u001b[1;0m:tensorflow:AutoGraph could not transform <function Model.make_predict_function.<locals>.predict_function at 0x2d16e6820> and will run it as-is.\n",
      "Please report this to the TensorFlow team. When filing the bug, set the verbosity to 10 (on Linux, `export AUTOGRAPH_VERBOSITY=10`) and attach the full output.\n",
      "Cause: unsupported operand type(s) for -: 'NoneType' and 'int'\n",
      "To silence this warning, decorate the function with @tf.autograph.experimental.do_not_convert\n"
     ]
    },
    {
     "name": "stderr",
     "output_type": "stream",
     "text": [
      "\u001b[0;36mag_logging.py:\u001b[0;35m 146\u001b[0;0m --- \u001b[1;31mWARNING\u001b[1;0m: AutoGraph could not transform <function Model.make_predict_function.<locals>.predict_function at 0x2d16e6820> and will run it as-is.\n",
      "Please report this to the TensorFlow team. When filing the bug, set the verbosity to 10 (on Linux, `export AUTOGRAPH_VERBOSITY=10`) and attach the full output.\n",
      "Cause: unsupported operand type(s) for -: 'NoneType' and 'int'\n",
      "To silence this warning, decorate the function with @tf.autograph.experimental.do_not_convert\n"
     ]
    },
    {
     "name": "stdout",
     "output_type": "stream",
     "text": [
      "WARNING: AutoGraph could not transform <function Model.make_predict_function.<locals>.predict_function at 0x2d16e6820> and will run it as-is.\n",
      "Please report this to the TensorFlow team. When filing the bug, set the verbosity to 10 (on Linux, `export AUTOGRAPH_VERBOSITY=10`) and attach the full output.\n",
      "Cause: unsupported operand type(s) for -: 'NoneType' and 'int'\n",
      "To silence this warning, decorate the function with @tf.autograph.experimental.do_not_convert\n"
     ]
    },
    {
     "data": {
      "text/plain": [
       "(array([[0.23631197],\n",
       "        [0.23299159],\n",
       "        [0.2357638 ],\n",
       "        ...,\n",
       "        [0.23003845],\n",
       "        [0.23708966],\n",
       "        [0.2394351 ]], dtype=float32),\n",
       " 0.23718502237224273)"
      ]
     },
     "execution_count": 27,
     "metadata": {},
     "output_type": "execute_result"
    }
   ],
   "source": [
    "model.predict(X_train[10:]), y_train.sum() / y_train.size"
   ]
  },
  {
   "cell_type": "code",
   "execution_count": 28,
   "id": "5d4447ee-4fda-4acd-af94-79e5eaa029c0",
   "metadata": {},
   "outputs": [
    {
     "name": "stdout",
     "output_type": "stream",
     "text": [
      "\u001b[1;31mWARNING\u001b[1;0m:tensorflow:AutoGraph could not transform <function Model.make_test_function.<locals>.test_function at 0x2d1c6e9d0> and will run it as-is.\n",
      "Please report this to the TensorFlow team. When filing the bug, set the verbosity to 10 (on Linux, `export AUTOGRAPH_VERBOSITY=10`) and attach the full output.\n",
      "Cause: unsupported operand type(s) for -: 'NoneType' and 'int'\n",
      "To silence this warning, decorate the function with @tf.autograph.experimental.do_not_convert\n"
     ]
    },
    {
     "name": "stderr",
     "output_type": "stream",
     "text": [
      "\u001b[0;36mag_logging.py:\u001b[0;35m 146\u001b[0;0m --- \u001b[1;31mWARNING\u001b[1;0m: AutoGraph could not transform <function Model.make_test_function.<locals>.test_function at 0x2d1c6e9d0> and will run it as-is.\n",
      "Please report this to the TensorFlow team. When filing the bug, set the verbosity to 10 (on Linux, `export AUTOGRAPH_VERBOSITY=10`) and attach the full output.\n",
      "Cause: unsupported operand type(s) for -: 'NoneType' and 'int'\n",
      "To silence this warning, decorate the function with @tf.autograph.experimental.do_not_convert\n"
     ]
    },
    {
     "name": "stdout",
     "output_type": "stream",
     "text": [
      "WARNING: AutoGraph could not transform <function Model.make_test_function.<locals>.test_function at 0x2d1c6e9d0> and will run it as-is.\n",
      "Please report this to the TensorFlow team. When filing the bug, set the verbosity to 10 (on Linux, `export AUTOGRAPH_VERBOSITY=10`) and attach the full output.\n",
      "Cause: unsupported operand type(s) for -: 'NoneType' and 'int'\n",
      "To silence this warning, decorate the function with @tf.autograph.experimental.do_not_convert\n"
     ]
    }
   ],
   "source": [
    "results = model.evaluate(X_train, y_train, batch_size=BATCH_SIZE, verbose=0, return_dict=True)"
   ]
  },
  {
   "cell_type": "code",
   "execution_count": 29,
   "id": "942028a6-2c57-45e4-a116-6f424de48301",
   "metadata": {},
   "outputs": [
    {
     "data": {
      "text/plain": [
       "(0.5575078129768372, array([0.54781338]))"
      ]
     },
     "execution_count": 29,
     "metadata": {},
     "output_type": "execute_result"
    }
   ],
   "source": [
    "results['loss'], initial_loss"
   ]
  },
  {
   "cell_type": "markdown",
   "id": "8645dec2-9009-4f65-bbe1-bdde9c0a65fb",
   "metadata": {},
   "source": [
    "Save the inital weights"
   ]
  },
  {
   "cell_type": "code",
   "execution_count": 30,
   "id": "81cb8dd0-8919-480c-bec4-81b499c5a4f5",
   "metadata": {},
   "outputs": [],
   "source": [
    "initial_weights = os.path.join(tempfile.mkdtemp(), f'initial_weights_{n_layers}_{n_nodes}')\n",
    "model.save_weights(initial_weights)"
   ]
  },
  {
   "cell_type": "markdown",
   "id": "f606f8a2-f596-4985-91c9-256b5a37a9fa",
   "metadata": {},
   "source": [
    "### Train the full model"
   ]
  },
  {
   "cell_type": "code",
   "execution_count": 31,
   "id": "a2e998ea-e57c-4889-9fd3-585014bc0747",
   "metadata": {},
   "outputs": [
    {
     "name": "stdout",
     "output_type": "stream",
     "text": [
      "Weight for class 0: 2.33\n",
      "Weight for class 1: 0.22\n"
     ]
    }
   ],
   "source": [
    "use_weights = False # setting to true will let notebook crash on my new mac.... works on old one\n",
    "\n",
    "# weighting following\n",
    "# https://www.tensorflow.org/tutorials/structured_data/imbalanced_data#class_weights\n",
    "# Scaling by total/2 helps keep the loss to a similar magnitude.\n",
    "# The sum of the weights of all examples stays the same.\n",
    "\n",
    "# original: increasing weight for class 1:\n",
    "# false negatives go down, false positives go up\n",
    "# significance goes down\n",
    "weight_for_0 = 1 / (y.size - y.sum()) * (y.size / 2.)\n",
    "weight_for_1 = 1 / y.sum() * (y.size / 2.)\n",
    "\n",
    "# inverting weights: fp down, fn up, significance up!\n",
    "# power 2 better than power 1, power 3 worse\n",
    "power = 2.\n",
    "weight_for_0 = 1. / (1 / (y.size - y.sum()) * (y.size / 2.))**power\n",
    "weight_for_1 = 1. / (1 / y.sum() * (y.size / 2.))**power\n",
    "\n",
    "if use_weights:\n",
    "    class_weight = {0: weight_for_0, 1: weight_for_1}\n",
    "else:\n",
    "    class_weight = None\n",
    "print('Weight for class 0: {:.2f}'.format(weight_for_0))\n",
    "print('Weight for class 1: {:.2f}'.format(weight_for_1))\n",
    "\n"
   ]
  },
  {
   "cell_type": "code",
   "execution_count": 32,
   "id": "b56b256e-9bde-40cd-a5e9-509c43dfcc55",
   "metadata": {},
   "outputs": [
    {
     "name": "stdout",
     "output_type": "stream",
     "text": [
      "Model: \"mlp_binary\"\n",
      "_________________________________________________________________\n",
      "Layer (type)                 Output Shape              Param #   \n",
      "=================================================================\n",
      "dense1 (Dense)               (None, 100)               700       \n",
      "_________________________________________________________________\n",
      "dropout (Dropout)            (None, 100)               0         \n",
      "_________________________________________________________________\n",
      "dense2 (Dense)               (None, 100)               10100     \n",
      "_________________________________________________________________\n",
      "dropout_1 (Dropout)          (None, 100)               0         \n",
      "_________________________________________________________________\n",
      "dense3 (Dense)               (None, 100)               10100     \n",
      "_________________________________________________________________\n",
      "dropout_2 (Dropout)          (None, 100)               0         \n",
      "_________________________________________________________________\n",
      "dense4 (Dense)               (None, 100)               10100     \n",
      "_________________________________________________________________\n",
      "dropout_3 (Dropout)          (None, 100)               0         \n",
      "_________________________________________________________________\n",
      "dense5 (Dense)               (None, 100)               10100     \n",
      "_________________________________________________________________\n",
      "dropout_4 (Dropout)          (None, 100)               0         \n",
      "_________________________________________________________________\n",
      "output (Dense)               (None, 1)                 101       \n",
      "=================================================================\n",
      "Total params: 41,201\n",
      "Trainable params: 41,201\n",
      "Non-trainable params: 0\n",
      "_________________________________________________________________\n"
     ]
    },
    {
     "data": {
      "text/plain": [
       "<tensorflow.python.training.tracking.util.CheckpointLoadStatus at 0x2d6818910>"
      ]
     },
     "execution_count": 32,
     "metadata": {},
     "output_type": "execute_result"
    }
   ],
   "source": [
    "model.summary()\n",
    "model.load_weights(initial_weights)"
   ]
  },
  {
   "cell_type": "code",
   "execution_count": 33,
   "id": "626f6e4b-9eb2-4eba-b5e2-f5eacf0511f9",
   "metadata": {},
   "outputs": [
    {
     "name": "stdout",
     "output_type": "stream",
     "text": [
      "\u001b[1;31mWARNING\u001b[1;0m:tensorflow:AutoGraph could not transform <function Model.make_train_function.<locals>.train_function at 0x2d16e6430> and will run it as-is.\n",
      "Please report this to the TensorFlow team. When filing the bug, set the verbosity to 10 (on Linux, `export AUTOGRAPH_VERBOSITY=10`) and attach the full output.\n",
      "Cause: unsupported operand type(s) for -: 'NoneType' and 'int'\n",
      "To silence this warning, decorate the function with @tf.autograph.experimental.do_not_convert\n"
     ]
    },
    {
     "name": "stderr",
     "output_type": "stream",
     "text": [
      "\u001b[0;36mag_logging.py:\u001b[0;35m 146\u001b[0;0m --- \u001b[1;31mWARNING\u001b[1;0m: AutoGraph could not transform <function Model.make_train_function.<locals>.train_function at 0x2d16e6430> and will run it as-is.\n",
      "Please report this to the TensorFlow team. When filing the bug, set the verbosity to 10 (on Linux, `export AUTOGRAPH_VERBOSITY=10`) and attach the full output.\n",
      "Cause: unsupported operand type(s) for -: 'NoneType' and 'int'\n",
      "To silence this warning, decorate the function with @tf.autograph.experimental.do_not_convert\n"
     ]
    },
    {
     "name": "stdout",
     "output_type": "stream",
     "text": [
      "WARNING: AutoGraph could not transform <function Model.make_train_function.<locals>.train_function at 0x2d16e6430> and will run it as-is.\n",
      "Please report this to the TensorFlow team. When filing the bug, set the verbosity to 10 (on Linux, `export AUTOGRAPH_VERBOSITY=10`) and attach the full output.\n",
      "Cause: unsupported operand type(s) for -: 'NoneType' and 'int'\n",
      "To silence this warning, decorate the function with @tf.autograph.experimental.do_not_convert\n"
     ]
    },
    {
     "name": "stderr",
     "output_type": "stream",
     "text": [
      "2021-08-24 15:47:50.089724: W tensorflow/compiler/tf2mlcompute/convert/mlc_convert_utils.cc:690] ComputeTimeStepForAdam: Computing time_step from beta1_power and beta2_power gives different results, probably due to losing precision in pow or log. The time_step that comes from the larger beta_power is chosen (time_step = 975).\n",
      "2021-08-24 15:47:50.089831: W tensorflow/compiler/tf2mlcompute/convert/mlc_convert_utils.cc:690] ComputeTimeStepForAdam: Computing time_step from beta1_power and beta2_power gives different results, probably due to losing precision in pow or log. The time_step that comes from the larger beta_power is chosen (time_step = 975).\n",
      "2021-08-24 15:47:50.089843: W tensorflow/compiler/tf2mlcompute/convert/mlc_convert_utils.cc:690] ComputeTimeStepForAdam: Computing time_step from beta1_power and beta2_power gives different results, probably due to losing precision in pow or log. The time_step that comes from the larger beta_power is chosen (time_step = 975).\n",
      "2021-08-24 15:47:50.089908: W tensorflow/compiler/tf2mlcompute/convert/mlc_convert_utils.cc:690] ComputeTimeStepForAdam: Computing time_step from beta1_power and beta2_power gives different results, probably due to losing precision in pow or log. The time_step that comes from the larger beta_power is chosen (time_step = 975).\n",
      "2021-08-24 15:47:50.089920: W tensorflow/compiler/tf2mlcompute/convert/mlc_convert_utils.cc:690] ComputeTimeStepForAdam: Computing time_step from beta1_power and beta2_power gives different results, probably due to losing precision in pow or log. The time_step that comes from the larger beta_power is chosen (time_step = 975).\n",
      "2021-08-24 15:47:50.089990: W tensorflow/compiler/tf2mlcompute/convert/mlc_convert_utils.cc:690] ComputeTimeStepForAdam: Computing time_step from beta1_power and beta2_power gives different results, probably due to losing precision in pow or log. The time_step that comes from the larger beta_power is chosen (time_step = 975).\n",
      "2021-08-24 15:47:50.090001: W tensorflow/compiler/tf2mlcompute/convert/mlc_convert_utils.cc:690] ComputeTimeStepForAdam: Computing time_step from beta1_power and beta2_power gives different results, probably due to losing precision in pow or log. The time_step that comes from the larger beta_power is chosen (time_step = 975).\n",
      "2021-08-24 15:47:50.090068: W tensorflow/compiler/tf2mlcompute/convert/mlc_convert_utils.cc:690] ComputeTimeStepForAdam: Computing time_step from beta1_power and beta2_power gives different results, probably due to losing precision in pow or log. The time_step that comes from the larger beta_power is chosen (time_step = 975).\n",
      "2021-08-24 15:47:50.090079: W tensorflow/compiler/tf2mlcompute/convert/mlc_convert_utils.cc:690] ComputeTimeStepForAdam: Computing time_step from beta1_power and beta2_power gives different results, probably due to losing precision in pow or log. The time_step that comes from the larger beta_power is chosen (time_step = 975).\n",
      "2021-08-24 15:47:50.090147: W tensorflow/compiler/tf2mlcompute/convert/mlc_convert_utils.cc:690] ComputeTimeStepForAdam: Computing time_step from beta1_power and beta2_power gives different results, probably due to losing precision in pow or log. The time_step that comes from the larger beta_power is chosen (time_step = 975).\n",
      "2021-08-24 15:47:50.090159: W tensorflow/compiler/tf2mlcompute/convert/mlc_convert_utils.cc:690] ComputeTimeStepForAdam: Computing time_step from beta1_power and beta2_power gives different results, probably due to losing precision in pow or log. The time_step that comes from the larger beta_power is chosen (time_step = 975).\n",
      "2021-08-24 15:47:50.090223: W tensorflow/compiler/tf2mlcompute/convert/mlc_convert_utils.cc:690] ComputeTimeStepForAdam: Computing time_step from beta1_power and beta2_power gives different results, probably due to losing precision in pow or log. The time_step that comes from the larger beta_power is chosen (time_step = 975).\n",
      "2021-08-24 15:47:50.121591: W tensorflow/compiler/tf2mlcompute/convert/mlc_convert_utils.cc:690] ComputeTimeStepForAdam: Computing time_step from beta1_power and beta2_power gives different results, probably due to losing precision in pow or log. The time_step that comes from the larger beta_power is chosen (time_step = 976).\n",
      "2021-08-24 15:47:50.121708: W tensorflow/compiler/tf2mlcompute/convert/mlc_convert_utils.cc:690] ComputeTimeStepForAdam: Computing time_step from beta1_power and beta2_power gives different results, probably due to losing precision in pow or log. The time_step that comes from the larger beta_power is chosen (time_step = 976).\n",
      "2021-08-24 15:47:50.121720: W tensorflow/compiler/tf2mlcompute/convert/mlc_convert_utils.cc:690] ComputeTimeStepForAdam: Computing time_step from beta1_power and beta2_power gives different results, probably due to losing precision in pow or log. The time_step that comes from the larger beta_power is chosen (time_step = 976).\n",
      "2021-08-24 15:47:50.121829: W tensorflow/compiler/tf2mlcompute/convert/mlc_convert_utils.cc:690] ComputeTimeStepForAdam: Computing time_step from beta1_power and beta2_power gives different results, probably due to losing precision in pow or log. The time_step that comes from the larger beta_power is chosen (time_step = 976).\n",
      "2021-08-24 15:47:50.121844: W tensorflow/compiler/tf2mlcompute/convert/mlc_convert_utils.cc:690] ComputeTimeStepForAdam: Computing time_step from beta1_power and beta2_power gives different results, probably due to losing precision in pow or log. The time_step that comes from the larger beta_power is chosen (time_step = 976).\n",
      "2021-08-24 15:47:50.121916: W tensorflow/compiler/tf2mlcompute/convert/mlc_convert_utils.cc:690] ComputeTimeStepForAdam: Computing time_step from beta1_power and beta2_power gives different results, probably due to losing precision in pow or log. The time_step that comes from the larger beta_power is chosen (time_step = 976).\n",
      "2021-08-24 15:47:50.121928: W tensorflow/compiler/tf2mlcompute/convert/mlc_convert_utils.cc:690] ComputeTimeStepForAdam: Computing time_step from beta1_power and beta2_power gives different results, probably due to losing precision in pow or log. The time_step that comes from the larger beta_power is chosen (time_step = 976).\n",
      "2021-08-24 15:47:50.121996: W tensorflow/compiler/tf2mlcompute/convert/mlc_convert_utils.cc:690] ComputeTimeStepForAdam: Computing time_step from beta1_power and beta2_power gives different results, probably due to losing precision in pow or log. The time_step that comes from the larger beta_power is chosen (time_step = 976).\n",
      "2021-08-24 15:47:50.122006: W tensorflow/compiler/tf2mlcompute/convert/mlc_convert_utils.cc:690] ComputeTimeStepForAdam: Computing time_step from beta1_power and beta2_power gives different results, probably due to losing precision in pow or log. The time_step that comes from the larger beta_power is chosen (time_step = 976).\n",
      "2021-08-24 15:47:50.122072: W tensorflow/compiler/tf2mlcompute/convert/mlc_convert_utils.cc:690] ComputeTimeStepForAdam: Computing time_step from beta1_power and beta2_power gives different results, probably due to losing precision in pow or log. The time_step that comes from the larger beta_power is chosen (time_step = 976).\n",
      "2021-08-24 15:47:50.122083: W tensorflow/compiler/tf2mlcompute/convert/mlc_convert_utils.cc:690] ComputeTimeStepForAdam: Computing time_step from beta1_power and beta2_power gives different results, probably due to losing precision in pow or log. The time_step that comes from the larger beta_power is chosen (time_step = 976).\n",
      "2021-08-24 15:47:50.122149: W tensorflow/compiler/tf2mlcompute/convert/mlc_convert_utils.cc:690] ComputeTimeStepForAdam: Computing time_step from beta1_power and beta2_power gives different results, probably due to losing precision in pow or log. The time_step that comes from the larger beta_power is chosen (time_step = 976).\n"
     ]
    }
   ],
   "source": [
    "baseline_history = model.fit(\n",
    "    X_train,\n",
    "    y_train,\n",
    "    batch_size=BATCH_SIZE,\n",
    "    epochs=EPOCHS,\n",
    "    validation_data=(X_test, y_test), \n",
    "    verbose=0,\n",
    "    class_weight=class_weight\n",
    ")"
   ]
  },
  {
   "cell_type": "code",
   "execution_count": 34,
   "id": "09121cb6-33d2-402a-b8d6-b8426a9a6c63",
   "metadata": {},
   "outputs": [
    {
     "data": {
      "text/plain": [
       "<matplotlib.legend.Legend at 0x2d1c42f70>"
      ]
     },
     "execution_count": 34,
     "metadata": {},
     "output_type": "execute_result"
    },
    {
     "data": {
      "image/png": "[encoded data removed]",
      "text/plain": [
       "<Figure size 432x288 with 1 Axes>"
      ]
     },
     "metadata": {
      "needs_background": "light"
     },
     "output_type": "display_data"
    }
   ],
   "source": [
    "plot_metric(baseline_history)\n",
    "plt.legend()"
   ]
  },
  {
   "cell_type": "code",
   "execution_count": 35,
   "id": "471317a8-4b1c-4878-97e8-a165cfbd4ba6",
   "metadata": {},
   "outputs": [
    {
     "data": {
      "text/plain": [
       "<matplotlib.legend.Legend at 0x2ebcf6430>"
      ]
     },
     "execution_count": 35,
     "metadata": {},
     "output_type": "execute_result"
    },
    {
     "data": {
      "image/png": "[encoded data removed]",
      "text/plain": [
       "<Figure size 432x288 with 1 Axes>"
      ]
     },
     "metadata": {
      "needs_background": "light"
     },
     "output_type": "display_data"
    }
   ],
   "source": [
    "plot_metric(baseline_history, metric='fp')\n",
    "plt.legend()"
   ]
  },
  {
   "cell_type": "code",
   "execution_count": 36,
   "id": "362fafd7-741e-40b7-907a-9dfc4f0c9a7b",
   "metadata": {},
   "outputs": [
    {
     "name": "stdout",
     "output_type": "stream",
     "text": [
      "Max significance: 3.28 for threshold 0.9629 background rate 1.85e-05 and analysis efficiency 0.87\n"
     ]
    },
    {
     "data": {
      "image/png": "[encoded data removed]",
      "text/plain": [
       "<Figure size 720x720 with 3 Axes>"
      ]
     },
     "metadata": {
      "needs_background": "light"
     },
     "output_type": "display_data"
    }
   ],
   "source": [
    "fig=plt.figure(dpi=120, figsize=(6,2*3))\n",
    "ax, threshold, significance, bkg_rate, eff = plot_sig_vs_thr(model,\n",
    "                                                             X_train,\n",
    "                                                             y_train,\n",
    "                                                             t_obs_hours=t_tot_hrs,\n",
    "                                                             N_tot=y_train.size + y_test.size)\n",
    "plt.subplots_adjust(hspace=0.)"
   ]
  },
  {
   "cell_type": "markdown",
   "id": "96b907bb-7d79-4475-9884-7636cdd26f6f",
   "metadata": {},
   "source": [
    "Significance for test set with the threshold obtained from training set:"
   ]
  },
  {
   "cell_type": "code",
   "execution_count": 37,
   "id": "ade4d1c5-778e-473f-a9e1-fdd9bf75361b",
   "metadata": {},
   "outputs": [],
   "source": [
    "imax = np.argmax(significance)"
   ]
  },
  {
   "cell_type": "code",
   "execution_count": 42,
   "id": "043ffeb4-74d3-4995-aa26-26c0a1df168f",
   "metadata": {},
   "outputs": [],
   "source": [
    "y_pred = model.predict(normalizer(sd.X_test))"
   ]
  },
  {
   "cell_type": "code",
   "execution_count": 43,
   "id": "6bfeb514-a097-470b-aa79-efdb68493ddd",
   "metadata": {},
   "outputs": [],
   "source": [
    "class_pred_test, tp, fp, fn = get_tp_fp_fn(sd.y_test, y_pred, thr=threshold[imax])\n",
    "\n",
    "sig, bkg_rate, eff = get_sig_bkg_rate_eff(sd.y_test,\n",
    "                                          y_pred,\n",
    "                                          N_tot=y_train.size + y_test.size + sd.y_test.size,\n",
    "                                          t_obs=t_tot_hrs * 3600.,\n",
    "                                          thr=threshold[imax])"
   ]
  },
  {
   "cell_type": "code",
   "execution_count": 44,
   "id": "f61f6439-d031-4267-90dd-cdb2d8cf53e1",
   "metadata": {},
   "outputs": [
    {
     "name": "stdout",
     "output_type": "stream",
     "text": [
      "4.3522804841117715 8.551446521283776e-06 0.8793012175754368\n"
     ]
    }
   ],
   "source": [
    "print(sig, bkg_rate, eff)"
   ]
  },
  {
   "cell_type": "markdown",
   "id": "1486d98b-7d3b-4ca3-9c4c-8cf6fded7fed",
   "metadata": {},
   "source": [
    "Plot false positives"
   ]
  },
  {
   "cell_type": "code",
   "execution_count": 46,
   "id": "e1754d09-6fd4-4f1f-98d6-c7982c28c029",
   "metadata": {},
   "outputs": [
    {
     "data": {
      "image/png": "[encoded data removed]",
      "text/plain": [
       "<Figure size 1728x216 with 3 Axes>"
      ]
     },
     "metadata": {
      "needs_background": "light"
     },
     "output_type": "display_data"
    }
   ],
   "source": [
    "d = {}\n",
    "d['y_test'] = sd.y_test\n",
    "scorer = 'keras_loss'\n",
    "d['y_pred_test'] = {scorer: class_pred_test}\n",
    "d['idx_test'] = sd.idx_test\n",
    "d['prob_test'] = {scorer: np.hstack([1. - y_pred, y_pred])}\n",
    "d['classifier'] = \"keras_mlp\"\n",
    "\n",
    "if fp.sum() < 50:\n",
    "    ax = MLHyperParTuning.plot_misidentified_time_lines(\n",
    "        d, scorer,\n",
    "        data['time'],\n",
    "        data['data'],\n",
    "        X=X,  # give original data, for right values in legend\n",
    "        feature_names=feature_names,\n",
    "        plot_false_positive=True, save_plot=False\n",
    "    )"
   ]
  },
  {
   "cell_type": "markdown",
   "id": "11860e19-bfdc-4345-aedf-b82d73d115f0",
   "metadata": {},
   "source": [
    "### Learning curve"
   ]
  },
  {
   "cell_type": "code",
   "execution_count": null,
   "id": "3737cdda-6914-43eb-a8d3-db14ca94ece8",
   "metadata": {},
   "outputs": [],
   "source": []
  },
  {
   "cell_type": "markdown",
   "id": "05deafd0-7c90-4b13-bf2c-026b1f51b4ba",
   "metadata": {},
   "source": [
    "### Repeat analysis over different folds"
   ]
  },
  {
   "cell_type": "code",
   "execution_count": 47,
   "id": "ad7734e1-a991-40f7-b1ac-ce908f4d2a00",
   "metadata": {},
   "outputs": [],
   "source": [
    "n_nodes = 100\n",
    "n_layers = 5\n",
    "l2_regularizer = None\n",
    "dropout = 0.1"
   ]
  },
  {
   "cell_type": "code",
   "execution_count": 53,
   "id": "498468c4-2eca-4bdb-8590-661dbd6fa16c",
   "metadata": {},
   "outputs": [
    {
     "name": "stdout",
     "output_type": "stream",
     "text": [
      "0\n",
      "\u001b[1;31mWARNING\u001b[1;0m:tensorflow:AutoGraph could not transform <function Model.make_train_function.<locals>.train_function at 0x3a0de6f70> and will run it as-is.\n",
      "Please report this to the TensorFlow team. When filing the bug, set the verbosity to 10 (on Linux, `export AUTOGRAPH_VERBOSITY=10`) and attach the full output.\n",
      "Cause: unsupported operand type(s) for -: 'NoneType' and 'int'\n",
      "To silence this warning, decorate the function with @tf.autograph.experimental.do_not_convert\n"
     ]
    },
    {
     "name": "stderr",
     "output_type": "stream",
     "text": [
      "\u001b[0;36mag_logging.py:\u001b[0;35m 146\u001b[0;0m --- \u001b[1;31mWARNING\u001b[1;0m: AutoGraph could not transform <function Model.make_train_function.<locals>.train_function at 0x3a0de6f70> and will run it as-is.\n",
      "Please report this to the TensorFlow team. When filing the bug, set the verbosity to 10 (on Linux, `export AUTOGRAPH_VERBOSITY=10`) and attach the full output.\n",
      "Cause: unsupported operand type(s) for -: 'NoneType' and 'int'\n",
      "To silence this warning, decorate the function with @tf.autograph.experimental.do_not_convert\n"
     ]
    },
    {
     "name": "stdout",
     "output_type": "stream",
     "text": [
      "WARNING: AutoGraph could not transform <function Model.make_train_function.<locals>.train_function at 0x3a0de6f70> and will run it as-is.\n",
      "Please report this to the TensorFlow team. When filing the bug, set the verbosity to 10 (on Linux, `export AUTOGRAPH_VERBOSITY=10`) and attach the full output.\n",
      "Cause: unsupported operand type(s) for -: 'NoneType' and 'int'\n",
      "To silence this warning, decorate the function with @tf.autograph.experimental.do_not_convert\n",
      "\u001b[1;31mWARNING\u001b[1;0m:tensorflow:AutoGraph could not transform <function Model.make_test_function.<locals>.test_function at 0x81aa05dc0> and will run it as-is.\n",
      "Please report this to the TensorFlow team. When filing the bug, set the verbosity to 10 (on Linux, `export AUTOGRAPH_VERBOSITY=10`) and attach the full output.\n",
      "Cause: unsupported operand type(s) for -: 'NoneType' and 'int'\n",
      "To silence this warning, decorate the function with @tf.autograph.experimental.do_not_convert\n"
     ]
    },
    {
     "name": "stderr",
     "output_type": "stream",
     "text": [
      "\u001b[0;36mag_logging.py:\u001b[0;35m 146\u001b[0;0m --- \u001b[1;31mWARNING\u001b[1;0m: AutoGraph could not transform <function Model.make_test_function.<locals>.test_function at 0x81aa05dc0> and will run it as-is.\n",
      "Please report this to the TensorFlow team. When filing the bug, set the verbosity to 10 (on Linux, `export AUTOGRAPH_VERBOSITY=10`) and attach the full output.\n",
      "Cause: unsupported operand type(s) for -: 'NoneType' and 'int'\n",
      "To silence this warning, decorate the function with @tf.autograph.experimental.do_not_convert\n"
     ]
    },
    {
     "name": "stdout",
     "output_type": "stream",
     "text": [
      "WARNING: AutoGraph could not transform <function Model.make_test_function.<locals>.test_function at 0x81aa05dc0> and will run it as-is.\n",
      "Please report this to the TensorFlow team. When filing the bug, set the verbosity to 10 (on Linux, `export AUTOGRAPH_VERBOSITY=10`) and attach the full output.\n",
      "Cause: unsupported operand type(s) for -: 'NoneType' and 'int'\n",
      "To silence this warning, decorate the function with @tf.autograph.experimental.do_not_convert\n"
     ]
    },
    {
     "name": "stderr",
     "output_type": "stream",
     "text": [
      "2021-08-24 15:57:11.726640: W tensorflow/compiler/tf2mlcompute/convert/mlc_convert_utils.cc:690] ComputeTimeStepForAdam: Computing time_step from beta1_power and beta2_power gives different results, probably due to losing precision in pow or log. The time_step that comes from the larger beta_power is chosen (time_step = 975).\n",
      "2021-08-24 15:57:11.726764: W tensorflow/compiler/tf2mlcompute/convert/mlc_convert_utils.cc:690] ComputeTimeStepForAdam: Computing time_step from beta1_power and beta2_power gives different results, probably due to losing precision in pow or log. The time_step that comes from the larger beta_power is chosen (time_step = 975).\n",
      "2021-08-24 15:57:11.726777: W tensorflow/compiler/tf2mlcompute/convert/mlc_convert_utils.cc:690] ComputeTimeStepForAdam: Computing time_step from beta1_power and beta2_power gives different results, probably due to losing precision in pow or log. The time_step that comes from the larger beta_power is chosen (time_step = 975).\n",
      "2021-08-24 15:57:11.726844: W tensorflow/compiler/tf2mlcompute/convert/mlc_convert_utils.cc:690] ComputeTimeStepForAdam: Computing time_step from beta1_power and beta2_power gives different results, probably due to losing precision in pow or log. The time_step that comes from the larger beta_power is chosen (time_step = 975).\n",
      "2021-08-24 15:57:11.726859: W tensorflow/compiler/tf2mlcompute/convert/mlc_convert_utils.cc:690] ComputeTimeStepForAdam: Computing time_step from beta1_power and beta2_power gives different results, probably due to losing precision in pow or log. The time_step that comes from the larger beta_power is chosen (time_step = 975).\n",
      "2021-08-24 15:57:11.726926: W tensorflow/compiler/tf2mlcompute/convert/mlc_convert_utils.cc:690] ComputeTimeStepForAdam: Computing time_step from beta1_power and beta2_power gives different results, probably due to losing precision in pow or log. The time_step that comes from the larger beta_power is chosen (time_step = 975).\n",
      "2021-08-24 15:57:11.726937: W tensorflow/compiler/tf2mlcompute/convert/mlc_convert_utils.cc:690] ComputeTimeStepForAdam: Computing time_step from beta1_power and beta2_power gives different results, probably due to losing precision in pow or log. The time_step that comes from the larger beta_power is chosen (time_step = 975).\n",
      "2021-08-24 15:57:11.727001: W tensorflow/compiler/tf2mlcompute/convert/mlc_convert_utils.cc:690] ComputeTimeStepForAdam: Computing time_step from beta1_power and beta2_power gives different results, probably due to losing precision in pow or log. The time_step that comes from the larger beta_power is chosen (time_step = 975).\n",
      "2021-08-24 15:57:11.727012: W tensorflow/compiler/tf2mlcompute/convert/mlc_convert_utils.cc:690] ComputeTimeStepForAdam: Computing time_step from beta1_power and beta2_power gives different results, probably due to losing precision in pow or log. The time_step that comes from the larger beta_power is chosen (time_step = 975).\n",
      "2021-08-24 15:57:11.727078: W tensorflow/compiler/tf2mlcompute/convert/mlc_convert_utils.cc:690] ComputeTimeStepForAdam: Computing time_step from beta1_power and beta2_power gives different results, probably due to losing precision in pow or log. The time_step that comes from the larger beta_power is chosen (time_step = 975).\n",
      "2021-08-24 15:57:11.727089: W tensorflow/compiler/tf2mlcompute/convert/mlc_convert_utils.cc:690] ComputeTimeStepForAdam: Computing time_step from beta1_power and beta2_power gives different results, probably due to losing precision in pow or log. The time_step that comes from the larger beta_power is chosen (time_step = 975).\n",
      "2021-08-24 15:57:11.727152: W tensorflow/compiler/tf2mlcompute/convert/mlc_convert_utils.cc:690] ComputeTimeStepForAdam: Computing time_step from beta1_power and beta2_power gives different results, probably due to losing precision in pow or log. The time_step that comes from the larger beta_power is chosen (time_step = 975).\n",
      "2021-08-24 15:57:11.758849: W tensorflow/compiler/tf2mlcompute/convert/mlc_convert_utils.cc:690] ComputeTimeStepForAdam: Computing time_step from beta1_power and beta2_power gives different results, probably due to losing precision in pow or log. The time_step that comes from the larger beta_power is chosen (time_step = 976).\n",
      "2021-08-24 15:57:11.758981: W tensorflow/compiler/tf2mlcompute/convert/mlc_convert_utils.cc:690] ComputeTimeStepForAdam: Computing time_step from beta1_power and beta2_power gives different results, probably due to losing precision in pow or log. The time_step that comes from the larger beta_power is chosen (time_step = 976).\n",
      "2021-08-24 15:57:11.758995: W tensorflow/compiler/tf2mlcompute/convert/mlc_convert_utils.cc:690] ComputeTimeStepForAdam: Computing time_step from beta1_power and beta2_power gives different results, probably due to losing precision in pow or log. The time_step that comes from the larger beta_power is chosen (time_step = 976).\n",
      "2021-08-24 15:57:11.759064: W tensorflow/compiler/tf2mlcompute/convert/mlc_convert_utils.cc:690] ComputeTimeStepForAdam: Computing time_step from beta1_power and beta2_power gives different results, probably due to losing precision in pow or log. The time_step that comes from the larger beta_power is chosen (time_step = 976).\n",
      "2021-08-24 15:57:11.759076: W tensorflow/compiler/tf2mlcompute/convert/mlc_convert_utils.cc:690] ComputeTimeStepForAdam: Computing time_step from beta1_power and beta2_power gives different results, probably due to losing precision in pow or log. The time_step that comes from the larger beta_power is chosen (time_step = 976).\n",
      "2021-08-24 15:57:11.759155: W tensorflow/compiler/tf2mlcompute/convert/mlc_convert_utils.cc:690] ComputeTimeStepForAdam: Computing time_step from beta1_power and beta2_power gives different results, probably due to losing precision in pow or log. The time_step that comes from the larger beta_power is chosen (time_step = 976).\n",
      "2021-08-24 15:57:11.759167: W tensorflow/compiler/tf2mlcompute/convert/mlc_convert_utils.cc:690] ComputeTimeStepForAdam: Computing time_step from beta1_power and beta2_power gives different results, probably due to losing precision in pow or log. The time_step that comes from the larger beta_power is chosen (time_step = 976).\n",
      "2021-08-24 15:57:11.759240: W tensorflow/compiler/tf2mlcompute/convert/mlc_convert_utils.cc:690] ComputeTimeStepForAdam: Computing time_step from beta1_power and beta2_power gives different results, probably due to losing precision in pow or log. The time_step that comes from the larger beta_power is chosen (time_step = 976).\n",
      "2021-08-24 15:57:11.759251: W tensorflow/compiler/tf2mlcompute/convert/mlc_convert_utils.cc:690] ComputeTimeStepForAdam: Computing time_step from beta1_power and beta2_power gives different results, probably due to losing precision in pow or log. The time_step that comes from the larger beta_power is chosen (time_step = 976).\n",
      "2021-08-24 15:57:11.759325: W tensorflow/compiler/tf2mlcompute/convert/mlc_convert_utils.cc:690] ComputeTimeStepForAdam: Computing time_step from beta1_power and beta2_power gives different results, probably due to losing precision in pow or log. The time_step that comes from the larger beta_power is chosen (time_step = 976).\n",
      "2021-08-24 15:57:11.759335: W tensorflow/compiler/tf2mlcompute/convert/mlc_convert_utils.cc:690] ComputeTimeStepForAdam: Computing time_step from beta1_power and beta2_power gives different results, probably due to losing precision in pow or log. The time_step that comes from the larger beta_power is chosen (time_step = 976).\n",
      "2021-08-24 15:57:11.759407: W tensorflow/compiler/tf2mlcompute/convert/mlc_convert_utils.cc:690] ComputeTimeStepForAdam: Computing time_step from beta1_power and beta2_power gives different results, probably due to losing precision in pow or log. The time_step that comes from the larger beta_power is chosen (time_step = 976).\n"
     ]
    },
    {
     "name": "stdout",
     "output_type": "stream",
     "text": [
      "\u001b[1;31mWARNING\u001b[1;0m:tensorflow:AutoGraph could not transform <function Model.make_predict_function.<locals>.predict_function at 0x3a7f7e8b0> and will run it as-is.\n",
      "Please report this to the TensorFlow team. When filing the bug, set the verbosity to 10 (on Linux, `export AUTOGRAPH_VERBOSITY=10`) and attach the full output.\n",
      "Cause: unsupported operand type(s) for -: 'NoneType' and 'int'\n",
      "To silence this warning, decorate the function with @tf.autograph.experimental.do_not_convert\n"
     ]
    },
    {
     "name": "stderr",
     "output_type": "stream",
     "text": [
      "\u001b[0;36mag_logging.py:\u001b[0;35m 146\u001b[0;0m --- \u001b[1;31mWARNING\u001b[1;0m: AutoGraph could not transform <function Model.make_predict_function.<locals>.predict_function at 0x3a7f7e8b0> and will run it as-is.\n",
      "Please report this to the TensorFlow team. When filing the bug, set the verbosity to 10 (on Linux, `export AUTOGRAPH_VERBOSITY=10`) and attach the full output.\n",
      "Cause: unsupported operand type(s) for -: 'NoneType' and 'int'\n",
      "To silence this warning, decorate the function with @tf.autograph.experimental.do_not_convert\n"
     ]
    },
    {
     "name": "stdout",
     "output_type": "stream",
     "text": [
      "WARNING: AutoGraph could not transform <function Model.make_predict_function.<locals>.predict_function at 0x3a7f7e8b0> and will run it as-is.\n",
      "Please report this to the TensorFlow team. When filing the bug, set the verbosity to 10 (on Linux, `export AUTOGRAPH_VERBOSITY=10`) and attach the full output.\n",
      "Cause: unsupported operand type(s) for -: 'NoneType' and 'int'\n",
      "To silence this warning, decorate the function with @tf.autograph.experimental.do_not_convert\n",
      "Max significance: 3.11 for threshold 0.9795 background rate 1.87e-05 and analysis efficiency 0.82\n",
      "1\n",
      "\u001b[1;31mWARNING\u001b[1;0m:tensorflow:AutoGraph could not transform <function Model.make_train_function.<locals>.train_function at 0x62e10b940> and will run it as-is.\n",
      "Please report this to the TensorFlow team. When filing the bug, set the verbosity to 10 (on Linux, `export AUTOGRAPH_VERBOSITY=10`) and attach the full output.\n",
      "Cause: unsupported operand type(s) for -: 'NoneType' and 'int'\n",
      "To silence this warning, decorate the function with @tf.autograph.experimental.do_not_convert\n"
     ]
    },
    {
     "name": "stderr",
     "output_type": "stream",
     "text": [
      "\u001b[0;36mag_logging.py:\u001b[0;35m 146\u001b[0;0m --- \u001b[1;31mWARNING\u001b[1;0m: AutoGraph could not transform <function Model.make_train_function.<locals>.train_function at 0x62e10b940> and will run it as-is.\n",
      "Please report this to the TensorFlow team. When filing the bug, set the verbosity to 10 (on Linux, `export AUTOGRAPH_VERBOSITY=10`) and attach the full output.\n",
      "Cause: unsupported operand type(s) for -: 'NoneType' and 'int'\n",
      "To silence this warning, decorate the function with @tf.autograph.experimental.do_not_convert\n"
     ]
    },
    {
     "name": "stdout",
     "output_type": "stream",
     "text": [
      "WARNING: AutoGraph could not transform <function Model.make_train_function.<locals>.train_function at 0x62e10b940> and will run it as-is.\n",
      "Please report this to the TensorFlow team. When filing the bug, set the verbosity to 10 (on Linux, `export AUTOGRAPH_VERBOSITY=10`) and attach the full output.\n",
      "Cause: unsupported operand type(s) for -: 'NoneType' and 'int'\n",
      "To silence this warning, decorate the function with @tf.autograph.experimental.do_not_convert\n",
      "\u001b[1;31mWARNING\u001b[1;0m:tensorflow:AutoGraph could not transform <function Model.make_test_function.<locals>.test_function at 0x730b35940> and will run it as-is.\n",
      "Please report this to the TensorFlow team. When filing the bug, set the verbosity to 10 (on Linux, `export AUTOGRAPH_VERBOSITY=10`) and attach the full output.\n",
      "Cause: unsupported operand type(s) for -: 'NoneType' and 'int'\n",
      "To silence this warning, decorate the function with @tf.autograph.experimental.do_not_convert\n"
     ]
    },
    {
     "name": "stderr",
     "output_type": "stream",
     "text": [
      "\u001b[0;36mag_logging.py:\u001b[0;35m 146\u001b[0;0m --- \u001b[1;31mWARNING\u001b[1;0m: AutoGraph could not transform <function Model.make_test_function.<locals>.test_function at 0x730b35940> and will run it as-is.\n",
      "Please report this to the TensorFlow team. When filing the bug, set the verbosity to 10 (on Linux, `export AUTOGRAPH_VERBOSITY=10`) and attach the full output.\n",
      "Cause: unsupported operand type(s) for -: 'NoneType' and 'int'\n",
      "To silence this warning, decorate the function with @tf.autograph.experimental.do_not_convert\n"
     ]
    },
    {
     "name": "stdout",
     "output_type": "stream",
     "text": [
      "WARNING: AutoGraph could not transform <function Model.make_test_function.<locals>.test_function at 0x730b35940> and will run it as-is.\n",
      "Please report this to the TensorFlow team. When filing the bug, set the verbosity to 10 (on Linux, `export AUTOGRAPH_VERBOSITY=10`) and attach the full output.\n",
      "Cause: unsupported operand type(s) for -: 'NoneType' and 'int'\n",
      "To silence this warning, decorate the function with @tf.autograph.experimental.do_not_convert\n"
     ]
    },
    {
     "name": "stderr",
     "output_type": "stream",
     "text": [
      "2021-08-24 15:57:24.949657: W tensorflow/compiler/tf2mlcompute/convert/mlc_convert_utils.cc:690] ComputeTimeStepForAdam: Computing time_step from beta1_power and beta2_power gives different results, probably due to losing precision in pow or log. The time_step that comes from the larger beta_power is chosen (time_step = 975).\n",
      "2021-08-24 15:57:24.949793: W tensorflow/compiler/tf2mlcompute/convert/mlc_convert_utils.cc:690] ComputeTimeStepForAdam: Computing time_step from beta1_power and beta2_power gives different results, probably due to losing precision in pow or log. The time_step that comes from the larger beta_power is chosen (time_step = 975).\n",
      "2021-08-24 15:57:24.949810: W tensorflow/compiler/tf2mlcompute/convert/mlc_convert_utils.cc:690] ComputeTimeStepForAdam: Computing time_step from beta1_power and beta2_power gives different results, probably due to losing precision in pow or log. The time_step that comes from the larger beta_power is chosen (time_step = 975).\n",
      "2021-08-24 15:57:24.949883: W tensorflow/compiler/tf2mlcompute/convert/mlc_convert_utils.cc:690] ComputeTimeStepForAdam: Computing time_step from beta1_power and beta2_power gives different results, probably due to losing precision in pow or log. The time_step that comes from the larger beta_power is chosen (time_step = 975).\n",
      "2021-08-24 15:57:24.949894: W tensorflow/compiler/tf2mlcompute/convert/mlc_convert_utils.cc:690] ComputeTimeStepForAdam: Computing time_step from beta1_power and beta2_power gives different results, probably due to losing precision in pow or log. The time_step that comes from the larger beta_power is chosen (time_step = 975).\n",
      "2021-08-24 15:57:24.949962: W tensorflow/compiler/tf2mlcompute/convert/mlc_convert_utils.cc:690] ComputeTimeStepForAdam: Computing time_step from beta1_power and beta2_power gives different results, probably due to losing precision in pow or log. The time_step that comes from the larger beta_power is chosen (time_step = 975).\n",
      "2021-08-24 15:57:24.949973: W tensorflow/compiler/tf2mlcompute/convert/mlc_convert_utils.cc:690] ComputeTimeStepForAdam: Computing time_step from beta1_power and beta2_power gives different results, probably due to losing precision in pow or log. The time_step that comes from the larger beta_power is chosen (time_step = 975).\n",
      "2021-08-24 15:57:24.950038: W tensorflow/compiler/tf2mlcompute/convert/mlc_convert_utils.cc:690] ComputeTimeStepForAdam: Computing time_step from beta1_power and beta2_power gives different results, probably due to losing precision in pow or log. The time_step that comes from the larger beta_power is chosen (time_step = 975).\n",
      "2021-08-24 15:57:24.950050: W tensorflow/compiler/tf2mlcompute/convert/mlc_convert_utils.cc:690] ComputeTimeStepForAdam: Computing time_step from beta1_power and beta2_power gives different results, probably due to losing precision in pow or log. The time_step that comes from the larger beta_power is chosen (time_step = 975).\n",
      "2021-08-24 15:57:24.950114: W tensorflow/compiler/tf2mlcompute/convert/mlc_convert_utils.cc:690] ComputeTimeStepForAdam: Computing time_step from beta1_power and beta2_power gives different results, probably due to losing precision in pow or log. The time_step that comes from the larger beta_power is chosen (time_step = 975).\n",
      "2021-08-24 15:57:24.950126: W tensorflow/compiler/tf2mlcompute/convert/mlc_convert_utils.cc:690] ComputeTimeStepForAdam: Computing time_step from beta1_power and beta2_power gives different results, probably due to losing precision in pow or log. The time_step that comes from the larger beta_power is chosen (time_step = 975).\n",
      "2021-08-24 15:57:24.950191: W tensorflow/compiler/tf2mlcompute/convert/mlc_convert_utils.cc:690] ComputeTimeStepForAdam: Computing time_step from beta1_power and beta2_power gives different results, probably due to losing precision in pow or log. The time_step that comes from the larger beta_power is chosen (time_step = 975).\n",
      "2021-08-24 15:57:24.981509: W tensorflow/compiler/tf2mlcompute/convert/mlc_convert_utils.cc:690] ComputeTimeStepForAdam: Computing time_step from beta1_power and beta2_power gives different results, probably due to losing precision in pow or log. The time_step that comes from the larger beta_power is chosen (time_step = 976).\n",
      "2021-08-24 15:57:24.981654: W tensorflow/compiler/tf2mlcompute/convert/mlc_convert_utils.cc:690] ComputeTimeStepForAdam: Computing time_step from beta1_power and beta2_power gives different results, probably due to losing precision in pow or log. The time_step that comes from the larger beta_power is chosen (time_step = 976).\n",
      "2021-08-24 15:57:24.981675: W tensorflow/compiler/tf2mlcompute/convert/mlc_convert_utils.cc:690] ComputeTimeStepForAdam: Computing time_step from beta1_power and beta2_power gives different results, probably due to losing precision in pow or log. The time_step that comes from the larger beta_power is chosen (time_step = 976).\n",
      "2021-08-24 15:57:24.981743: W tensorflow/compiler/tf2mlcompute/convert/mlc_convert_utils.cc:690] ComputeTimeStepForAdam: Computing time_step from beta1_power and beta2_power gives different results, probably due to losing precision in pow or log. The time_step that comes from the larger beta_power is chosen (time_step = 976).\n",
      "2021-08-24 15:57:24.981762: W tensorflow/compiler/tf2mlcompute/convert/mlc_convert_utils.cc:690] ComputeTimeStepForAdam: Computing time_step from beta1_power and beta2_power gives different results, probably due to losing precision in pow or log. The time_step that comes from the larger beta_power is chosen (time_step = 976).\n",
      "2021-08-24 15:57:24.981846: W tensorflow/compiler/tf2mlcompute/convert/mlc_convert_utils.cc:690] ComputeTimeStepForAdam: Computing time_step from beta1_power and beta2_power gives different results, probably due to losing precision in pow or log. The time_step that comes from the larger beta_power is chosen (time_step = 976).\n",
      "2021-08-24 15:57:24.981863: W tensorflow/compiler/tf2mlcompute/convert/mlc_convert_utils.cc:690] ComputeTimeStepForAdam: Computing time_step from beta1_power and beta2_power gives different results, probably due to losing precision in pow or log. The time_step that comes from the larger beta_power is chosen (time_step = 976).\n",
      "2021-08-24 15:57:24.981939: W tensorflow/compiler/tf2mlcompute/convert/mlc_convert_utils.cc:690] ComputeTimeStepForAdam: Computing time_step from beta1_power and beta2_power gives different results, probably due to losing precision in pow or log. The time_step that comes from the larger beta_power is chosen (time_step = 976).\n",
      "2021-08-24 15:57:24.981967: W tensorflow/compiler/tf2mlcompute/convert/mlc_convert_utils.cc:690] ComputeTimeStepForAdam: Computing time_step from beta1_power and beta2_power gives different results, probably due to losing precision in pow or log. The time_step that comes from the larger beta_power is chosen (time_step = 976).\n",
      "2021-08-24 15:57:24.982043: W tensorflow/compiler/tf2mlcompute/convert/mlc_convert_utils.cc:690] ComputeTimeStepForAdam: Computing time_step from beta1_power and beta2_power gives different results, probably due to losing precision in pow or log. The time_step that comes from the larger beta_power is chosen (time_step = 976).\n",
      "2021-08-24 15:57:24.982055: W tensorflow/compiler/tf2mlcompute/convert/mlc_convert_utils.cc:690] ComputeTimeStepForAdam: Computing time_step from beta1_power and beta2_power gives different results, probably due to losing precision in pow or log. The time_step that comes from the larger beta_power is chosen (time_step = 976).\n",
      "2021-08-24 15:57:24.982127: W tensorflow/compiler/tf2mlcompute/convert/mlc_convert_utils.cc:690] ComputeTimeStepForAdam: Computing time_step from beta1_power and beta2_power gives different results, probably due to losing precision in pow or log. The time_step that comes from the larger beta_power is chosen (time_step = 976).\n"
     ]
    },
    {
     "name": "stdout",
     "output_type": "stream",
     "text": [
      "\u001b[1;31mWARNING\u001b[1;0m:tensorflow:AutoGraph could not transform <function Model.make_predict_function.<locals>.predict_function at 0x81a7fde50> and will run it as-is.\n",
      "Please report this to the TensorFlow team. When filing the bug, set the verbosity to 10 (on Linux, `export AUTOGRAPH_VERBOSITY=10`) and attach the full output.\n",
      "Cause: unsupported operand type(s) for -: 'NoneType' and 'int'\n",
      "To silence this warning, decorate the function with @tf.autograph.experimental.do_not_convert\n"
     ]
    },
    {
     "name": "stderr",
     "output_type": "stream",
     "text": [
      "\u001b[0;36mag_logging.py:\u001b[0;35m 146\u001b[0;0m --- \u001b[1;31mWARNING\u001b[1;0m: AutoGraph could not transform <function Model.make_predict_function.<locals>.predict_function at 0x81a7fde50> and will run it as-is.\n",
      "Please report this to the TensorFlow team. When filing the bug, set the verbosity to 10 (on Linux, `export AUTOGRAPH_VERBOSITY=10`) and attach the full output.\n",
      "Cause: unsupported operand type(s) for -: 'NoneType' and 'int'\n",
      "To silence this warning, decorate the function with @tf.autograph.experimental.do_not_convert\n"
     ]
    },
    {
     "name": "stdout",
     "output_type": "stream",
     "text": [
      "WARNING: AutoGraph could not transform <function Model.make_predict_function.<locals>.predict_function at 0x81a7fde50> and will run it as-is.\n",
      "Please report this to the TensorFlow team. When filing the bug, set the verbosity to 10 (on Linux, `export AUTOGRAPH_VERBOSITY=10`) and attach the full output.\n",
      "Cause: unsupported operand type(s) for -: 'NoneType' and 'int'\n",
      "To silence this warning, decorate the function with @tf.autograph.experimental.do_not_convert\n",
      "Max significance: 3.03 for threshold 0.9879 background rate 1.87e-05 and analysis efficiency 0.80\n",
      "2\n",
      "\u001b[1;31mWARNING\u001b[1;0m:tensorflow:AutoGraph could not transform <function Model.make_train_function.<locals>.train_function at 0x732909a60> and will run it as-is.\n",
      "Please report this to the TensorFlow team. When filing the bug, set the verbosity to 10 (on Linux, `export AUTOGRAPH_VERBOSITY=10`) and attach the full output.\n",
      "Cause: unsupported operand type(s) for -: 'NoneType' and 'int'\n",
      "To silence this warning, decorate the function with @tf.autograph.experimental.do_not_convert\n"
     ]
    },
    {
     "name": "stderr",
     "output_type": "stream",
     "text": [
      "\u001b[0;36mag_logging.py:\u001b[0;35m 146\u001b[0;0m --- \u001b[1;31mWARNING\u001b[1;0m: AutoGraph could not transform <function Model.make_train_function.<locals>.train_function at 0x732909a60> and will run it as-is.\n",
      "Please report this to the TensorFlow team. When filing the bug, set the verbosity to 10 (on Linux, `export AUTOGRAPH_VERBOSITY=10`) and attach the full output.\n",
      "Cause: unsupported operand type(s) for -: 'NoneType' and 'int'\n",
      "To silence this warning, decorate the function with @tf.autograph.experimental.do_not_convert\n"
     ]
    },
    {
     "name": "stdout",
     "output_type": "stream",
     "text": [
      "WARNING: AutoGraph could not transform <function Model.make_train_function.<locals>.train_function at 0x732909a60> and will run it as-is.\n",
      "Please report this to the TensorFlow team. When filing the bug, set the verbosity to 10 (on Linux, `export AUTOGRAPH_VERBOSITY=10`) and attach the full output.\n",
      "Cause: unsupported operand type(s) for -: 'NoneType' and 'int'\n",
      "To silence this warning, decorate the function with @tf.autograph.experimental.do_not_convert\n",
      "\u001b[1;31mWARNING\u001b[1;0m:tensorflow:AutoGraph could not transform <function Model.make_test_function.<locals>.test_function at 0x81a7fd040> and will run it as-is.\n",
      "Please report this to the TensorFlow team. When filing the bug, set the verbosity to 10 (on Linux, `export AUTOGRAPH_VERBOSITY=10`) and attach the full output.\n",
      "Cause: unsupported operand type(s) for -: 'NoneType' and 'int'\n",
      "To silence this warning, decorate the function with @tf.autograph.experimental.do_not_convert\n"
     ]
    },
    {
     "name": "stderr",
     "output_type": "stream",
     "text": [
      "\u001b[0;36mag_logging.py:\u001b[0;35m 146\u001b[0;0m --- \u001b[1;31mWARNING\u001b[1;0m: AutoGraph could not transform <function Model.make_test_function.<locals>.test_function at 0x81a7fd040> and will run it as-is.\n",
      "Please report this to the TensorFlow team. When filing the bug, set the verbosity to 10 (on Linux, `export AUTOGRAPH_VERBOSITY=10`) and attach the full output.\n",
      "Cause: unsupported operand type(s) for -: 'NoneType' and 'int'\n",
      "To silence this warning, decorate the function with @tf.autograph.experimental.do_not_convert\n"
     ]
    },
    {
     "name": "stdout",
     "output_type": "stream",
     "text": [
      "WARNING: AutoGraph could not transform <function Model.make_test_function.<locals>.test_function at 0x81a7fd040> and will run it as-is.\n",
      "Please report this to the TensorFlow team. When filing the bug, set the verbosity to 10 (on Linux, `export AUTOGRAPH_VERBOSITY=10`) and attach the full output.\n",
      "Cause: unsupported operand type(s) for -: 'NoneType' and 'int'\n",
      "To silence this warning, decorate the function with @tf.autograph.experimental.do_not_convert\n"
     ]
    },
    {
     "name": "stderr",
     "output_type": "stream",
     "text": [
      "2021-08-24 15:57:38.875389: W tensorflow/compiler/tf2mlcompute/convert/mlc_convert_utils.cc:690] ComputeTimeStepForAdam: Computing time_step from beta1_power and beta2_power gives different results, probably due to losing precision in pow or log. The time_step that comes from the larger beta_power is chosen (time_step = 975).\n",
      "2021-08-24 15:57:38.875991: W tensorflow/compiler/tf2mlcompute/convert/mlc_convert_utils.cc:690] ComputeTimeStepForAdam: Computing time_step from beta1_power and beta2_power gives different results, probably due to losing precision in pow or log. The time_step that comes from the larger beta_power is chosen (time_step = 975).\n",
      "2021-08-24 15:57:38.876004: W tensorflow/compiler/tf2mlcompute/convert/mlc_convert_utils.cc:690] ComputeTimeStepForAdam: Computing time_step from beta1_power and beta2_power gives different results, probably due to losing precision in pow or log. The time_step that comes from the larger beta_power is chosen (time_step = 975).\n",
      "2021-08-24 15:57:38.876075: W tensorflow/compiler/tf2mlcompute/convert/mlc_convert_utils.cc:690] ComputeTimeStepForAdam: Computing time_step from beta1_power and beta2_power gives different results, probably due to losing precision in pow or log. The time_step that comes from the larger beta_power is chosen (time_step = 975).\n",
      "2021-08-24 15:57:38.876086: W tensorflow/compiler/tf2mlcompute/convert/mlc_convert_utils.cc:690] ComputeTimeStepForAdam: Computing time_step from beta1_power and beta2_power gives different results, probably due to losing precision in pow or log. The time_step that comes from the larger beta_power is chosen (time_step = 975).\n",
      "2021-08-24 15:57:38.876157: W tensorflow/compiler/tf2mlcompute/convert/mlc_convert_utils.cc:690] ComputeTimeStepForAdam: Computing time_step from beta1_power and beta2_power gives different results, probably due to losing precision in pow or log. The time_step that comes from the larger beta_power is chosen (time_step = 975).\n",
      "2021-08-24 15:57:38.876168: W tensorflow/compiler/tf2mlcompute/convert/mlc_convert_utils.cc:690] ComputeTimeStepForAdam: Computing time_step from beta1_power and beta2_power gives different results, probably due to losing precision in pow or log. The time_step that comes from the larger beta_power is chosen (time_step = 975).\n",
      "2021-08-24 15:57:38.876237: W tensorflow/compiler/tf2mlcompute/convert/mlc_convert_utils.cc:690] ComputeTimeStepForAdam: Computing time_step from beta1_power and beta2_power gives different results, probably due to losing precision in pow or log. The time_step that comes from the larger beta_power is chosen (time_step = 975).\n",
      "2021-08-24 15:57:38.876247: W tensorflow/compiler/tf2mlcompute/convert/mlc_convert_utils.cc:690] ComputeTimeStepForAdam: Computing time_step from beta1_power and beta2_power gives different results, probably due to losing precision in pow or log. The time_step that comes from the larger beta_power is chosen (time_step = 975).\n",
      "2021-08-24 15:57:38.876316: W tensorflow/compiler/tf2mlcompute/convert/mlc_convert_utils.cc:690] ComputeTimeStepForAdam: Computing time_step from beta1_power and beta2_power gives different results, probably due to losing precision in pow or log. The time_step that comes from the larger beta_power is chosen (time_step = 975).\n",
      "2021-08-24 15:57:38.876327: W tensorflow/compiler/tf2mlcompute/convert/mlc_convert_utils.cc:690] ComputeTimeStepForAdam: Computing time_step from beta1_power and beta2_power gives different results, probably due to losing precision in pow or log. The time_step that comes from the larger beta_power is chosen (time_step = 975).\n",
      "2021-08-24 15:57:38.876395: W tensorflow/compiler/tf2mlcompute/convert/mlc_convert_utils.cc:690] ComputeTimeStepForAdam: Computing time_step from beta1_power and beta2_power gives different results, probably due to losing precision in pow or log. The time_step that comes from the larger beta_power is chosen (time_step = 975).\n",
      "2021-08-24 15:57:38.913803: W tensorflow/compiler/tf2mlcompute/convert/mlc_convert_utils.cc:690] ComputeTimeStepForAdam: Computing time_step from beta1_power and beta2_power gives different results, probably due to losing precision in pow or log. The time_step that comes from the larger beta_power is chosen (time_step = 976).\n",
      "2021-08-24 15:57:38.913948: W tensorflow/compiler/tf2mlcompute/convert/mlc_convert_utils.cc:690] ComputeTimeStepForAdam: Computing time_step from beta1_power and beta2_power gives different results, probably due to losing precision in pow or log. The time_step that comes from the larger beta_power is chosen (time_step = 976).\n",
      "2021-08-24 15:57:38.913963: W tensorflow/compiler/tf2mlcompute/convert/mlc_convert_utils.cc:690] ComputeTimeStepForAdam: Computing time_step from beta1_power and beta2_power gives different results, probably due to losing precision in pow or log. The time_step that comes from the larger beta_power is chosen (time_step = 976).\n",
      "2021-08-24 15:57:38.914033: W tensorflow/compiler/tf2mlcompute/convert/mlc_convert_utils.cc:690] ComputeTimeStepForAdam: Computing time_step from beta1_power and beta2_power gives different results, probably due to losing precision in pow or log. The time_step that comes from the larger beta_power is chosen (time_step = 976).\n",
      "2021-08-24 15:57:38.914047: W tensorflow/compiler/tf2mlcompute/convert/mlc_convert_utils.cc:690] ComputeTimeStepForAdam: Computing time_step from beta1_power and beta2_power gives different results, probably due to losing precision in pow or log. The time_step that comes from the larger beta_power is chosen (time_step = 976).\n",
      "2021-08-24 15:57:38.914125: W tensorflow/compiler/tf2mlcompute/convert/mlc_convert_utils.cc:690] ComputeTimeStepForAdam: Computing time_step from beta1_power and beta2_power gives different results, probably due to losing precision in pow or log. The time_step that comes from the larger beta_power is chosen (time_step = 976).\n",
      "2021-08-24 15:57:38.914138: W tensorflow/compiler/tf2mlcompute/convert/mlc_convert_utils.cc:690] ComputeTimeStepForAdam: Computing time_step from beta1_power and beta2_power gives different results, probably due to losing precision in pow or log. The time_step that comes from the larger beta_power is chosen (time_step = 976).\n",
      "2021-08-24 15:57:38.914210: W tensorflow/compiler/tf2mlcompute/convert/mlc_convert_utils.cc:690] ComputeTimeStepForAdam: Computing time_step from beta1_power and beta2_power gives different results, probably due to losing precision in pow or log. The time_step that comes from the larger beta_power is chosen (time_step = 976).\n",
      "2021-08-24 15:57:38.914221: W tensorflow/compiler/tf2mlcompute/convert/mlc_convert_utils.cc:690] ComputeTimeStepForAdam: Computing time_step from beta1_power and beta2_power gives different results, probably due to losing precision in pow or log. The time_step that comes from the larger beta_power is chosen (time_step = 976).\n",
      "2021-08-24 15:57:38.914292: W tensorflow/compiler/tf2mlcompute/convert/mlc_convert_utils.cc:690] ComputeTimeStepForAdam: Computing time_step from beta1_power and beta2_power gives different results, probably due to losing precision in pow or log. The time_step that comes from the larger beta_power is chosen (time_step = 976).\n",
      "2021-08-24 15:57:38.914304: W tensorflow/compiler/tf2mlcompute/convert/mlc_convert_utils.cc:690] ComputeTimeStepForAdam: Computing time_step from beta1_power and beta2_power gives different results, probably due to losing precision in pow or log. The time_step that comes from the larger beta_power is chosen (time_step = 976).\n",
      "2021-08-24 15:57:38.914376: W tensorflow/compiler/tf2mlcompute/convert/mlc_convert_utils.cc:690] ComputeTimeStepForAdam: Computing time_step from beta1_power and beta2_power gives different results, probably due to losing precision in pow or log. The time_step that comes from the larger beta_power is chosen (time_step = 976).\n"
     ]
    },
    {
     "name": "stdout",
     "output_type": "stream",
     "text": [
      "\u001b[1;31mWARNING\u001b[1;0m:tensorflow:AutoGraph could not transform <function Model.make_predict_function.<locals>.predict_function at 0x3a7f60430> and will run it as-is.\n",
      "Please report this to the TensorFlow team. When filing the bug, set the verbosity to 10 (on Linux, `export AUTOGRAPH_VERBOSITY=10`) and attach the full output.\n",
      "Cause: unsupported operand type(s) for -: 'NoneType' and 'int'\n",
      "To silence this warning, decorate the function with @tf.autograph.experimental.do_not_convert\n"
     ]
    },
    {
     "name": "stderr",
     "output_type": "stream",
     "text": [
      "\u001b[0;36mag_logging.py:\u001b[0;35m 146\u001b[0;0m --- \u001b[1;31mWARNING\u001b[1;0m: AutoGraph could not transform <function Model.make_predict_function.<locals>.predict_function at 0x3a7f60430> and will run it as-is.\n",
      "Please report this to the TensorFlow team. When filing the bug, set the verbosity to 10 (on Linux, `export AUTOGRAPH_VERBOSITY=10`) and attach the full output.\n",
      "Cause: unsupported operand type(s) for -: 'NoneType' and 'int'\n",
      "To silence this warning, decorate the function with @tf.autograph.experimental.do_not_convert\n"
     ]
    },
    {
     "name": "stdout",
     "output_type": "stream",
     "text": [
      "WARNING: AutoGraph could not transform <function Model.make_predict_function.<locals>.predict_function at 0x3a7f60430> and will run it as-is.\n",
      "Please report this to the TensorFlow team. When filing the bug, set the verbosity to 10 (on Linux, `export AUTOGRAPH_VERBOSITY=10`) and attach the full output.\n",
      "Cause: unsupported operand type(s) for -: 'NoneType' and 'int'\n",
      "To silence this warning, decorate the function with @tf.autograph.experimental.do_not_convert\n",
      "Max significance: 2.81 for threshold 0.9792 background rate 2.49e-05 and analysis efficiency 0.84\n",
      "3\n",
      "\u001b[1;31mWARNING\u001b[1;0m:tensorflow:AutoGraph could not transform <function Model.make_train_function.<locals>.train_function at 0x3a0c8ca60> and will run it as-is.\n",
      "Please report this to the TensorFlow team. When filing the bug, set the verbosity to 10 (on Linux, `export AUTOGRAPH_VERBOSITY=10`) and attach the full output.\n",
      "Cause: unsupported operand type(s) for -: 'NoneType' and 'int'\n",
      "To silence this warning, decorate the function with @tf.autograph.experimental.do_not_convert\n"
     ]
    },
    {
     "name": "stderr",
     "output_type": "stream",
     "text": [
      "\u001b[0;36mag_logging.py:\u001b[0;35m 146\u001b[0;0m --- \u001b[1;31mWARNING\u001b[1;0m: AutoGraph could not transform <function Model.make_train_function.<locals>.train_function at 0x3a0c8ca60> and will run it as-is.\n",
      "Please report this to the TensorFlow team. When filing the bug, set the verbosity to 10 (on Linux, `export AUTOGRAPH_VERBOSITY=10`) and attach the full output.\n",
      "Cause: unsupported operand type(s) for -: 'NoneType' and 'int'\n",
      "To silence this warning, decorate the function with @tf.autograph.experimental.do_not_convert\n"
     ]
    },
    {
     "name": "stdout",
     "output_type": "stream",
     "text": [
      "WARNING: AutoGraph could not transform <function Model.make_train_function.<locals>.train_function at 0x3a0c8ca60> and will run it as-is.\n",
      "Please report this to the TensorFlow team. When filing the bug, set the verbosity to 10 (on Linux, `export AUTOGRAPH_VERBOSITY=10`) and attach the full output.\n",
      "Cause: unsupported operand type(s) for -: 'NoneType' and 'int'\n",
      "To silence this warning, decorate the function with @tf.autograph.experimental.do_not_convert\n",
      "\u001b[1;31mWARNING\u001b[1;0m:tensorflow:AutoGraph could not transform <function Model.make_test_function.<locals>.test_function at 0x73474f280> and will run it as-is.\n",
      "Please report this to the TensorFlow team. When filing the bug, set the verbosity to 10 (on Linux, `export AUTOGRAPH_VERBOSITY=10`) and attach the full output.\n",
      "Cause: unsupported operand type(s) for -: 'NoneType' and 'int'\n",
      "To silence this warning, decorate the function with @tf.autograph.experimental.do_not_convert\n"
     ]
    },
    {
     "name": "stderr",
     "output_type": "stream",
     "text": [
      "\u001b[0;36mag_logging.py:\u001b[0;35m 146\u001b[0;0m --- \u001b[1;31mWARNING\u001b[1;0m: AutoGraph could not transform <function Model.make_test_function.<locals>.test_function at 0x73474f280> and will run it as-is.\n",
      "Please report this to the TensorFlow team. When filing the bug, set the verbosity to 10 (on Linux, `export AUTOGRAPH_VERBOSITY=10`) and attach the full output.\n",
      "Cause: unsupported operand type(s) for -: 'NoneType' and 'int'\n",
      "To silence this warning, decorate the function with @tf.autograph.experimental.do_not_convert\n"
     ]
    },
    {
     "name": "stdout",
     "output_type": "stream",
     "text": [
      "WARNING: AutoGraph could not transform <function Model.make_test_function.<locals>.test_function at 0x73474f280> and will run it as-is.\n",
      "Please report this to the TensorFlow team. When filing the bug, set the verbosity to 10 (on Linux, `export AUTOGRAPH_VERBOSITY=10`) and attach the full output.\n",
      "Cause: unsupported operand type(s) for -: 'NoneType' and 'int'\n",
      "To silence this warning, decorate the function with @tf.autograph.experimental.do_not_convert\n"
     ]
    },
    {
     "name": "stderr",
     "output_type": "stream",
     "text": [
      "2021-08-24 15:57:52.556474: W tensorflow/compiler/tf2mlcompute/convert/mlc_convert_utils.cc:690] ComputeTimeStepForAdam: Computing time_step from beta1_power and beta2_power gives different results, probably due to losing precision in pow or log. The time_step that comes from the larger beta_power is chosen (time_step = 975).\n",
      "2021-08-24 15:57:52.556880: W tensorflow/compiler/tf2mlcompute/convert/mlc_convert_utils.cc:690] ComputeTimeStepForAdam: Computing time_step from beta1_power and beta2_power gives different results, probably due to losing precision in pow or log. The time_step that comes from the larger beta_power is chosen (time_step = 975).\n",
      "2021-08-24 15:57:52.557017: W tensorflow/compiler/tf2mlcompute/convert/mlc_convert_utils.cc:690] ComputeTimeStepForAdam: Computing time_step from beta1_power and beta2_power gives different results, probably due to losing precision in pow or log. The time_step that comes from the larger beta_power is chosen (time_step = 975).\n",
      "2021-08-24 15:57:52.557050: W tensorflow/compiler/tf2mlcompute/convert/mlc_convert_utils.cc:690] ComputeTimeStepForAdam: Computing time_step from beta1_power and beta2_power gives different results, probably due to losing precision in pow or log. The time_step that comes from the larger beta_power is chosen (time_step = 975).\n",
      "2021-08-24 15:57:52.557080: W tensorflow/compiler/tf2mlcompute/convert/mlc_convert_utils.cc:690] ComputeTimeStepForAdam: Computing time_step from beta1_power and beta2_power gives different results, probably due to losing precision in pow or log. The time_step that comes from the larger beta_power is chosen (time_step = 975).\n",
      "2021-08-24 15:57:52.557115: W tensorflow/compiler/tf2mlcompute/convert/mlc_convert_utils.cc:690] ComputeTimeStepForAdam: Computing time_step from beta1_power and beta2_power gives different results, probably due to losing precision in pow or log. The time_step that comes from the larger beta_power is chosen (time_step = 975).\n",
      "2021-08-24 15:57:52.557143: W tensorflow/compiler/tf2mlcompute/convert/mlc_convert_utils.cc:690] ComputeTimeStepForAdam: Computing time_step from beta1_power and beta2_power gives different results, probably due to losing precision in pow or log. The time_step that comes from the larger beta_power is chosen (time_step = 975).\n",
      "2021-08-24 15:57:52.557161: W tensorflow/compiler/tf2mlcompute/convert/mlc_convert_utils.cc:690] ComputeTimeStepForAdam: Computing time_step from beta1_power and beta2_power gives different results, probably due to losing precision in pow or log. The time_step that comes from the larger beta_power is chosen (time_step = 975).\n",
      "2021-08-24 15:57:52.557244: W tensorflow/compiler/tf2mlcompute/convert/mlc_convert_utils.cc:690] ComputeTimeStepForAdam: Computing time_step from beta1_power and beta2_power gives different results, probably due to losing precision in pow or log. The time_step that comes from the larger beta_power is chosen (time_step = 975).\n",
      "2021-08-24 15:57:52.557328: W tensorflow/compiler/tf2mlcompute/convert/mlc_convert_utils.cc:690] ComputeTimeStepForAdam: Computing time_step from beta1_power and beta2_power gives different results, probably due to losing precision in pow or log. The time_step that comes from the larger beta_power is chosen (time_step = 975).\n",
      "2021-08-24 15:57:52.557408: W tensorflow/compiler/tf2mlcompute/convert/mlc_convert_utils.cc:690] ComputeTimeStepForAdam: Computing time_step from beta1_power and beta2_power gives different results, probably due to losing precision in pow or log. The time_step that comes from the larger beta_power is chosen (time_step = 975).\n",
      "2021-08-24 15:57:52.557488: W tensorflow/compiler/tf2mlcompute/convert/mlc_convert_utils.cc:690] ComputeTimeStepForAdam: Computing time_step from beta1_power and beta2_power gives different results, probably due to losing precision in pow or log. The time_step that comes from the larger beta_power is chosen (time_step = 975).\n",
      "2021-08-24 15:57:52.592996: W tensorflow/compiler/tf2mlcompute/convert/mlc_convert_utils.cc:690] ComputeTimeStepForAdam: Computing time_step from beta1_power and beta2_power gives different results, probably due to losing precision in pow or log. The time_step that comes from the larger beta_power is chosen (time_step = 976).\n",
      "2021-08-24 15:57:52.593443: W tensorflow/compiler/tf2mlcompute/convert/mlc_convert_utils.cc:690] ComputeTimeStepForAdam: Computing time_step from beta1_power and beta2_power gives different results, probably due to losing precision in pow or log. The time_step that comes from the larger beta_power is chosen (time_step = 976).\n",
      "2021-08-24 15:57:52.593596: W tensorflow/compiler/tf2mlcompute/convert/mlc_convert_utils.cc:690] ComputeTimeStepForAdam: Computing time_step from beta1_power and beta2_power gives different results, probably due to losing precision in pow or log. The time_step that comes from the larger beta_power is chosen (time_step = 976).\n",
      "2021-08-24 15:57:52.593633: W tensorflow/compiler/tf2mlcompute/convert/mlc_convert_utils.cc:690] ComputeTimeStepForAdam: Computing time_step from beta1_power and beta2_power gives different results, probably due to losing precision in pow or log. The time_step that comes from the larger beta_power is chosen (time_step = 976).\n",
      "2021-08-24 15:57:52.593669: W tensorflow/compiler/tf2mlcompute/convert/mlc_convert_utils.cc:690] ComputeTimeStepForAdam: Computing time_step from beta1_power and beta2_power gives different results, probably due to losing precision in pow or log. The time_step that comes from the larger beta_power is chosen (time_step = 976).\n",
      "2021-08-24 15:57:52.593700: W tensorflow/compiler/tf2mlcompute/convert/mlc_convert_utils.cc:690] ComputeTimeStepForAdam: Computing time_step from beta1_power and beta2_power gives different results, probably due to losing precision in pow or log. The time_step that comes from the larger beta_power is chosen (time_step = 976).\n",
      "2021-08-24 15:57:52.593732: W tensorflow/compiler/tf2mlcompute/convert/mlc_convert_utils.cc:690] ComputeTimeStepForAdam: Computing time_step from beta1_power and beta2_power gives different results, probably due to losing precision in pow or log. The time_step that comes from the larger beta_power is chosen (time_step = 976).\n",
      "2021-08-24 15:57:52.593749: W tensorflow/compiler/tf2mlcompute/convert/mlc_convert_utils.cc:690] ComputeTimeStepForAdam: Computing time_step from beta1_power and beta2_power gives different results, probably due to losing precision in pow or log. The time_step that comes from the larger beta_power is chosen (time_step = 976).\n",
      "2021-08-24 15:57:52.593835: W tensorflow/compiler/tf2mlcompute/convert/mlc_convert_utils.cc:690] ComputeTimeStepForAdam: Computing time_step from beta1_power and beta2_power gives different results, probably due to losing precision in pow or log. The time_step that comes from the larger beta_power is chosen (time_step = 976).\n",
      "2021-08-24 15:57:52.593911: W tensorflow/compiler/tf2mlcompute/convert/mlc_convert_utils.cc:690] ComputeTimeStepForAdam: Computing time_step from beta1_power and beta2_power gives different results, probably due to losing precision in pow or log. The time_step that comes from the larger beta_power is chosen (time_step = 976).\n",
      "2021-08-24 15:57:52.593983: W tensorflow/compiler/tf2mlcompute/convert/mlc_convert_utils.cc:690] ComputeTimeStepForAdam: Computing time_step from beta1_power and beta2_power gives different results, probably due to losing precision in pow or log. The time_step that comes from the larger beta_power is chosen (time_step = 976).\n",
      "2021-08-24 15:57:52.594057: W tensorflow/compiler/tf2mlcompute/convert/mlc_convert_utils.cc:690] ComputeTimeStepForAdam: Computing time_step from beta1_power and beta2_power gives different results, probably due to losing precision in pow or log. The time_step that comes from the larger beta_power is chosen (time_step = 976).\n"
     ]
    },
    {
     "name": "stdout",
     "output_type": "stream",
     "text": [
      "\u001b[1;31mWARNING\u001b[1;0m:tensorflow:AutoGraph could not transform <function Model.make_predict_function.<locals>.predict_function at 0x62e004f70> and will run it as-is.\n",
      "Please report this to the TensorFlow team. When filing the bug, set the verbosity to 10 (on Linux, `export AUTOGRAPH_VERBOSITY=10`) and attach the full output.\n",
      "Cause: unsupported operand type(s) for -: 'NoneType' and 'int'\n",
      "To silence this warning, decorate the function with @tf.autograph.experimental.do_not_convert\n"
     ]
    },
    {
     "name": "stderr",
     "output_type": "stream",
     "text": [
      "\u001b[0;36mag_logging.py:\u001b[0;35m 146\u001b[0;0m --- \u001b[1;31mWARNING\u001b[1;0m: AutoGraph could not transform <function Model.make_predict_function.<locals>.predict_function at 0x62e004f70> and will run it as-is.\n",
      "Please report this to the TensorFlow team. When filing the bug, set the verbosity to 10 (on Linux, `export AUTOGRAPH_VERBOSITY=10`) and attach the full output.\n",
      "Cause: unsupported operand type(s) for -: 'NoneType' and 'int'\n",
      "To silence this warning, decorate the function with @tf.autograph.experimental.do_not_convert\n"
     ]
    },
    {
     "name": "stdout",
     "output_type": "stream",
     "text": [
      "WARNING: AutoGraph could not transform <function Model.make_predict_function.<locals>.predict_function at 0x62e004f70> and will run it as-is.\n",
      "Please report this to the TensorFlow team. When filing the bug, set the verbosity to 10 (on Linux, `export AUTOGRAPH_VERBOSITY=10`) and attach the full output.\n",
      "Cause: unsupported operand type(s) for -: 'NoneType' and 'int'\n",
      "To silence this warning, decorate the function with @tf.autograph.experimental.do_not_convert\n",
      "Max significance: 2.93 for threshold 0.9869 background rate 2.05e-05 and analysis efficiency 0.80\n",
      "4\n",
      "\u001b[1;31mWARNING\u001b[1;0m:tensorflow:AutoGraph could not transform <function Model.make_train_function.<locals>.train_function at 0x818d2fc10> and will run it as-is.\n",
      "Please report this to the TensorFlow team. When filing the bug, set the verbosity to 10 (on Linux, `export AUTOGRAPH_VERBOSITY=10`) and attach the full output.\n",
      "Cause: unsupported operand type(s) for -: 'NoneType' and 'int'\n",
      "To silence this warning, decorate the function with @tf.autograph.experimental.do_not_convert\n"
     ]
    },
    {
     "name": "stderr",
     "output_type": "stream",
     "text": [
      "\u001b[0;36mag_logging.py:\u001b[0;35m 146\u001b[0;0m --- \u001b[1;31mWARNING\u001b[1;0m: AutoGraph could not transform <function Model.make_train_function.<locals>.train_function at 0x818d2fc10> and will run it as-is.\n",
      "Please report this to the TensorFlow team. When filing the bug, set the verbosity to 10 (on Linux, `export AUTOGRAPH_VERBOSITY=10`) and attach the full output.\n",
      "Cause: unsupported operand type(s) for -: 'NoneType' and 'int'\n",
      "To silence this warning, decorate the function with @tf.autograph.experimental.do_not_convert\n"
     ]
    },
    {
     "name": "stdout",
     "output_type": "stream",
     "text": [
      "WARNING: AutoGraph could not transform <function Model.make_train_function.<locals>.train_function at 0x818d2fc10> and will run it as-is.\n",
      "Please report this to the TensorFlow team. When filing the bug, set the verbosity to 10 (on Linux, `export AUTOGRAPH_VERBOSITY=10`) and attach the full output.\n",
      "Cause: unsupported operand type(s) for -: 'NoneType' and 'int'\n",
      "To silence this warning, decorate the function with @tf.autograph.experimental.do_not_convert\n",
      "\u001b[1;31mWARNING\u001b[1;0m:tensorflow:AutoGraph could not transform <function Model.make_test_function.<locals>.test_function at 0x3a22a0700> and will run it as-is.\n",
      "Please report this to the TensorFlow team. When filing the bug, set the verbosity to 10 (on Linux, `export AUTOGRAPH_VERBOSITY=10`) and attach the full output.\n",
      "Cause: unsupported operand type(s) for -: 'NoneType' and 'int'\n",
      "To silence this warning, decorate the function with @tf.autograph.experimental.do_not_convert\n"
     ]
    },
    {
     "name": "stderr",
     "output_type": "stream",
     "text": [
      "\u001b[0;36mag_logging.py:\u001b[0;35m 146\u001b[0;0m --- \u001b[1;31mWARNING\u001b[1;0m: AutoGraph could not transform <function Model.make_test_function.<locals>.test_function at 0x3a22a0700> and will run it as-is.\n",
      "Please report this to the TensorFlow team. When filing the bug, set the verbosity to 10 (on Linux, `export AUTOGRAPH_VERBOSITY=10`) and attach the full output.\n",
      "Cause: unsupported operand type(s) for -: 'NoneType' and 'int'\n",
      "To silence this warning, decorate the function with @tf.autograph.experimental.do_not_convert\n"
     ]
    },
    {
     "name": "stdout",
     "output_type": "stream",
     "text": [
      "WARNING: AutoGraph could not transform <function Model.make_test_function.<locals>.test_function at 0x3a22a0700> and will run it as-is.\n",
      "Please report this to the TensorFlow team. When filing the bug, set the verbosity to 10 (on Linux, `export AUTOGRAPH_VERBOSITY=10`) and attach the full output.\n",
      "Cause: unsupported operand type(s) for -: 'NoneType' and 'int'\n",
      "To silence this warning, decorate the function with @tf.autograph.experimental.do_not_convert\n"
     ]
    },
    {
     "name": "stderr",
     "output_type": "stream",
     "text": [
      "2021-08-24 15:58:06.065978: W tensorflow/compiler/tf2mlcompute/convert/mlc_convert_utils.cc:690] ComputeTimeStepForAdam: Computing time_step from beta1_power and beta2_power gives different results, probably due to losing precision in pow or log. The time_step that comes from the larger beta_power is chosen (time_step = 975).\n",
      "2021-08-24 15:58:06.067357: W tensorflow/compiler/tf2mlcompute/convert/mlc_convert_utils.cc:690] ComputeTimeStepForAdam: Computing time_step from beta1_power and beta2_power gives different results, probably due to losing precision in pow or log. The time_step that comes from the larger beta_power is chosen (time_step = 975).\n",
      "2021-08-24 15:58:06.067372: W tensorflow/compiler/tf2mlcompute/convert/mlc_convert_utils.cc:690] ComputeTimeStepForAdam: Computing time_step from beta1_power and beta2_power gives different results, probably due to losing precision in pow or log. The time_step that comes from the larger beta_power is chosen (time_step = 975).\n",
      "2021-08-24 15:58:06.067437: W tensorflow/compiler/tf2mlcompute/convert/mlc_convert_utils.cc:690] ComputeTimeStepForAdam: Computing time_step from beta1_power and beta2_power gives different results, probably due to losing precision in pow or log. The time_step that comes from the larger beta_power is chosen (time_step = 975).\n",
      "2021-08-24 15:58:06.067450: W tensorflow/compiler/tf2mlcompute/convert/mlc_convert_utils.cc:690] ComputeTimeStepForAdam: Computing time_step from beta1_power and beta2_power gives different results, probably due to losing precision in pow or log. The time_step that comes from the larger beta_power is chosen (time_step = 975).\n",
      "2021-08-24 15:58:06.067522: W tensorflow/compiler/tf2mlcompute/convert/mlc_convert_utils.cc:690] ComputeTimeStepForAdam: Computing time_step from beta1_power and beta2_power gives different results, probably due to losing precision in pow or log. The time_step that comes from the larger beta_power is chosen (time_step = 975).\n",
      "2021-08-24 15:58:06.067533: W tensorflow/compiler/tf2mlcompute/convert/mlc_convert_utils.cc:690] ComputeTimeStepForAdam: Computing time_step from beta1_power and beta2_power gives different results, probably due to losing precision in pow or log. The time_step that comes from the larger beta_power is chosen (time_step = 975).\n",
      "2021-08-24 15:58:06.067598: W tensorflow/compiler/tf2mlcompute/convert/mlc_convert_utils.cc:690] ComputeTimeStepForAdam: Computing time_step from beta1_power and beta2_power gives different results, probably due to losing precision in pow or log. The time_step that comes from the larger beta_power is chosen (time_step = 975).\n",
      "2021-08-24 15:58:06.067609: W tensorflow/compiler/tf2mlcompute/convert/mlc_convert_utils.cc:690] ComputeTimeStepForAdam: Computing time_step from beta1_power and beta2_power gives different results, probably due to losing precision in pow or log. The time_step that comes from the larger beta_power is chosen (time_step = 975).\n",
      "2021-08-24 15:58:06.067672: W tensorflow/compiler/tf2mlcompute/convert/mlc_convert_utils.cc:690] ComputeTimeStepForAdam: Computing time_step from beta1_power and beta2_power gives different results, probably due to losing precision in pow or log. The time_step that comes from the larger beta_power is chosen (time_step = 975).\n",
      "2021-08-24 15:58:06.067682: W tensorflow/compiler/tf2mlcompute/convert/mlc_convert_utils.cc:690] ComputeTimeStepForAdam: Computing time_step from beta1_power and beta2_power gives different results, probably due to losing precision in pow or log. The time_step that comes from the larger beta_power is chosen (time_step = 975).\n",
      "2021-08-24 15:58:06.067744: W tensorflow/compiler/tf2mlcompute/convert/mlc_convert_utils.cc:690] ComputeTimeStepForAdam: Computing time_step from beta1_power and beta2_power gives different results, probably due to losing precision in pow or log. The time_step that comes from the larger beta_power is chosen (time_step = 975).\n",
      "2021-08-24 15:58:06.103701: W tensorflow/compiler/tf2mlcompute/convert/mlc_convert_utils.cc:690] ComputeTimeStepForAdam: Computing time_step from beta1_power and beta2_power gives different results, probably due to losing precision in pow or log. The time_step that comes from the larger beta_power is chosen (time_step = 976).\n",
      "2021-08-24 15:58:06.103862: W tensorflow/compiler/tf2mlcompute/convert/mlc_convert_utils.cc:690] ComputeTimeStepForAdam: Computing time_step from beta1_power and beta2_power gives different results, probably due to losing precision in pow or log. The time_step that comes from the larger beta_power is chosen (time_step = 976).\n",
      "2021-08-24 15:58:06.103882: W tensorflow/compiler/tf2mlcompute/convert/mlc_convert_utils.cc:690] ComputeTimeStepForAdam: Computing time_step from beta1_power and beta2_power gives different results, probably due to losing precision in pow or log. The time_step that comes from the larger beta_power is chosen (time_step = 976).\n",
      "2021-08-24 15:58:06.103955: W tensorflow/compiler/tf2mlcompute/convert/mlc_convert_utils.cc:690] ComputeTimeStepForAdam: Computing time_step from beta1_power and beta2_power gives different results, probably due to losing precision in pow or log. The time_step that comes from the larger beta_power is chosen (time_step = 976).\n",
      "2021-08-24 15:58:06.103970: W tensorflow/compiler/tf2mlcompute/convert/mlc_convert_utils.cc:690] ComputeTimeStepForAdam: Computing time_step from beta1_power and beta2_power gives different results, probably due to losing precision in pow or log. The time_step that comes from the larger beta_power is chosen (time_step = 976).\n",
      "2021-08-24 15:58:06.104055: W tensorflow/compiler/tf2mlcompute/convert/mlc_convert_utils.cc:690] ComputeTimeStepForAdam: Computing time_step from beta1_power and beta2_power gives different results, probably due to losing precision in pow or log. The time_step that comes from the larger beta_power is chosen (time_step = 976).\n",
      "2021-08-24 15:58:06.104067: W tensorflow/compiler/tf2mlcompute/convert/mlc_convert_utils.cc:690] ComputeTimeStepForAdam: Computing time_step from beta1_power and beta2_power gives different results, probably due to losing precision in pow or log. The time_step that comes from the larger beta_power is chosen (time_step = 976).\n",
      "2021-08-24 15:58:06.104150: W tensorflow/compiler/tf2mlcompute/convert/mlc_convert_utils.cc:690] ComputeTimeStepForAdam: Computing time_step from beta1_power and beta2_power gives different results, probably due to losing precision in pow or log. The time_step that comes from the larger beta_power is chosen (time_step = 976).\n",
      "2021-08-24 15:58:06.104165: W tensorflow/compiler/tf2mlcompute/convert/mlc_convert_utils.cc:690] ComputeTimeStepForAdam: Computing time_step from beta1_power and beta2_power gives different results, probably due to losing precision in pow or log. The time_step that comes from the larger beta_power is chosen (time_step = 976).\n",
      "2021-08-24 15:58:06.104309: W tensorflow/compiler/tf2mlcompute/convert/mlc_convert_utils.cc:690] ComputeTimeStepForAdam: Computing time_step from beta1_power and beta2_power gives different results, probably due to losing precision in pow or log. The time_step that comes from the larger beta_power is chosen (time_step = 976).\n",
      "2021-08-24 15:58:06.104322: W tensorflow/compiler/tf2mlcompute/convert/mlc_convert_utils.cc:690] ComputeTimeStepForAdam: Computing time_step from beta1_power and beta2_power gives different results, probably due to losing precision in pow or log. The time_step that comes from the larger beta_power is chosen (time_step = 976).\n",
      "2021-08-24 15:58:06.104425: W tensorflow/compiler/tf2mlcompute/convert/mlc_convert_utils.cc:690] ComputeTimeStepForAdam: Computing time_step from beta1_power and beta2_power gives different results, probably due to losing precision in pow or log. The time_step that comes from the larger beta_power is chosen (time_step = 976).\n"
     ]
    },
    {
     "name": "stdout",
     "output_type": "stream",
     "text": [
      "\u001b[1;31mWARNING\u001b[1;0m:tensorflow:AutoGraph could not transform <function Model.make_predict_function.<locals>.predict_function at 0x3a2285dc0> and will run it as-is.\n",
      "Please report this to the TensorFlow team. When filing the bug, set the verbosity to 10 (on Linux, `export AUTOGRAPH_VERBOSITY=10`) and attach the full output.\n",
      "Cause: unsupported operand type(s) for -: 'NoneType' and 'int'\n",
      "To silence this warning, decorate the function with @tf.autograph.experimental.do_not_convert\n"
     ]
    },
    {
     "name": "stderr",
     "output_type": "stream",
     "text": [
      "\u001b[0;36mag_logging.py:\u001b[0;35m 146\u001b[0;0m --- \u001b[1;31mWARNING\u001b[1;0m: AutoGraph could not transform <function Model.make_predict_function.<locals>.predict_function at 0x3a2285dc0> and will run it as-is.\n",
      "Please report this to the TensorFlow team. When filing the bug, set the verbosity to 10 (on Linux, `export AUTOGRAPH_VERBOSITY=10`) and attach the full output.\n",
      "Cause: unsupported operand type(s) for -: 'NoneType' and 'int'\n",
      "To silence this warning, decorate the function with @tf.autograph.experimental.do_not_convert\n"
     ]
    },
    {
     "name": "stdout",
     "output_type": "stream",
     "text": [
      "WARNING: AutoGraph could not transform <function Model.make_predict_function.<locals>.predict_function at 0x3a2285dc0> and will run it as-is.\n",
      "Please report this to the TensorFlow team. When filing the bug, set the verbosity to 10 (on Linux, `export AUTOGRAPH_VERBOSITY=10`) and attach the full output.\n",
      "Cause: unsupported operand type(s) for -: 'NoneType' and 'int'\n",
      "To silence this warning, decorate the function with @tf.autograph.experimental.do_not_convert\n",
      "Max significance: 2.93 for threshold 0.9900 background rate 2.23e-05 and analysis efficiency 0.83\n"
     ]
    },
    {
     "data": {
      "image/png": "[encoded data removed]",
      "text/plain": [
       "<Figure size 432x288 with 3 Axes>"
      ]
     },
     "metadata": {
      "needs_background": "light"
     },
     "output_type": "display_data"
    }
   ],
   "source": [
    "sig, br, ef = np.zeros(5), np.zeros(5), np.zeros(5)\n",
    "\n",
    "for i in range(5):\n",
    "    print(i)\n",
    "    X_train, X_test, y_train, y_test = sd.get_split_with_test_set(m=i, n=0)\n",
    "    \n",
    "    # normalize the input data\n",
    "    normalizer = Normalization(axis=-1)\n",
    "\n",
    "    # adapt to training data\n",
    "    normalizer.adapt(X_train)\n",
    "\n",
    "    # normalize training data\n",
    "    X_train = normalizer(X_train)\n",
    "    X_test = normalizer(X_test)\n",
    "    \n",
    "    # calculate initial bias\n",
    "    initial_bias, initial_loss = models.initial_output_bias(y_train)\n",
    "    \n",
    "    # the model\n",
    "    model = models.make_mlp_model(n_features=X_train.shape[1],\n",
    "                              n_layers=n_layers,\n",
    "                              n_nodes=n_nodes,\n",
    "                              l2_regularizer=l2_regularizer,\n",
    "                              dropout=dropout,\n",
    "                              output_bias=initial_bias,\n",
    "                              learning_rate=3e-4\n",
    "                             )\n",
    "    \n",
    "    # fit the model\n",
    "    history = model.fit(X_train,\n",
    "                        y_train,\n",
    "                        batch_size=BATCH_SIZE,\n",
    "                        epochs=EPOCHS,\n",
    "                        validation_data=(X_test, y_test), \n",
    "                        verbose=0,\n",
    "                        class_weight=class_weight\n",
    "                        )\n",
    "    \n",
    "    # compute best threshold \n",
    "    ax, threshold, significance, bkg_rate, eff = plot_sig_vs_thr(model,\n",
    "                                                                 X_train,\n",
    "                                                                 y_train,\n",
    "                                                                 t_obs_hours=t_tot_hrs,\n",
    "                                                                 N_tot=y_train.size + y_test.size + sd.y_test.size)\n",
    "    \n",
    "    imax = np.argmax(significance)\n",
    "    y_pred = model.predict(normalizer(sd.X_test))\n",
    "    class_pred_test, tp, fp, fn = get_tp_fp_fn(sd.y_test, y_pred, thr=threshold[imax])\n",
    "\n",
    "    sig[i], br[i], ef[i] = get_sig_bkg_rate_eff(sd.y_test,\n",
    "                                                y_pred,\n",
    "                                                N_tot=y_train.size + y_test.size + sd.y_test.size,\n",
    "                                                t_obs=t_tot_hrs * 3600.,\n",
    "                                                thr=threshold[imax])\n",
    "    \n",
    "    del model"
   ]
  },
  {
   "cell_type": "code",
   "execution_count": 66,
   "id": "3674af81-55fe-437f-87ab-9f3dfc233c04",
   "metadata": {},
   "outputs": [
    {
     "name": "stdout",
     "output_type": "stream",
     "text": [
      "[4.34327044e+00 7.41125365e-06 8.23398624e-01]\n",
      "[3.14675966e-01 1.39644537e-06 1.50426092e-02]\n"
     ]
    }
   ],
   "source": [
    "mean = np.vstack([sig, br, ef]).mean(axis=1)\n",
    "std = np.sqrt(np.vstack([sig, br, ef]).var(axis=1))\n",
    "\n",
    "print(mean)\n",
    "print(std)"
   ]
  }
 ],
 "metadata": {
  "kernelspec": {
   "display_name": "Python [conda env:apple_tf]",
   "language": "python",
   "name": "conda-env-apple_tf-py"
  },
  "language_info": {
   "codemirror_mode": {
    "name": "ipython",
    "version": 3
   },
   "file_extension": ".py",
   "mimetype": "text/x-python",
   "name": "python",
   "nbconvert_exporter": "python",
   "pygments_lexer": "ipython3",
   "version": "3.8.10"
  }
 },
 "nbformat": 4,
 "nbformat_minor": 5
}
